{
  "cells": [
    {
      "cell_type": "markdown",
      "metadata": {
        "id": "view-in-github",
        "colab_type": "text"
      },
      "source": [
        "<a href=\"https://colab.research.google.com/github/malacosteus/MIPT/blob/main/GraphML/03_Link_Prediction.ipynb\" target=\"_parent\"><img src=\"https://colab.research.google.com/assets/colab-badge.svg\" alt=\"Open In Colab\"/></a>"
      ]
    },
    {
      "cell_type": "markdown",
      "id": "cf5961d6",
      "metadata": {
        "id": "cf5961d6"
      },
      "source": [
        "# Assignment — Link prediction"
      ]
    },
    {
      "cell_type": "code",
      "execution_count": null,
      "id": "14719644",
      "metadata": {
        "id": "14719644"
      },
      "outputs": [],
      "source": [
        "import requests\n",
        "from tqdm.notebook import tqdm\n",
        "from sklearn.decomposition import TruncatedSVD\n",
        "from sklearn.linear_model import LogisticRegression\n",
        "import pandas as pd\n",
        "import networkx as nx\n",
        "from sklearn.metrics import roc_curve, auc\n",
        "import numpy as np\n",
        "import matplotlib.pyplot as plt"
      ]
    },
    {
      "cell_type": "markdown",
      "id": "162ff619",
      "metadata": {
        "id": "162ff619"
      },
      "source": [
        "### Task 1. Dataset for link prediction (0 points)"
      ]
    },
    {
      "cell_type": "markdown",
      "id": "39ab2dfa",
      "metadata": {
        "id": "39ab2dfa"
      },
      "source": [
        "Consider link prediction on the [e-mails network](http://snap.stanford.edu/data/email-Eu-core-temporal.html) where nodes are members of a research institution and edges are e-mails given with timestamps. The goal is to predict occurrence of edges in the test time period using information from the train time period only."
      ]
    },
    {
      "cell_type": "code",
      "execution_count": null,
      "id": "96182430",
      "metadata": {
        "id": "96182430"
      },
      "outputs": [],
      "source": [
        "url = 'https://raw.githubusercontent.com/netspractice/network-science/main/datasets/email-Eu-core-temporal.txt'\n",
        "open('email-Eu-core-temporal.txt', 'wb').write(requests.get(url).content);\n"
      ]
    },
    {
      "cell_type": "code",
      "execution_count": null,
      "id": "f2ffb9b8",
      "metadata": {
        "id": "f2ffb9b8",
        "colab": {
          "base_uri": "https://localhost:8080/",
          "height": 424
        },
        "outputId": "cfaedfe4-1bee-48fd-9c2b-452e68a92df0"
      },
      "outputs": [
        {
          "output_type": "execute_result",
          "data": {
            "text/plain": [
              "        sender  receiver  timestamp\n",
              "0          582       364          0\n",
              "1          168       472       2797\n",
              "2          168       912       3304\n",
              "3            2       790       4523\n",
              "4            2       322       7926\n",
              "...        ...       ...        ...\n",
              "332329     324       367   45401817\n",
              "332330     790       126   45402441\n",
              "332331     790       126   45403709\n",
              "332332     782       126   45404903\n",
              "332333     685       643   45405138\n",
              "\n",
              "[332334 rows x 3 columns]"
            ],
            "text/html": [
              "\n",
              "  <div id=\"df-8b552da0-d734-486f-b045-33f64ccab785\">\n",
              "    <div class=\"colab-df-container\">\n",
              "      <div>\n",
              "<style scoped>\n",
              "    .dataframe tbody tr th:only-of-type {\n",
              "        vertical-align: middle;\n",
              "    }\n",
              "\n",
              "    .dataframe tbody tr th {\n",
              "        vertical-align: top;\n",
              "    }\n",
              "\n",
              "    .dataframe thead th {\n",
              "        text-align: right;\n",
              "    }\n",
              "</style>\n",
              "<table border=\"1\" class=\"dataframe\">\n",
              "  <thead>\n",
              "    <tr style=\"text-align: right;\">\n",
              "      <th></th>\n",
              "      <th>sender</th>\n",
              "      <th>receiver</th>\n",
              "      <th>timestamp</th>\n",
              "    </tr>\n",
              "  </thead>\n",
              "  <tbody>\n",
              "    <tr>\n",
              "      <th>0</th>\n",
              "      <td>582</td>\n",
              "      <td>364</td>\n",
              "      <td>0</td>\n",
              "    </tr>\n",
              "    <tr>\n",
              "      <th>1</th>\n",
              "      <td>168</td>\n",
              "      <td>472</td>\n",
              "      <td>2797</td>\n",
              "    </tr>\n",
              "    <tr>\n",
              "      <th>2</th>\n",
              "      <td>168</td>\n",
              "      <td>912</td>\n",
              "      <td>3304</td>\n",
              "    </tr>\n",
              "    <tr>\n",
              "      <th>3</th>\n",
              "      <td>2</td>\n",
              "      <td>790</td>\n",
              "      <td>4523</td>\n",
              "    </tr>\n",
              "    <tr>\n",
              "      <th>4</th>\n",
              "      <td>2</td>\n",
              "      <td>322</td>\n",
              "      <td>7926</td>\n",
              "    </tr>\n",
              "    <tr>\n",
              "      <th>...</th>\n",
              "      <td>...</td>\n",
              "      <td>...</td>\n",
              "      <td>...</td>\n",
              "    </tr>\n",
              "    <tr>\n",
              "      <th>332329</th>\n",
              "      <td>324</td>\n",
              "      <td>367</td>\n",
              "      <td>45401817</td>\n",
              "    </tr>\n",
              "    <tr>\n",
              "      <th>332330</th>\n",
              "      <td>790</td>\n",
              "      <td>126</td>\n",
              "      <td>45402441</td>\n",
              "    </tr>\n",
              "    <tr>\n",
              "      <th>332331</th>\n",
              "      <td>790</td>\n",
              "      <td>126</td>\n",
              "      <td>45403709</td>\n",
              "    </tr>\n",
              "    <tr>\n",
              "      <th>332332</th>\n",
              "      <td>782</td>\n",
              "      <td>126</td>\n",
              "      <td>45404903</td>\n",
              "    </tr>\n",
              "    <tr>\n",
              "      <th>332333</th>\n",
              "      <td>685</td>\n",
              "      <td>643</td>\n",
              "      <td>45405138</td>\n",
              "    </tr>\n",
              "  </tbody>\n",
              "</table>\n",
              "<p>332334 rows × 3 columns</p>\n",
              "</div>\n",
              "      <button class=\"colab-df-convert\" onclick=\"convertToInteractive('df-8b552da0-d734-486f-b045-33f64ccab785')\"\n",
              "              title=\"Convert this dataframe to an interactive table.\"\n",
              "              style=\"display:none;\">\n",
              "        \n",
              "  <svg xmlns=\"http://www.w3.org/2000/svg\" height=\"24px\"viewBox=\"0 0 24 24\"\n",
              "       width=\"24px\">\n",
              "    <path d=\"M0 0h24v24H0V0z\" fill=\"none\"/>\n",
              "    <path d=\"M18.56 5.44l.94 2.06.94-2.06 2.06-.94-2.06-.94-.94-2.06-.94 2.06-2.06.94zm-11 1L8.5 8.5l.94-2.06 2.06-.94-2.06-.94L8.5 2.5l-.94 2.06-2.06.94zm10 10l.94 2.06.94-2.06 2.06-.94-2.06-.94-.94-2.06-.94 2.06-2.06.94z\"/><path d=\"M17.41 7.96l-1.37-1.37c-.4-.4-.92-.59-1.43-.59-.52 0-1.04.2-1.43.59L10.3 9.45l-7.72 7.72c-.78.78-.78 2.05 0 2.83L4 21.41c.39.39.9.59 1.41.59.51 0 1.02-.2 1.41-.59l7.78-7.78 2.81-2.81c.8-.78.8-2.07 0-2.86zM5.41 20L4 18.59l7.72-7.72 1.47 1.35L5.41 20z\"/>\n",
              "  </svg>\n",
              "      </button>\n",
              "      \n",
              "  <style>\n",
              "    .colab-df-container {\n",
              "      display:flex;\n",
              "      flex-wrap:wrap;\n",
              "      gap: 12px;\n",
              "    }\n",
              "\n",
              "    .colab-df-convert {\n",
              "      background-color: #E8F0FE;\n",
              "      border: none;\n",
              "      border-radius: 50%;\n",
              "      cursor: pointer;\n",
              "      display: none;\n",
              "      fill: #1967D2;\n",
              "      height: 32px;\n",
              "      padding: 0 0 0 0;\n",
              "      width: 32px;\n",
              "    }\n",
              "\n",
              "    .colab-df-convert:hover {\n",
              "      background-color: #E2EBFA;\n",
              "      box-shadow: 0px 1px 2px rgba(60, 64, 67, 0.3), 0px 1px 3px 1px rgba(60, 64, 67, 0.15);\n",
              "      fill: #174EA6;\n",
              "    }\n",
              "\n",
              "    [theme=dark] .colab-df-convert {\n",
              "      background-color: #3B4455;\n",
              "      fill: #D2E3FC;\n",
              "    }\n",
              "\n",
              "    [theme=dark] .colab-df-convert:hover {\n",
              "      background-color: #434B5C;\n",
              "      box-shadow: 0px 1px 3px 1px rgba(0, 0, 0, 0.15);\n",
              "      filter: drop-shadow(0px 1px 2px rgba(0, 0, 0, 0.3));\n",
              "      fill: #FFFFFF;\n",
              "    }\n",
              "  </style>\n",
              "\n",
              "      <script>\n",
              "        const buttonEl =\n",
              "          document.querySelector('#df-8b552da0-d734-486f-b045-33f64ccab785 button.colab-df-convert');\n",
              "        buttonEl.style.display =\n",
              "          google.colab.kernel.accessAllowed ? 'block' : 'none';\n",
              "\n",
              "        async function convertToInteractive(key) {\n",
              "          const element = document.querySelector('#df-8b552da0-d734-486f-b045-33f64ccab785');\n",
              "          const dataTable =\n",
              "            await google.colab.kernel.invokeFunction('convertToInteractive',\n",
              "                                                     [key], {});\n",
              "          if (!dataTable) return;\n",
              "\n",
              "          const docLinkHtml = 'Like what you see? Visit the ' +\n",
              "            '<a target=\"_blank\" href=https://colab.research.google.com/notebooks/data_table.ipynb>data table notebook</a>'\n",
              "            + ' to learn more about interactive tables.';\n",
              "          element.innerHTML = '';\n",
              "          dataTable['output_type'] = 'display_data';\n",
              "          await google.colab.output.renderOutput(dataTable, element);\n",
              "          const docLink = document.createElement('div');\n",
              "          docLink.innerHTML = docLinkHtml;\n",
              "          element.appendChild(docLink);\n",
              "        }\n",
              "      </script>\n",
              "    </div>\n",
              "  </div>\n",
              "  "
            ]
          },
          "metadata": {},
          "execution_count": 3
        }
      ],
      "source": [
        "email_df = pd.read_csv(\n",
        "    'email-Eu-core-temporal.txt', \n",
        "    delimiter=' ', \n",
        "    names=['sender', 'receiver', 'timestamp']\n",
        ")\n",
        "email_df"
      ]
    },
    {
      "cell_type": "markdown",
      "id": "59e332b2",
      "metadata": {
        "id": "59e332b2"
      },
      "source": [
        "Next, consider the following preprocessing procedure:\n",
        "1. Select edges by given train and test time periods, for example, [0, 1000) is train and [1000, 2000) is test\n",
        "2. Build a _core_ — a connected network where every edge occurs at least $k_\\text{train}$ times in the train time period or at least $k_\\text{test}$ times in the test time period. Let the core be undirected, so occurrences edges (1, 0) and (0, 1) are computed together.\n",
        "3. From the core, select a train set of edges $E_\\text{train}$ that occur for the first time in the train period. All others are included to $E_\\text{test}$.\n",
        "3. Exclude test edges that contain nodes that do not occur in train edges.\n",
        "\n",
        "Write a function `train_test_edges` that takes a pd.DataFrame `email_df` with e-mail network, a tuple with the train time period borders `train_period`, say, (0, 1000), a similar tuple `test_period`, the number of edges occurrences `ktrain` and `ktest`. The function returns two lists with tuples — train and test edges. Every edge is returned of the form where the first node is less than the second, for example [(1, 2), (2, 3)] is ok, but [(2, 1), (3, 2)] is wrong."
      ]
    },
    {
      "cell_type": "code",
      "execution_count": null,
      "id": "d3867ee0",
      "metadata": {
        "deletable": false,
        "id": "d3867ee0",
        "nbgrader": {
          "cell_type": "code",
          "checksum": "d02465886cf63caec30af195db4cf5b9",
          "grade": false,
          "grade_id": "cell-676bd18fcab3c342",
          "locked": false,
          "schema_version": 3,
          "solution": true,
          "task": false
        }
      },
      "outputs": [],
      "source": [
        "def train_test_edges(email_df, train_period, test_period, ktrain, ktest):\n",
        "    \n",
        "    email_temp = email_df.copy()\n",
        "    email_temp = email_temp[\n",
        "        (train_period[0] <= email_temp.timestamp) \n",
        "        & (email_temp.timestamp < test_period[1])\n",
        "    ]\n",
        "    email_temp['from'] = email_temp[['sender', 'receiver']].min(axis=1)\n",
        "    email_temp['to'] = email_temp[['sender', 'receiver']].max(axis=1)\n",
        "    email_temp = email_temp.drop(['sender', 'receiver'], axis=1)\n",
        "    email_temp = email_temp.set_index(['from', 'to'])\n",
        "\n",
        "    email_train = email_temp[email_temp.timestamp < train_period[1]]\n",
        "    email_train = email_train.groupby(['from', 'to']).count()\n",
        "    train_core = email_train[email_train.timestamp >= ktrain].index.tolist()\n",
        "\n",
        "    email_test = email_temp[test_period[0] <= email_temp.timestamp]\n",
        "    email_test = email_test.groupby(['from', 'to']).count()\n",
        "    test_core = email_test[email_test.timestamp >= ktest].index.tolist()\n",
        "    \n",
        "    core = list(set(train_core + test_core))\n",
        "\n",
        "    ### BEGIN SOLUTION\n",
        "    email_first = email_temp.loc[core].groupby(['from', 'to']).min()\n",
        "\n",
        "    train_edges = email_first[email_first.timestamp < train_period[1]].index.tolist()\n",
        "    _test_edges = email_first[test_period[0] <= email_first.timestamp].index.tolist()\n",
        "    \n",
        "    train_nodes = set()\n",
        "    for (u, v) in train_edges:\n",
        "        train_nodes.add(u)\n",
        "        train_nodes.add(v)\n",
        "    test_edges = []\n",
        "    for (u, v) in _test_edges:\n",
        "        if u in train_nodes and v in train_nodes:\n",
        "            test_edges.append((u, v))\n",
        "    \n",
        "    return train_edges, test_edges\n",
        "    ### END SOLUTION"
      ]
    },
    {
      "cell_type": "code",
      "execution_count": null,
      "id": "1064cc03",
      "metadata": {
        "deletable": false,
        "editable": false,
        "id": "1064cc03",
        "nbgrader": {
          "cell_type": "code",
          "checksum": "986741c4dd56205f3c9f200d31ede426",
          "grade": true,
          "grade_id": "cell-a77f2fa764e87595",
          "locked": true,
          "points": 0,
          "schema_version": 3,
          "solution": false,
          "task": false
        }
      },
      "outputs": [],
      "source": [
        "train_pos, test_pos = train_test_edges(email_df, (1e7, 2e7), (2e7, 2.5e7), 4, 2)\n",
        "_train_pos, _test_pos = np.array(train_pos), np.array(test_pos)\n",
        "assert np.all(_train_pos[:, 0] < _train_pos[:, 1])\n",
        "assert np.all(_test_pos[:, 0] < _test_pos[:, 1])\n",
        "assert len(set(train_pos).intersection(test_pos)) == 0\n",
        "assert _train_pos.shape == (3880, 2)\n",
        "assert _test_pos.shape == (720, 2)"
      ]
    },
    {
      "cell_type": "markdown",
      "id": "a6c37d90",
      "metadata": {
        "id": "a6c37d90"
      },
      "source": [
        "### Task 2. Negative sampling (0 points)"
      ]
    },
    {
      "cell_type": "markdown",
      "id": "9ab1065e",
      "metadata": {
        "id": "9ab1065e"
      },
      "source": [
        "Usually, graphs are sparse, so there is the high imbalance between existent (positive) edges and nonexistent (negative) edges. Since the link prediction can be considered as a classification problem, the imbalance leads to the high misclassification. To eliminate this problem, we can use the negative sampling techniques, that is using only a some random part of negative edges in training.\n",
        "\n",
        "<img src='https://raw.githubusercontent.com/netspractice/network-science/main/images/pos_neg_edges.png' width=500>\n",
        "\n",
        "The simplest sampling strategy is to copy positive edges and randomly replace one node checking they do not occur in positive set and they are not self-loops. Let the negative set be the same size as the positive.\n",
        "\n",
        "The `negative_sampling` function samples the unexisted edges from the graph. It takes list of train and test positive edges and returns train and test negative edges."
      ]
    },
    {
      "cell_type": "code",
      "execution_count": null,
      "id": "eda2d51e",
      "metadata": {
        "deletable": false,
        "id": "eda2d51e",
        "nbgrader": {
          "cell_type": "code",
          "checksum": "909994f38bc19f1e40c34bd32036ba50",
          "grade": false,
          "grade_id": "cell-2086061e022dc394",
          "locked": false,
          "schema_version": 3,
          "solution": true,
          "task": false
        }
      },
      "outputs": [],
      "source": [
        "def negative_sampling(train_pos, test_pos):\n",
        "    ### BEGIN SOLUTION\n",
        "    pos_edges = train_pos + test_pos\n",
        "    nodes = np.unique(pos_edges)\n",
        "    neg_edges = []\n",
        "    for u, v in tqdm(pos_edges):\n",
        "        while True:\n",
        "            neg_v = np.random.choice(nodes)\n",
        "            if (u == neg_v) or ((u, neg_v) in pos_edges) or ((neg_v, u) in pos_edges):\n",
        "                continue\n",
        "            neg_edges.append((u, neg_v))\n",
        "            break\n",
        "    return neg_edges[:len(train_pos)], neg_edges[len(train_pos):]\n",
        "    ### END SOLUTION"
      ]
    },
    {
      "cell_type": "code",
      "execution_count": null,
      "id": "2736c956",
      "metadata": {
        "deletable": false,
        "editable": false,
        "id": "2736c956",
        "nbgrader": {
          "cell_type": "code",
          "checksum": "51cc869994fb89807dc2842e2970853c",
          "grade": true,
          "grade_id": "cell-e71e5d52cb2cae88",
          "locked": true,
          "points": 0,
          "schema_version": 3,
          "solution": false,
          "task": false
        },
        "colab": {
          "base_uri": "https://localhost:8080/",
          "height": 49,
          "referenced_widgets": [
            "4c8e51fb815a4e11b2b754b950e0275d",
            "779df7d87b6443b3bc9737b2ccb51e44",
            "58be96c0a7e94afdbe53abc6bf308001",
            "bf7e506bf8f6424681295929976296e8",
            "294dccd9d02b4c9b86bb4eff0430b632",
            "4fd8cd36ea504e7fa43a1b1811ff1aa9",
            "583bef6d846f4ce683218a2988280e3b",
            "192e45278cc24fa78e17b49b614eb88d",
            "bfc74d4d230c4102817608d69149e7ca",
            "0bb3afcb690c43dfae0b61fa7a7a4788",
            "23c5d1e3fc654dd895c30c7cd1196193"
          ]
        },
        "outputId": "ef9e8a86-9815-4779-fcb1-f6ced39b5d63"
      },
      "outputs": [
        {
          "output_type": "display_data",
          "data": {
            "text/plain": [
              "  0%|          | 0/4600 [00:00<?, ?it/s]"
            ],
            "application/vnd.jupyter.widget-view+json": {
              "version_major": 2,
              "version_minor": 0,
              "model_id": "4c8e51fb815a4e11b2b754b950e0275d"
            }
          },
          "metadata": {}
        }
      ],
      "source": [
        "train_neg, test_neg = negative_sampling(train_pos, test_pos)\n",
        "neg_edges = train_neg + test_neg\n",
        "pos_edges = train_pos + test_pos\n",
        "assert len(train_neg) == len(train_pos)\n",
        "assert len(test_neg) == len(test_neg)\n",
        "# negative edges has nodes from only positive edges\n",
        "assert len(set(np.unique(neg_edges)).difference(np.unique(pos_edges))) == 0\n",
        "# source nodes are the same\n",
        "assert np.all(np.array(pos_edges)[:, 0] == np.array(neg_edges)[:, 0])\n",
        "# no edges in both\n",
        "assert len(set(pos_edges) & set(neg_edges)) == 0\n",
        "# reversed negative edges are not positive\n",
        "reversed_neg_edges = [(v, u) for u, v in neg_edges]\n",
        "assert len(set(pos_edges) & set(reversed_neg_edges)) == 0"
      ]
    },
    {
      "cell_type": "markdown",
      "id": "3c719425",
      "metadata": {
        "id": "3c719425"
      },
      "source": [
        "Form train and test pairs of nodes that contain positive and negative edges:\n",
        "* $X_\\text{train}, X_\\text{test}$ — pairs of nodes, contains positive and negative edges\n",
        "* $y_\\text{train}, y_\\text{test}$ — labels of pairs, 1 is positive, 0 is negative"
      ]
    },
    {
      "cell_type": "code",
      "execution_count": null,
      "id": "78e37025",
      "metadata": {
        "id": "78e37025",
        "colab": {
          "base_uri": "https://localhost:8080/"
        },
        "outputId": "5cd068c3-194f-4850-9116-cffcbdf6883f"
      },
      "outputs": [
        {
          "output_type": "execute_result",
          "data": {
            "text/plain": [
              "[0, 0, 0, 1, 0, 1, 1, 0, 0, 1]"
            ]
          },
          "metadata": {},
          "execution_count": 8
        }
      ],
      "source": [
        "x_train = np.random.permutation(train_pos + train_neg)\n",
        "y_train = [int((u, v) in train_pos) for (u, v) in x_train]\n",
        "\n",
        "x_test = np.random.permutation(test_pos + test_neg)\n",
        "y_test = [int((u, v) in test_pos) for (u, v) in x_test]\n",
        "y_test[:10]"
      ]
    },
    {
      "cell_type": "code",
      "source": [
        "x_test"
      ],
      "metadata": {
        "colab": {
          "base_uri": "https://localhost:8080/"
        },
        "id": "9_fvMYubBASD",
        "outputId": "1abc7aa7-5c90-4cf4-ef9d-7e3f0a500072"
      },
      "id": "9_fvMYubBASD",
      "execution_count": null,
      "outputs": [
        {
          "output_type": "execute_result",
          "data": {
            "text/plain": [
              "array([[334, 232],\n",
              "       [293, 474],\n",
              "       [278, 241],\n",
              "       ...,\n",
              "       [332, 534],\n",
              "       [135, 790],\n",
              "       [117, 120]])"
            ]
          },
          "metadata": {},
          "execution_count": 9
        }
      ]
    },
    {
      "cell_type": "markdown",
      "id": "b2e9063e",
      "metadata": {
        "id": "b2e9063e"
      },
      "source": [
        "### Task 3. Similarity based link prediction (3 points)"
      ]
    },
    {
      "cell_type": "markdown",
      "id": "b992cb0d",
      "metadata": {
        "id": "b992cb0d"
      },
      "source": [
        "Similarity based algorithm predicts the existence of a link using the similarity score of a pair of nodes: $P(A_{i, j}) \\propto \\text{sim}(i, j)$. The algorithm builds a graph using only train positive edges, compute similarity score for all test pairs and then predicts the link existence by the threshold on ordered by similarity score pairs.\n",
        "\n",
        "Write a function `sim_link_prediction` that takes edges and labels. The function predicts links and returns a tuple with metrics: \n",
        "* FPR (false positive rate) and TPR (true positive rate) in descending of thresholds obtained by Jaccard coefficient, `nx.jaccard_coefficient`: $$\\text{sim}(i, j) = \\frac{|N(i) \\cap N(j)|}{|N(i) \\cup N(j)|}$$\n",
        "* FPR, TPR by Adamic-Adar index, `nx.adamic_adar_index`: $$\\text{sim}(i, j) = \\sum_{x \\in N(i) \\cap N(j)} \\frac{1}{\\log|N(x)|}$$\n",
        "* FPR, TPR by resource allocation index, `nx.resource_allocation_index`: $$\\text{sim}(i, j) = \\sum_{x \\in N(i) \\cap N(j)} \\frac{1}{|N(x)|}$$\n",
        "\n",
        "_Hint: use `sklearn.metrics.roc_curve`._"
      ]
    },
    {
      "cell_type": "code",
      "source": [
        "from sklearn.metrics import roc_curve"
      ],
      "metadata": {
        "id": "zIrLVapYIidw"
      },
      "id": "zIrLVapYIidw",
      "execution_count": null,
      "outputs": []
    },
    {
      "cell_type": "code",
      "execution_count": null,
      "id": "80a6ff92",
      "metadata": {
        "deletable": false,
        "id": "80a6ff92",
        "nbgrader": {
          "cell_type": "code",
          "checksum": "32af6091446052edf14c97545c0e6da2",
          "grade": false,
          "grade_id": "cell-4125af6f7f2c4f56",
          "locked": false,
          "schema_version": 3,
          "solution": true,
          "task": false
        }
      },
      "outputs": [],
      "source": [
        "def sim_link_prediction(train_pos, x_test, y_test):\n",
        "    # YOUR CODE HERE\n",
        "    G = nx.Graph(train_pos)\n",
        "\n",
        "    jac = nx.jaccard_coefficient(G, x_test)\n",
        "    adar = nx.adamic_adar_index(G, x_test)\n",
        "    res = nx.resource_allocation_index(G, x_test)\n",
        "\n",
        "    jac_ret = [score for _, _, score in jac]\n",
        "    adar_ret = [score for _, _, score in adar]\n",
        "    res_ret = [score for _, _, score in res]\n",
        "\n",
        "    return roc_curve(y_test, jac_ret), roc_curve(y_test, adar_ret), roc_curve(y_test, res_ret)"
      ]
    },
    {
      "cell_type": "code",
      "execution_count": null,
      "id": "cb1e0d74",
      "metadata": {
        "deletable": false,
        "editable": false,
        "id": "cb1e0d74",
        "nbgrader": {
          "cell_type": "code",
          "checksum": "64d46066e8123c613d08ec50b0c4428f",
          "grade": true,
          "grade_id": "cell-ea34274053a92113",
          "locked": true,
          "points": 3,
          "schema_version": 3,
          "solution": false,
          "task": false
        }
      },
      "outputs": [],
      "source": [
        "jac, adam, res = sim_link_prediction(\n",
        "    train_pos, \n",
        "    [[53, 500], [500, 843], [509, 969], [40, 91], [147, 28], [91, 535], [890, 15]],\n",
        "    [1, 0, 1, 0, 0, 1, 0],\n",
        ")\n",
        "assert jac[0].shape == jac[1].shape\n",
        "assert adam[0].shape == adam[1].shape\n",
        "assert res[0].shape == res[1].shape\n",
        "assert round(auc(jac[0], jac[1]), 4) == 0.5\n",
        "assert round(auc(adam[0], adam[1]), 4) == 0.4167\n",
        "assert round(auc(res[0], res[1]), 4) == 0.4167"
      ]
    },
    {
      "cell_type": "markdown",
      "id": "afb536ea",
      "metadata": {
        "id": "afb536ea"
      },
      "source": [
        "Let us look at the ROC AUC curve to compare results."
      ]
    },
    {
      "cell_type": "code",
      "execution_count": null,
      "id": "49c878ae",
      "metadata": {
        "id": "49c878ae",
        "colab": {
          "base_uri": "https://localhost:8080/",
          "height": 404
        },
        "outputId": "e7c84f3c-b320-4477-8525-fd10ea6f7a43"
      },
      "outputs": [
        {
          "output_type": "display_data",
          "data": {
            "text/plain": [
              "<Figure size 720x432 with 1 Axes>"
            ],
            "image/png": "[encoded data removed]"
          },
          "metadata": {
            "needs_background": "light"
          }
        }
      ],
      "source": [
        "jac, adam, res = sim_link_prediction(train_pos, x_test, y_test)\n",
        "plt.figure(figsize=(10, 6))\n",
        "cases = [[jac[0], jac[1], 'Jaccard'], \n",
        "         [adam[0], adam[1], 'Adamic-Adar'], \n",
        "         [res[0], res[1], 'Resource alloc.']]\n",
        "for fpr, tpr, label in cases:\n",
        "    plt.plot(fpr, tpr, lw=2, \n",
        "             label='{}, AUC={:.4f}'.format(label, auc(fpr, tpr)))\n",
        "plt.plot([0, 1], [0, 1], lw=2, linestyle='--')\n",
        "plt.xlabel('FPR')\n",
        "plt.ylabel('TPR')\n",
        "plt.title('ROC AUC')\n",
        "plt.legend()\n",
        "plt.show()"
      ]
    },
    {
      "cell_type": "markdown",
      "id": "c3e8c0f9",
      "metadata": {
        "id": "c3e8c0f9"
      },
      "source": [
        "### Task 4. Dot product for prediction (3 points)"
      ]
    },
    {
      "cell_type": "markdown",
      "id": "f69216e8",
      "metadata": {
        "id": "f69216e8"
      },
      "source": [
        "Similarly to the node classification task, node embeddings could be helpful in the link prediction problem. We can predict a link if two nodes are similar in latent space. One of simple methods to obtain similarity score is using dot product of node embeddings: $$P(A_{i, j}) \\propto \\langle e_i, e_j \\rangle.$$\n",
        "\n",
        "Here we obtain 16d SVD node embeddings by `sklearn.decompose.TruncatedSVD` on the adjacency matrix."
      ]
    },
    {
      "cell_type": "code",
      "execution_count": null,
      "id": "266ff82d",
      "metadata": {
        "id": "266ff82d",
        "colab": {
          "base_uri": "https://localhost:8080/"
        },
        "outputId": "32ac77ec-4179-46bb-88c8-f8f5e87a0855"
      },
      "outputs": [
        {
          "output_type": "execute_result",
          "data": {
            "text/plain": [
              "array([[ 0.77, -0.75, -0.45, ..., -0.26,  0.14, -0.23],\n",
              "       [ 0.04, -0.01, -0.04, ..., -0.01,  0.13,  0.02],\n",
              "       [ 1.83,  0.95,  0.24, ..., -0.48,  0.03, -0.42],\n",
              "       ...,\n",
              "       [ 0.01, -0.  , -0.01, ...,  0.04,  0.02, -0.03],\n",
              "       [ 0.14, -0.05, -0.12, ...,  0.15,  0.02, -0.12],\n",
              "       [ 0.35, -0.3 , -0.37, ..., -0.43,  0.21,  0.11]])"
            ]
          },
          "metadata": {},
          "execution_count": 14
        }
      ],
      "source": [
        "G = nx.Graph()\n",
        "G.add_nodes_from(range(np.max(train_pos) + 1))\n",
        "G.add_edges_from(train_pos)\n",
        "A = nx.to_numpy_array(G)\n",
        "model = TruncatedSVD(n_components=16)\n",
        "emb = model.fit_transform(A)\n",
        "emb.round(2)"
      ]
    },
    {
      "cell_type": "markdown",
      "id": "b4b6abf0",
      "metadata": {
        "id": "b4b6abf0"
      },
      "source": [
        "Write a function `dot_product_prediction` that takes node embeddings, test pairs, returns FPR and TPR for the test pairs."
      ]
    },
    {
      "cell_type": "code",
      "execution_count": null,
      "id": "c10ed260",
      "metadata": {
        "deletable": false,
        "id": "c10ed260",
        "nbgrader": {
          "cell_type": "code",
          "checksum": "d2a9a90393f4821ede00fb251e579dfd",
          "grade": false,
          "grade_id": "cell-e3728903f481eed8",
          "locked": false,
          "schema_version": 3,
          "solution": true,
          "task": false
        }
      },
      "outputs": [],
      "source": [
        "def dot_product_prediction(emb, x_test, y_test):\n",
        "    # YOUR CODE HERE\n",
        "    score = np.dot(emb, emb.T)\n",
        "    score_roc = []\n",
        "    for i, j in x_test:\n",
        "        score_roc.append(score[i, j])\n",
        "    fpr, tpr, _ = roc_curve(y_test, score_roc)    \n",
        "    return fpr, tpr"
      ]
    },
    {
      "cell_type": "code",
      "execution_count": null,
      "id": "0853944d",
      "metadata": {
        "deletable": false,
        "editable": false,
        "id": "0853944d",
        "nbgrader": {
          "cell_type": "code",
          "checksum": "1475de791c3f09374b5bd06574a1b5b4",
          "grade": true,
          "grade_id": "cell-d7b6b9f3c20abc71",
          "locked": true,
          "points": 3,
          "schema_version": 3,
          "solution": false,
          "task": false
        }
      },
      "outputs": [],
      "source": [
        "fpr, tpr = dot_product_prediction(np.random.random(emb.shape), x_test, y_test)\n",
        "assert 0.45 < auc(fpr, tpr) < 0.55\n",
        "fpr, tpr = dot_product_prediction(emb, x_test, y_test)\n",
        "assert 0.75 < auc(fpr, tpr) < 0.85"
      ]
    },
    {
      "cell_type": "code",
      "execution_count": null,
      "id": "c284c086",
      "metadata": {
        "id": "c284c086",
        "colab": {
          "base_uri": "https://localhost:8080/",
          "height": 404
        },
        "outputId": "c92f4f4b-1385-434d-9fd6-3e149d3262b9"
      },
      "outputs": [
        {
          "output_type": "display_data",
          "data": {
            "text/plain": [
              "<Figure size 720x432 with 1 Axes>"
            ],
            "image/png": "[encoded data removed]"
          },
          "metadata": {
            "needs_background": "light"
          }
        }
      ],
      "source": [
        "plt.figure(figsize=(10, 6))\n",
        "plt.plot(fpr, tpr, lw=2, \n",
        "         label='{}, AUC={:.4f}'.format('Dot prod. on SVD emb.', auc(fpr, tpr)))\n",
        "plt.plot([0, 1], [0, 1], lw=2, linestyle='--')\n",
        "plt.xlabel('FPR')\n",
        "plt.ylabel('TPR')\n",
        "plt.title('ROC AUC')\n",
        "plt.legend()\n",
        "plt.show()"
      ]
    },
    {
      "cell_type": "markdown",
      "id": "071b6844",
      "metadata": {
        "id": "071b6844"
      },
      "source": [
        "### Task 5. Edge embedding (4 points)"
      ]
    },
    {
      "cell_type": "markdown",
      "id": "4e699329",
      "metadata": {
        "id": "4e699329"
      },
      "source": [
        "Edge emeddings can be used for edge classification by any supervised algorithm (e.g. logistic regression). We can compute edge embeddings using embeddings of adjacent nodes. Let us compare several techniques of a such calculation from the paper: *Makarov I, Gerasimova O, Sulimov P, Zhukov LE. 2019. Dual network embedding for representing research interests in the link prediction problem on co-authorship networks*. Let us use SVD node embeddings for calculating edge embeddings."
      ]
    },
    {
      "cell_type": "code",
      "execution_count": null,
      "id": "3771e316",
      "metadata": {
        "id": "3771e316",
        "colab": {
          "base_uri": "https://localhost:8080/"
        },
        "outputId": "ee2c7d53-7042-4b06-e2cf-8d73b2d8d8ac"
      },
      "outputs": [
        {
          "output_type": "execute_result",
          "data": {
            "text/plain": [
              "array([[ 0.77, -0.75, -0.46,  1.53],\n",
              "       [ 0.04, -0.01, -0.04, -0.03],\n",
              "       [ 1.83,  0.95,  0.24,  0.33],\n",
              "       ...,\n",
              "       [ 0.01, -0.  , -0.01, -0.01],\n",
              "       [ 0.14, -0.05, -0.12, -0.06],\n",
              "       [ 0.35, -0.3 , -0.37,  0.85]])"
            ]
          },
          "metadata": {},
          "execution_count": 18
        }
      ],
      "source": [
        "G = nx.Graph()\n",
        "G.add_nodes_from(range(np.max(train_pos) + 1))\n",
        "G.add_edges_from(train_pos)\n",
        "A = nx.to_numpy_array(G)\n",
        "model = TruncatedSVD(n_components=4, random_state=0)\n",
        "emb = model.fit_transform(A)\n",
        "emb.round(2)"
      ]
    },
    {
      "cell_type": "markdown",
      "id": "790e17ca",
      "metadata": {
        "id": "790e17ca"
      },
      "source": [
        "All following functions return edge embeddings for given graph, node embeddings, edges. Average operator is the elementwise average of node embeddings. \n",
        "$$\n",
        "\\frac{f(u)+f(v)}{2}\n",
        "$$\n",
        "where $f(u)$, $f(v)$ are node embeddings of nodes $u$ and $v$."
      ]
    },
    {
      "cell_type": "code",
      "execution_count": null,
      "id": "35a5cb4f",
      "metadata": {
        "deletable": false,
        "id": "35a5cb4f",
        "nbgrader": {
          "cell_type": "code",
          "checksum": "58f462d94128ad39168d5c1651115bbc",
          "grade": false,
          "grade_id": "cell-26173c0c479136b7",
          "locked": false,
          "schema_version": 3,
          "solution": true,
          "task": false
        }
      },
      "outputs": [],
      "source": [
        "def average_operator(G, embeddings, edges):\n",
        "    # YOUR CODE HERE\n",
        "    ret = np.zeros((edges.shape[0], embeddings.shape[1]))\n",
        "    cnt  = 0\n",
        "    for u, v in edges:\n",
        "        ret[cnt,:] = (embeddings[u,:] + embeddings[v,:]) / 2\n",
        "        cnt += 1\n",
        "    return ret"
      ]
    },
    {
      "cell_type": "code",
      "execution_count": null,
      "id": "9a4b4555",
      "metadata": {
        "deletable": false,
        "editable": false,
        "id": "9a4b4555",
        "nbgrader": {
          "cell_type": "code",
          "checksum": "1e3bbaf8aa7f5e7d6f462cc0f92775ee",
          "grade": true,
          "grade_id": "cell-eaefe9963be3c2d0",
          "locked": true,
          "points": 0.57,
          "schema_version": 3,
          "solution": false,
          "task": false
        }
      },
      "outputs": [],
      "source": [
        "assert np.allclose(\n",
        "    average_operator(G, emb, np.array([[42,70]])).round(1),\n",
        "    [[ 0.6, -0.2, -0.3, -0.2]]\n",
        ")"
      ]
    },
    {
      "cell_type": "markdown",
      "id": "ce7424a8",
      "metadata": {
        "id": "ce7424a8"
      },
      "source": [
        "Hadamard product is the elementwise product of node embeddings $$f(u) \\odot f(v)$$"
      ]
    },
    {
      "cell_type": "code",
      "execution_count": null,
      "id": "e9c6444f",
      "metadata": {
        "deletable": false,
        "id": "e9c6444f",
        "nbgrader": {
          "cell_type": "code",
          "checksum": "dca0930cdead56210ac1d3ed38a1da2d",
          "grade": false,
          "grade_id": "cell-f662abe3d0579575",
          "locked": false,
          "schema_version": 3,
          "solution": true,
          "task": false
        }
      },
      "outputs": [],
      "source": [
        "def hadamard_operator(G, embeddings, edges):\n",
        "    # YOUR CODE HERE\n",
        "    ret = np.zeros((edges.shape[0], embeddings.shape[1]))\n",
        "    cnt  = 0\n",
        "    for u, v in edges:\n",
        "        ret[cnt,:] = embeddings[u,:] * embeddings[v,:]\n",
        "        cnt += 1\n",
        "    return ret"
      ]
    },
    {
      "cell_type": "code",
      "execution_count": null,
      "id": "8fe5eac0",
      "metadata": {
        "deletable": false,
        "editable": false,
        "id": "8fe5eac0",
        "nbgrader": {
          "cell_type": "code",
          "checksum": "26c06cc181807ba861df3b2dde3ea277",
          "grade": true,
          "grade_id": "cell-db04660af550adc7",
          "locked": true,
          "points": 0.57,
          "schema_version": 3,
          "solution": false,
          "task": false
        }
      },
      "outputs": [],
      "source": [
        "assert np.allclose(\n",
        "    hadamard_operator(G, emb, np.array([[42,70]])).round(2),\n",
        "    [[0.21, 0.02, 0.09, 0.02]]\n",
        ")"
      ]
    },
    {
      "cell_type": "markdown",
      "id": "87d7abc5",
      "metadata": {
        "id": "87d7abc5"
      },
      "source": [
        "Weighted L1 is the absolute elementwise difference between node embeddings $$\n",
        "\\left|f(u)-f(v)\\right|\n",
        "$$"
      ]
    },
    {
      "cell_type": "code",
      "execution_count": null,
      "id": "44bfe731",
      "metadata": {
        "deletable": false,
        "id": "44bfe731",
        "nbgrader": {
          "cell_type": "code",
          "checksum": "d6257c4c2eb4680600acc5867ddba862",
          "grade": false,
          "grade_id": "cell-5e44fbdf6a64715d",
          "locked": false,
          "schema_version": 3,
          "solution": true,
          "task": false
        }
      },
      "outputs": [],
      "source": [
        "def weighted_l1_operator(G, embeddings, edges):\n",
        "    # YOUR CODE HERE\n",
        "    ret = np.zeros((edges.shape[0], embeddings.shape[1]))\n",
        "    cnt  = 0\n",
        "    for u, v in edges:\n",
        "        ret[cnt,:] = np.abs((embeddings[u,:] - embeddings[v,:]))\n",
        "        cnt += 1\n",
        "    return ret"
      ]
    },
    {
      "cell_type": "code",
      "execution_count": null,
      "id": "9839429c",
      "metadata": {
        "deletable": false,
        "editable": false,
        "id": "9839429c",
        "nbgrader": {
          "cell_type": "code",
          "checksum": "cff254b8a9077abb2b6b60085851510d",
          "grade": true,
          "grade_id": "cell-f2c7878af729fcb5",
          "locked": true,
          "points": 0.57,
          "schema_version": 3,
          "solution": false,
          "task": false
        }
      },
      "outputs": [],
      "source": [
        "assert np.allclose(\n",
        "    weighted_l1_operator(G, emb, np.array([[42,70]])).round(2),\n",
        "    [[0.88, 0.12, 0.28, 0.17]]\n",
        ")"
      ]
    },
    {
      "cell_type": "markdown",
      "id": "ad8c5eb3",
      "metadata": {
        "id": "ad8c5eb3"
      },
      "source": [
        "Weighted L2 is the squared elementwise difference between node embeddings $$\n",
        "\\left(f(u)-f(v)\\right)^{2}\n",
        "$$"
      ]
    },
    {
      "cell_type": "code",
      "execution_count": null,
      "id": "ab5d9e6c",
      "metadata": {
        "deletable": false,
        "id": "ab5d9e6c",
        "nbgrader": {
          "cell_type": "code",
          "checksum": "c81ca1cb9941e2216cb755dcb6b1d6df",
          "grade": false,
          "grade_id": "cell-0f7f5b3663337374",
          "locked": false,
          "schema_version": 3,
          "solution": true,
          "task": false
        }
      },
      "outputs": [],
      "source": [
        "def weighted_l2_operator(G, embeddings, edges):\n",
        "    # YOUR CODE HERE\n",
        "    ret = np.zeros((edges.shape[0], embeddings.shape[1]))\n",
        "    cnt  = 0\n",
        "    for u, v in edges:\n",
        "        ret[cnt,:] = np.power((embeddings[u,:] - embeddings[v,:]), 2)\n",
        "        cnt += 1\n",
        "    return ret"
      ]
    },
    {
      "cell_type": "code",
      "execution_count": null,
      "id": "b4b926cb",
      "metadata": {
        "deletable": false,
        "editable": false,
        "id": "b4b926cb",
        "nbgrader": {
          "cell_type": "code",
          "checksum": "6ec75dc437072c6eb43baf668f1164e2",
          "grade": true,
          "grade_id": "cell-957e1faea3e9127d",
          "locked": true,
          "points": 0.57,
          "schema_version": 3,
          "solution": false,
          "task": false
        }
      },
      "outputs": [],
      "source": [
        "assert np.allclose(\n",
        "    weighted_l2_operator(G, emb, np.array([[42,70]])).round(2),\n",
        "    [[0.77, 0.01, 0.08, 0.03]]\n",
        ")"
      ]
    },
    {
      "cell_type": "markdown",
      "id": "c3893ed3",
      "metadata": {
        "id": "c3893ed3"
      },
      "source": [
        "Neighbor weighted L1 is the absolute elementwise difference between mean embeddings of nodes neigbors $$\n",
        "\\left|\\frac{\\sum_{w \\in N(u) \\cup\\{u\\}} f(w)}{|N(u)|+1}-\\frac{\\sum_{t \\in N(v) \\cup\\{v\\}} f(t)}{|N(v)|+1}\\right|\n",
        "$$"
      ]
    },
    {
      "cell_type": "code",
      "execution_count": null,
      "id": "c58388de",
      "metadata": {
        "deletable": false,
        "id": "c58388de",
        "nbgrader": {
          "cell_type": "code",
          "checksum": "91862e3967ecf48894e45a0adf8af354",
          "grade": false,
          "grade_id": "cell-9663ec4df9dbb751",
          "locked": false,
          "schema_version": 3,
          "solution": true,
          "task": false
        }
      },
      "outputs": [],
      "source": [
        "def neighbor_weighted_l1_operator(G, embeddings, edges):\n",
        "    # YOUR CODE HERE\n",
        "    ret = np.zeros((edges.shape[0], embeddings.shape[1]))\n",
        "    cnt  = 0\n",
        "    for u, v in edges:\n",
        "        len_u = 1\n",
        "        sum_u = embeddings[u, :].copy()\n",
        "        for u_n in G.neighbors(u):\n",
        "            sum_u += embeddings[u_n, :]\n",
        "            len_u += 1\n",
        "\n",
        "        len_v = 1\n",
        "        sum_v = embeddings[v, :].copy()\n",
        "        for v_n in G.neighbors(v):\n",
        "            sum_v += embeddings[v_n, :]\n",
        "            len_v += 1\n",
        "\n",
        "        ret[cnt,:] = np.abs((sum_u / len_u) - (sum_v / len_v))\n",
        "        cnt += 1\n",
        "    return ret"
      ]
    },
    {
      "cell_type": "code",
      "execution_count": null,
      "id": "522d58c3",
      "metadata": {
        "deletable": false,
        "editable": false,
        "id": "522d58c3",
        "nbgrader": {
          "cell_type": "code",
          "checksum": "970c516b627d54fff1ca8458bd8d61ce",
          "grade": true,
          "grade_id": "cell-fe7f124fa265373c",
          "locked": true,
          "points": 0.57,
          "schema_version": 3,
          "solution": false,
          "task": false
        }
      },
      "outputs": [],
      "source": [
        "assert np.allclose(\n",
        "    neighbor_weighted_l1_operator(G, emb, np.array([[42,70]])).round(2),\n",
        "    [[1.89, 0.14, 0.3 , 0.18]]\n",
        ")"
      ]
    },
    {
      "cell_type": "markdown",
      "id": "d76b0eda",
      "metadata": {
        "id": "d76b0eda"
      },
      "source": [
        "Neighbor weighted L2 is the squared elementwise difference between mean embeddings of nodes neigbors\n",
        "$$\n",
        "\\left(\\frac{\\sum_{w \\in N(u) \\cup\\{u\\}} f(w)}{|N(u)|+1}-\\frac{\\sum_{t \\in N(v) \\cup\\{v\\}} f(t)}{|N(v)|+1}\\right)^{2}\n",
        "$$"
      ]
    },
    {
      "cell_type": "code",
      "execution_count": null,
      "id": "1c39630e",
      "metadata": {
        "deletable": false,
        "id": "1c39630e",
        "nbgrader": {
          "cell_type": "code",
          "checksum": "6fe87475999a79b39066260f060f80ca",
          "grade": false,
          "grade_id": "cell-cb55782d381636cd",
          "locked": false,
          "schema_version": 3,
          "solution": true,
          "task": false
        }
      },
      "outputs": [],
      "source": [
        "def neighbor_weighted_l2_operator(G, embeddings, edges):\n",
        "    # YOUR CODE HERE\n",
        "    G = G.copy()\n",
        "    ret = np.zeros((edges.shape[0], embeddings.shape[1]))\n",
        "    cnt  = 0\n",
        "    for u, v in edges:\n",
        "        len_u = 1\n",
        "        sum_u = embeddings[u, :].copy()\n",
        "        for u_n in G.neighbors(u):\n",
        "            sum_u += embeddings[u_n, :]\n",
        "            len_u += 1\n",
        "        \n",
        "        len_v = 1\n",
        "        sum_v = embeddings[v, :].copy()\n",
        "        for v_n in G.neighbors(v):\n",
        "            sum_v += embeddings[v_n, :]\n",
        "            len_v += 1\n",
        "\n",
        "        ret[cnt,:] = np.power((sum_u / len_u) - (sum_v / len_v), 2)\n",
        "        cnt += 1\n",
        "    return ret"
      ]
    },
    {
      "cell_type": "code",
      "execution_count": null,
      "id": "a5b41d24",
      "metadata": {
        "deletable": false,
        "editable": false,
        "id": "a5b41d24",
        "nbgrader": {
          "cell_type": "code",
          "checksum": "8f676c5be3081e084f9b96c8d550c266",
          "grade": true,
          "grade_id": "cell-b3ea740a7d8e7422",
          "locked": true,
          "points": 0.57,
          "schema_version": 3,
          "solution": false,
          "task": false
        }
      },
      "outputs": [],
      "source": [
        "assert np.allclose(\n",
        "    neighbor_weighted_l2_operator(G, emb, np.array([[42,70]])).round(2),\n",
        "    [[3.58, 0.02, 0.09, 0.03]]\n",
        ")"
      ]
    },
    {
      "cell_type": "markdown",
      "id": "efb3b8a6",
      "metadata": {
        "id": "efb3b8a6"
      },
      "source": [
        "Now let us look at the ROC AUC for different operators on 16d SVD nome embeddings."
      ]
    },
    {
      "cell_type": "code",
      "execution_count": null,
      "id": "da71ae30",
      "metadata": {
        "deletable": false,
        "editable": false,
        "id": "da71ae30",
        "nbgrader": {
          "cell_type": "code",
          "checksum": "cc517d17620e9ac0bafb7c9d654f69f0",
          "grade": true,
          "grade_id": "cell-a5776c997347476f",
          "locked": true,
          "points": 0.5800000000000005,
          "schema_version": 3,
          "solution": false,
          "task": false
        }
      },
      "outputs": [],
      "source": [
        "model = TruncatedSVD(n_components=16, random_state=0)\n",
        "emb = model.fit_transform(A)\n",
        "\n",
        "operators = {\n",
        "    \"Average\": average_operator,\n",
        "    \"Hadamard product\": hadamard_operator,\n",
        "    \"Weighted L1\": weighted_l1_operator,\n",
        "    \"Weighted L2\": weighted_l2_operator,\n",
        "    \"Neighbor weighted L1\": neighbor_weighted_l1_operator,\n",
        "    \"Neighbor weighted L2\": neighbor_weighted_l2_operator\n",
        "}\n",
        "\n",
        "res = dict()\n",
        "for name, operator in operators.items():\n",
        "    lr = LogisticRegression()\n",
        "    train_emb = operator(G, emb, x_train)\n",
        "    lr.fit(train_emb, y_train)\n",
        "    test_emb = operator(G, emb, x_test)\n",
        "    y_pred = lr.predict_proba(test_emb)[:, 1]\n",
        "    fpr, tpr, _ = roc_curve(y_test, y_pred)\n",
        "    res[name] = {\n",
        "        'fpr': fpr,\n",
        "        'tpr': tpr\n",
        "    }\n",
        "\n",
        "assert auc(fpr, tpr) > 0.75"
      ]
    },
    {
      "cell_type": "code",
      "execution_count": null,
      "id": "e5552143",
      "metadata": {
        "id": "e5552143",
        "colab": {
          "base_uri": "https://localhost:8080/",
          "height": 404
        },
        "outputId": "fbdf5892-cf78-4e9c-ce09-2c6109c6ecdf"
      },
      "outputs": [
        {
          "output_type": "display_data",
          "data": {
            "text/plain": [
              "<Figure size 720x432 with 1 Axes>"
            ],
            "image/png": "[encoded data removed]"
          },
          "metadata": {
            "needs_background": "light"
          }
        }
      ],
      "source": [
        "plt.figure(figsize=(10, 6))\n",
        "for label, v in res.items():\n",
        "    fpr, tpr = v['fpr'], v['tpr']\n",
        "    plt.plot(fpr, tpr, lw=2, \n",
        "             label='{}, AUC={:.4f}'.format(label, auc(fpr, tpr)))\n",
        "plt.plot([0, 1], [0, 1], lw=2, linestyle='--')\n",
        "plt.xlabel('FPR')\n",
        "plt.ylabel('TPR')\n",
        "plt.title('ROC AUC')\n",
        "plt.legend()\n",
        "plt.show()"
      ]
    }
  ],
  "metadata": {
    "colab": {
      "collapsed_sections": [],
      "provenance": [],
      "include_colab_link": true
    },
    "kernelspec": {
      "display_name": "Python 3 (ipykernel)",
      "language": "python",
      "name": "python3"
    },
    "language_info": {
      "codemirror_mode": {
        "name": "ipython",
        "version": 3
      },
      "file_extension": ".py",
      "mimetype": "text/x-python",
      "name": "python",
      "nbconvert_exporter": "python",
      "pygments_lexer": "ipython3",
      "version": "3.10.4"
    },
    "widgets": {
      "application/vnd.jupyter.widget-state+json": {
        "4c8e51fb815a4e11b2b754b950e0275d": {
          "model_module": "@jupyter-widgets/controls",
          "model_name": "HBoxModel",
          "model_module_version": "1.5.0",
          "state": {
            "_dom_classes": [],
            "_model_module": "@jupyter-widgets/controls",
            "_model_module_version": "1.5.0",
            "_model_name": "HBoxModel",
            "_view_count": null,
            "_view_module": "@jupyter-widgets/controls",
            "_view_module_version": "1.5.0",
            "_view_name": "HBoxView",
            "box_style": "",
            "children": [
              "IPY_MODEL_779df7d87b6443b3bc9737b2ccb51e44",
              "IPY_MODEL_58be96c0a7e94afdbe53abc6bf308001",
              "IPY_MODEL_bf7e506bf8f6424681295929976296e8"
            ],
            "layout": "IPY_MODEL_294dccd9d02b4c9b86bb4eff0430b632"
          }
        },
        "779df7d87b6443b3bc9737b2ccb51e44": {
          "model_module": "@jupyter-widgets/controls",
          "model_name": "HTMLModel",
          "model_module_version": "1.5.0",
          "state": {
            "_dom_classes": [],
            "_model_module": "@jupyter-widgets/controls",
            "_model_module_version": "1.5.0",
            "_model_name": "HTMLModel",
            "_view_count": null,
            "_view_module": "@jupyter-widgets/controls",
            "_view_module_version": "1.5.0",
            "_view_name": "HTMLView",
            "description": "",
            "description_tooltip": null,
            "layout": "IPY_MODEL_4fd8cd36ea504e7fa43a1b1811ff1aa9",
            "placeholder": "​",
            "style": "IPY_MODEL_583bef6d846f4ce683218a2988280e3b",
            "value": "100%"
          }
        },
        "58be96c0a7e94afdbe53abc6bf308001": {
          "model_module": "@jupyter-widgets/controls",
          "model_name": "FloatProgressModel",
          "model_module_version": "1.5.0",
          "state": {
            "_dom_classes": [],
            "_model_module": "@jupyter-widgets/controls",
            "_model_module_version": "1.5.0",
            "_model_name": "FloatProgressModel",
            "_view_count": null,
            "_view_module": "@jupyter-widgets/controls",
            "_view_module_version": "1.5.0",
            "_view_name": "ProgressView",
            "bar_style": "success",
            "description": "",
            "description_tooltip": null,
            "layout": "IPY_MODEL_192e45278cc24fa78e17b49b614eb88d",
            "max": 4600,
            "min": 0,
            "orientation": "horizontal",
            "style": "IPY_MODEL_bfc74d4d230c4102817608d69149e7ca",
            "value": 4600
          }
        },
        "bf7e506bf8f6424681295929976296e8": {
          "model_module": "@jupyter-widgets/controls",
          "model_name": "HTMLModel",
          "model_module_version": "1.5.0",
          "state": {
            "_dom_classes": [],
            "_model_module": "@jupyter-widgets/controls",
            "_model_module_version": "1.5.0",
            "_model_name": "HTMLModel",
            "_view_count": null,
            "_view_module": "@jupyter-widgets/controls",
            "_view_module_version": "1.5.0",
            "_view_name": "HTMLView",
            "description": "",
            "description_tooltip": null,
            "layout": "IPY_MODEL_0bb3afcb690c43dfae0b61fa7a7a4788",
            "placeholder": "​",
            "style": "IPY_MODEL_23c5d1e3fc654dd895c30c7cd1196193",
            "value": " 4600/4600 [00:11&lt;00:00, 447.72it/s]"
          }
        },
        "294dccd9d02b4c9b86bb4eff0430b632": {
          "model_module": "@jupyter-widgets/base",
          "model_name": "LayoutModel",
          "model_module_version": "1.2.0",
          "state": {
            "_model_module": "@jupyter-widgets/base",
            "_model_module_version": "1.2.0",
            "_model_name": "LayoutModel",
            "_view_count": null,
            "_view_module": "@jupyter-widgets/base",
            "_view_module_version": "1.2.0",
            "_view_name": "LayoutView",
            "align_content": null,
            "align_items": null,
            "align_self": null,
            "border": null,
            "bottom": null,
            "display": null,
            "flex": null,
            "flex_flow": null,
            "grid_area": null,
            "grid_auto_columns": null,
            "grid_auto_flow": null,
            "grid_auto_rows": null,
            "grid_column": null,
            "grid_gap": null,
            "grid_row": null,
            "grid_template_areas": null,
            "grid_template_columns": null,
            "grid_template_rows": null,
            "height": null,
            "justify_content": null,
            "justify_items": null,
            "left": null,
            "margin": null,
            "max_height": null,
            "max_width": null,
            "min_height": null,
            "min_width": null,
            "object_fit": null,
            "object_position": null,
            "order": null,
            "overflow": null,
            "overflow_x": null,
            "overflow_y": null,
            "padding": null,
            "right": null,
            "top": null,
            "visibility": null,
            "width": null
          }
        },
        "4fd8cd36ea504e7fa43a1b1811ff1aa9": {
          "model_module": "@jupyter-widgets/base",
          "model_name": "LayoutModel",
          "model_module_version": "1.2.0",
          "state": {
            "_model_module": "@jupyter-widgets/base",
            "_model_module_version": "1.2.0",
            "_model_name": "LayoutModel",
            "_view_count": null,
            "_view_module": "@jupyter-widgets/base",
            "_view_module_version": "1.2.0",
            "_view_name": "LayoutView",
            "align_content": null,
            "align_items": null,
            "align_self": null,
            "border": null,
            "bottom": null,
            "display": null,
            "flex": null,
            "flex_flow": null,
            "grid_area": null,
            "grid_auto_columns": null,
            "grid_auto_flow": null,
            "grid_auto_rows": null,
            "grid_column": null,
            "grid_gap": null,
            "grid_row": null,
            "grid_template_areas": null,
            "grid_template_columns": null,
            "grid_template_rows": null,
            "height": null,
            "justify_content": null,
            "justify_items": null,
            "left": null,
            "margin": null,
            "max_height": null,
            "max_width": null,
            "min_height": null,
            "min_width": null,
            "object_fit": null,
            "object_position": null,
            "order": null,
            "overflow": null,
            "overflow_x": null,
            "overflow_y": null,
            "padding": null,
            "right": null,
            "top": null,
            "visibility": null,
            "width": null
          }
        },
        "583bef6d846f4ce683218a2988280e3b": {
          "model_module": "@jupyter-widgets/controls",
          "model_name": "DescriptionStyleModel",
          "model_module_version": "1.5.0",
          "state": {
            "_model_module": "@jupyter-widgets/controls",
            "_model_module_version": "1.5.0",
            "_model_name": "DescriptionStyleModel",
            "_view_count": null,
            "_view_module": "@jupyter-widgets/base",
            "_view_module_version": "1.2.0",
            "_view_name": "StyleView",
            "description_width": ""
          }
        },
        "192e45278cc24fa78e17b49b614eb88d": {
          "model_module": "@jupyter-widgets/base",
          "model_name": "LayoutModel",
          "model_module_version": "1.2.0",
          "state": {
            "_model_module": "@jupyter-widgets/base",
            "_model_module_version": "1.2.0",
            "_model_name": "LayoutModel",
            "_view_count": null,
            "_view_module": "@jupyter-widgets/base",
            "_view_module_version": "1.2.0",
            "_view_name": "LayoutView",
            "align_content": null,
            "align_items": null,
            "align_self": null,
            "border": null,
            "bottom": null,
            "display": null,
            "flex": null,
            "flex_flow": null,
            "grid_area": null,
            "grid_auto_columns": null,
            "grid_auto_flow": null,
            "grid_auto_rows": null,
            "grid_column": null,
            "grid_gap": null,
            "grid_row": null,
            "grid_template_areas": null,
            "grid_template_columns": null,
            "grid_template_rows": null,
            "height": null,
            "justify_content": null,
            "justify_items": null,
            "left": null,
            "margin": null,
            "max_height": null,
            "max_width": null,
            "min_height": null,
            "min_width": null,
            "object_fit": null,
            "object_position": null,
            "order": null,
            "overflow": null,
            "overflow_x": null,
            "overflow_y": null,
            "padding": null,
            "right": null,
            "top": null,
            "visibility": null,
            "width": null
          }
        },
        "bfc74d4d230c4102817608d69149e7ca": {
          "model_module": "@jupyter-widgets/controls",
          "model_name": "ProgressStyleModel",
          "model_module_version": "1.5.0",
          "state": {
            "_model_module": "@jupyter-widgets/controls",
            "_model_module_version": "1.5.0",
            "_model_name": "ProgressStyleModel",
            "_view_count": null,
            "_view_module": "@jupyter-widgets/base",
            "_view_module_version": "1.2.0",
            "_view_name": "StyleView",
            "bar_color": null,
            "description_width": ""
          }
        },
        "0bb3afcb690c43dfae0b61fa7a7a4788": {
          "model_module": "@jupyter-widgets/base",
          "model_name": "LayoutModel",
          "model_module_version": "1.2.0",
          "state": {
            "_model_module": "@jupyter-widgets/base",
            "_model_module_version": "1.2.0",
            "_model_name": "LayoutModel",
            "_view_count": null,
            "_view_module": "@jupyter-widgets/base",
            "_view_module_version": "1.2.0",
            "_view_name": "LayoutView",
            "align_content": null,
            "align_items": null,
            "align_self": null,
            "border": null,
            "bottom": null,
            "display": null,
            "flex": null,
            "flex_flow": null,
            "grid_area": null,
            "grid_auto_columns": null,
            "grid_auto_flow": null,
            "grid_auto_rows": null,
            "grid_column": null,
            "grid_gap": null,
            "grid_row": null,
            "grid_template_areas": null,
            "grid_template_columns": null,
            "grid_template_rows": null,
            "height": null,
            "justify_content": null,
            "justify_items": null,
            "left": null,
            "margin": null,
            "max_height": null,
            "max_width": null,
            "min_height": null,
            "min_width": null,
            "object_fit": null,
            "object_position": null,
            "order": null,
            "overflow": null,
            "overflow_x": null,
            "overflow_y": null,
            "padding": null,
            "right": null,
            "top": null,
            "visibility": null,
            "width": null
          }
        },
        "23c5d1e3fc654dd895c30c7cd1196193": {
          "model_module": "@jupyter-widgets/controls",
          "model_name": "DescriptionStyleModel",
          "model_module_version": "1.5.0",
          "state": {
            "_model_module": "@jupyter-widgets/controls",
            "_model_module_version": "1.5.0",
            "_model_name": "DescriptionStyleModel",
            "_view_count": null,
            "_view_module": "@jupyter-widgets/base",
            "_view_module_version": "1.2.0",
            "_view_name": "StyleView",
            "description_width": ""
          }
        }
      }
    }
  },
  "nbformat": 4,
  "nbformat_minor": 5
}