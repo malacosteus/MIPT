{
  "cells": [
    {
      "cell_type": "markdown",
      "metadata": {
        "id": "view-in-github",
        "colab_type": "text"
      },
      "source": [
        "<a href=\"https://colab.research.google.com/github/malacosteus/MIPT/blob/main/GraphML/04_Structural_Graph_Embeddings_finv.ipynb\" target=\"_parent\"><img src=\"https://colab.research.google.com/assets/colab-badge.svg\" alt=\"Open In Colab\"/></a>"
      ]
    },
    {
      "cell_type": "markdown",
      "id": "e5aaa6c0",
      "metadata": {
        "id": "e5aaa6c0"
      },
      "source": [
        "# Assignment — Structural Graph Embeddings"
      ]
    },
    {
      "cell_type": "code",
      "execution_count": null,
      "id": "06d8e527",
      "metadata": {
        "id": "06d8e527"
      },
      "outputs": [],
      "source": [
        "from torch.optim import Adam\n",
        "from torch.utils.data import DataLoader\n",
        "from sklearn.manifold import TSNE\n",
        "import torch.nn as nn\n",
        "import numpy as np\n",
        "import torch\n",
        "from sklearn.metrics import mutual_info_score\n",
        "from sklearn.decomposition import PCA\n",
        "import requests\n",
        "from sklearn.cluster import k_means\n",
        "from tqdm.notebook import tqdm, trange\n",
        "from torch.utils.data import Dataset\n",
        "from scipy.sparse.linalg import svds\n",
        "import matplotlib.pyplot as plt\n",
        "from scipy.sparse import csr_matrix\n",
        "import networkx as nx"
      ]
    },
    {
      "cell_type": "markdown",
      "id": "1c1591f5",
      "metadata": {
        "id": "1c1591f5"
      },
      "source": [
        "### Facebook graph"
      ]
    },
    {
      "cell_type": "markdown",
      "id": "7974b182",
      "metadata": {
        "id": "7974b182"
      },
      "source": [
        "In this assignment, we will evaluate node embedding methods on the facebook graph where nodes are pages and edges are links. Each node has a category: government, tv-show, company, politician."
      ]
    },
    {
      "cell_type": "code",
      "execution_count": null,
      "id": "96dd33df",
      "metadata": {
        "id": "96dd33df",
        "colab": {
          "base_uri": "https://localhost:8080/"
        },
        "outputId": "3542d0dc-ba46-4ad1-ff0d-031fe3f2026d"
      },
      "outputs": [
        {
          "output_type": "execute_result",
          "data": {
            "text/plain": [
              "(3873, array([2, 2, 2, ..., 0, 0, 0]))"
            ]
          },
          "metadata": {},
          "execution_count": 2
        }
      ],
      "source": [
        "url = 'https://raw.githubusercontent.com/netspractice/network-science/main/datasets/musae_facebook_ego_802.gml'\n",
        "open('musae_facebook_ego_802.gml', 'wb').write(requests.get(url).content)\n",
        "G = nx.read_gml('musae_facebook_ego_802.gml')\n",
        "G = nx.convert_node_labels_to_integers(G)\n",
        "_labels = np.array(list(nx.get_node_attributes(G, 'value').values()))\n",
        "unique = list(set(_labels))\n",
        "labels = np.array([unique.index(l) for l in _labels])\n",
        "len(G), labels"
      ]
    },
    {
      "cell_type": "markdown",
      "id": "265910b9",
      "metadata": {
        "id": "265910b9"
      },
      "source": [
        "### Task 1. DeepWalk (0 points)"
      ]
    },
    {
      "cell_type": "code",
      "execution_count": null,
      "id": "5771763b",
      "metadata": {
        "id": "5771763b"
      },
      "outputs": [],
      "source": [
        "import warnings\n",
        "warnings.simplefilter(action='ignore', category=FutureWarning)"
      ]
    },
    {
      "cell_type": "markdown",
      "id": "5b9d9986",
      "metadata": {
        "id": "5b9d9986"
      },
      "source": [
        "Deepwalk is an approach for learning latent representations of nodes in a network. The motivation of DeepWalk is based on an observation that the frequency of nodes occurrence in the short random walks in social networks is similar to the frequency of words occurrence in sentences in natural languages.\n",
        "\n",
        "<img src=\"https://raw.githubusercontent.com/netspractice/network-science/main/images/node_word_powerlaw.png\" width=600>\n",
        "\n",
        "The both follow a power-law distribution, therefore NLP word embedding models can help to represent nodes in networks. DeepWalk is based on SkipGram model that is trained to predict the context for a given word.\n",
        "\n",
        "<img src='https://lena-voita.github.io/resources/lectures/word_emb/w2v/window_prob1-min.png' width=600>\n",
        "\n",
        "(an image is taken from [NLP Course For You](https://lena-voita.github.io/nlp_course.html))\n",
        "\n",
        "DeepWalk uses nodes instead of words and random walks on a network instead of sentences. Let a central word be a start node of a random walk, context words be nodes in a tail of a random walk."
      ]
    },
    {
      "cell_type": "markdown",
      "id": "9a003be8",
      "metadata": {
        "id": "9a003be8"
      },
      "source": [
        "\\Write a function `sample_random_walks` that takes a graph, number of walks per node and the length of walks, returns np.array of the shape (total number of walks) x (length)."
      ]
    },
    {
      "cell_type": "code",
      "execution_count": null,
      "id": "8f27693a",
      "metadata": {
        "deletable": false,
        "id": "8f27693a",
        "nbgrader": {
          "cell_type": "code",
          "checksum": "d3ce58f440fdc8e196671a9575dd819b",
          "grade": false,
          "grade_id": "cell-6dae7ab8bdd8bca1",
          "locked": false,
          "schema_version": 3,
          "solution": true,
          "task": false
        }
      },
      "outputs": [],
      "source": [
        "def sample_random_walks(G, walks_per_node, length):\n",
        "    ### BEGIN SOLUTION\n",
        "    walks = []\n",
        "    for node in tqdm(G.nodes):\n",
        "        for _ in range(walks_per_node):\n",
        "            walk = [node]\n",
        "            current_node = node\n",
        "            for _ in range(length - 1):\n",
        "                next_node = np.random.choice(list(G.neighbors(current_node)))\n",
        "                walk.append(next_node)\n",
        "                current_node = next_node\n",
        "            walks.append(walk)\n",
        "    return np.array(walks)\n",
        "    ### END SOLUTION"
      ]
    },
    {
      "cell_type": "code",
      "execution_count": null,
      "id": "2d724f95",
      "metadata": {
        "deletable": false,
        "editable": false,
        "id": "2d724f95",
        "nbgrader": {
          "cell_type": "code",
          "checksum": "bf580c164d7ab96868a44d09bf855390",
          "grade": true,
          "grade_id": "cell-6804ce30d354612f",
          "locked": true,
          "points": 0,
          "schema_version": 3,
          "solution": false,
          "task": false
        },
        "colab": {
          "base_uri": "https://localhost:8080/",
          "height": 49,
          "referenced_widgets": [
            "357e49845a16431caeefd97853a790cc",
            "e6880a80d9da4f8093b9fa60dc74f586",
            "739cc8efe8864a96810d978d875108ae",
            "6dd4c756766e4e93aee223d18ffe19db",
            "111d2dbe775042deb7f774fa0e546f03",
            "d7cd82e1273843429823b87d6cfd6f84",
            "0558cde7eadf47e68cedc3246d76f809",
            "3796b66a6abe4939a22cb4a756535fec",
            "8920c71c9e95430b8ad75cf565a0b11c",
            "f1153970f9a44aceb5291cb4152d3c85",
            "2ab4b27042354808b6b15b4811e32fe0"
          ]
        },
        "outputId": "1caf564b-e942-4801-a285-fcc70ce372e7"
      },
      "outputs": [
        {
          "output_type": "display_data",
          "data": {
            "text/plain": [
              "  0%|          | 0/3873 [00:00<?, ?it/s]"
            ],
            "application/vnd.jupyter.widget-view+json": {
              "version_major": 2,
              "version_minor": 0,
              "model_id": "357e49845a16431caeefd97853a790cc"
            }
          },
          "metadata": {}
        }
      ],
      "source": [
        "walks_per_node = 5\n",
        "length = 5\n",
        "rwalks = sample_random_walks(G, walks_per_node, length)\n",
        "assert rwalks.shape == (len(G) * walks_per_node, length)\n",
        "assert np.all(rwalks[:, 0][::5] == np.arange(len(G)))\n",
        "A = nx.to_numpy_array(G)\n",
        "assert np.all(A[rwalks[0, :-1], rwalks[0, 1:]] == 1)"
      ]
    },
    {
      "cell_type": "code",
      "execution_count": null,
      "id": "e23d4119",
      "metadata": {
        "id": "e23d4119",
        "colab": {
          "base_uri": "https://localhost:8080/"
        },
        "outputId": "499755da-887c-4a77-f3ac-ee5fcd76fa6a"
      },
      "outputs": [
        {
          "output_type": "execute_result",
          "data": {
            "text/plain": [
              "array([[   0,   16,  162,   26,  343],\n",
              "       [   0,    8,  212,  205,  394],\n",
              "       [   0,    7,  191, 2068,  191],\n",
              "       ...,\n",
              "       [3872, 1980,  409, 3178,  409],\n",
              "       [3872, 1495, 2121, 3179,  409],\n",
              "       [3872, 1495, 3181, 1861, 1980]])"
            ]
          },
          "metadata": {},
          "execution_count": 6
        }
      ],
      "source": [
        "rwalks"
      ]
    },
    {
      "cell_type": "markdown",
      "id": "d836be95",
      "metadata": {
        "id": "d836be95"
      },
      "source": [
        "Consider a graph $G=(V,E)$. Let the first node in each random walk be _start node_ and others be _context nodes_. DeepWalk uses two embedding layers:\n",
        "* $v_i: \\{0, 1\\}^{|V|} \\to \\mathbb R^{d}$ embeds the one-hot encoded vector of the start node $i$ to latent space\n",
        "* $u_j: \\{0, 1\\}^{|V|} \\to \\mathbb R^{d}$ embeds the one-hot encoded vector of the context node $j$ to latent space\n",
        "\n",
        "The objective is to maximize the probability that $i$ and $j$ co-occur on a random walk over the network. Maximizing of the probability is equivalent to minimizing negative log-likelihood:\n",
        "\n",
        "$$\\mathcal L = - \\frac{1}{|V|\\times N} \\sum_{i=1}^{|V|\\times N} \\sum_{j=1}^L \\log P(j|i)$$\n",
        "\n",
        "where $N$ is the number of walks per node, $L$ is the length of a random walk excluding start node. $P(j|i)$ can be modelled by softmax with dot product similarity score $\\text{sim}(i, j) = u_i^\\top v_j$ as follows:\n",
        "\n",
        "$$\\mathcal L = - \\frac{1}{|V|\\times N} \\sum_{i=1}^{|V|\\times N} \\sum_{j=1}^L \\log \\frac{\\exp(v_i^\\top u_j)}{\\sum_{k=1}^{|V|}\\exp(u_k^\\top v_i)}$$\n",
        "\n",
        "However, calculating $\\sum_{k=1}^{|V|}\\exp(v_i^\\top u_j)$ is computationally expensive in a large network. To overcome such an obstacle, we can approximate softmax by binary cross-entropy with _negative sampling_. Instead of calculating softmax, we draw some random (negative) context and minimize binary cross-entropy using sigmoid function:\n",
        "\n",
        "$$\\mathcal L^{\\text{pos}}_{ij} = -\\log P(j|i) = - \\log \\sigma(v_i^\\top u_j) \\\\\n",
        "\\mathcal L^\\text{neg}_{ij} = -\\sum_{k=1}^K \\log P(k|i) = -\\sum_{k=1}^K \\log (1 - \\sigma(v_i^\\top u_k)) \\\\ \n",
        "\\mathcal L = \\frac{1}{|V|\\times N} \\sum_{i=1}^{|V|\\times N} \\sum_{j=1}^L \\left(\\mathcal L^{\\text{pos}}_{ij} + \\mathcal L^\\text{neg}_{ij}\\right)$$\n",
        "\n",
        "where $K$ is the number of negative nodes for each context node."
      ]
    },
    {
      "cell_type": "markdown",
      "id": "348dd491",
      "metadata": {
        "id": "348dd491"
      },
      "source": [
        "Let us create a dataset for computing a such loss function. Write a class `NodeContextDataset`. \n",
        "\n",
        "Function `__init__` takes random walks, the number of nodes in a graph and the number of negative nodes per each context node.\n",
        "\n",
        "Function `__len__` returns the number of random walks.\n",
        "\n",
        "Function `__getitem__` takes an index of random walk, sample a negative context and returns a tuple:\n",
        "\n",
        "* start node, torch.int64\n",
        "* positive context nodes, torch.tensor of the shape (number of context nodes)\n",
        "* negative context nodes, torch.tensor of the shape (number of context nodes, number of negative nodes)"
      ]
    },
    {
      "cell_type": "code",
      "execution_count": null,
      "id": "7550cc9b",
      "metadata": {
        "deletable": false,
        "id": "7550cc9b",
        "nbgrader": {
          "cell_type": "code",
          "checksum": "f37ac528f7f9c27b886cd738c11ed47f",
          "grade": false,
          "grade_id": "cell-92d80df6a92f6fc2",
          "locked": false,
          "schema_version": 3,
          "solution": true,
          "task": false
        }
      },
      "outputs": [],
      "source": [
        "class NodeContextDataset(Dataset):\n",
        "    def __init__(self, rwalks, n_nodes, n_neg):\n",
        "        ### BEGIN SOLUTION\n",
        "        self.n_nodes = n_nodes\n",
        "        self.n_neg = n_neg\n",
        "        self.start_nodes = torch.tensor(rwalks[:, 0]).long()\n",
        "        self.pos_context = torch.tensor(rwalks[:, 1:]).long()\n",
        "        self.len_context = rwalks.shape[1] - 1\n",
        "        ### END SOLUTION\n",
        "\n",
        "    def __len__(self):\n",
        "        ### BEGIN SOLUTION\n",
        "        return len(self.start_nodes)\n",
        "        ### END SOLUTION\n",
        "\n",
        "    def __getitem__(self, idx):\n",
        "        ### BEGIN SOLUTION\n",
        "        neg_context = torch.randint(\n",
        "            high=self.n_nodes, \n",
        "            size=(self.len_context, self.n_neg)\n",
        "        )\n",
        "        return self.start_nodes[idx], self.pos_context[idx], neg_context\n",
        "        ### END SOLUTION"
      ]
    },
    {
      "cell_type": "code",
      "execution_count": null,
      "id": "1625c384",
      "metadata": {
        "deletable": false,
        "editable": false,
        "id": "1625c384",
        "nbgrader": {
          "cell_type": "code",
          "checksum": "33e459957a271d9fbd1451657741be76",
          "grade": true,
          "grade_id": "cell-a745361ad8b8827a",
          "locked": true,
          "points": 0,
          "schema_version": 3,
          "solution": false,
          "task": false
        }
      },
      "outputs": [],
      "source": [
        "dataset = NodeContextDataset(rwalks, len(G), n_neg=5)\n",
        "assert len(dataset) == rwalks.shape[0]\n",
        "start_node, pos_context, neg_context0 = dataset[0]\n",
        "start_node, pos_context, neg_context1 = dataset[0]\n",
        "assert start_node == 0\n",
        "assert start_node.dtype == torch.int64\n",
        "assert start_node.shape == ()\n",
        "assert pos_context.shape == (4, )\n",
        "assert neg_context0.shape == neg_context1.shape ==(4, 5)\n",
        "assert not torch.all(neg_context0 == neg_context1)\n",
        "dloader = DataLoader(dataset, batch_size=2)\n",
        "for start_nodes, pos_context, neg_context in dloader:\n",
        "    break\n",
        "assert start_nodes.shape == (2,)\n",
        "assert pos_context.shape == (2, 4)\n",
        "assert neg_context.shape == (2, 4, 5)"
      ]
    },
    {
      "cell_type": "markdown",
      "id": "654e5e38",
      "metadata": {
        "id": "654e5e38"
      },
      "source": [
        "Write a function `cross_entropy` that takes vectors $v$, positive $u$, negative $u$ and returns the binary cross-entropy loss before reduction $\\frac{1}{|V|\\times N} \\sum_{i=1}^{|V|\\times N} \\sum_{j=1}^L$.\n",
        "\n",
        "_Remark: to prevent $-\\infty$ in log, add $\\varepsilon=1^{-6}$ as follows `torch.log(x + 1e-6)`_"
      ]
    },
    {
      "cell_type": "code",
      "execution_count": null,
      "id": "f06c8044",
      "metadata": {
        "deletable": false,
        "id": "f06c8044",
        "nbgrader": {
          "cell_type": "code",
          "checksum": "8c52f1255915a57c9e9e136063d7a1bb",
          "grade": false,
          "grade_id": "cell-e2f4ba57342fd5e8",
          "locked": false,
          "schema_version": 3,
          "solution": true,
          "task": false
        }
      },
      "outputs": [],
      "source": [
        "def cross_entropy(v, u_pos, u_neg):\n",
        "    ### BEGIN SOLUTION\n",
        "    score = (v[:, None, :] * u_pos).sum(dim=2)\n",
        "    pos_loss = -torch.log(torch.sigmoid(score) + 1e-6)\n",
        "    score = (v[:, None, None, :] * u_neg).sum(dim=3)\n",
        "    neg_loss = -torch.log(1 - torch.sigmoid(score) + 1e-6).sum(dim=2)\n",
        "    loss = pos_loss + neg_loss\n",
        "    return loss\n",
        "    ### END SOLUTION"
      ]
    },
    {
      "cell_type": "code",
      "execution_count": null,
      "id": "ca366b8b",
      "metadata": {
        "deletable": false,
        "editable": false,
        "id": "ca366b8b",
        "nbgrader": {
          "cell_type": "code",
          "checksum": "6560bbf935e37888e3e3b1bf47bd0881",
          "grade": true,
          "grade_id": "cell-588d17c4193a2d02",
          "locked": true,
          "points": 0,
          "schema_version": 3,
          "solution": false,
          "task": false
        }
      },
      "outputs": [],
      "source": [
        "np.random.seed(0)\n",
        "start_node_emb = torch.randn(len(G), 16)\n",
        "context_emb = torch.randn(len(G), 16)\n",
        "v = start_node_emb[start_nodes]\n",
        "u_pos = context_emb[pos_context]\n",
        "u_neg = context_emb[neg_context]\n",
        "loss = cross_entropy(v, u_pos, u_neg)\n",
        "assert loss.shape == (2, 4)\n",
        "lpos = -torch.log(torch.sigmoid(v[0] @ u_pos[0, 0]) + 1e-6)\n",
        "lneg = -torch.log(1 - torch.sigmoid(torch.tensor([v[0] @ u_neg[0, 0, i] for i in range(5)])) + 1e-6).sum()\n",
        "assert round((lpos + lneg).item(), 2) == round(loss[0, 0].item(), 2)"
      ]
    },
    {
      "cell_type": "markdown",
      "id": "442d3641",
      "metadata": {
        "id": "442d3641"
      },
      "source": [
        "Here is SkipGram model with negative sampling. It takes start nodes and positive, negative context nodes, returns cross-entropy loss."
      ]
    },
    {
      "cell_type": "code",
      "execution_count": null,
      "id": "abf4c261",
      "metadata": {
        "deletable": false,
        "editable": false,
        "id": "abf4c261",
        "nbgrader": {
          "cell_type": "code",
          "checksum": "fc264bd4d5ca49b71b8ebd673adcb1d7",
          "grade": false,
          "grade_id": "cell-79e82ef853f9c439",
          "locked": true,
          "schema_version": 3,
          "solution": false,
          "task": false
        }
      },
      "outputs": [],
      "source": [
        "class SkipGramNegativeSampling(nn.Module):\n",
        "    def __init__(self, n_nodes, dim):\n",
        "        super().__init__()\n",
        "        self.start_node_emb = nn.Embedding(n_nodes, dim)\n",
        "        self.context_emb = nn.Embedding(n_nodes, dim)\n",
        "    def forward(self, start_nodes, pos_context, neg_context):\n",
        "        v = self.start_node_emb(start_nodes)\n",
        "        u_pos = self.context_emb(pos_context)\n",
        "        u_neg = self.context_emb(neg_context)\n",
        "        return cross_entropy(v, u_pos, u_neg)"
      ]
    },
    {
      "cell_type": "markdown",
      "id": "267a89d6",
      "metadata": {
        "id": "267a89d6"
      },
      "source": [
        "Let us train the model using Adam optimizer."
      ]
    },
    {
      "cell_type": "code",
      "execution_count": null,
      "id": "624935a1",
      "metadata": {
        "id": "624935a1",
        "colab": {
          "base_uri": "https://localhost:8080/",
          "height": 297,
          "referenced_widgets": [
            "980725fa6cf04136b97264d25e933558",
            "7c535a28859043e3a79ba5d37947cbb4",
            "617fc719f95947188c10ee6ba116a430",
            "62f816ce274041e5903a761b4b0a4519",
            "98267efb87e5436c9c2a9858caef5069",
            "7a5c194e000c4b249b8bdb83a614a323",
            "0136dde903b142cca8b6f32e6d1b53f4",
            "5008c7f04b0948fda84a646d35d15eb4",
            "26c8db0f22e84c3cad25f9e0351d5d9f",
            "0e4b6fad47d4439e9fe52ac40a91398d",
            "a7d7ec5f4099465cb28042bd4ab5fb12"
          ]
        },
        "outputId": "224ab1f9-e86b-480c-e326-e7331cf55bd4"
      },
      "outputs": [
        {
          "output_type": "display_data",
          "data": {
            "text/plain": [
              "  0%|          | 0/50 [00:00<?, ?it/s]"
            ],
            "application/vnd.jupyter.widget-view+json": {
              "version_major": 2,
              "version_minor": 0,
              "model_id": "980725fa6cf04136b97264d25e933558"
            }
          },
          "metadata": {}
        },
        {
          "output_type": "display_data",
          "data": {
            "text/plain": [
              "<Figure size 432x288 with 1 Axes>"
            ],
            "image/png": "[encoded data removed]"
          },
          "metadata": {
            "needs_background": "light"
          }
        }
      ],
      "source": [
        "sgmodel = SkipGramNegativeSampling(n_nodes=len(G), dim=16)\n",
        "epoch_loss = []\n",
        "opt = Adam(sgmodel.parameters(), lr=0.1)\n",
        "dloader = DataLoader(dataset, batch_size=len(G))\n",
        "for epoch in trange(50):\n",
        "    for start_nodes, pos_context, neg_context in dloader:\n",
        "        loss = sgmodel(start_nodes, pos_context, neg_context).sum(dim=1).mean()\n",
        "        opt.zero_grad()\n",
        "        loss.backward()\n",
        "        opt.step()\n",
        "    epoch_loss.append(loss.item())\n",
        "plt.plot(epoch_loss);"
      ]
    },
    {
      "cell_type": "markdown",
      "id": "04914992",
      "metadata": {
        "id": "04914992"
      },
      "source": [
        "We evaluate the model by mutual information between ground truth labels and cluster indices."
      ]
    },
    {
      "cell_type": "code",
      "execution_count": null,
      "id": "5f9b824f",
      "metadata": {
        "deletable": false,
        "editable": false,
        "id": "5f9b824f",
        "nbgrader": {
          "cell_type": "code",
          "checksum": "95d47fc2fc4c52f43987f446abb71cb2",
          "grade": true,
          "grade_id": "cell-1685a473a18d47f8",
          "locked": true,
          "points": 0,
          "schema_version": 3,
          "solution": false,
          "task": false
        }
      },
      "outputs": [],
      "source": [
        "with torch.no_grad():\n",
        "    emb = sgmodel.start_node_emb(torch.arange(len(G)))\n",
        "_, pred_labels, _ = k_means(emb, n_clusters=8)\n",
        "mi = mutual_info_score(labels, pred_labels)\n",
        "assert mi > 0.15"
      ]
    },
    {
      "cell_type": "markdown",
      "id": "ba459b3f",
      "metadata": {
        "id": "ba459b3f"
      },
      "source": [
        "Let us plot the t-SNE visualization of node embeddings."
      ]
    },
    {
      "cell_type": "code",
      "execution_count": null,
      "id": "49b7eb41",
      "metadata": {
        "id": "49b7eb41",
        "colab": {
          "base_uri": "https://localhost:8080/",
          "height": 499
        },
        "outputId": "52fe2df9-b629-4085-ccb0-1a9574d88b6a"
      },
      "outputs": [
        {
          "output_type": "display_data",
          "data": {
            "text/plain": [
              "<Figure size 576x576 with 1 Axes>"
            ],
            "image/png": "[encoded data removed]"
          },
          "metadata": {
            "needs_background": "light"
          }
        }
      ],
      "source": [
        "decomposition = TSNE(n_components=2)\n",
        "xy_emb = decomposition.fit_transform(emb)\n",
        "\n",
        "plt.figure(figsize=(8, 8))\n",
        "scatter = plt.scatter(xy_emb[:, 0], xy_emb[:, 1], c=labels, s=10, cmap=plt.cm.Set2)\n",
        "\n",
        "plt.legend(handles=scatter.legend_elements()[0], labels=unique)\n",
        "plt.title(f'MI: {mi:.4f}');"
      ]
    },
    {
      "cell_type": "markdown",
      "id": "0adfa1a2",
      "metadata": {
        "id": "0adfa1a2"
      },
      "source": [
        "### Task 2. Node2Vec (3 points)"
      ]
    },
    {
      "cell_type": "markdown",
      "id": "b48781ee",
      "metadata": {
        "id": "b48781ee"
      },
      "source": [
        "In this task, we will consider Node2Vec embedding algorithm. In Node2Vec, we learn a mapping of nodes to a low-dimensional space of features that maximizes the likelihood of preserving network neighborhoods of nodes. It is similar to DeepWalk, but uses *biased random walk procedure* which efficiently explores diverse neighborhoods. There are two parameters:\n",
        "\n",
        "* Return parameter $p$ controls the likelihood of immediately revisiting a node in the walk. Setting it to a high value ensures that we are less likely to sample an already-visited node in the following two steps.\n",
        "\n",
        "* In-out parameter $q$ allows the search to differentiate between “inward” and “outward” nodes. If $q > 1$, the random walk is biased towards nodes close to previous node. In contrast, if $q < 1$, the walk is more inclined to visit nodes which are further away from the previous node.\n",
        "\n",
        "<img src='https://raw.githubusercontent.com/netspractice/network-science/main/images/biased_random_walk.png' width=300>\n",
        "\n",
        "Consider that we just moved from the node $t$ to $v$ and now we want to decide on the next step so it evaluates the transition probabilities on edges ($v$, $x$) leading from $v$. Then the *unnormalized* probability is\n",
        "\n",
        "$$\\alpha = \\begin{cases}\n",
        "\\frac{1}{p} &  \\text{ if } d_{tx} = 0\\\\\n",
        "1 & \\text{ if } d_{tx} = 1\\\\\n",
        "\\frac{1}{q} & \\text{ if } d_{tx} = 2\\\\\n",
        "\\end{cases}$$\n",
        "\n",
        "where $d_{tx}$ is the shortest path distance between nodes $t$ and $x$. To compute the true probability, we need to normalize values so that the sum is 1."
      ]
    },
    {
      "cell_type": "markdown",
      "id": "2db9a3dd",
      "metadata": {
        "id": "2db9a3dd"
      },
      "source": [
        "Write a function `biased_random_walk` that takes a graph, node for which we start random walk, length of walk, parameters `p` and `q` and returns a list with random walks.\n",
        "\n",
        "*Hint: do not use `nx.shortest_path` to calcule shortest paths, it is too expensive. Look at the image above — we can explicitly calculate probabilities for all neighbors of $v$ using neighborhood of $t$*."
      ]
    },
    {
      "cell_type": "code",
      "execution_count": null,
      "id": "e171df05",
      "metadata": {
        "deletable": false,
        "id": "e171df05",
        "nbgrader": {
          "cell_type": "code",
          "checksum": "248810a536b6d7a59e0b93a8937cf7a8",
          "grade": false,
          "grade_id": "cell-982226ce9aa30f91",
          "locked": false,
          "schema_version": 3,
          "solution": true,
          "task": false
        }
      },
      "outputs": [],
      "source": [
        "def biased_random_walk(G, node, length, p, q):\n",
        "    # YOUR CODE HERE\n",
        "    walk = [node]\n",
        "    current_node = node\n",
        "\n",
        "    next_node = np.random.choice(list(G.neighbors(current_node)))\n",
        "    walk.append(next_node)\n",
        "\n",
        "    prev_node = current_node\n",
        "    current_node = next_node\n",
        "\n",
        "    for _ in range(length - 2):\n",
        "        curr_node_nghr = list(G.neighbors(current_node))\n",
        "        prev_node_nghr = list(G.neighbors(prev_node))\n",
        "        prb = np.zeros(len(curr_node_nghr))\n",
        "\n",
        "        for i, nd in enumerate(curr_node_nghr):\n",
        "            if nd == prev_node:\n",
        "                prb[i] = 1/p\n",
        "            elif nd in prev_node_nghr:\n",
        "                prb[i] = 1\n",
        "            else:\n",
        "                prb[i] = 1/q\n",
        "        prb = prb / np.sum(prb)\n",
        "\n",
        "        next_node = np.random.choice(curr_node_nghr, p=prb)\n",
        "        walk.append(next_node)\n",
        "\n",
        "        prev_node = current_node\n",
        "        current_node = next_node\n",
        "    return np.array(walk)"
      ]
    },
    {
      "cell_type": "code",
      "execution_count": null,
      "id": "a34e23f0",
      "metadata": {
        "deletable": false,
        "editable": false,
        "id": "a34e23f0",
        "nbgrader": {
          "cell_type": "code",
          "checksum": "2435b88e56db99f5401d6df7bd8aac19",
          "grade": true,
          "grade_id": "cell-0404594e2e4226e7",
          "locked": true,
          "points": 1,
          "schema_version": 3,
          "solution": false,
          "task": false
        }
      },
      "outputs": [],
      "source": [
        "rwalks = biased_random_walk(G, 0, 10, 0.1, 0.5)\n",
        "assert len(rwalks) == 10\n",
        "rwalks = biased_random_walk(G, node=0, length=4, p=0.001, q=1000)\n",
        "assert rwalks[0] == rwalks[2]\n",
        "assert rwalks[1] == rwalks[3]\n",
        "rwalks = biased_random_walk(G, node=0, length=4, p=1000, q=0.001)\n",
        "assert len(set(rwalks)) >= 3"
      ]
    },
    {
      "cell_type": "markdown",
      "id": "66073985",
      "metadata": {
        "id": "66073985"
      },
      "source": [
        "Let us generate biased random walks."
      ]
    },
    {
      "cell_type": "code",
      "execution_count": null,
      "id": "6d5dcc52",
      "metadata": {
        "id": "6d5dcc52"
      },
      "outputs": [],
      "source": [
        "def sample_biased_random_walks(G, walks_per_node, length, p, q):\n",
        "    walks = []\n",
        "    for node in tqdm(G.nodes, leave=False, desc='Sampling biased random walks'):\n",
        "        for _ in range(walks_per_node):\n",
        "            walk_from_node = biased_random_walk(G, node, length, p, q)\n",
        "            walks.append(walk_from_node)\n",
        "    return np.array(walks)"
      ]
    },
    {
      "cell_type": "code",
      "execution_count": null,
      "id": "dc0478d8",
      "metadata": {
        "id": "dc0478d8",
        "colab": {
          "base_uri": "https://localhost:8080/",
          "height": 139,
          "referenced_widgets": [
            "2ddf0b95abc14ba99e98122bac60498c",
            "ff5c6d2efb1c443985c7cdb1aa27ed39",
            "d229f759bef54c459d0a7453dc4b8edf",
            "938eae626730474cb8acc21e533c0c12",
            "6868c934f2ef4ec08e811e3f732f7906",
            "4ea19cc369fd4d7d80c8cefe8107e5df",
            "6a56b4df855c44e596874024b0b2c928",
            "e04da45581994ea696b30371fb8afd6c",
            "cfa0745c2d054eb7a4f19906be3f4297",
            "9b67178cf2bf4ed19dff1726b2af4a33",
            "efeedac8348e4f6caacdd367517490db"
          ]
        },
        "outputId": "daa1ffd8-bc5c-4d02-a002-a06f892a7277"
      },
      "outputs": [
        {
          "output_type": "display_data",
          "data": {
            "text/plain": [
              "Sampling biased random walks:   0%|          | 0/3873 [00:00<?, ?it/s]"
            ],
            "application/vnd.jupyter.widget-view+json": {
              "version_major": 2,
              "version_minor": 0,
              "model_id": "2ddf0b95abc14ba99e98122bac60498c"
            }
          },
          "metadata": {}
        },
        {
          "output_type": "execute_result",
          "data": {
            "text/plain": [
              "array([[   0,   11,    4,   96,  315],\n",
              "       [   0,    3,   69,  138,   53],\n",
              "       [   0,   39,  337,  102,  850],\n",
              "       ...,\n",
              "       [3872, 1495, 2121, 3178,  409],\n",
              "       [3872, 1495, 1918, 3152, 1912],\n",
              "       [3872, 1980,  408,  131,  495]])"
            ]
          },
          "metadata": {},
          "execution_count": 18
        }
      ],
      "source": [
        "walks_per_node = 5\n",
        "length = 5\n",
        "rwalks = sample_biased_random_walks(G, walks_per_node, length, p=0.25, q=0.25)\n",
        "rwalks"
      ]
    },
    {
      "cell_type": "markdown",
      "id": "11dea074",
      "metadata": {
        "id": "11dea074"
      },
      "source": [
        "Train the model."
      ]
    },
    {
      "cell_type": "code",
      "execution_count": null,
      "id": "5d6bc7a1",
      "metadata": {
        "id": "5d6bc7a1",
        "colab": {
          "base_uri": "https://localhost:8080/",
          "height": 297,
          "referenced_widgets": [
            "4fdf11cb5bed4e5ea552f017310e789d",
            "b3015b42382a4eb182aeecdb3c30eb80",
            "043e6633e1be49d4be2dec9992096980",
            "7217943541254c269c9424e512f0d7d2",
            "f4ccc054796b4c6da65e56ec58349a3a",
            "72efd49231064ab898f1c7e09e6797cf",
            "a80a106a753943d3b0dc02b2fe279781",
            "4f6ceb0ea2694f4a85200717ca5bf7e6",
            "43f72e3e224748ffb1ccd5b69b5c2c08",
            "cda9357258ff48059e942a65d257c08d",
            "e4dc4c1da142475f8d21fe115b326c0e"
          ]
        },
        "outputId": "a94f7d7b-ed16-4f05-efb4-4bb35588ddd9"
      },
      "outputs": [
        {
          "output_type": "display_data",
          "data": {
            "text/plain": [
              "  0%|          | 0/50 [00:00<?, ?it/s]"
            ],
            "application/vnd.jupyter.widget-view+json": {
              "version_major": 2,
              "version_minor": 0,
              "model_id": "4fdf11cb5bed4e5ea552f017310e789d"
            }
          },
          "metadata": {}
        },
        {
          "output_type": "display_data",
          "data": {
            "text/plain": [
              "<Figure size 432x288 with 1 Axes>"
            ],
            "image/png": "[encoded data removed]"
          },
          "metadata": {
            "needs_background": "light"
          }
        }
      ],
      "source": [
        "e_loss = []\n",
        "dataset = NodeContextDataset(rwalks, len(G), n_neg=5)\n",
        "dloader = DataLoader(dataset, batch_size=len(G))\n",
        "sgmodel = SkipGramNegativeSampling(n_nodes=len(G), dim=16)\n",
        "opt = Adam(sgmodel.parameters(), lr=0.1)\n",
        "for e in trange(50):\n",
        "    for start_nodes, pos_context, neg_context in dloader:\n",
        "        loss = sgmodel(start_nodes, pos_context, neg_context).sum(dim=1).mean()\n",
        "        opt.zero_grad()\n",
        "        loss.backward()\n",
        "        opt.step()\n",
        "    e_loss.append(loss.item())\n",
        "plt.plot(e_loss);"
      ]
    },
    {
      "cell_type": "code",
      "execution_count": null,
      "id": "52d77af2",
      "metadata": {
        "deletable": false,
        "editable": false,
        "id": "52d77af2",
        "nbgrader": {
          "cell_type": "code",
          "checksum": "7005fe5ef24ada019070d2e796d90abd",
          "grade": true,
          "grade_id": "cell-d1d23ef4a88759f7",
          "locked": true,
          "points": 1,
          "schema_version": 3,
          "solution": false,
          "task": false
        }
      },
      "outputs": [],
      "source": [
        "with torch.no_grad():\n",
        "    emb = sgmodel.start_node_emb(torch.arange(len(G)))\n",
        "_, pred_labels, _ = k_means(emb, n_clusters=8)\n",
        "mi = mutual_info_score(labels, pred_labels)\n",
        "assert mi > 0.15"
      ]
    },
    {
      "cell_type": "markdown",
      "id": "40c59f8b",
      "metadata": {
        "id": "40c59f8b"
      },
      "source": [
        "Find the best $p$ and $q$. Write a function `grid_search_pq` that takes a graph, node labels and returns the best $p$ and $q$ by grid search in $\\{0.01, 0.2, 1, 2, 8\\}$. Sample biased random walks with 5 walks per node and the length 5. Evaluate the model by mutual information score between ground truth labels and k-means with 8 clusters. To pass time limits, calculate the best `p` and `q` and then rewrite the function as\n",
        "\n",
        "```python\n",
        "def grid_search_pq(graph):\n",
        "    return best_p, best_q\n",
        "    # your grid search implementation ...\n",
        "```"
      ]
    },
    {
      "cell_type": "code",
      "execution_count": null,
      "id": "ec850b3e",
      "metadata": {
        "deletable": false,
        "id": "ec850b3e",
        "nbgrader": {
          "cell_type": "code",
          "checksum": "2381e148a50dffea83ac5792805d7c31",
          "grade": false,
          "grade_id": "cell-63bf0f1902240663",
          "locked": false,
          "schema_version": 3,
          "solution": true,
          "task": false
        }
      },
      "outputs": [],
      "source": [
        "def grid_search_pq(G, labels):\n",
        "    # YOUR CODE HERE\n",
        "    return 8, 1\n",
        "    possible_p = [0.01, 0.2, 1, 2, 8]\n",
        "    possible_q = [0.01, 0.2, 1, 2, 8]\n",
        "    best_p = 0\n",
        "    best_q = 0\n",
        "    best_score = -np.inf\n",
        "\n",
        "    walk_per_node = 5\n",
        "    lngth = 5\n",
        "\n",
        "    for p in possible_p:\n",
        "        for q in possible_q:\n",
        "            rwalks = sample_biased_random_walks(G, 5, 5, p, q)\n",
        "            dataset = NodeContextDataset(rwalks, len(G), n_neg=5)\n",
        "            dloader = DataLoader(dataset, batch_size=len(G))\n",
        "            sgmodel = SkipGramNegativeSampling(n_nodes=len(G), dim=16)\n",
        "            opt = Adam(sgmodel.parameters(), lr=0.1)\n",
        "            dloader = DataLoader(dataset, batch_size=len(G))\n",
        "            for epoch in trange(50):\n",
        "                for start_nodes, pos_context, neg_context in dloader:\n",
        "                    loss = sgmodel(start_nodes, pos_context, neg_context).sum(dim=1).mean()\n",
        "                    opt.zero_grad()\n",
        "                    loss.backward()\n",
        "                    opt.step()\n",
        "            with torch.no_grad():\n",
        "                emb = sgmodel.start_node_emb(torch.arange(len(G)))\n",
        "            _, pred_labels, _ = k_means(emb, n_clusters=8)\n",
        "            curr_score = mutual_info_score(labels, pred_labels)\n",
        "\n",
        "            print(f\"p={p}, q={q}, mi={curr_score}\")\n",
        "            if curr_score >= best_score:\n",
        "                best_score = curr_score\n",
        "                best_p = p\n",
        "                best_q = q\n",
        "    return best_p, best_q"
      ]
    },
    {
      "cell_type": "code",
      "execution_count": null,
      "id": "38008a01",
      "metadata": {
        "deletable": false,
        "editable": false,
        "id": "38008a01",
        "nbgrader": {
          "cell_type": "code",
          "checksum": "8e792a5d6956322dfacef58e8503a355",
          "grade": true,
          "grade_id": "cell-6102dd78a7156238",
          "locked": true,
          "points": 1,
          "schema_version": 3,
          "solution": false,
          "task": false
        },
        "colab": {
          "base_uri": "https://localhost:8080/",
          "height": 49,
          "referenced_widgets": [
            "7d5b20d6593a4b6cb1d4f39cf6621422",
            "2129aeb4ea344837b63dc2fcc2b73a9d",
            "7e6f469947834712a0d8bef3dcf91fc3",
            "8e264de07db5444b9a84c3a1b6a6e69e",
            "055ae3a87e794e63bad9277e6ea0a70b",
            "f3f068f0cde14f2789b57b8d5baa32ce",
            "4290a50fb37e4d07964ab79a8cc4025a",
            "4f226c4b68ad4c48ad56f5becc9c6c9e",
            "86efcd66bf1040818aca02094de2ed63",
            "28d08da5ace04df888c607cb58190cec",
            "6c99a40580f144a0b66b1c4edc865afd",
            "4da3f5baaf3e47018991270c74865098",
            "c87d25fd60e64d58923029b91d906048",
            "879cf561545c4a0e9959e423383bf3d9",
            "ab82a10221eb4100a3d81612b6089d34",
            "e3a251bda1904a809fc6fd6162e1fea2",
            "775d4cf3dd3d44a1899c385a46fc144a",
            "71258a20a40943f3a35142641515e9a5",
            "53d6ee5cdbbe4445a7d682f61e16c3b4",
            "a28de0cf465a4c4c90cc9341e87bbc94",
            "62df290347f44c3d8e667579a8733a8f",
            "54b122d88d5549edb632ab23855630de"
          ]
        },
        "outputId": "7f956dcf-58c6-4048-d1f2-996cc18af1ce"
      },
      "outputs": [
        {
          "output_type": "display_data",
          "data": {
            "text/plain": [
              "Sampling biased random walks:   0%|          | 0/3873 [00:00<?, ?it/s]"
            ],
            "application/vnd.jupyter.widget-view+json": {
              "version_major": 2,
              "version_minor": 0,
              "model_id": "7d5b20d6593a4b6cb1d4f39cf6621422"
            }
          },
          "metadata": {}
        },
        {
          "output_type": "display_data",
          "data": {
            "text/plain": [
              "  0%|          | 0/50 [00:00<?, ?it/s]"
            ],
            "application/vnd.jupyter.widget-view+json": {
              "version_major": 2,
              "version_minor": 0,
              "model_id": "4da3f5baaf3e47018991270c74865098"
            }
          },
          "metadata": {}
        }
      ],
      "source": [
        "best_p, best_q = grid_search_pq(G, labels)\n",
        "rwalks = sample_biased_random_walks(G, 5, 5, best_p, best_q)\n",
        "dataset = NodeContextDataset(rwalks, len(G), n_neg=5)\n",
        "dloader = DataLoader(dataset, batch_size=len(G))\n",
        "sgmodel = SkipGramNegativeSampling(n_nodes=len(G), dim=16)\n",
        "opt = Adam(sgmodel.parameters(), lr=0.1)\n",
        "dloader = DataLoader(dataset, batch_size=len(G))\n",
        "for epoch in trange(50):\n",
        "    for start_nodes, pos_context, neg_context in dloader:\n",
        "        loss = sgmodel(start_nodes, pos_context, neg_context).sum(dim=1).mean()\n",
        "        opt.zero_grad()\n",
        "        loss.backward()\n",
        "        opt.step()\n",
        "with torch.no_grad():\n",
        "    emb = sgmodel.start_node_emb(torch.arange(len(G)))\n",
        "_, pred_labels, _ = k_means(emb, n_clusters=8)\n",
        "mi = mutual_info_score(labels, pred_labels)\n",
        "assert mi > 0.21"
      ]
    },
    {
      "cell_type": "markdown",
      "id": "7e4a9967",
      "metadata": {
        "id": "7e4a9967"
      },
      "source": [
        "Plot t-SNE visualization of node embeddings."
      ]
    },
    {
      "cell_type": "code",
      "execution_count": null,
      "id": "a02e4f55",
      "metadata": {
        "id": "a02e4f55",
        "colab": {
          "base_uri": "https://localhost:8080/",
          "height": 499
        },
        "outputId": "d9df2d32-7d76-4dab-af2f-dc1289694a84"
      },
      "outputs": [
        {
          "output_type": "display_data",
          "data": {
            "text/plain": [
              "<Figure size 576x576 with 1 Axes>"
            ],
            "image/png": "[encoded data removed]"
          },
          "metadata": {
            "needs_background": "light"
          }
        }
      ],
      "source": [
        "decomposition = TSNE(n_components=2)\n",
        "xy_emb = decomposition.fit_transform(emb)\n",
        "\n",
        "plt.figure(figsize=(8, 8))\n",
        "scatter = plt.scatter(xy_emb[:, 0], xy_emb[:, 1], c=labels, s=10, cmap=plt.cm.Set2)\n",
        "\n",
        "plt.legend(handles=scatter.legend_elements()[0], labels=unique)\n",
        "plt.title(f'MI: {mi:.4f}');\n"
      ]
    },
    {
      "cell_type": "markdown",
      "id": "c3e6f72b",
      "metadata": {
        "id": "c3e6f72b"
      },
      "source": [
        "### Task 3. Hierarchical softmax (4 points)"
      ]
    },
    {
      "cell_type": "markdown",
      "id": "c324da67",
      "metadata": {
        "id": "c324da67"
      },
      "source": [
        "Hierarchical softmax is an alternative way to approximate softmax in DeepWalk and similar models such as Walklets, Node2Vec. Remind the regular loss function with softmax:\n",
        "\n",
        "$$\\mathcal L = - \\frac{1}{|V|\\times N} \\sum_{i=1}^{|V|\\times N} \\sum_{j=1}^L \\log P(j|i) = - \\frac{1}{|V|\\times N} \\sum_{i=1}^{|V|\\times N} \\sum_{j=1}^L \\log \\frac{\\exp(v_i^\\top u_j)}{\\sum_{k=1}^{|V|}\\exp(v_i^\\top u_k)}$$\n",
        "\n",
        "We have observed that computing $\\sum_{k=1}^{|V|}\\exp(v_i^\\top u_k)$ is expensive in a large network. Indeed, it takes $O(|V|)$ since we need to compute $v_i^\\top u_k$ for each $k$. \n",
        "\n",
        "Hierarchical softmax allows to approximate softmax by propagation probabilities in a binary tree where leaves are nodes in the original network. Consider a simple network on 6 nodes and the corresponding binary tree.\n",
        "\n",
        "<img src=\"https://raw.githubusercontent.com/netspractice/network-science/main/images/hs_btree.png\" width=600>\n",
        "\n",
        "We observe that leaves correspond to nodes in the network: the leaf 5 corresponds to the node 0, the leaf 6 corresponds to the node 1 and so on. Let us call all other white nodes in the binary tree units.\n",
        "\n",
        "Write a function `get_binary_tree` that takes number of leaves and returns a binary tree.\n",
        "\n",
        "_Hint: create a binary tree by `nx.balanced_tree(2, depth, nx.DiGraph)` and drop extra leaves. The depth of the tree can be calculated as $\\lceil \\log_2 |V| \\rceil$._"
      ]
    },
    {
      "cell_type": "code",
      "execution_count": null,
      "id": "b8647ca0",
      "metadata": {
        "deletable": false,
        "id": "b8647ca0",
        "nbgrader": {
          "cell_type": "code",
          "checksum": "01c8b6fa4bd256a22b699e36c1556bbd",
          "grade": false,
          "grade_id": "cell-fa6e506ce6741f45",
          "locked": false,
          "schema_version": 3,
          "solution": true,
          "task": false
        }
      },
      "outputs": [],
      "source": [
        "def get_binary_tree(n_leaves):\n",
        "    # YOUR CODE HERE\n",
        "    # levaves are node sin original network\n",
        "    dpth = int(np.ceil(np.log2(n_leaves)))\n",
        "    full_tree = nx.balanced_tree(2, dpth, nx.DiGraph)\n",
        "    leaves = [n for n in full_tree.nodes if full_tree.degree[n] == 1]\n",
        "    while len(leaves) > n_leaves:\n",
        "        lv = leaves.pop()\n",
        "        full_tree.remove_node(lv)\n",
        "        leaves = [n for n in full_tree.nodes if full_tree.degree[n] == 1]\n",
        "    if (n_leaves % 2) != 0:\n",
        "        lv = leaves.pop()\n",
        "        full_tree.remove_node(lv)\n",
        "    return full_tree"
      ]
    },
    {
      "cell_type": "code",
      "execution_count": null,
      "id": "76a0b83e",
      "metadata": {
        "deletable": false,
        "editable": false,
        "id": "76a0b83e",
        "nbgrader": {
          "cell_type": "code",
          "checksum": "8fcd40389d09de393cba575495e2513d",
          "grade": true,
          "grade_id": "cell-12931d335d97bb1c",
          "locked": true,
          "points": 1,
          "schema_version": 3,
          "solution": false,
          "task": false
        }
      },
      "outputs": [],
      "source": [
        "btree = get_binary_tree(n_leaves=len(G))\n",
        "leaves = [n for n in btree.nodes if btree.degree[n] == 1]\n",
        "assert len(leaves) == len(G)\n",
        "assert list(btree.nodes)[0] == 0\n",
        "assert nx.is_weakly_connected(btree)\n",
        "assert btree.in_degree[0] == 0\n",
        "assert np.all([btree.in_degree[n] == 1 for n in range(1, len(btree))])\n",
        "assert np.all([btree.out_degree[n] == 2 for n in range(len(btree) - len(leaves))])\n",
        "assert np.all([btree.out_degree[n] == 0 for n in range(len(btree) - len(leaves), len(btree))])"
      ]
    },
    {
      "cell_type": "markdown",
      "id": "66cccad2",
      "metadata": {
        "id": "66cccad2"
      },
      "source": [
        "If we assign a probability conditioned by the start node for each unit, we can calculate a probability of each context node as the product of probabilities of all units in the path from the root unit to a corresponding leaf taking $p_i$ if we go to the left and $1 - p_i$ if we go to the right from the unit $i$. For example, consider a path from the root unit to the context node 5 (leaf 10):\n",
        "\n",
        "<img src=\"https://raw.githubusercontent.com/netspractice/network-science/main/images/hs_btree_proba.png\" width=600>\n",
        "\n",
        "$$P(5|i) = p_0\\cdot (1-p_1) \\cdot (1-p_4)$$\n",
        "\n",
        "We can observe following thigs:\n",
        "* Each unit divides probability space into two subspace, so that probabilities on leaves are summed up to 1.\n",
        "* We make only 3 multiplucations instead of 6 summations in regular softmax. Indeed, the number of multiplications is equal to the depth of the binary tree $O(\\log_2|V|)$. The number of summations in regular softmax is $O(|V|)$. That is, the cost of calculating probabilities for all context nodes is reduced from $O(|V|^2)$ to $O(|V|\\log_2|V|)$.\n",
        "\n",
        "We condition probabilities by the start node as follows:\n",
        "\n",
        "$$p_j(i) = \\sigma(v_i^\\top u_j)$$\n",
        "\n",
        "where $v_i$ is embedding of the start node $i$ and $u_j$ is embedding of the unit $j$. Thus, we have no embeddings for context nodes in this model. Note that $1-\\sigma(v_i^\\top u_j)$ can be substituted to $\\sigma(-v_i^\\top u_j)$. Let us call a sign under the sigmoid a turn $t_k$: $-1$ if we go to the left and $1$ if we go to the right. Thus the probability of co-occurance of the context node 5 and the start node, say, 1 is\n",
        "\n",
        "$$P(5|1) = \\sigma(t_0 v_1^\\top u_0) \\cdot \\sigma(t_1 v_1^\\top u_1) \\cdot \\sigma(t_2 v_1^\\top u_4)$$\n",
        "\n",
        "where $t_0=1$, $t_1=-1$, $t_2=-1$. Our objective is to maximize the probability of co-occurance of start nodes and context nodes by minimizing the negative log-likelihood, thus the loss function is turned out to\n",
        "\n",
        "$$\\mathcal L = - \\frac{1}{|V|\\times N} \\sum_{i=1}^{|V|\\times N} \\sum_{j=1}^L \\sum_{k=1}^K\\log \\sigma(t_{[jk]} v_i^\\top u_{[jk]})$$\n",
        "\n",
        "where $K$ is the path length from the root to the leaf excluding the leaf. Subscript $[jk]$ means the index corresponded to k-th step of the path to j-th context node. Note that the path length depends on a leaf, it makes calculating loss in mini-batch training inconvenient, so let us set $K$ as the depth of the tree and multiply the loss by _training mask_ $z_{jk}$: $0$ for all $k$ that greater than path length and $1$ otherwise. The final loss function is\n",
        "\n",
        "$$\\mathcal L = - \\frac{1}{|V|\\times N} \\sum_{i=1}^{|V|\\times N} \\sum_{j=1}^L \\sum_{k=1}^K\\log \\sigma(t_{[jk]} v_i^\\top u_{[jk]}) z_{[jk]}$$"
      ]
    },
    {
      "cell_type": "markdown",
      "id": "24556f72",
      "metadata": {
        "id": "24556f72"
      },
      "source": [
        "Let us create a dataset for computing a such loss function. Write a class `NodePathDataset`. \n",
        "\n",
        "Function `__init__` takes random walks, binary tree, depth of the binary tree and finds paths for each leaf.\n",
        "\n",
        "Function `__len__` returns the number of random walks.\n",
        "\n",
        "Function `__getitem__` takes an index of random walk and returns a tuple:\n",
        "\n",
        "* start node, torch.int64\n",
        "* context nodes, torch.tensor of the shape (number of context nodes)\n",
        "* paths to the context nodes excluding a leaf: torch.tensor of the shape (number of context nodes, depth). Padded with zeros if the depth is greater than the path length.\n",
        "* turns on the paths: torch.tensor of the shape (number of context nodes, depth). Padded with zeros if the depth is greater than the path length. Define the left turn as a link to the even unit.\n",
        "* training mask on the paths: torch.tensor of the shape (number of context nodes, depth)\n",
        "\n",
        "_Hint: use `nx.shortest_path(btree, 0, n)` to find a path from the root unit to the leaf `n` in the tree._"
      ]
    },
    {
      "cell_type": "code",
      "execution_count": null,
      "id": "10b5f08f",
      "metadata": {
        "deletable": false,
        "id": "10b5f08f",
        "nbgrader": {
          "cell_type": "code",
          "checksum": "c0cc9935a2395e5bc227fbeb197535d8",
          "grade": false,
          "grade_id": "cell-48de35ab799a5afd",
          "locked": false,
          "schema_version": 3,
          "solution": true,
          "task": false
        }
      },
      "outputs": [],
      "source": [
        "class NodePathDataset(Dataset):\n",
        "    def __init__(self, rwalks, btree, depth):\n",
        "        self.start_nodes = torch.tensor(rwalks[:, 0])\n",
        "        self.context = torch.tensor(rwalks[:, 1:])\n",
        "        self.paths = []\n",
        "        self.turns = []\n",
        "        self.masks = []\n",
        "        # YOUR CODE HERE\n",
        "        leaves = [n for n in btree.nodes if btree.degree[n] == 1]\n",
        "        nonfull_paths = [nx.shortest_path(btree, 0, l)[:-1] for l in leaves]\n",
        "\n",
        "        for path in nonfull_paths:\n",
        "            turn = []\n",
        "            for nd in path[1:]:\n",
        "                ch_nds = list(btree.successors(list(btree.predecessors(nd))[0]))\n",
        "                if (nd == max(ch_nds)):\n",
        "                    turn.append(1)\n",
        "                else:\n",
        "                    turn.append(-1)\n",
        "            mask = [1] * len(path)\n",
        "\n",
        "            if len(path) < depth:\n",
        "                n_extra_units = depth - len(path)\n",
        "                path = path + [0] * n_extra_units\n",
        "                mask = mask + [0] * n_extra_units\n",
        "                turn = turn + [0] * n_extra_units\n",
        "            turn = turn + [0]\n",
        "            self.paths.append(path)\n",
        "            self.masks.append(mask)                \n",
        "            self.turns.append(turn)\n",
        "\n",
        "        self.paths = torch.tensor(self.paths)\n",
        "        self.turns = torch.tensor(self.turns)\n",
        "        self.masks = torch.tensor(self.masks)\n",
        "\n",
        "    def __len__(self):\n",
        "        return len(self.start_nodes)\n",
        "\n",
        "    def __getitem__(self, idx):\n",
        "        return (\n",
        "            self.start_nodes[idx], \n",
        "            self.context[idx], \n",
        "            self.paths[self.context[idx]], \n",
        "            self.turns[self.context[idx]], \n",
        "            self.masks[self.context[idx]]\n",
        "        )"
      ]
    },
    {
      "cell_type": "code",
      "execution_count": null,
      "id": "a3f3eca1",
      "metadata": {
        "deletable": false,
        "editable": false,
        "id": "a3f3eca1",
        "nbgrader": {
          "cell_type": "code",
          "checksum": "d8ce7f617444f4b2c156cc851907e46d",
          "grade": true,
          "grade_id": "cell-41adebff43c8f34d",
          "locked": true,
          "points": 1,
          "schema_version": 3,
          "solution": false,
          "task": false
        }
      },
      "outputs": [],
      "source": [
        "depth = 12\n",
        "dataset = NodePathDataset(rwalks, btree, depth)\n",
        "start_node, context, paths, turns, masks = dataset[0]\n",
        "assert start_node.shape == ()\n",
        "assert context.shape == (4,)\n",
        "assert paths.shape == turns.shape == masks.shape == (4, 12)\n",
        "assert start_node == 0\n",
        "leaves = [n for n in btree.nodes if btree.degree[n] == 1]\n",
        "shortest_path = nx.shortest_path(btree, 0, leaves[context[1]])[:-1]\n",
        "mask = [1] * len(shortest_path)\n",
        "if len(shortest_path) < depth:\n",
        "    n_extra_units = depth - len(shortest_path)\n",
        "    shortest_path = shortest_path + [0] * n_extra_units\n",
        "    mask = mask + [0] * n_extra_units\n",
        "assert np.all(shortest_path == paths[1].numpy())\n",
        "assert np.all(mask == masks[1].numpy())"
      ]
    },
    {
      "cell_type": "code",
      "execution_count": null,
      "id": "b7907134",
      "metadata": {
        "id": "b7907134",
        "colab": {
          "base_uri": "https://localhost:8080/"
        },
        "outputId": "fe416018-fdc8-4e28-f9cc-9ab5ae39b4d5"
      },
      "outputs": [
        {
          "output_type": "execute_result",
          "data": {
            "text/plain": [
              "(torch.Size([2]),\n",
              " torch.Size([2, 4]),\n",
              " torch.Size([2, 4, 12]),\n",
              " torch.Size([2, 4, 12]),\n",
              " torch.Size([2, 4, 12]))"
            ]
          },
          "metadata": {},
          "execution_count": 30
        }
      ],
      "source": [
        "dloader = DataLoader(dataset, batch_size=2)\n",
        "for start_nodes, context, paths, turns, masks in dloader:\n",
        "    break\n",
        "start_nodes.shape, context.shape, paths.shape, turns.shape, masks.shape"
      ]
    },
    {
      "cell_type": "markdown",
      "id": "6872488a",
      "metadata": {
        "id": "6872488a"
      },
      "source": [
        "Write a function `hierarchical_softmax_loss` that takes vectors $v$, $u$ and returns the hierarchical softmax loss before reduction $\\frac{1}{|V|\\times N} \\sum_{i=1}^{|V|\\times N} \\sum_{j=1}^L$.\n",
        "\n",
        "_Remark: to prevent $-\\infty$ in log, add $\\varepsilon=1^{-6}$ as follows `torch.log(x + 1e-6)`_"
      ]
    },
    {
      "cell_type": "code",
      "source": [
        "def hierarchical_softmax_loss(v, u, turns, masks):\n",
        "    ### BEGIN SOLUTION\n",
        "    score = (v[:, None, None, :] * u * turns[:, :, :, None]).sum(dim=3)\n",
        "    return (-torch.log(torch.sigmoid(score) + 1e-6) * masks).sum(dim=2)"
      ],
      "metadata": {
        "id": "4-k2H_XTi69u"
      },
      "id": "4-k2H_XTi69u",
      "execution_count": null,
      "outputs": []
    },
    {
      "cell_type": "code",
      "execution_count": null,
      "id": "1a3cc875",
      "metadata": {
        "deletable": false,
        "editable": false,
        "id": "1a3cc875",
        "nbgrader": {
          "cell_type": "code",
          "checksum": "77571345c5f803b3d52b802c082392e0",
          "grade": true,
          "grade_id": "cell-8c8320b2c7c030eb",
          "locked": true,
          "points": 1,
          "schema_version": 3,
          "solution": false,
          "task": false
        }
      },
      "outputs": [],
      "source": [
        "np.random.seed(0)\n",
        "start_node_emb = torch.randn(len(G), 16)\n",
        "path_emb = torch.randn(len(G) - 1, 16)\n",
        "v = start_node_emb[start_nodes]\n",
        "u = path_emb[paths]\n",
        "loss = hierarchical_softmax_loss(v, u, turns, masks)\n",
        "assert loss.shape == (2, 4)\n",
        "l = -torch.log(torch.sigmoid(torch.tensor([v[0] @ u[0, 0, i] * turns[0, 0, i] for i in range(12)])) + 1e-6) * masks[0, 0]\n",
        "assert round(l.sum().item(), 2) == round(loss[0, 0].item(), 2)"
      ]
    },
    {
      "cell_type": "markdown",
      "id": "7d24a924",
      "metadata": {
        "id": "7d24a924"
      },
      "source": [
        "Here is SkipGram model with hierarchical softmax. The number of vectors in `path_emb` is `n_nodes - 1`, since it can be shown that the number of units is equal to $|V|-1$."
      ]
    },
    {
      "cell_type": "code",
      "execution_count": null,
      "id": "e7fe472e",
      "metadata": {
        "deletable": false,
        "editable": false,
        "id": "e7fe472e",
        "nbgrader": {
          "cell_type": "code",
          "checksum": "8535c3166b0b7c5bc2e57ab2960ddc75",
          "grade": false,
          "grade_id": "cell-39c948726656b5ba",
          "locked": true,
          "schema_version": 3,
          "solution": false,
          "task": false
        }
      },
      "outputs": [],
      "source": [
        "class SkipGramHierarchicalSoftmax(nn.Module):\n",
        "    def __init__(self, n_nodes, dim):\n",
        "        super().__init__()\n",
        "        self.start_node_emb = nn.Embedding(n_nodes, dim)\n",
        "        self.path_emb = nn.Embedding(n_nodes - 1, dim)\n",
        "    def forward(self, start_nodes, paths, turns, masks):\n",
        "        v = self.start_node_emb(start_nodes)\n",
        "        u = self.path_emb(paths)\n",
        "        loss = hierarchical_softmax_loss(v, u, turns, masks)\n",
        "        return loss"
      ]
    },
    {
      "cell_type": "markdown",
      "id": "730249b3",
      "metadata": {
        "id": "730249b3"
      },
      "source": [
        "Train the model using Adam optimizer."
      ]
    },
    {
      "cell_type": "code",
      "execution_count": null,
      "id": "51bdc9ea",
      "metadata": {
        "id": "51bdc9ea",
        "colab": {
          "base_uri": "https://localhost:8080/",
          "height": 297,
          "referenced_widgets": [
            "9313fc086d1247ffae6532cead364c91",
            "18f1606541fb4aee81677cb4ab573542",
            "b3cf5166043a44b38cb41ad119416655",
            "2879ff5c631648488f3d981bdbe36523",
            "f8e96c21f1034b9990e50e6ddcb98b6f",
            "59b30cf3b84444509398ce1660612715",
            "2fb77d12256248ecb9aed0a05231de2b",
            "708b59b256414c9aa190f4f5d7b9eb1c",
            "1db51de3875b45a898d2e682f97a5a5f",
            "a1696bf0f002496fa9f60692572bb28d",
            "9cc77377eed74585b2d94620b9a7ba38"
          ]
        },
        "outputId": "84a3481c-87ac-4efc-80f1-6c2008a590f4"
      },
      "outputs": [
        {
          "output_type": "display_data",
          "data": {
            "text/plain": [
              "  0%|          | 0/50 [00:00<?, ?it/s]"
            ],
            "application/vnd.jupyter.widget-view+json": {
              "version_major": 2,
              "version_minor": 0,
              "model_id": "9313fc086d1247ffae6532cead364c91"
            }
          },
          "metadata": {}
        },
        {
          "output_type": "display_data",
          "data": {
            "text/plain": [
              "<Figure size 432x288 with 1 Axes>"
            ],
            "image/png": "[encoded data removed]"
          },
          "metadata": {
            "needs_background": "light"
          }
        }
      ],
      "source": [
        "sgmodel = SkipGramHierarchicalSoftmax(n_nodes=len(G), dim=16)\n",
        "epoch_loss = []\n",
        "opt = Adam(sgmodel.parameters(), lr=0.1)\n",
        "dloader = DataLoader(dataset, batch_size=len(G))\n",
        "for epoch in trange(50):\n",
        "    for start_nodes, context, paths, turns, masks in dloader:\n",
        "        loss = sgmodel(start_nodes, paths, turns, masks).sum(dim=1).mean()\n",
        "        opt.zero_grad()\n",
        "        loss.backward()\n",
        "        opt.step()\n",
        "    epoch_loss.append(loss.item())\n",
        "plt.plot(epoch_loss);"
      ]
    },
    {
      "cell_type": "markdown",
      "id": "57ecd6d2",
      "metadata": {
        "id": "57ecd6d2"
      },
      "source": [
        "Evaluate the model by mutual information between ground truth labels and cluster indices."
      ]
    },
    {
      "cell_type": "code",
      "execution_count": null,
      "id": "0e737cab",
      "metadata": {
        "deletable": false,
        "editable": false,
        "id": "0e737cab",
        "nbgrader": {
          "cell_type": "code",
          "checksum": "163de70b349c978e9503141a12c90a5e",
          "grade": true,
          "grade_id": "cell-736c8f9bf1ffccd8",
          "locked": true,
          "points": 1,
          "schema_version": 3,
          "solution": false,
          "task": false
        }
      },
      "outputs": [],
      "source": [
        "with torch.no_grad():\n",
        "    emb = sgmodel.start_node_emb(torch.arange(len(G)))\n",
        "_, pred_labels, _ = k_means(emb, n_clusters=8)\n",
        "mi = mutual_info_score(labels, pred_labels)\n",
        "assert mi > 0.15"
      ]
    },
    {
      "cell_type": "markdown",
      "id": "aa516657",
      "metadata": {
        "id": "aa516657"
      },
      "source": [
        "Plot t-SNE visualization of node embeddings."
      ]
    },
    {
      "cell_type": "code",
      "execution_count": null,
      "id": "301ff014",
      "metadata": {
        "id": "301ff014",
        "colab": {
          "base_uri": "https://localhost:8080/",
          "height": 499
        },
        "outputId": "de368f41-57e7-4d5f-cb08-27bbf257646e"
      },
      "outputs": [
        {
          "output_type": "display_data",
          "data": {
            "text/plain": [
              "<Figure size 576x576 with 1 Axes>"
            ],
            "image/png": "[encoded data removed]"
          },
          "metadata": {
            "needs_background": "light"
          }
        }
      ],
      "source": [
        "decomposition = TSNE(n_components=2)\n",
        "xy_emb = decomposition.fit_transform(emb)\n",
        "\n",
        "plt.figure(figsize=(8, 8))\n",
        "scatter = plt.scatter(xy_emb[:, 0], xy_emb[:, 1], c=labels, s=10, cmap=plt.cm.Set2)\n",
        "plt.legend(handles=scatter.legend_elements()[0], labels=unique)\n",
        "plt.title(f'MI: {mi:.4f}');"
      ]
    },
    {
      "cell_type": "markdown",
      "id": "35fcbfed",
      "metadata": {
        "id": "35fcbfed"
      },
      "source": [
        "The hierarchical softmax can be improved by building a binary tree where hubs are closer to the root unit. In this task we have used the randomly builded binary tree and we can see that it works pretty well with respect to negative sampling."
      ]
    },
    {
      "cell_type": "markdown",
      "id": "ff2fe14c",
      "metadata": {
        "id": "ff2fe14c"
      },
      "source": [
        "### Task 4. GraRep (3 points)"
      ]
    },
    {
      "cell_type": "markdown",
      "id": "029a1c52",
      "metadata": {
        "id": "029a1c52"
      },
      "source": [
        "The idea behind GraRep is to account for multiscale relationships between nodes. For example,a student can have 1-hop neighborhood of friends, 2-hop neighborhood of classmates, 3-hop neighborhood of society and so on.\n",
        "\n",
        "<img src=\"https://raw.githubusercontent.com/netspractice/network-science/main/images/multiscale_relationships.png\" width=350>\n",
        "\n",
        "Unlike DeepWalk, GraRep defines different objective functions for capturing the different $k$-step local relational information by manipulating transition matrices in the $k$-th powers defined over the graph. Recall that the transition matrix is $P = D^{-1}A$ where $D$ is a degree matrix. $P_{ij}$ refers to a probability to move from the node $i$ to the node $j$ in one step of a random walk. Therefore, $P^k_{ij}$ is a probability to move from the node $i$ to the node $j$ in $k$ steps of a random walk. "
      ]
    },
    {
      "cell_type": "markdown",
      "id": "a2d2db59",
      "metadata": {
        "id": "a2d2db59"
      },
      "source": [
        "Write a function `csr_transition_matrix` that takes a graph and returns a transition matrix. To save memory and speed up the following calculation of powers, convert transition matrix to sparse format by `scipy.sparse.csr_matrix`."
      ]
    },
    {
      "cell_type": "code",
      "source": [
        "import scipy"
      ],
      "metadata": {
        "id": "YOwBXyLJ7HDG"
      },
      "id": "YOwBXyLJ7HDG",
      "execution_count": null,
      "outputs": []
    },
    {
      "cell_type": "code",
      "execution_count": null,
      "id": "b19d518d",
      "metadata": {
        "deletable": false,
        "id": "b19d518d",
        "nbgrader": {
          "cell_type": "code",
          "checksum": "bec7a132a8e91292a33f9ce803d9e648",
          "grade": false,
          "grade_id": "cell-f0ec11b1c4da2c21",
          "locked": false,
          "schema_version": 3,
          "solution": true,
          "task": false
        }
      },
      "outputs": [],
      "source": [
        "def csr_transition_matrix(G):\n",
        "    # YOUR CODE HERE\n",
        "    A = nx.to_numpy_array(G)\n",
        "    row_sums = A.sum(axis=1)\n",
        "    A = A / row_sums[:, np.newaxis]\n",
        "    return (scipy.sparse.csr_matrix(A))\n"
      ]
    },
    {
      "cell_type": "code",
      "execution_count": null,
      "id": "038b83de",
      "metadata": {
        "deletable": false,
        "editable": false,
        "id": "038b83de",
        "nbgrader": {
          "cell_type": "code",
          "checksum": "89c5d34c88f598b589ecaf7c68858755",
          "grade": true,
          "grade_id": "cell-2d2f99d8bac11893",
          "locked": true,
          "points": 0.75,
          "schema_version": 3,
          "solution": false,
          "task": false
        }
      },
      "outputs": [],
      "source": [
        "P = csr_transition_matrix(G)\n",
        "assert type(P) == csr_matrix\n",
        "assert P.shape == (len(G), len(G))\n",
        "assert round(P[3, 9], 4) == 0.0417"
      ]
    },
    {
      "cell_type": "markdown",
      "id": "b606b04a",
      "metadata": {
        "id": "b606b04a"
      },
      "source": [
        "Similar to DeepWalk, there are two types of embeddings:\n",
        "* $v_i$ is a vector that represents the start node $i$\n",
        "* $u_j$ is a vector that represents the context node $j$\n",
        "\n",
        "Our objective aims to maximize: 1) the probability that these pairs come from the graph, and 2) the probability that all other pairs do not come from the graph (negative samples). The objective function for nodes $i, j$ in the transition matrix of the power $k$ is\n",
        "\n",
        "$$\\mathcal L^k_{ij} = P^k_{ij}\\log \\sigma(v_i^\\top u_j) + \\frac{\\lambda}{|V|}\\sum_{t=1}^{|V|}P^k_{tj}\\log \\sigma(-v_t^\\top u_j)$$\n",
        "\n",
        "where $\\lambda$ is the hyperparameter indicating the number of negative samples. Optimizing this objective makes observed pairs $(i, j)$ have similar embeddings, while scattering unobserved pairs $(t, j)$. Substitution $v_i^\\top u_j = X_{ij}$ and setting $\\frac{\\partial \\mathcal L_{ij}}{ \\partial X_{ij}} = 0$ yields\n",
        "\n",
        "$$v_i^\\top u_j = X_{ij}^k = \\log \\frac{P^k_{ij}}{\\sum_{t=1}^{|V|}P^k_{tj}} - \\log\\frac{\\lambda}{|V|}$$"
      ]
    },
    {
      "cell_type": "markdown",
      "id": "021aa465",
      "metadata": {
        "id": "021aa465"
      },
      "source": [
        "Let us call $X^k$ log probabilistic matrix. Write a function \n",
        "\n",
        "1.   List item\n",
        "2.   List item\n",
        "\n",
        "`log_probabilistic_matrix` that takes a transition matrix, hyperparameter $\\lambda$ and returns a log probabilistic matrix.\n",
        "\n",
        "_Remark: to prevent $-\\infty$ in log, add $\\varepsilon=1^{-6}$ as follows `np.log(x + 1e-6)`_"
      ]
    },
    {
      "cell_type": "code",
      "execution_count": null,
      "id": "2a1437d6",
      "metadata": {
        "deletable": false,
        "id": "2a1437d6",
        "nbgrader": {
          "cell_type": "code",
          "checksum": "63684003d32189034bf77a52da99cd2b",
          "grade": false,
          "grade_id": "cell-c949fe784127c31a",
          "locked": false,
          "schema_version": 3,
          "solution": true,
          "task": false
        }
      },
      "outputs": [],
      "source": [
        "def log_probabilistic_matrix(P, lambd):\n",
        "    # YOUR CODE HERE\n",
        "    P = P.todense()\n",
        "    row_sums = P.sum(axis=0)\n",
        "    return np.log((P / row_sums)  + 1e-6) - np.log((lambd / P.shape[0]) + 1e-6)"
      ]
    },
    {
      "cell_type": "code",
      "execution_count": null,
      "id": "b73c3a43",
      "metadata": {
        "deletable": false,
        "editable": false,
        "id": "b73c3a43",
        "nbgrader": {
          "cell_type": "code",
          "checksum": "f81afad0435cd21fc8814f7974fd775b",
          "grade": true,
          "grade_id": "cell-624f6d1384718d6f",
          "locked": true,
          "points": 0.75,
          "schema_version": 3,
          "solution": false,
          "task": false
        }
      },
      "outputs": [],
      "source": [
        "X = log_probabilistic_matrix(P, lambd=5)\n",
        "assert type(X) == np.matrix\n",
        "assert X.shape == (len(G), len(G))\n",
        "assert round(X[3, 9], 4) == 3.182"
      ]
    },
    {
      "cell_type": "markdown",
      "id": "f048f649",
      "metadata": {
        "id": "f048f649"
      },
      "source": [
        "The log probabilistic matrix $X^k$ can be approximated by truncated SVD so that\n",
        "\n",
        "$$X^k \\approx X_d^k = U_d^k \\Sigma_d^k (V_d^k)^\\top$$\n",
        "\n",
        "where $d$ is the number of singular values of truncated SVD. Thus, embeddings of start nodes can be obtained by \n",
        "\n",
        "$$v_i = \\left[U_d^k \\sqrt{\\Sigma_d^k}\\right]_i$$ \n",
        "\n",
        "and embeddings of context nodes by \n",
        "\n",
        "$$u_j = \\left[\\sqrt{\\Sigma_d^k} (V_d^k)^\\top\\right]_j$$ \n",
        "\n",
        "_Remark: the power 1/2 makes SVD symmetric. It is empirically shown that the symmetric SVD is better for social graphs and makes embeddings more \"similar\" to corresponding embeddings of SkipGram with negative sampling in a sence of some matrix properties._"
      ]
    },
    {
      "cell_type": "markdown",
      "id": "1b53945c",
      "metadata": {
        "id": "1b53945c"
      },
      "source": [
        "Write a function `svd_emb` that takes a log probabilistic matrix, number of dimensions (number of largest singular values) in truncated SVD and returns embeddings of start nodes.\n",
        "\n",
        "_Hint: use `scipy.sparse.linalg.svds` to calculate truncated SVD for a given number of singular values._"
      ]
    },
    {
      "cell_type": "code",
      "source": [
        "from scipy.sparse.linalg import svds"
      ],
      "metadata": {
        "id": "YX3f28Qb9x2w"
      },
      "id": "YX3f28Qb9x2w",
      "execution_count": null,
      "outputs": []
    },
    {
      "cell_type": "code",
      "execution_count": null,
      "id": "08289b64",
      "metadata": {
        "deletable": false,
        "id": "08289b64",
        "nbgrader": {
          "cell_type": "code",
          "checksum": "64aa1dc62ca5b5035ec1eedfc7372ab7",
          "grade": false,
          "grade_id": "cell-683cb8f26df5fd3a",
          "locked": false,
          "schema_version": 3,
          "solution": true,
          "task": false
        }
      },
      "outputs": [],
      "source": [
        "def svd_emb(X, dim):\n",
        "    # YOUR CODE HERE\n",
        "    u, s, _ = svds(X, k=dim)\n",
        "    return u @ np.diag(np.sqrt(s))"
      ]
    },
    {
      "cell_type": "code",
      "execution_count": null,
      "id": "22c1fc22",
      "metadata": {
        "deletable": false,
        "editable": false,
        "id": "22c1fc22",
        "nbgrader": {
          "cell_type": "code",
          "checksum": "b79ac0db377db5bae1f2923b7877e2dc",
          "grade": true,
          "grade_id": "cell-426bb9037fe96aba",
          "locked": true,
          "points": 0.75,
          "schema_version": 3,
          "solution": false,
          "task": false
        }
      },
      "outputs": [],
      "source": [
        "_emb = svd_emb(X, dim=4)\n",
        "assert type(_emb) == np.ndarray\n",
        "assert _emb.shape == (3873, 4)"
      ]
    },
    {
      "cell_type": "markdown",
      "id": "bdf94e93",
      "metadata": {
        "id": "bdf94e93"
      },
      "source": [
        "\n",
        "The resulting node embeddings are concatenated from the log probabilistic matrices $X, X^2, ..., X^k$.\n",
        "\n",
        "In `grarep_emb`, we calculate powers of transition matrix $P, P^2, \\dots, P^k$, calculate and concatenate embeddings of start nodes, then we compress them to the original number of dimensions by PCA."
      ]
    },
    {
      "cell_type": "code",
      "execution_count": null,
      "id": "96cc8099",
      "metadata": {
        "deletable": false,
        "editable": false,
        "id": "96cc8099",
        "nbgrader": {
          "cell_type": "code",
          "checksum": "08744ba53988cb545f953cce607f67c6",
          "grade": false,
          "grade_id": "cell-fe1d6156e8d730ad",
          "locked": true,
          "schema_version": 3,
          "solution": false,
          "task": false
        }
      },
      "outputs": [],
      "source": [
        "def grarep_emb(G, dim, k, lambd):\n",
        "    emb = []\n",
        "    P_1 = csr_transition_matrix(G)\n",
        "    P = P_1.copy()\n",
        "    for i in trange(k):\n",
        "        X = log_probabilistic_matrix(P, lambd=lambd)\n",
        "        _emb = svd_emb(X, dim=dim)\n",
        "        emb.append(_emb)\n",
        "        if i == (k - 1):\n",
        "            continue\n",
        "        P = P @ P_1\n",
        "    emb = PCA(n_components=dim).fit_transform(np.concatenate(emb, axis=1))\n",
        "    return emb"
      ]
    },
    {
      "cell_type": "markdown",
      "id": "feb5bf22",
      "metadata": {
        "id": "feb5bf22"
      },
      "source": [
        "Finally, we evaluate the model by mutual information between ground truth labels and cluster indices."
      ]
    },
    {
      "cell_type": "code",
      "execution_count": null,
      "id": "9dbc6e60",
      "metadata": {
        "deletable": false,
        "editable": false,
        "id": "9dbc6e60",
        "nbgrader": {
          "cell_type": "code",
          "checksum": "a8be8f00f7fc401b45409cd399e91d28",
          "grade": true,
          "grade_id": "cell-a016b73d556e34c9",
          "locked": true,
          "points": 0.75,
          "schema_version": 3,
          "solution": false,
          "task": false
        },
        "colab": {
          "base_uri": "https://localhost:8080/",
          "height": 49,
          "referenced_widgets": [
            "d75a9c0573bb42529c2cd28581372677",
            "90147c69e1df44ec94d6b10a6cb45ccb",
            "76ba5e8c5e1f406a8730a005f8beaf49",
            "ea513f9fcf864a5bb27822e258721c41",
            "3695e334af72434785e02a5f7d5fea95",
            "c9d25347302140c0aec06d0eeef035c5",
            "4af611734454462dbdbbc7449bb1aace",
            "b579e39a63ff4b90abbc43cf893002c1",
            "421d63bc8266476891e47ea701885ef3",
            "88ad38ceacc84372a812e7063bf28583",
            "31ba6df4c4a24f40998b815ce8cf67cc"
          ]
        },
        "outputId": "438b05d7-fa73-48f8-dc5f-72c2d23455e9"
      },
      "outputs": [
        {
          "output_type": "display_data",
          "data": {
            "text/plain": [
              "  0%|          | 0/4 [00:00<?, ?it/s]"
            ],
            "application/vnd.jupyter.widget-view+json": {
              "version_major": 2,
              "version_minor": 0,
              "model_id": "d75a9c0573bb42529c2cd28581372677"
            }
          },
          "metadata": {}
        }
      ],
      "source": [
        "emb = grarep_emb(G, dim=16, k=4, lambd=5)\n",
        "assert emb.shape == (len(G), 16)\n",
        "_, pred_labels, _ = k_means(emb, n_clusters=8)\n",
        "mi = mutual_info_score(labels, pred_labels)\n",
        "assert mi > 0.22"
      ]
    },
    {
      "cell_type": "markdown",
      "id": "1e6401e9",
      "metadata": {
        "id": "1e6401e9"
      },
      "source": [
        "Plot t-SNE visualization of node embeddings."
      ]
    },
    {
      "cell_type": "code",
      "execution_count": null,
      "id": "9e08daa1",
      "metadata": {
        "id": "9e08daa1",
        "colab": {
          "base_uri": "https://localhost:8080/",
          "height": 499
        },
        "outputId": "936dfb1c-bf95-4993-f148-35cfa505f227"
      },
      "outputs": [
        {
          "output_type": "display_data",
          "data": {
            "text/plain": [
              "<Figure size 576x576 with 1 Axes>"
            ],
            "image/png": "[encoded data removed]"
          },
          "metadata": {
            "needs_background": "light"
          }
        }
      ],
      "source": [
        "decomposition = TSNE(n_components=2)\n",
        "xy_emb = decomposition.fit_transform(emb)\n",
        "\n",
        "plt.figure(figsize=(8, 8))\n",
        "scatter = plt.scatter(xy_emb[:, 0], xy_emb[:, 1], c=labels, s=10, cmap=plt.cm.Set2)\n",
        "plt.legend(handles=scatter.legend_elements()[0], labels=unique)\n",
        "plt.title(f'MI: {mi:.4f}');"
      ]
    },
    {
      "cell_type": "code",
      "execution_count": null,
      "id": "9d085390",
      "metadata": {
        "id": "9d085390"
      },
      "outputs": [],
      "source": []
    }
  ],
  "metadata": {
    "colab": {
      "collapsed_sections": [],
      "provenance": [],
      "include_colab_link": true
    },
    "kernelspec": {
      "display_name": "Python 3 (ipykernel)",
      "language": "python",
      "name": "python3"
    },
    "language_info": {
      "codemirror_mode": {
        "name": "ipython",
        "version": 3
      },
      "file_extension": ".py",
      "mimetype": "text/x-python",
      "name": "python",
      "nbconvert_exporter": "python",
      "pygments_lexer": "ipython3",
      "version": "3.10.5"
    },
    "widgets": {
      "application/vnd.jupyter.widget-state+json": {
        "357e49845a16431caeefd97853a790cc": {
          "model_module": "@jupyter-widgets/controls",
          "model_name": "HBoxModel",
          "model_module_version": "1.5.0",
          "state": {
            "_dom_classes": [],
            "_model_module": "@jupyter-widgets/controls",
            "_model_module_version": "1.5.0",
            "_model_name": "HBoxModel",
            "_view_count": null,
            "_view_module": "@jupyter-widgets/controls",
            "_view_module_version": "1.5.0",
            "_view_name": "HBoxView",
            "box_style": "",
            "children": [
              "IPY_MODEL_e6880a80d9da4f8093b9fa60dc74f586",
              "IPY_MODEL_739cc8efe8864a96810d978d875108ae",
              "IPY_MODEL_6dd4c756766e4e93aee223d18ffe19db"
            ],
            "layout": "IPY_MODEL_111d2dbe775042deb7f774fa0e546f03"
          }
        },
        "e6880a80d9da4f8093b9fa60dc74f586": {
          "model_module": "@jupyter-widgets/controls",
          "model_name": "HTMLModel",
          "model_module_version": "1.5.0",
          "state": {
            "_dom_classes": [],
            "_model_module": "@jupyter-widgets/controls",
            "_model_module_version": "1.5.0",
            "_model_name": "HTMLModel",
            "_view_count": null,
            "_view_module": "@jupyter-widgets/controls",
            "_view_module_version": "1.5.0",
            "_view_name": "HTMLView",
            "description": "",
            "description_tooltip": null,
            "layout": "IPY_MODEL_d7cd82e1273843429823b87d6cfd6f84",
            "placeholder": "​",
            "style": "IPY_MODEL_0558cde7eadf47e68cedc3246d76f809",
            "value": "100%"
          }
        },
        "739cc8efe8864a96810d978d875108ae": {
          "model_module": "@jupyter-widgets/controls",
          "model_name": "FloatProgressModel",
          "model_module_version": "1.5.0",
          "state": {
            "_dom_classes": [],
            "_model_module": "@jupyter-widgets/controls",
            "_model_module_version": "1.5.0",
            "_model_name": "FloatProgressModel",
            "_view_count": null,
            "_view_module": "@jupyter-widgets/controls",
            "_view_module_version": "1.5.0",
            "_view_name": "ProgressView",
            "bar_style": "success",
            "description": "",
            "description_tooltip": null,
            "layout": "IPY_MODEL_3796b66a6abe4939a22cb4a756535fec",
            "max": 3873,
            "min": 0,
            "orientation": "horizontal",
            "style": "IPY_MODEL_8920c71c9e95430b8ad75cf565a0b11c",
            "value": 3873
          }
        },
        "6dd4c756766e4e93aee223d18ffe19db": {
          "model_module": "@jupyter-widgets/controls",
          "model_name": "HTMLModel",
          "model_module_version": "1.5.0",
          "state": {
            "_dom_classes": [],
            "_model_module": "@jupyter-widgets/controls",
            "_model_module_version": "1.5.0",
            "_model_name": "HTMLModel",
            "_view_count": null,
            "_view_module": "@jupyter-widgets/controls",
            "_view_module_version": "1.5.0",
            "_view_name": "HTMLView",
            "description": "",
            "description_tooltip": null,
            "layout": "IPY_MODEL_f1153970f9a44aceb5291cb4152d3c85",
            "placeholder": "​",
            "style": "IPY_MODEL_2ab4b27042354808b6b15b4811e32fe0",
            "value": " 3873/3873 [00:04&lt;00:00, 769.22it/s]"
          }
        },
        "111d2dbe775042deb7f774fa0e546f03": {
          "model_module": "@jupyter-widgets/base",
          "model_name": "LayoutModel",
          "model_module_version": "1.2.0",
          "state": {
            "_model_module": "@jupyter-widgets/base",
            "_model_module_version": "1.2.0",
            "_model_name": "LayoutModel",
            "_view_count": null,
            "_view_module": "@jupyter-widgets/base",
            "_view_module_version": "1.2.0",
            "_view_name": "LayoutView",
            "align_content": null,
            "align_items": null,
            "align_self": null,
            "border": null,
            "bottom": null,
            "display": null,
            "flex": null,
            "flex_flow": null,
            "grid_area": null,
            "grid_auto_columns": null,
            "grid_auto_flow": null,
            "grid_auto_rows": null,
            "grid_column": null,
            "grid_gap": null,
            "grid_row": null,
            "grid_template_areas": null,
            "grid_template_columns": null,
            "grid_template_rows": null,
            "height": null,
            "justify_content": null,
            "justify_items": null,
            "left": null,
            "margin": null,
            "max_height": null,
            "max_width": null,
            "min_height": null,
            "min_width": null,
            "object_fit": null,
            "object_position": null,
            "order": null,
            "overflow": null,
            "overflow_x": null,
            "overflow_y": null,
            "padding": null,
            "right": null,
            "top": null,
            "visibility": null,
            "width": null
          }
        },
        "d7cd82e1273843429823b87d6cfd6f84": {
          "model_module": "@jupyter-widgets/base",
          "model_name": "LayoutModel",
          "model_module_version": "1.2.0",
          "state": {
            "_model_module": "@jupyter-widgets/base",
            "_model_module_version": "1.2.0",
            "_model_name": "LayoutModel",
            "_view_count": null,
            "_view_module": "@jupyter-widgets/base",
            "_view_module_version": "1.2.0",
            "_view_name": "LayoutView",
            "align_content": null,
            "align_items": null,
            "align_self": null,
            "border": null,
            "bottom": null,
            "display": null,
            "flex": null,
            "flex_flow": null,
            "grid_area": null,
            "grid_auto_columns": null,
            "grid_auto_flow": null,
            "grid_auto_rows": null,
            "grid_column": null,
            "grid_gap": null,
            "grid_row": null,
            "grid_template_areas": null,
            "grid_template_columns": null,
            "grid_template_rows": null,
            "height": null,
            "justify_content": null,
            "justify_items": null,
            "left": null,
            "margin": null,
            "max_height": null,
            "max_width": null,
            "min_height": null,
            "min_width": null,
            "object_fit": null,
            "object_position": null,
            "order": null,
            "overflow": null,
            "overflow_x": null,
            "overflow_y": null,
            "padding": null,
            "right": null,
            "top": null,
            "visibility": null,
            "width": null
          }
        },
        "0558cde7eadf47e68cedc3246d76f809": {
          "model_module": "@jupyter-widgets/controls",
          "model_name": "DescriptionStyleModel",
          "model_module_version": "1.5.0",
          "state": {
            "_model_module": "@jupyter-widgets/controls",
            "_model_module_version": "1.5.0",
            "_model_name": "DescriptionStyleModel",
            "_view_count": null,
            "_view_module": "@jupyter-widgets/base",
            "_view_module_version": "1.2.0",
            "_view_name": "StyleView",
            "description_width": ""
          }
        },
        "3796b66a6abe4939a22cb4a756535fec": {
          "model_module": "@jupyter-widgets/base",
          "model_name": "LayoutModel",
          "model_module_version": "1.2.0",
          "state": {
            "_model_module": "@jupyter-widgets/base",
            "_model_module_version": "1.2.0",
            "_model_name": "LayoutModel",
            "_view_count": null,
            "_view_module": "@jupyter-widgets/base",
            "_view_module_version": "1.2.0",
            "_view_name": "LayoutView",
            "align_content": null,
            "align_items": null,
            "align_self": null,
            "border": null,
            "bottom": null,
            "display": null,
            "flex": null,
            "flex_flow": null,
            "grid_area": null,
            "grid_auto_columns": null,
            "grid_auto_flow": null,
            "grid_auto_rows": null,
            "grid_column": null,
            "grid_gap": null,
            "grid_row": null,
            "grid_template_areas": null,
            "grid_template_columns": null,
            "grid_template_rows": null,
            "height": null,
            "justify_content": null,
            "justify_items": null,
            "left": null,
            "margin": null,
            "max_height": null,
            "max_width": null,
            "min_height": null,
            "min_width": null,
            "object_fit": null,
            "object_position": null,
            "order": null,
            "overflow": null,
            "overflow_x": null,
            "overflow_y": null,
            "padding": null,
            "right": null,
            "top": null,
            "visibility": null,
            "width": null
          }
        },
        "8920c71c9e95430b8ad75cf565a0b11c": {
          "model_module": "@jupyter-widgets/controls",
          "model_name": "ProgressStyleModel",
          "model_module_version": "1.5.0",
          "state": {
            "_model_module": "@jupyter-widgets/controls",
            "_model_module_version": "1.5.0",
            "_model_name": "ProgressStyleModel",
            "_view_count": null,
            "_view_module": "@jupyter-widgets/base",
            "_view_module_version": "1.2.0",
            "_view_name": "StyleView",
            "bar_color": null,
            "description_width": ""
          }
        },
        "f1153970f9a44aceb5291cb4152d3c85": {
          "model_module": "@jupyter-widgets/base",
          "model_name": "LayoutModel",
          "model_module_version": "1.2.0",
          "state": {
            "_model_module": "@jupyter-widgets/base",
            "_model_module_version": "1.2.0",
            "_model_name": "LayoutModel",
            "_view_count": null,
            "_view_module": "@jupyter-widgets/base",
            "_view_module_version": "1.2.0",
            "_view_name": "LayoutView",
            "align_content": null,
            "align_items": null,
            "align_self": null,
            "border": null,
            "bottom": null,
            "display": null,
            "flex": null,
            "flex_flow": null,
            "grid_area": null,
            "grid_auto_columns": null,
            "grid_auto_flow": null,
            "grid_auto_rows": null,
            "grid_column": null,
            "grid_gap": null,
            "grid_row": null,
            "grid_template_areas": null,
            "grid_template_columns": null,
            "grid_template_rows": null,
            "height": null,
            "justify_content": null,
            "justify_items": null,
            "left": null,
            "margin": null,
            "max_height": null,
            "max_width": null,
            "min_height": null,
            "min_width": null,
            "object_fit": null,
            "object_position": null,
            "order": null,
            "overflow": null,
            "overflow_x": null,
            "overflow_y": null,
            "padding": null,
            "right": null,
            "top": null,
            "visibility": null,
            "width": null
          }
        },
        "2ab4b27042354808b6b15b4811e32fe0": {
          "model_module": "@jupyter-widgets/controls",
          "model_name": "DescriptionStyleModel",
          "model_module_version": "1.5.0",
          "state": {
            "_model_module": "@jupyter-widgets/controls",
            "_model_module_version": "1.5.0",
            "_model_name": "DescriptionStyleModel",
            "_view_count": null,
            "_view_module": "@jupyter-widgets/base",
            "_view_module_version": "1.2.0",
            "_view_name": "StyleView",
            "description_width": ""
          }
        },
        "980725fa6cf04136b97264d25e933558": {
          "model_module": "@jupyter-widgets/controls",
          "model_name": "HBoxModel",
          "model_module_version": "1.5.0",
          "state": {
            "_dom_classes": [],
            "_model_module": "@jupyter-widgets/controls",
            "_model_module_version": "1.5.0",
            "_model_name": "HBoxModel",
            "_view_count": null,
            "_view_module": "@jupyter-widgets/controls",
            "_view_module_version": "1.5.0",
            "_view_name": "HBoxView",
            "box_style": "",
            "children": [
              "IPY_MODEL_7c535a28859043e3a79ba5d37947cbb4",
              "IPY_MODEL_617fc719f95947188c10ee6ba116a430",
              "IPY_MODEL_62f816ce274041e5903a761b4b0a4519"
            ],
            "layout": "IPY_MODEL_98267efb87e5436c9c2a9858caef5069"
          }
        },
        "7c535a28859043e3a79ba5d37947cbb4": {
          "model_module": "@jupyter-widgets/controls",
          "model_name": "HTMLModel",
          "model_module_version": "1.5.0",
          "state": {
            "_dom_classes": [],
            "_model_module": "@jupyter-widgets/controls",
            "_model_module_version": "1.5.0",
            "_model_name": "HTMLModel",
            "_view_count": null,
            "_view_module": "@jupyter-widgets/controls",
            "_view_module_version": "1.5.0",
            "_view_name": "HTMLView",
            "description": "",
            "description_tooltip": null,
            "layout": "IPY_MODEL_7a5c194e000c4b249b8bdb83a614a323",
            "placeholder": "​",
            "style": "IPY_MODEL_0136dde903b142cca8b6f32e6d1b53f4",
            "value": "100%"
          }
        },
        "617fc719f95947188c10ee6ba116a430": {
          "model_module": "@jupyter-widgets/controls",
          "model_name": "FloatProgressModel",
          "model_module_version": "1.5.0",
          "state": {
            "_dom_classes": [],
            "_model_module": "@jupyter-widgets/controls",
            "_model_module_version": "1.5.0",
            "_model_name": "FloatProgressModel",
            "_view_count": null,
            "_view_module": "@jupyter-widgets/controls",
            "_view_module_version": "1.5.0",
            "_view_name": "ProgressView",
            "bar_style": "success",
            "description": "",
            "description_tooltip": null,
            "layout": "IPY_MODEL_5008c7f04b0948fda84a646d35d15eb4",
            "max": 50,
            "min": 0,
            "orientation": "horizontal",
            "style": "IPY_MODEL_26c8db0f22e84c3cad25f9e0351d5d9f",
            "value": 50
          }
        },
        "62f816ce274041e5903a761b4b0a4519": {
          "model_module": "@jupyter-widgets/controls",
          "model_name": "HTMLModel",
          "model_module_version": "1.5.0",
          "state": {
            "_dom_classes": [],
            "_model_module": "@jupyter-widgets/controls",
            "_model_module_version": "1.5.0",
            "_model_name": "HTMLModel",
            "_view_count": null,
            "_view_module": "@jupyter-widgets/controls",
            "_view_module_version": "1.5.0",
            "_view_name": "HTMLView",
            "description": "",
            "description_tooltip": null,
            "layout": "IPY_MODEL_0e4b6fad47d4439e9fe52ac40a91398d",
            "placeholder": "​",
            "style": "IPY_MODEL_a7d7ec5f4099465cb28042bd4ab5fb12",
            "value": " 50/50 [00:38&lt;00:00,  1.88it/s]"
          }
        },
        "98267efb87e5436c9c2a9858caef5069": {
          "model_module": "@jupyter-widgets/base",
          "model_name": "LayoutModel",
          "model_module_version": "1.2.0",
          "state": {
            "_model_module": "@jupyter-widgets/base",
            "_model_module_version": "1.2.0",
            "_model_name": "LayoutModel",
            "_view_count": null,
            "_view_module": "@jupyter-widgets/base",
            "_view_module_version": "1.2.0",
            "_view_name": "LayoutView",
            "align_content": null,
            "align_items": null,
            "align_self": null,
            "border": null,
            "bottom": null,
            "display": null,
            "flex": null,
            "flex_flow": null,
            "grid_area": null,
            "grid_auto_columns": null,
            "grid_auto_flow": null,
            "grid_auto_rows": null,
            "grid_column": null,
            "grid_gap": null,
            "grid_row": null,
            "grid_template_areas": null,
            "grid_template_columns": null,
            "grid_template_rows": null,
            "height": null,
            "justify_content": null,
            "justify_items": null,
            "left": null,
            "margin": null,
            "max_height": null,
            "max_width": null,
            "min_height": null,
            "min_width": null,
            "object_fit": null,
            "object_position": null,
            "order": null,
            "overflow": null,
            "overflow_x": null,
            "overflow_y": null,
            "padding": null,
            "right": null,
            "top": null,
            "visibility": null,
            "width": null
          }
        },
        "7a5c194e000c4b249b8bdb83a614a323": {
          "model_module": "@jupyter-widgets/base",
          "model_name": "LayoutModel",
          "model_module_version": "1.2.0",
          "state": {
            "_model_module": "@jupyter-widgets/base",
            "_model_module_version": "1.2.0",
            "_model_name": "LayoutModel",
            "_view_count": null,
            "_view_module": "@jupyter-widgets/base",
            "_view_module_version": "1.2.0",
            "_view_name": "LayoutView",
            "align_content": null,
            "align_items": null,
            "align_self": null,
            "border": null,
            "bottom": null,
            "display": null,
            "flex": null,
            "flex_flow": null,
            "grid_area": null,
            "grid_auto_columns": null,
            "grid_auto_flow": null,
            "grid_auto_rows": null,
            "grid_column": null,
            "grid_gap": null,
            "grid_row": null,
            "grid_template_areas": null,
            "grid_template_columns": null,
            "grid_template_rows": null,
            "height": null,
            "justify_content": null,
            "justify_items": null,
            "left": null,
            "margin": null,
            "max_height": null,
            "max_width": null,
            "min_height": null,
            "min_width": null,
            "object_fit": null,
            "object_position": null,
            "order": null,
            "overflow": null,
            "overflow_x": null,
            "overflow_y": null,
            "padding": null,
            "right": null,
            "top": null,
            "visibility": null,
            "width": null
          }
        },
        "0136dde903b142cca8b6f32e6d1b53f4": {
          "model_module": "@jupyter-widgets/controls",
          "model_name": "DescriptionStyleModel",
          "model_module_version": "1.5.0",
          "state": {
            "_model_module": "@jupyter-widgets/controls",
            "_model_module_version": "1.5.0",
            "_model_name": "DescriptionStyleModel",
            "_view_count": null,
            "_view_module": "@jupyter-widgets/base",
            "_view_module_version": "1.2.0",
            "_view_name": "StyleView",
            "description_width": ""
          }
        },
        "5008c7f04b0948fda84a646d35d15eb4": {
          "model_module": "@jupyter-widgets/base",
          "model_name": "LayoutModel",
          "model_module_version": "1.2.0",
          "state": {
            "_model_module": "@jupyter-widgets/base",
            "_model_module_version": "1.2.0",
            "_model_name": "LayoutModel",
            "_view_count": null,
            "_view_module": "@jupyter-widgets/base",
            "_view_module_version": "1.2.0",
            "_view_name": "LayoutView",
            "align_content": null,
            "align_items": null,
            "align_self": null,
            "border": null,
            "bottom": null,
            "display": null,
            "flex": null,
            "flex_flow": null,
            "grid_area": null,
            "grid_auto_columns": null,
            "grid_auto_flow": null,
            "grid_auto_rows": null,
            "grid_column": null,
            "grid_gap": null,
            "grid_row": null,
            "grid_template_areas": null,
            "grid_template_columns": null,
            "grid_template_rows": null,
            "height": null,
            "justify_content": null,
            "justify_items": null,
            "left": null,
            "margin": null,
            "max_height": null,
            "max_width": null,
            "min_height": null,
            "min_width": null,
            "object_fit": null,
            "object_position": null,
            "order": null,
            "overflow": null,
            "overflow_x": null,
            "overflow_y": null,
            "padding": null,
            "right": null,
            "top": null,
            "visibility": null,
            "width": null
          }
        },
        "26c8db0f22e84c3cad25f9e0351d5d9f": {
          "model_module": "@jupyter-widgets/controls",
          "model_name": "ProgressStyleModel",
          "model_module_version": "1.5.0",
          "state": {
            "_model_module": "@jupyter-widgets/controls",
            "_model_module_version": "1.5.0",
            "_model_name": "ProgressStyleModel",
            "_view_count": null,
            "_view_module": "@jupyter-widgets/base",
            "_view_module_version": "1.2.0",
            "_view_name": "StyleView",
            "bar_color": null,
            "description_width": ""
          }
        },
        "0e4b6fad47d4439e9fe52ac40a91398d": {
          "model_module": "@jupyter-widgets/base",
          "model_name": "LayoutModel",
          "model_module_version": "1.2.0",
          "state": {
            "_model_module": "@jupyter-widgets/base",
            "_model_module_version": "1.2.0",
            "_model_name": "LayoutModel",
            "_view_count": null,
            "_view_module": "@jupyter-widgets/base",
            "_view_module_version": "1.2.0",
            "_view_name": "LayoutView",
            "align_content": null,
            "align_items": null,
            "align_self": null,
            "border": null,
            "bottom": null,
            "display": null,
            "flex": null,
            "flex_flow": null,
            "grid_area": null,
            "grid_auto_columns": null,
            "grid_auto_flow": null,
            "grid_auto_rows": null,
            "grid_column": null,
            "grid_gap": null,
            "grid_row": null,
            "grid_template_areas": null,
            "grid_template_columns": null,
            "grid_template_rows": null,
            "height": null,
            "justify_content": null,
            "justify_items": null,
            "left": null,
            "margin": null,
            "max_height": null,
            "max_width": null,
            "min_height": null,
            "min_width": null,
            "object_fit": null,
            "object_position": null,
            "order": null,
            "overflow": null,
            "overflow_x": null,
            "overflow_y": null,
            "padding": null,
            "right": null,
            "top": null,
            "visibility": null,
            "width": null
          }
        },
        "a7d7ec5f4099465cb28042bd4ab5fb12": {
          "model_module": "@jupyter-widgets/controls",
          "model_name": "DescriptionStyleModel",
          "model_module_version": "1.5.0",
          "state": {
            "_model_module": "@jupyter-widgets/controls",
            "_model_module_version": "1.5.0",
            "_model_name": "DescriptionStyleModel",
            "_view_count": null,
            "_view_module": "@jupyter-widgets/base",
            "_view_module_version": "1.2.0",
            "_view_name": "StyleView",
            "description_width": ""
          }
        },
        "2ddf0b95abc14ba99e98122bac60498c": {
          "model_module": "@jupyter-widgets/controls",
          "model_name": "HBoxModel",
          "model_module_version": "1.5.0",
          "state": {
            "_dom_classes": [],
            "_model_module": "@jupyter-widgets/controls",
            "_model_module_version": "1.5.0",
            "_model_name": "HBoxModel",
            "_view_count": null,
            "_view_module": "@jupyter-widgets/controls",
            "_view_module_version": "1.5.0",
            "_view_name": "HBoxView",
            "box_style": "",
            "children": [
              "IPY_MODEL_ff5c6d2efb1c443985c7cdb1aa27ed39",
              "IPY_MODEL_d229f759bef54c459d0a7453dc4b8edf",
              "IPY_MODEL_938eae626730474cb8acc21e533c0c12"
            ],
            "layout": "IPY_MODEL_6868c934f2ef4ec08e811e3f732f7906"
          }
        },
        "ff5c6d2efb1c443985c7cdb1aa27ed39": {
          "model_module": "@jupyter-widgets/controls",
          "model_name": "HTMLModel",
          "model_module_version": "1.5.0",
          "state": {
            "_dom_classes": [],
            "_model_module": "@jupyter-widgets/controls",
            "_model_module_version": "1.5.0",
            "_model_name": "HTMLModel",
            "_view_count": null,
            "_view_module": "@jupyter-widgets/controls",
            "_view_module_version": "1.5.0",
            "_view_name": "HTMLView",
            "description": "",
            "description_tooltip": null,
            "layout": "IPY_MODEL_4ea19cc369fd4d7d80c8cefe8107e5df",
            "placeholder": "​",
            "style": "IPY_MODEL_6a56b4df855c44e596874024b0b2c928",
            "value": "Sampling biased random walks:  99%"
          }
        },
        "d229f759bef54c459d0a7453dc4b8edf": {
          "model_module": "@jupyter-widgets/controls",
          "model_name": "FloatProgressModel",
          "model_module_version": "1.5.0",
          "state": {
            "_dom_classes": [],
            "_model_module": "@jupyter-widgets/controls",
            "_model_module_version": "1.5.0",
            "_model_name": "FloatProgressModel",
            "_view_count": null,
            "_view_module": "@jupyter-widgets/controls",
            "_view_module_version": "1.5.0",
            "_view_name": "ProgressView",
            "bar_style": "",
            "description": "",
            "description_tooltip": null,
            "layout": "IPY_MODEL_e04da45581994ea696b30371fb8afd6c",
            "max": 3873,
            "min": 0,
            "orientation": "horizontal",
            "style": "IPY_MODEL_cfa0745c2d054eb7a4f19906be3f4297",
            "value": 3873
          }
        },
        "938eae626730474cb8acc21e533c0c12": {
          "model_module": "@jupyter-widgets/controls",
          "model_name": "HTMLModel",
          "model_module_version": "1.5.0",
          "state": {
            "_dom_classes": [],
            "_model_module": "@jupyter-widgets/controls",
            "_model_module_version": "1.5.0",
            "_model_name": "HTMLModel",
            "_view_count": null,
            "_view_module": "@jupyter-widgets/controls",
            "_view_module_version": "1.5.0",
            "_view_name": "HTMLView",
            "description": "",
            "description_tooltip": null,
            "layout": "IPY_MODEL_9b67178cf2bf4ed19dff1726b2af4a33",
            "placeholder": "​",
            "style": "IPY_MODEL_efeedac8348e4f6caacdd367517490db",
            "value": " 3842/3873 [00:09&lt;00:00, 550.95it/s]"
          }
        },
        "6868c934f2ef4ec08e811e3f732f7906": {
          "model_module": "@jupyter-widgets/base",
          "model_name": "LayoutModel",
          "model_module_version": "1.2.0",
          "state": {
            "_model_module": "@jupyter-widgets/base",
            "_model_module_version": "1.2.0",
            "_model_name": "LayoutModel",
            "_view_count": null,
            "_view_module": "@jupyter-widgets/base",
            "_view_module_version": "1.2.0",
            "_view_name": "LayoutView",
            "align_content": null,
            "align_items": null,
            "align_self": null,
            "border": null,
            "bottom": null,
            "display": null,
            "flex": null,
            "flex_flow": null,
            "grid_area": null,
            "grid_auto_columns": null,
            "grid_auto_flow": null,
            "grid_auto_rows": null,
            "grid_column": null,
            "grid_gap": null,
            "grid_row": null,
            "grid_template_areas": null,
            "grid_template_columns": null,
            "grid_template_rows": null,
            "height": null,
            "justify_content": null,
            "justify_items": null,
            "left": null,
            "margin": null,
            "max_height": null,
            "max_width": null,
            "min_height": null,
            "min_width": null,
            "object_fit": null,
            "object_position": null,
            "order": null,
            "overflow": null,
            "overflow_x": null,
            "overflow_y": null,
            "padding": null,
            "right": null,
            "top": null,
            "visibility": null,
            "width": null
          }
        },
        "4ea19cc369fd4d7d80c8cefe8107e5df": {
          "model_module": "@jupyter-widgets/base",
          "model_name": "LayoutModel",
          "model_module_version": "1.2.0",
          "state": {
            "_model_module": "@jupyter-widgets/base",
            "_model_module_version": "1.2.0",
            "_model_name": "LayoutModel",
            "_view_count": null,
            "_view_module": "@jupyter-widgets/base",
            "_view_module_version": "1.2.0",
            "_view_name": "LayoutView",
            "align_content": null,
            "align_items": null,
            "align_self": null,
            "border": null,
            "bottom": null,
            "display": null,
            "flex": null,
            "flex_flow": null,
            "grid_area": null,
            "grid_auto_columns": null,
            "grid_auto_flow": null,
            "grid_auto_rows": null,
            "grid_column": null,
            "grid_gap": null,
            "grid_row": null,
            "grid_template_areas": null,
            "grid_template_columns": null,
            "grid_template_rows": null,
            "height": null,
            "justify_content": null,
            "justify_items": null,
            "left": null,
            "margin": null,
            "max_height": null,
            "max_width": null,
            "min_height": null,
            "min_width": null,
            "object_fit": null,
            "object_position": null,
            "order": null,
            "overflow": null,
            "overflow_x": null,
            "overflow_y": null,
            "padding": null,
            "right": null,
            "top": null,
            "visibility": null,
            "width": null
          }
        },
        "6a56b4df855c44e596874024b0b2c928": {
          "model_module": "@jupyter-widgets/controls",
          "model_name": "DescriptionStyleModel",
          "model_module_version": "1.5.0",
          "state": {
            "_model_module": "@jupyter-widgets/controls",
            "_model_module_version": "1.5.0",
            "_model_name": "DescriptionStyleModel",
            "_view_count": null,
            "_view_module": "@jupyter-widgets/base",
            "_view_module_version": "1.2.0",
            "_view_name": "StyleView",
            "description_width": ""
          }
        },
        "e04da45581994ea696b30371fb8afd6c": {
          "model_module": "@jupyter-widgets/base",
          "model_name": "LayoutModel",
          "model_module_version": "1.2.0",
          "state": {
            "_model_module": "@jupyter-widgets/base",
            "_model_module_version": "1.2.0",
            "_model_name": "LayoutModel",
            "_view_count": null,
            "_view_module": "@jupyter-widgets/base",
            "_view_module_version": "1.2.0",
            "_view_name": "LayoutView",
            "align_content": null,
            "align_items": null,
            "align_self": null,
            "border": null,
            "bottom": null,
            "display": null,
            "flex": null,
            "flex_flow": null,
            "grid_area": null,
            "grid_auto_columns": null,
            "grid_auto_flow": null,
            "grid_auto_rows": null,
            "grid_column": null,
            "grid_gap": null,
            "grid_row": null,
            "grid_template_areas": null,
            "grid_template_columns": null,
            "grid_template_rows": null,
            "height": null,
            "justify_content": null,
            "justify_items": null,
            "left": null,
            "margin": null,
            "max_height": null,
            "max_width": null,
            "min_height": null,
            "min_width": null,
            "object_fit": null,
            "object_position": null,
            "order": null,
            "overflow": null,
            "overflow_x": null,
            "overflow_y": null,
            "padding": null,
            "right": null,
            "top": null,
            "visibility": null,
            "width": null
          }
        },
        "cfa0745c2d054eb7a4f19906be3f4297": {
          "model_module": "@jupyter-widgets/controls",
          "model_name": "ProgressStyleModel",
          "model_module_version": "1.5.0",
          "state": {
            "_model_module": "@jupyter-widgets/controls",
            "_model_module_version": "1.5.0",
            "_model_name": "ProgressStyleModel",
            "_view_count": null,
            "_view_module": "@jupyter-widgets/base",
            "_view_module_version": "1.2.0",
            "_view_name": "StyleView",
            "bar_color": null,
            "description_width": ""
          }
        },
        "9b67178cf2bf4ed19dff1726b2af4a33": {
          "model_module": "@jupyter-widgets/base",
          "model_name": "LayoutModel",
          "model_module_version": "1.2.0",
          "state": {
            "_model_module": "@jupyter-widgets/base",
            "_model_module_version": "1.2.0",
            "_model_name": "LayoutModel",
            "_view_count": null,
            "_view_module": "@jupyter-widgets/base",
            "_view_module_version": "1.2.0",
            "_view_name": "LayoutView",
            "align_content": null,
            "align_items": null,
            "align_self": null,
            "border": null,
            "bottom": null,
            "display": null,
            "flex": null,
            "flex_flow": null,
            "grid_area": null,
            "grid_auto_columns": null,
            "grid_auto_flow": null,
            "grid_auto_rows": null,
            "grid_column": null,
            "grid_gap": null,
            "grid_row": null,
            "grid_template_areas": null,
            "grid_template_columns": null,
            "grid_template_rows": null,
            "height": null,
            "justify_content": null,
            "justify_items": null,
            "left": null,
            "margin": null,
            "max_height": null,
            "max_width": null,
            "min_height": null,
            "min_width": null,
            "object_fit": null,
            "object_position": null,
            "order": null,
            "overflow": null,
            "overflow_x": null,
            "overflow_y": null,
            "padding": null,
            "right": null,
            "top": null,
            "visibility": null,
            "width": null
          }
        },
        "efeedac8348e4f6caacdd367517490db": {
          "model_module": "@jupyter-widgets/controls",
          "model_name": "DescriptionStyleModel",
          "model_module_version": "1.5.0",
          "state": {
            "_model_module": "@jupyter-widgets/controls",
            "_model_module_version": "1.5.0",
            "_model_name": "DescriptionStyleModel",
            "_view_count": null,
            "_view_module": "@jupyter-widgets/base",
            "_view_module_version": "1.2.0",
            "_view_name": "StyleView",
            "description_width": ""
          }
        },
        "4fdf11cb5bed4e5ea552f017310e789d": {
          "model_module": "@jupyter-widgets/controls",
          "model_name": "HBoxModel",
          "model_module_version": "1.5.0",
          "state": {
            "_dom_classes": [],
            "_model_module": "@jupyter-widgets/controls",
            "_model_module_version": "1.5.0",
            "_model_name": "HBoxModel",
            "_view_count": null,
            "_view_module": "@jupyter-widgets/controls",
            "_view_module_version": "1.5.0",
            "_view_name": "HBoxView",
            "box_style": "",
            "children": [
              "IPY_MODEL_b3015b42382a4eb182aeecdb3c30eb80",
              "IPY_MODEL_043e6633e1be49d4be2dec9992096980",
              "IPY_MODEL_7217943541254c269c9424e512f0d7d2"
            ],
            "layout": "IPY_MODEL_f4ccc054796b4c6da65e56ec58349a3a"
          }
        },
        "b3015b42382a4eb182aeecdb3c30eb80": {
          "model_module": "@jupyter-widgets/controls",
          "model_name": "HTMLModel",
          "model_module_version": "1.5.0",
          "state": {
            "_dom_classes": [],
            "_model_module": "@jupyter-widgets/controls",
            "_model_module_version": "1.5.0",
            "_model_name": "HTMLModel",
            "_view_count": null,
            "_view_module": "@jupyter-widgets/controls",
            "_view_module_version": "1.5.0",
            "_view_name": "HTMLView",
            "description": "",
            "description_tooltip": null,
            "layout": "IPY_MODEL_72efd49231064ab898f1c7e09e6797cf",
            "placeholder": "​",
            "style": "IPY_MODEL_a80a106a753943d3b0dc02b2fe279781",
            "value": "100%"
          }
        },
        "043e6633e1be49d4be2dec9992096980": {
          "model_module": "@jupyter-widgets/controls",
          "model_name": "FloatProgressModel",
          "model_module_version": "1.5.0",
          "state": {
            "_dom_classes": [],
            "_model_module": "@jupyter-widgets/controls",
            "_model_module_version": "1.5.0",
            "_model_name": "FloatProgressModel",
            "_view_count": null,
            "_view_module": "@jupyter-widgets/controls",
            "_view_module_version": "1.5.0",
            "_view_name": "ProgressView",
            "bar_style": "success",
            "description": "",
            "description_tooltip": null,
            "layout": "IPY_MODEL_4f6ceb0ea2694f4a85200717ca5bf7e6",
            "max": 50,
            "min": 0,
            "orientation": "horizontal",
            "style": "IPY_MODEL_43f72e3e224748ffb1ccd5b69b5c2c08",
            "value": 50
          }
        },
        "7217943541254c269c9424e512f0d7d2": {
          "model_module": "@jupyter-widgets/controls",
          "model_name": "HTMLModel",
          "model_module_version": "1.5.0",
          "state": {
            "_dom_classes": [],
            "_model_module": "@jupyter-widgets/controls",
            "_model_module_version": "1.5.0",
            "_model_name": "HTMLModel",
            "_view_count": null,
            "_view_module": "@jupyter-widgets/controls",
            "_view_module_version": "1.5.0",
            "_view_name": "HTMLView",
            "description": "",
            "description_tooltip": null,
            "layout": "IPY_MODEL_cda9357258ff48059e942a65d257c08d",
            "placeholder": "​",
            "style": "IPY_MODEL_e4dc4c1da142475f8d21fe115b326c0e",
            "value": " 50/50 [00:28&lt;00:00,  1.30it/s]"
          }
        },
        "f4ccc054796b4c6da65e56ec58349a3a": {
          "model_module": "@jupyter-widgets/base",
          "model_name": "LayoutModel",
          "model_module_version": "1.2.0",
          "state": {
            "_model_module": "@jupyter-widgets/base",
            "_model_module_version": "1.2.0",
            "_model_name": "LayoutModel",
            "_view_count": null,
            "_view_module": "@jupyter-widgets/base",
            "_view_module_version": "1.2.0",
            "_view_name": "LayoutView",
            "align_content": null,
            "align_items": null,
            "align_self": null,
            "border": null,
            "bottom": null,
            "display": null,
            "flex": null,
            "flex_flow": null,
            "grid_area": null,
            "grid_auto_columns": null,
            "grid_auto_flow": null,
            "grid_auto_rows": null,
            "grid_column": null,
            "grid_gap": null,
            "grid_row": null,
            "grid_template_areas": null,
            "grid_template_columns": null,
            "grid_template_rows": null,
            "height": null,
            "justify_content": null,
            "justify_items": null,
            "left": null,
            "margin": null,
            "max_height": null,
            "max_width": null,
            "min_height": null,
            "min_width": null,
            "object_fit": null,
            "object_position": null,
            "order": null,
            "overflow": null,
            "overflow_x": null,
            "overflow_y": null,
            "padding": null,
            "right": null,
            "top": null,
            "visibility": null,
            "width": null
          }
        },
        "72efd49231064ab898f1c7e09e6797cf": {
          "model_module": "@jupyter-widgets/base",
          "model_name": "LayoutModel",
          "model_module_version": "1.2.0",
          "state": {
            "_model_module": "@jupyter-widgets/base",
            "_model_module_version": "1.2.0",
            "_model_name": "LayoutModel",
            "_view_count": null,
            "_view_module": "@jupyter-widgets/base",
            "_view_module_version": "1.2.0",
            "_view_name": "LayoutView",
            "align_content": null,
            "align_items": null,
            "align_self": null,
            "border": null,
            "bottom": null,
            "display": null,
            "flex": null,
            "flex_flow": null,
            "grid_area": null,
            "grid_auto_columns": null,
            "grid_auto_flow": null,
            "grid_auto_rows": null,
            "grid_column": null,
            "grid_gap": null,
            "grid_row": null,
            "grid_template_areas": null,
            "grid_template_columns": null,
            "grid_template_rows": null,
            "height": null,
            "justify_content": null,
            "justify_items": null,
            "left": null,
            "margin": null,
            "max_height": null,
            "max_width": null,
            "min_height": null,
            "min_width": null,
            "object_fit": null,
            "object_position": null,
            "order": null,
            "overflow": null,
            "overflow_x": null,
            "overflow_y": null,
            "padding": null,
            "right": null,
            "top": null,
            "visibility": null,
            "width": null
          }
        },
        "a80a106a753943d3b0dc02b2fe279781": {
          "model_module": "@jupyter-widgets/controls",
          "model_name": "DescriptionStyleModel",
          "model_module_version": "1.5.0",
          "state": {
            "_model_module": "@jupyter-widgets/controls",
            "_model_module_version": "1.5.0",
            "_model_name": "DescriptionStyleModel",
            "_view_count": null,
            "_view_module": "@jupyter-widgets/base",
            "_view_module_version": "1.2.0",
            "_view_name": "StyleView",
            "description_width": ""
          }
        },
        "4f6ceb0ea2694f4a85200717ca5bf7e6": {
          "model_module": "@jupyter-widgets/base",
          "model_name": "LayoutModel",
          "model_module_version": "1.2.0",
          "state": {
            "_model_module": "@jupyter-widgets/base",
            "_model_module_version": "1.2.0",
            "_model_name": "LayoutModel",
            "_view_count": null,
            "_view_module": "@jupyter-widgets/base",
            "_view_module_version": "1.2.0",
            "_view_name": "LayoutView",
            "align_content": null,
            "align_items": null,
            "align_self": null,
            "border": null,
            "bottom": null,
            "display": null,
            "flex": null,
            "flex_flow": null,
            "grid_area": null,
            "grid_auto_columns": null,
            "grid_auto_flow": null,
            "grid_auto_rows": null,
            "grid_column": null,
            "grid_gap": null,
            "grid_row": null,
            "grid_template_areas": null,
            "grid_template_columns": null,
            "grid_template_rows": null,
            "height": null,
            "justify_content": null,
            "justify_items": null,
            "left": null,
            "margin": null,
            "max_height": null,
            "max_width": null,
            "min_height": null,
            "min_width": null,
            "object_fit": null,
            "object_position": null,
            "order": null,
            "overflow": null,
            "overflow_x": null,
            "overflow_y": null,
            "padding": null,
            "right": null,
            "top": null,
            "visibility": null,
            "width": null
          }
        },
        "43f72e3e224748ffb1ccd5b69b5c2c08": {
          "model_module": "@jupyter-widgets/controls",
          "model_name": "ProgressStyleModel",
          "model_module_version": "1.5.0",
          "state": {
            "_model_module": "@jupyter-widgets/controls",
            "_model_module_version": "1.5.0",
            "_model_name": "ProgressStyleModel",
            "_view_count": null,
            "_view_module": "@jupyter-widgets/base",
            "_view_module_version": "1.2.0",
            "_view_name": "StyleView",
            "bar_color": null,
            "description_width": ""
          }
        },
        "cda9357258ff48059e942a65d257c08d": {
          "model_module": "@jupyter-widgets/base",
          "model_name": "LayoutModel",
          "model_module_version": "1.2.0",
          "state": {
            "_model_module": "@jupyter-widgets/base",
            "_model_module_version": "1.2.0",
            "_model_name": "LayoutModel",
            "_view_count": null,
            "_view_module": "@jupyter-widgets/base",
            "_view_module_version": "1.2.0",
            "_view_name": "LayoutView",
            "align_content": null,
            "align_items": null,
            "align_self": null,
            "border": null,
            "bottom": null,
            "display": null,
            "flex": null,
            "flex_flow": null,
            "grid_area": null,
            "grid_auto_columns": null,
            "grid_auto_flow": null,
            "grid_auto_rows": null,
            "grid_column": null,
            "grid_gap": null,
            "grid_row": null,
            "grid_template_areas": null,
            "grid_template_columns": null,
            "grid_template_rows": null,
            "height": null,
            "justify_content": null,
            "justify_items": null,
            "left": null,
            "margin": null,
            "max_height": null,
            "max_width": null,
            "min_height": null,
            "min_width": null,
            "object_fit": null,
            "object_position": null,
            "order": null,
            "overflow": null,
            "overflow_x": null,
            "overflow_y": null,
            "padding": null,
            "right": null,
            "top": null,
            "visibility": null,
            "width": null
          }
        },
        "e4dc4c1da142475f8d21fe115b326c0e": {
          "model_module": "@jupyter-widgets/controls",
          "model_name": "DescriptionStyleModel",
          "model_module_version": "1.5.0",
          "state": {
            "_model_module": "@jupyter-widgets/controls",
            "_model_module_version": "1.5.0",
            "_model_name": "DescriptionStyleModel",
            "_view_count": null,
            "_view_module": "@jupyter-widgets/base",
            "_view_module_version": "1.2.0",
            "_view_name": "StyleView",
            "description_width": ""
          }
        },
        "7d5b20d6593a4b6cb1d4f39cf6621422": {
          "model_module": "@jupyter-widgets/controls",
          "model_name": "HBoxModel",
          "model_module_version": "1.5.0",
          "state": {
            "_dom_classes": [],
            "_model_module": "@jupyter-widgets/controls",
            "_model_module_version": "1.5.0",
            "_model_name": "HBoxModel",
            "_view_count": null,
            "_view_module": "@jupyter-widgets/controls",
            "_view_module_version": "1.5.0",
            "_view_name": "HBoxView",
            "box_style": "",
            "children": [
              "IPY_MODEL_2129aeb4ea344837b63dc2fcc2b73a9d",
              "IPY_MODEL_7e6f469947834712a0d8bef3dcf91fc3",
              "IPY_MODEL_8e264de07db5444b9a84c3a1b6a6e69e"
            ],
            "layout": "IPY_MODEL_055ae3a87e794e63bad9277e6ea0a70b"
          }
        },
        "2129aeb4ea344837b63dc2fcc2b73a9d": {
          "model_module": "@jupyter-widgets/controls",
          "model_name": "HTMLModel",
          "model_module_version": "1.5.0",
          "state": {
            "_dom_classes": [],
            "_model_module": "@jupyter-widgets/controls",
            "_model_module_version": "1.5.0",
            "_model_name": "HTMLModel",
            "_view_count": null,
            "_view_module": "@jupyter-widgets/controls",
            "_view_module_version": "1.5.0",
            "_view_name": "HTMLView",
            "description": "",
            "description_tooltip": null,
            "layout": "IPY_MODEL_f3f068f0cde14f2789b57b8d5baa32ce",
            "placeholder": "​",
            "style": "IPY_MODEL_4290a50fb37e4d07964ab79a8cc4025a",
            "value": "Sampling biased random walks:  99%"
          }
        },
        "7e6f469947834712a0d8bef3dcf91fc3": {
          "model_module": "@jupyter-widgets/controls",
          "model_name": "FloatProgressModel",
          "model_module_version": "1.5.0",
          "state": {
            "_dom_classes": [],
            "_model_module": "@jupyter-widgets/controls",
            "_model_module_version": "1.5.0",
            "_model_name": "FloatProgressModel",
            "_view_count": null,
            "_view_module": "@jupyter-widgets/controls",
            "_view_module_version": "1.5.0",
            "_view_name": "ProgressView",
            "bar_style": "",
            "description": "",
            "description_tooltip": null,
            "layout": "IPY_MODEL_4f226c4b68ad4c48ad56f5becc9c6c9e",
            "max": 3873,
            "min": 0,
            "orientation": "horizontal",
            "style": "IPY_MODEL_86efcd66bf1040818aca02094de2ed63",
            "value": 3873
          }
        },
        "8e264de07db5444b9a84c3a1b6a6e69e": {
          "model_module": "@jupyter-widgets/controls",
          "model_name": "HTMLModel",
          "model_module_version": "1.5.0",
          "state": {
            "_dom_classes": [],
            "_model_module": "@jupyter-widgets/controls",
            "_model_module_version": "1.5.0",
            "_model_name": "HTMLModel",
            "_view_count": null,
            "_view_module": "@jupyter-widgets/controls",
            "_view_module_version": "1.5.0",
            "_view_name": "HTMLView",
            "description": "",
            "description_tooltip": null,
            "layout": "IPY_MODEL_28d08da5ace04df888c607cb58190cec",
            "placeholder": "​",
            "style": "IPY_MODEL_6c99a40580f144a0b66b1c4edc865afd",
            "value": " 3819/3873 [00:07&lt;00:00, 558.45it/s]"
          }
        },
        "055ae3a87e794e63bad9277e6ea0a70b": {
          "model_module": "@jupyter-widgets/base",
          "model_name": "LayoutModel",
          "model_module_version": "1.2.0",
          "state": {
            "_model_module": "@jupyter-widgets/base",
            "_model_module_version": "1.2.0",
            "_model_name": "LayoutModel",
            "_view_count": null,
            "_view_module": "@jupyter-widgets/base",
            "_view_module_version": "1.2.0",
            "_view_name": "LayoutView",
            "align_content": null,
            "align_items": null,
            "align_self": null,
            "border": null,
            "bottom": null,
            "display": null,
            "flex": null,
            "flex_flow": null,
            "grid_area": null,
            "grid_auto_columns": null,
            "grid_auto_flow": null,
            "grid_auto_rows": null,
            "grid_column": null,
            "grid_gap": null,
            "grid_row": null,
            "grid_template_areas": null,
            "grid_template_columns": null,
            "grid_template_rows": null,
            "height": null,
            "justify_content": null,
            "justify_items": null,
            "left": null,
            "margin": null,
            "max_height": null,
            "max_width": null,
            "min_height": null,
            "min_width": null,
            "object_fit": null,
            "object_position": null,
            "order": null,
            "overflow": null,
            "overflow_x": null,
            "overflow_y": null,
            "padding": null,
            "right": null,
            "top": null,
            "visibility": null,
            "width": null
          }
        },
        "f3f068f0cde14f2789b57b8d5baa32ce": {
          "model_module": "@jupyter-widgets/base",
          "model_name": "LayoutModel",
          "model_module_version": "1.2.0",
          "state": {
            "_model_module": "@jupyter-widgets/base",
            "_model_module_version": "1.2.0",
            "_model_name": "LayoutModel",
            "_view_count": null,
            "_view_module": "@jupyter-widgets/base",
            "_view_module_version": "1.2.0",
            "_view_name": "LayoutView",
            "align_content": null,
            "align_items": null,
            "align_self": null,
            "border": null,
            "bottom": null,
            "display": null,
            "flex": null,
            "flex_flow": null,
            "grid_area": null,
            "grid_auto_columns": null,
            "grid_auto_flow": null,
            "grid_auto_rows": null,
            "grid_column": null,
            "grid_gap": null,
            "grid_row": null,
            "grid_template_areas": null,
            "grid_template_columns": null,
            "grid_template_rows": null,
            "height": null,
            "justify_content": null,
            "justify_items": null,
            "left": null,
            "margin": null,
            "max_height": null,
            "max_width": null,
            "min_height": null,
            "min_width": null,
            "object_fit": null,
            "object_position": null,
            "order": null,
            "overflow": null,
            "overflow_x": null,
            "overflow_y": null,
            "padding": null,
            "right": null,
            "top": null,
            "visibility": null,
            "width": null
          }
        },
        "4290a50fb37e4d07964ab79a8cc4025a": {
          "model_module": "@jupyter-widgets/controls",
          "model_name": "DescriptionStyleModel",
          "model_module_version": "1.5.0",
          "state": {
            "_model_module": "@jupyter-widgets/controls",
            "_model_module_version": "1.5.0",
            "_model_name": "DescriptionStyleModel",
            "_view_count": null,
            "_view_module": "@jupyter-widgets/base",
            "_view_module_version": "1.2.0",
            "_view_name": "StyleView",
            "description_width": ""
          }
        },
        "4f226c4b68ad4c48ad56f5becc9c6c9e": {
          "model_module": "@jupyter-widgets/base",
          "model_name": "LayoutModel",
          "model_module_version": "1.2.0",
          "state": {
            "_model_module": "@jupyter-widgets/base",
            "_model_module_version": "1.2.0",
            "_model_name": "LayoutModel",
            "_view_count": null,
            "_view_module": "@jupyter-widgets/base",
            "_view_module_version": "1.2.0",
            "_view_name": "LayoutView",
            "align_content": null,
            "align_items": null,
            "align_self": null,
            "border": null,
            "bottom": null,
            "display": null,
            "flex": null,
            "flex_flow": null,
            "grid_area": null,
            "grid_auto_columns": null,
            "grid_auto_flow": null,
            "grid_auto_rows": null,
            "grid_column": null,
            "grid_gap": null,
            "grid_row": null,
            "grid_template_areas": null,
            "grid_template_columns": null,
            "grid_template_rows": null,
            "height": null,
            "justify_content": null,
            "justify_items": null,
            "left": null,
            "margin": null,
            "max_height": null,
            "max_width": null,
            "min_height": null,
            "min_width": null,
            "object_fit": null,
            "object_position": null,
            "order": null,
            "overflow": null,
            "overflow_x": null,
            "overflow_y": null,
            "padding": null,
            "right": null,
            "top": null,
            "visibility": null,
            "width": null
          }
        },
        "86efcd66bf1040818aca02094de2ed63": {
          "model_module": "@jupyter-widgets/controls",
          "model_name": "ProgressStyleModel",
          "model_module_version": "1.5.0",
          "state": {
            "_model_module": "@jupyter-widgets/controls",
            "_model_module_version": "1.5.0",
            "_model_name": "ProgressStyleModel",
            "_view_count": null,
            "_view_module": "@jupyter-widgets/base",
            "_view_module_version": "1.2.0",
            "_view_name": "StyleView",
            "bar_color": null,
            "description_width": ""
          }
        },
        "28d08da5ace04df888c607cb58190cec": {
          "model_module": "@jupyter-widgets/base",
          "model_name": "LayoutModel",
          "model_module_version": "1.2.0",
          "state": {
            "_model_module": "@jupyter-widgets/base",
            "_model_module_version": "1.2.0",
            "_model_name": "LayoutModel",
            "_view_count": null,
            "_view_module": "@jupyter-widgets/base",
            "_view_module_version": "1.2.0",
            "_view_name": "LayoutView",
            "align_content": null,
            "align_items": null,
            "align_self": null,
            "border": null,
            "bottom": null,
            "display": null,
            "flex": null,
            "flex_flow": null,
            "grid_area": null,
            "grid_auto_columns": null,
            "grid_auto_flow": null,
            "grid_auto_rows": null,
            "grid_column": null,
            "grid_gap": null,
            "grid_row": null,
            "grid_template_areas": null,
            "grid_template_columns": null,
            "grid_template_rows": null,
            "height": null,
            "justify_content": null,
            "justify_items": null,
            "left": null,
            "margin": null,
            "max_height": null,
            "max_width": null,
            "min_height": null,
            "min_width": null,
            "object_fit": null,
            "object_position": null,
            "order": null,
            "overflow": null,
            "overflow_x": null,
            "overflow_y": null,
            "padding": null,
            "right": null,
            "top": null,
            "visibility": null,
            "width": null
          }
        },
        "6c99a40580f144a0b66b1c4edc865afd": {
          "model_module": "@jupyter-widgets/controls",
          "model_name": "DescriptionStyleModel",
          "model_module_version": "1.5.0",
          "state": {
            "_model_module": "@jupyter-widgets/controls",
            "_model_module_version": "1.5.0",
            "_model_name": "DescriptionStyleModel",
            "_view_count": null,
            "_view_module": "@jupyter-widgets/base",
            "_view_module_version": "1.2.0",
            "_view_name": "StyleView",
            "description_width": ""
          }
        },
        "4da3f5baaf3e47018991270c74865098": {
          "model_module": "@jupyter-widgets/controls",
          "model_name": "HBoxModel",
          "model_module_version": "1.5.0",
          "state": {
            "_dom_classes": [],
            "_model_module": "@jupyter-widgets/controls",
            "_model_module_version": "1.5.0",
            "_model_name": "HBoxModel",
            "_view_count": null,
            "_view_module": "@jupyter-widgets/controls",
            "_view_module_version": "1.5.0",
            "_view_name": "HBoxView",
            "box_style": "",
            "children": [
              "IPY_MODEL_c87d25fd60e64d58923029b91d906048",
              "IPY_MODEL_879cf561545c4a0e9959e423383bf3d9",
              "IPY_MODEL_ab82a10221eb4100a3d81612b6089d34"
            ],
            "layout": "IPY_MODEL_e3a251bda1904a809fc6fd6162e1fea2"
          }
        },
        "c87d25fd60e64d58923029b91d906048": {
          "model_module": "@jupyter-widgets/controls",
          "model_name": "HTMLModel",
          "model_module_version": "1.5.0",
          "state": {
            "_dom_classes": [],
            "_model_module": "@jupyter-widgets/controls",
            "_model_module_version": "1.5.0",
            "_model_name": "HTMLModel",
            "_view_count": null,
            "_view_module": "@jupyter-widgets/controls",
            "_view_module_version": "1.5.0",
            "_view_name": "HTMLView",
            "description": "",
            "description_tooltip": null,
            "layout": "IPY_MODEL_775d4cf3dd3d44a1899c385a46fc144a",
            "placeholder": "​",
            "style": "IPY_MODEL_71258a20a40943f3a35142641515e9a5",
            "value": "100%"
          }
        },
        "879cf561545c4a0e9959e423383bf3d9": {
          "model_module": "@jupyter-widgets/controls",
          "model_name": "FloatProgressModel",
          "model_module_version": "1.5.0",
          "state": {
            "_dom_classes": [],
            "_model_module": "@jupyter-widgets/controls",
            "_model_module_version": "1.5.0",
            "_model_name": "FloatProgressModel",
            "_view_count": null,
            "_view_module": "@jupyter-widgets/controls",
            "_view_module_version": "1.5.0",
            "_view_name": "ProgressView",
            "bar_style": "success",
            "description": "",
            "description_tooltip": null,
            "layout": "IPY_MODEL_53d6ee5cdbbe4445a7d682f61e16c3b4",
            "max": 50,
            "min": 0,
            "orientation": "horizontal",
            "style": "IPY_MODEL_a28de0cf465a4c4c90cc9341e87bbc94",
            "value": 50
          }
        },
        "ab82a10221eb4100a3d81612b6089d34": {
          "model_module": "@jupyter-widgets/controls",
          "model_name": "HTMLModel",
          "model_module_version": "1.5.0",
          "state": {
            "_dom_classes": [],
            "_model_module": "@jupyter-widgets/controls",
            "_model_module_version": "1.5.0",
            "_model_name": "HTMLModel",
            "_view_count": null,
            "_view_module": "@jupyter-widgets/controls",
            "_view_module_version": "1.5.0",
            "_view_name": "HTMLView",
            "description": "",
            "description_tooltip": null,
            "layout": "IPY_MODEL_62df290347f44c3d8e667579a8733a8f",
            "placeholder": "​",
            "style": "IPY_MODEL_54b122d88d5549edb632ab23855630de",
            "value": " 50/50 [00:38&lt;00:00,  1.83it/s]"
          }
        },
        "e3a251bda1904a809fc6fd6162e1fea2": {
          "model_module": "@jupyter-widgets/base",
          "model_name": "LayoutModel",
          "model_module_version": "1.2.0",
          "state": {
            "_model_module": "@jupyter-widgets/base",
            "_model_module_version": "1.2.0",
            "_model_name": "LayoutModel",
            "_view_count": null,
            "_view_module": "@jupyter-widgets/base",
            "_view_module_version": "1.2.0",
            "_view_name": "LayoutView",
            "align_content": null,
            "align_items": null,
            "align_self": null,
            "border": null,
            "bottom": null,
            "display": null,
            "flex": null,
            "flex_flow": null,
            "grid_area": null,
            "grid_auto_columns": null,
            "grid_auto_flow": null,
            "grid_auto_rows": null,
            "grid_column": null,
            "grid_gap": null,
            "grid_row": null,
            "grid_template_areas": null,
            "grid_template_columns": null,
            "grid_template_rows": null,
            "height": null,
            "justify_content": null,
            "justify_items": null,
            "left": null,
            "margin": null,
            "max_height": null,
            "max_width": null,
            "min_height": null,
            "min_width": null,
            "object_fit": null,
            "object_position": null,
            "order": null,
            "overflow": null,
            "overflow_x": null,
            "overflow_y": null,
            "padding": null,
            "right": null,
            "top": null,
            "visibility": null,
            "width": null
          }
        },
        "775d4cf3dd3d44a1899c385a46fc144a": {
          "model_module": "@jupyter-widgets/base",
          "model_name": "LayoutModel",
          "model_module_version": "1.2.0",
          "state": {
            "_model_module": "@jupyter-widgets/base",
            "_model_module_version": "1.2.0",
            "_model_name": "LayoutModel",
            "_view_count": null,
            "_view_module": "@jupyter-widgets/base",
            "_view_module_version": "1.2.0",
            "_view_name": "LayoutView",
            "align_content": null,
            "align_items": null,
            "align_self": null,
            "border": null,
            "bottom": null,
            "display": null,
            "flex": null,
            "flex_flow": null,
            "grid_area": null,
            "grid_auto_columns": null,
            "grid_auto_flow": null,
            "grid_auto_rows": null,
            "grid_column": null,
            "grid_gap": null,
            "grid_row": null,
            "grid_template_areas": null,
            "grid_template_columns": null,
            "grid_template_rows": null,
            "height": null,
            "justify_content": null,
            "justify_items": null,
            "left": null,
            "margin": null,
            "max_height": null,
            "max_width": null,
            "min_height": null,
            "min_width": null,
            "object_fit": null,
            "object_position": null,
            "order": null,
            "overflow": null,
            "overflow_x": null,
            "overflow_y": null,
            "padding": null,
            "right": null,
            "top": null,
            "visibility": null,
            "width": null
          }
        },
        "71258a20a40943f3a35142641515e9a5": {
          "model_module": "@jupyter-widgets/controls",
          "model_name": "DescriptionStyleModel",
          "model_module_version": "1.5.0",
          "state": {
            "_model_module": "@jupyter-widgets/controls",
            "_model_module_version": "1.5.0",
            "_model_name": "DescriptionStyleModel",
            "_view_count": null,
            "_view_module": "@jupyter-widgets/base",
            "_view_module_version": "1.2.0",
            "_view_name": "StyleView",
            "description_width": ""
          }
        },
        "53d6ee5cdbbe4445a7d682f61e16c3b4": {
          "model_module": "@jupyter-widgets/base",
          "model_name": "LayoutModel",
          "model_module_version": "1.2.0",
          "state": {
            "_model_module": "@jupyter-widgets/base",
            "_model_module_version": "1.2.0",
            "_model_name": "LayoutModel",
            "_view_count": null,
            "_view_module": "@jupyter-widgets/base",
            "_view_module_version": "1.2.0",
            "_view_name": "LayoutView",
            "align_content": null,
            "align_items": null,
            "align_self": null,
            "border": null,
            "bottom": null,
            "display": null,
            "flex": null,
            "flex_flow": null,
            "grid_area": null,
            "grid_auto_columns": null,
            "grid_auto_flow": null,
            "grid_auto_rows": null,
            "grid_column": null,
            "grid_gap": null,
            "grid_row": null,
            "grid_template_areas": null,
            "grid_template_columns": null,
            "grid_template_rows": null,
            "height": null,
            "justify_content": null,
            "justify_items": null,
            "left": null,
            "margin": null,
            "max_height": null,
            "max_width": null,
            "min_height": null,
            "min_width": null,
            "object_fit": null,
            "object_position": null,
            "order": null,
            "overflow": null,
            "overflow_x": null,
            "overflow_y": null,
            "padding": null,
            "right": null,
            "top": null,
            "visibility": null,
            "width": null
          }
        },
        "a28de0cf465a4c4c90cc9341e87bbc94": {
          "model_module": "@jupyter-widgets/controls",
          "model_name": "ProgressStyleModel",
          "model_module_version": "1.5.0",
          "state": {
            "_model_module": "@jupyter-widgets/controls",
            "_model_module_version": "1.5.0",
            "_model_name": "ProgressStyleModel",
            "_view_count": null,
            "_view_module": "@jupyter-widgets/base",
            "_view_module_version": "1.2.0",
            "_view_name": "StyleView",
            "bar_color": null,
            "description_width": ""
          }
        },
        "62df290347f44c3d8e667579a8733a8f": {
          "model_module": "@jupyter-widgets/base",
          "model_name": "LayoutModel",
          "model_module_version": "1.2.0",
          "state": {
            "_model_module": "@jupyter-widgets/base",
            "_model_module_version": "1.2.0",
            "_model_name": "LayoutModel",
            "_view_count": null,
            "_view_module": "@jupyter-widgets/base",
            "_view_module_version": "1.2.0",
            "_view_name": "LayoutView",
            "align_content": null,
            "align_items": null,
            "align_self": null,
            "border": null,
            "bottom": null,
            "display": null,
            "flex": null,
            "flex_flow": null,
            "grid_area": null,
            "grid_auto_columns": null,
            "grid_auto_flow": null,
            "grid_auto_rows": null,
            "grid_column": null,
            "grid_gap": null,
            "grid_row": null,
            "grid_template_areas": null,
            "grid_template_columns": null,
            "grid_template_rows": null,
            "height": null,
            "justify_content": null,
            "justify_items": null,
            "left": null,
            "margin": null,
            "max_height": null,
            "max_width": null,
            "min_height": null,
            "min_width": null,
            "object_fit": null,
            "object_position": null,
            "order": null,
            "overflow": null,
            "overflow_x": null,
            "overflow_y": null,
            "padding": null,
            "right": null,
            "top": null,
            "visibility": null,
            "width": null
          }
        },
        "54b122d88d5549edb632ab23855630de": {
          "model_module": "@jupyter-widgets/controls",
          "model_name": "DescriptionStyleModel",
          "model_module_version": "1.5.0",
          "state": {
            "_model_module": "@jupyter-widgets/controls",
            "_model_module_version": "1.5.0",
            "_model_name": "DescriptionStyleModel",
            "_view_count": null,
            "_view_module": "@jupyter-widgets/base",
            "_view_module_version": "1.2.0",
            "_view_name": "StyleView",
            "description_width": ""
          }
        },
        "9313fc086d1247ffae6532cead364c91": {
          "model_module": "@jupyter-widgets/controls",
          "model_name": "HBoxModel",
          "model_module_version": "1.5.0",
          "state": {
            "_dom_classes": [],
            "_model_module": "@jupyter-widgets/controls",
            "_model_module_version": "1.5.0",
            "_model_name": "HBoxModel",
            "_view_count": null,
            "_view_module": "@jupyter-widgets/controls",
            "_view_module_version": "1.5.0",
            "_view_name": "HBoxView",
            "box_style": "",
            "children": [
              "IPY_MODEL_18f1606541fb4aee81677cb4ab573542",
              "IPY_MODEL_b3cf5166043a44b38cb41ad119416655",
              "IPY_MODEL_2879ff5c631648488f3d981bdbe36523"
            ],
            "layout": "IPY_MODEL_f8e96c21f1034b9990e50e6ddcb98b6f"
          }
        },
        "18f1606541fb4aee81677cb4ab573542": {
          "model_module": "@jupyter-widgets/controls",
          "model_name": "HTMLModel",
          "model_module_version": "1.5.0",
          "state": {
            "_dom_classes": [],
            "_model_module": "@jupyter-widgets/controls",
            "_model_module_version": "1.5.0",
            "_model_name": "HTMLModel",
            "_view_count": null,
            "_view_module": "@jupyter-widgets/controls",
            "_view_module_version": "1.5.0",
            "_view_name": "HTMLView",
            "description": "",
            "description_tooltip": null,
            "layout": "IPY_MODEL_59b30cf3b84444509398ce1660612715",
            "placeholder": "​",
            "style": "IPY_MODEL_2fb77d12256248ecb9aed0a05231de2b",
            "value": "100%"
          }
        },
        "b3cf5166043a44b38cb41ad119416655": {
          "model_module": "@jupyter-widgets/controls",
          "model_name": "FloatProgressModel",
          "model_module_version": "1.5.0",
          "state": {
            "_dom_classes": [],
            "_model_module": "@jupyter-widgets/controls",
            "_model_module_version": "1.5.0",
            "_model_name": "FloatProgressModel",
            "_view_count": null,
            "_view_module": "@jupyter-widgets/controls",
            "_view_module_version": "1.5.0",
            "_view_name": "ProgressView",
            "bar_style": "success",
            "description": "",
            "description_tooltip": null,
            "layout": "IPY_MODEL_708b59b256414c9aa190f4f5d7b9eb1c",
            "max": 50,
            "min": 0,
            "orientation": "horizontal",
            "style": "IPY_MODEL_1db51de3875b45a898d2e682f97a5a5f",
            "value": 50
          }
        },
        "2879ff5c631648488f3d981bdbe36523": {
          "model_module": "@jupyter-widgets/controls",
          "model_name": "HTMLModel",
          "model_module_version": "1.5.0",
          "state": {
            "_dom_classes": [],
            "_model_module": "@jupyter-widgets/controls",
            "_model_module_version": "1.5.0",
            "_model_name": "HTMLModel",
            "_view_count": null,
            "_view_module": "@jupyter-widgets/controls",
            "_view_module_version": "1.5.0",
            "_view_name": "HTMLView",
            "description": "",
            "description_tooltip": null,
            "layout": "IPY_MODEL_a1696bf0f002496fa9f60692572bb28d",
            "placeholder": "​",
            "style": "IPY_MODEL_9cc77377eed74585b2d94620b9a7ba38",
            "value": " 50/50 [01:06&lt;00:00,  1.24s/it]"
          }
        },
        "f8e96c21f1034b9990e50e6ddcb98b6f": {
          "model_module": "@jupyter-widgets/base",
          "model_name": "LayoutModel",
          "model_module_version": "1.2.0",
          "state": {
            "_model_module": "@jupyter-widgets/base",
            "_model_module_version": "1.2.0",
            "_model_name": "LayoutModel",
            "_view_count": null,
            "_view_module": "@jupyter-widgets/base",
            "_view_module_version": "1.2.0",
            "_view_name": "LayoutView",
            "align_content": null,
            "align_items": null,
            "align_self": null,
            "border": null,
            "bottom": null,
            "display": null,
            "flex": null,
            "flex_flow": null,
            "grid_area": null,
            "grid_auto_columns": null,
            "grid_auto_flow": null,
            "grid_auto_rows": null,
            "grid_column": null,
            "grid_gap": null,
            "grid_row": null,
            "grid_template_areas": null,
            "grid_template_columns": null,
            "grid_template_rows": null,
            "height": null,
            "justify_content": null,
            "justify_items": null,
            "left": null,
            "margin": null,
            "max_height": null,
            "max_width": null,
            "min_height": null,
            "min_width": null,
            "object_fit": null,
            "object_position": null,
            "order": null,
            "overflow": null,
            "overflow_x": null,
            "overflow_y": null,
            "padding": null,
            "right": null,
            "top": null,
            "visibility": null,
            "width": null
          }
        },
        "59b30cf3b84444509398ce1660612715": {
          "model_module": "@jupyter-widgets/base",
          "model_name": "LayoutModel",
          "model_module_version": "1.2.0",
          "state": {
            "_model_module": "@jupyter-widgets/base",
            "_model_module_version": "1.2.0",
            "_model_name": "LayoutModel",
            "_view_count": null,
            "_view_module": "@jupyter-widgets/base",
            "_view_module_version": "1.2.0",
            "_view_name": "LayoutView",
            "align_content": null,
            "align_items": null,
            "align_self": null,
            "border": null,
            "bottom": null,
            "display": null,
            "flex": null,
            "flex_flow": null,
            "grid_area": null,
            "grid_auto_columns": null,
            "grid_auto_flow": null,
            "grid_auto_rows": null,
            "grid_column": null,
            "grid_gap": null,
            "grid_row": null,
            "grid_template_areas": null,
            "grid_template_columns": null,
            "grid_template_rows": null,
            "height": null,
            "justify_content": null,
            "justify_items": null,
            "left": null,
            "margin": null,
            "max_height": null,
            "max_width": null,
            "min_height": null,
            "min_width": null,
            "object_fit": null,
            "object_position": null,
            "order": null,
            "overflow": null,
            "overflow_x": null,
            "overflow_y": null,
            "padding": null,
            "right": null,
            "top": null,
            "visibility": null,
            "width": null
          }
        },
        "2fb77d12256248ecb9aed0a05231de2b": {
          "model_module": "@jupyter-widgets/controls",
          "model_name": "DescriptionStyleModel",
          "model_module_version": "1.5.0",
          "state": {
            "_model_module": "@jupyter-widgets/controls",
            "_model_module_version": "1.5.0",
            "_model_name": "DescriptionStyleModel",
            "_view_count": null,
            "_view_module": "@jupyter-widgets/base",
            "_view_module_version": "1.2.0",
            "_view_name": "StyleView",
            "description_width": ""
          }
        },
        "708b59b256414c9aa190f4f5d7b9eb1c": {
          "model_module": "@jupyter-widgets/base",
          "model_name": "LayoutModel",
          "model_module_version": "1.2.0",
          "state": {
            "_model_module": "@jupyter-widgets/base",
            "_model_module_version": "1.2.0",
            "_model_name": "LayoutModel",
            "_view_count": null,
            "_view_module": "@jupyter-widgets/base",
            "_view_module_version": "1.2.0",
            "_view_name": "LayoutView",
            "align_content": null,
            "align_items": null,
            "align_self": null,
            "border": null,
            "bottom": null,
            "display": null,
            "flex": null,
            "flex_flow": null,
            "grid_area": null,
            "grid_auto_columns": null,
            "grid_auto_flow": null,
            "grid_auto_rows": null,
            "grid_column": null,
            "grid_gap": null,
            "grid_row": null,
            "grid_template_areas": null,
            "grid_template_columns": null,
            "grid_template_rows": null,
            "height": null,
            "justify_content": null,
            "justify_items": null,
            "left": null,
            "margin": null,
            "max_height": null,
            "max_width": null,
            "min_height": null,
            "min_width": null,
            "object_fit": null,
            "object_position": null,
            "order": null,
            "overflow": null,
            "overflow_x": null,
            "overflow_y": null,
            "padding": null,
            "right": null,
            "top": null,
            "visibility": null,
            "width": null
          }
        },
        "1db51de3875b45a898d2e682f97a5a5f": {
          "model_module": "@jupyter-widgets/controls",
          "model_name": "ProgressStyleModel",
          "model_module_version": "1.5.0",
          "state": {
            "_model_module": "@jupyter-widgets/controls",
            "_model_module_version": "1.5.0",
            "_model_name": "ProgressStyleModel",
            "_view_count": null,
            "_view_module": "@jupyter-widgets/base",
            "_view_module_version": "1.2.0",
            "_view_name": "StyleView",
            "bar_color": null,
            "description_width": ""
          }
        },
        "a1696bf0f002496fa9f60692572bb28d": {
          "model_module": "@jupyter-widgets/base",
          "model_name": "LayoutModel",
          "model_module_version": "1.2.0",
          "state": {
            "_model_module": "@jupyter-widgets/base",
            "_model_module_version": "1.2.0",
            "_model_name": "LayoutModel",
            "_view_count": null,
            "_view_module": "@jupyter-widgets/base",
            "_view_module_version": "1.2.0",
            "_view_name": "LayoutView",
            "align_content": null,
            "align_items": null,
            "align_self": null,
            "border": null,
            "bottom": null,
            "display": null,
            "flex": null,
            "flex_flow": null,
            "grid_area": null,
            "grid_auto_columns": null,
            "grid_auto_flow": null,
            "grid_auto_rows": null,
            "grid_column": null,
            "grid_gap": null,
            "grid_row": null,
            "grid_template_areas": null,
            "grid_template_columns": null,
            "grid_template_rows": null,
            "height": null,
            "justify_content": null,
            "justify_items": null,
            "left": null,
            "margin": null,
            "max_height": null,
            "max_width": null,
            "min_height": null,
            "min_width": null,
            "object_fit": null,
            "object_position": null,
            "order": null,
            "overflow": null,
            "overflow_x": null,
            "overflow_y": null,
            "padding": null,
            "right": null,
            "top": null,
            "visibility": null,
            "width": null
          }
        },
        "9cc77377eed74585b2d94620b9a7ba38": {
          "model_module": "@jupyter-widgets/controls",
          "model_name": "DescriptionStyleModel",
          "model_module_version": "1.5.0",
          "state": {
            "_model_module": "@jupyter-widgets/controls",
            "_model_module_version": "1.5.0",
            "_model_name": "DescriptionStyleModel",
            "_view_count": null,
            "_view_module": "@jupyter-widgets/base",
            "_view_module_version": "1.2.0",
            "_view_name": "StyleView",
            "description_width": ""
          }
        },
        "d75a9c0573bb42529c2cd28581372677": {
          "model_module": "@jupyter-widgets/controls",
          "model_name": "HBoxModel",
          "model_module_version": "1.5.0",
          "state": {
            "_dom_classes": [],
            "_model_module": "@jupyter-widgets/controls",
            "_model_module_version": "1.5.0",
            "_model_name": "HBoxModel",
            "_view_count": null,
            "_view_module": "@jupyter-widgets/controls",
            "_view_module_version": "1.5.0",
            "_view_name": "HBoxView",
            "box_style": "",
            "children": [
              "IPY_MODEL_90147c69e1df44ec94d6b10a6cb45ccb",
              "IPY_MODEL_76ba5e8c5e1f406a8730a005f8beaf49",
              "IPY_MODEL_ea513f9fcf864a5bb27822e258721c41"
            ],
            "layout": "IPY_MODEL_3695e334af72434785e02a5f7d5fea95"
          }
        },
        "90147c69e1df44ec94d6b10a6cb45ccb": {
          "model_module": "@jupyter-widgets/controls",
          "model_name": "HTMLModel",
          "model_module_version": "1.5.0",
          "state": {
            "_dom_classes": [],
            "_model_module": "@jupyter-widgets/controls",
            "_model_module_version": "1.5.0",
            "_model_name": "HTMLModel",
            "_view_count": null,
            "_view_module": "@jupyter-widgets/controls",
            "_view_module_version": "1.5.0",
            "_view_name": "HTMLView",
            "description": "",
            "description_tooltip": null,
            "layout": "IPY_MODEL_c9d25347302140c0aec06d0eeef035c5",
            "placeholder": "​",
            "style": "IPY_MODEL_4af611734454462dbdbbc7449bb1aace",
            "value": "100%"
          }
        },
        "76ba5e8c5e1f406a8730a005f8beaf49": {
          "model_module": "@jupyter-widgets/controls",
          "model_name": "FloatProgressModel",
          "model_module_version": "1.5.0",
          "state": {
            "_dom_classes": [],
            "_model_module": "@jupyter-widgets/controls",
            "_model_module_version": "1.5.0",
            "_model_name": "FloatProgressModel",
            "_view_count": null,
            "_view_module": "@jupyter-widgets/controls",
            "_view_module_version": "1.5.0",
            "_view_name": "ProgressView",
            "bar_style": "success",
            "description": "",
            "description_tooltip": null,
            "layout": "IPY_MODEL_b579e39a63ff4b90abbc43cf893002c1",
            "max": 4,
            "min": 0,
            "orientation": "horizontal",
            "style": "IPY_MODEL_421d63bc8266476891e47ea701885ef3",
            "value": 4
          }
        },
        "ea513f9fcf864a5bb27822e258721c41": {
          "model_module": "@jupyter-widgets/controls",
          "model_name": "HTMLModel",
          "model_module_version": "1.5.0",
          "state": {
            "_dom_classes": [],
            "_model_module": "@jupyter-widgets/controls",
            "_model_module_version": "1.5.0",
            "_model_name": "HTMLModel",
            "_view_count": null,
            "_view_module": "@jupyter-widgets/controls",
            "_view_module_version": "1.5.0",
            "_view_name": "HTMLView",
            "description": "",
            "description_tooltip": null,
            "layout": "IPY_MODEL_88ad38ceacc84372a812e7063bf28583",
            "placeholder": "​",
            "style": "IPY_MODEL_31ba6df4c4a24f40998b815ce8cf67cc",
            "value": " 4/4 [00:14&lt;00:00,  3.71s/it]"
          }
        },
        "3695e334af72434785e02a5f7d5fea95": {
          "model_module": "@jupyter-widgets/base",
          "model_name": "LayoutModel",
          "model_module_version": "1.2.0",
          "state": {
            "_model_module": "@jupyter-widgets/base",
            "_model_module_version": "1.2.0",
            "_model_name": "LayoutModel",
            "_view_count": null,
            "_view_module": "@jupyter-widgets/base",
            "_view_module_version": "1.2.0",
            "_view_name": "LayoutView",
            "align_content": null,
            "align_items": null,
            "align_self": null,
            "border": null,
            "bottom": null,
            "display": null,
            "flex": null,
            "flex_flow": null,
            "grid_area": null,
            "grid_auto_columns": null,
            "grid_auto_flow": null,
            "grid_auto_rows": null,
            "grid_column": null,
            "grid_gap": null,
            "grid_row": null,
            "grid_template_areas": null,
            "grid_template_columns": null,
            "grid_template_rows": null,
            "height": null,
            "justify_content": null,
            "justify_items": null,
            "left": null,
            "margin": null,
            "max_height": null,
            "max_width": null,
            "min_height": null,
            "min_width": null,
            "object_fit": null,
            "object_position": null,
            "order": null,
            "overflow": null,
            "overflow_x": null,
            "overflow_y": null,
            "padding": null,
            "right": null,
            "top": null,
            "visibility": null,
            "width": null
          }
        },
        "c9d25347302140c0aec06d0eeef035c5": {
          "model_module": "@jupyter-widgets/base",
          "model_name": "LayoutModel",
          "model_module_version": "1.2.0",
          "state": {
            "_model_module": "@jupyter-widgets/base",
            "_model_module_version": "1.2.0",
            "_model_name": "LayoutModel",
            "_view_count": null,
            "_view_module": "@jupyter-widgets/base",
            "_view_module_version": "1.2.0",
            "_view_name": "LayoutView",
            "align_content": null,
            "align_items": null,
            "align_self": null,
            "border": null,
            "bottom": null,
            "display": null,
            "flex": null,
            "flex_flow": null,
            "grid_area": null,
            "grid_auto_columns": null,
            "grid_auto_flow": null,
            "grid_auto_rows": null,
            "grid_column": null,
            "grid_gap": null,
            "grid_row": null,
            "grid_template_areas": null,
            "grid_template_columns": null,
            "grid_template_rows": null,
            "height": null,
            "justify_content": null,
            "justify_items": null,
            "left": null,
            "margin": null,
            "max_height": null,
            "max_width": null,
            "min_height": null,
            "min_width": null,
            "object_fit": null,
            "object_position": null,
            "order": null,
            "overflow": null,
            "overflow_x": null,
            "overflow_y": null,
            "padding": null,
            "right": null,
            "top": null,
            "visibility": null,
            "width": null
          }
        },
        "4af611734454462dbdbbc7449bb1aace": {
          "model_module": "@jupyter-widgets/controls",
          "model_name": "DescriptionStyleModel",
          "model_module_version": "1.5.0",
          "state": {
            "_model_module": "@jupyter-widgets/controls",
            "_model_module_version": "1.5.0",
            "_model_name": "DescriptionStyleModel",
            "_view_count": null,
            "_view_module": "@jupyter-widgets/base",
            "_view_module_version": "1.2.0",
            "_view_name": "StyleView",
            "description_width": ""
          }
        },
        "b579e39a63ff4b90abbc43cf893002c1": {
          "model_module": "@jupyter-widgets/base",
          "model_name": "LayoutModel",
          "model_module_version": "1.2.0",
          "state": {
            "_model_module": "@jupyter-widgets/base",
            "_model_module_version": "1.2.0",
            "_model_name": "LayoutModel",
            "_view_count": null,
            "_view_module": "@jupyter-widgets/base",
            "_view_module_version": "1.2.0",
            "_view_name": "LayoutView",
            "align_content": null,
            "align_items": null,
            "align_self": null,
            "border": null,
            "bottom": null,
            "display": null,
            "flex": null,
            "flex_flow": null,
            "grid_area": null,
            "grid_auto_columns": null,
            "grid_auto_flow": null,
            "grid_auto_rows": null,
            "grid_column": null,
            "grid_gap": null,
            "grid_row": null,
            "grid_template_areas": null,
            "grid_template_columns": null,
            "grid_template_rows": null,
            "height": null,
            "justify_content": null,
            "justify_items": null,
            "left": null,
            "margin": null,
            "max_height": null,
            "max_width": null,
            "min_height": null,
            "min_width": null,
            "object_fit": null,
            "object_position": null,
            "order": null,
            "overflow": null,
            "overflow_x": null,
            "overflow_y": null,
            "padding": null,
            "right": null,
            "top": null,
            "visibility": null,
            "width": null
          }
        },
        "421d63bc8266476891e47ea701885ef3": {
          "model_module": "@jupyter-widgets/controls",
          "model_name": "ProgressStyleModel",
          "model_module_version": "1.5.0",
          "state": {
            "_model_module": "@jupyter-widgets/controls",
            "_model_module_version": "1.5.0",
            "_model_name": "ProgressStyleModel",
            "_view_count": null,
            "_view_module": "@jupyter-widgets/base",
            "_view_module_version": "1.2.0",
            "_view_name": "StyleView",
            "bar_color": null,
            "description_width": ""
          }
        },
        "88ad38ceacc84372a812e7063bf28583": {
          "model_module": "@jupyter-widgets/base",
          "model_name": "LayoutModel",
          "model_module_version": "1.2.0",
          "state": {
            "_model_module": "@jupyter-widgets/base",
            "_model_module_version": "1.2.0",
            "_model_name": "LayoutModel",
            "_view_count": null,
            "_view_module": "@jupyter-widgets/base",
            "_view_module_version": "1.2.0",
            "_view_name": "LayoutView",
            "align_content": null,
            "align_items": null,
            "align_self": null,
            "border": null,
            "bottom": null,
            "display": null,
            "flex": null,
            "flex_flow": null,
            "grid_area": null,
            "grid_auto_columns": null,
            "grid_auto_flow": null,
            "grid_auto_rows": null,
            "grid_column": null,
            "grid_gap": null,
            "grid_row": null,
            "grid_template_areas": null,
            "grid_template_columns": null,
            "grid_template_rows": null,
            "height": null,
            "justify_content": null,
            "justify_items": null,
            "left": null,
            "margin": null,
            "max_height": null,
            "max_width": null,
            "min_height": null,
            "min_width": null,
            "object_fit": null,
            "object_position": null,
            "order": null,
            "overflow": null,
            "overflow_x": null,
            "overflow_y": null,
            "padding": null,
            "right": null,
            "top": null,
            "visibility": null,
            "width": null
          }
        },
        "31ba6df4c4a24f40998b815ce8cf67cc": {
          "model_module": "@jupyter-widgets/controls",
          "model_name": "DescriptionStyleModel",
          "model_module_version": "1.5.0",
          "state": {
            "_model_module": "@jupyter-widgets/controls",
            "_model_module_version": "1.5.0",
            "_model_name": "DescriptionStyleModel",
            "_view_count": null,
            "_view_module": "@jupyter-widgets/base",
            "_view_module_version": "1.2.0",
            "_view_name": "StyleView",
            "description_width": ""
          }
        }
      }
    }
  },
  "nbformat": 4,
  "nbformat_minor": 5
}