{
  "cells": [
    {
      "cell_type": "markdown",
      "metadata": {
        "id": "view-in-github",
        "colab_type": "text"
      },
      "source": [
        "<a href=\"https://colab.research.google.com/github/malacosteus/MIPT/blob/main/ML/Lab2_DL_part3_poetry_finv.ipynb\" target=\"_parent\"><img src=\"https://colab.research.google.com/assets/colab-badge.svg\" alt=\"Open In Colab\"/></a>"
      ]
    },
    {
      "cell_type": "markdown",
      "metadata": {
        "id": "qlF77BsJTA_f"
      },
      "source": [
        "## Lab 2"
      ]
    },
    {
      "cell_type": "markdown",
      "metadata": {
        "id": "PBKCP_IHTA_k"
      },
      "source": [
        "### Part 3. Poetry generation\n",
        "\n",
        "Let's try to generate some poetry using RNNs. \n",
        "\n",
        "You have several choices here: \n",
        "\n",
        "* The Shakespeare sonnets, file `sonnets.txt` available in the notebook directory.\n",
        "\n",
        "* Роман в стихах \"Евгений Онегин\" Александра Сергеевича Пушкина. В предобработанном виде доступен по [ссылке](https://github.com/attatrol/data_sources/blob/master/onegin.txt).\n",
        "\n",
        "* Some other text source, if it will be approved by the course staff.\n",
        "\n",
        "Text generation can be designed in several steps:\n",
        "    \n",
        "1. Data loading.\n",
        "2. Dictionary generation.\n",
        "3. Data preprocessing.\n",
        "4. Model (neural network) training.\n",
        "5. Text generation (model evaluation).\n"
      ]
    },
    {
      "cell_type": "code",
      "execution_count": null,
      "metadata": {
        "id": "g8eqZA4QTA_m"
      },
      "outputs": [],
      "source": [
        "import string\n",
        "import os\n",
        "import numpy as np\n",
        "import matplotlib.pyplot as plt\n",
        "\n",
        "from tqdm.auto import tqdm\n",
        "\n",
        "import torch\n",
        "import torch.nn as nn\n",
        "\n",
        "from collections import Counter"
      ]
    },
    {
      "cell_type": "markdown",
      "metadata": {
        "id": "fatAp_dmTA_n"
      },
      "source": [
        "### Data loading: Shakespeare"
      ]
    },
    {
      "cell_type": "markdown",
      "metadata": {
        "id": "e4mFNvu9TA_o"
      },
      "source": [
        "Shakespeare sonnets are awailable at this [link](http://www.gutenberg.org/\n",
        "\n",
        "---\n",
        "\n",
        "ebooks/1041?msg=welcome_stranger). In addition, they are stored in the same directory as this notebook (`sonnetes.txt`). Simple preprocessing is already done for you in the next cell: all technical info is dropped."
      ]
    },
    {
      "cell_type": "code",
      "execution_count": null,
      "metadata": {
        "collapsed": true,
        "id": "nnivyzDxTA_p",
        "colab": {
          "base_uri": "https://localhost:8080/"
        },
        "outputId": "f8e4d5c7-4d3f-4f33-b13f-590aa8470e1c"
      },
      "outputs": [
        {
          "output_type": "stream",
          "name": "stdout",
          "text": [
            "--2022-06-30 02:39:03--  https://raw.githubusercontent.com/girafe-ai/ml-mipt/master/homeworks_basic/Lab2_DL/sonnets.txt\n",
            "Resolving raw.githubusercontent.com (raw.githubusercontent.com)... 185.199.108.133, 185.199.109.133, 185.199.110.133, ...\n",
            "Connecting to raw.githubusercontent.com (raw.githubusercontent.com)|185.199.108.133|:443... connected.\n",
            "HTTP request sent, awaiting response... 200 OK\n",
            "Length: 119748 (117K) [text/plain]\n",
            "Saving to: ‘sonnets.txt’\n",
            "\n",
            "\rsonnets.txt           0%[                    ]       0  --.-KB/s               \rsonnets.txt         100%[===================>] 116.94K  --.-KB/s    in 0.007s  \n",
            "\n",
            "2022-06-30 02:39:03 (17.1 MB/s) - ‘sonnets.txt’ saved [119748/119748]\n",
            "\n"
          ]
        }
      ],
      "source": [
        "\n",
        "if not os.path.exists('sonnets.txt'):\n",
        "    !wget https://raw.githubusercontent.com/girafe-ai/ml-mipt/master/homeworks_basic/Lab2_DL/sonnets.txt##\n",
        "\n",
        "with open('sonnets.txt', 'r') as iofile:\n",
        "    text = iofile.readlines()\n",
        "    \n",
        "TEXT_START = 45\n",
        "TEXT_END = -368\n",
        "text = text[TEXT_START : TEXT_END]\n",
        "assert len(text) == 2616"
      ]
    },
    {
      "cell_type": "markdown",
      "metadata": {
        "id": "bIZeTfFZTA_q"
      },
      "source": [
        "In opposite to the in-class practice, this time we want to predict complex text. Let's reduce the complexity of the task and lowercase all the symbols.\n",
        "\n",
        "Now variable `text` is a list of strings. Join all the strings into one and lowercase it."
      ]
    },
    {
      "cell_type": "code",
      "execution_count": null,
      "metadata": {
        "id": "FB-FulmXTA_r"
      },
      "outputs": [],
      "source": [
        "# Join all the strings into one and lowercase it\n",
        "# Put result into variable text.\n",
        "\n",
        "#text = \"\".join(text).lower()\n",
        "\n",
        "#assert len(text) == 100225, 'Are you sure you have concatenated all the strings?'\n",
        "#assert not any([x in set(text) for x in string.ascii_uppercase]), 'Uppercase letters are present'\n",
        "#print('OK!')"
      ]
    },
    {
      "cell_type": "markdown",
      "metadata": {
        "id": "yr1BDeTRTA_s"
      },
      "source": [
        "### Data loading: \"Евгений Онегин\"\n"
      ]
    },
    {
      "cell_type": "code",
      "execution_count": null,
      "metadata": {
        "id": "WQGqYI2BTA_s"
      },
      "outputs": [],
      "source": [
        "#!wget https://raw.githubusercontent.com/attatrol/data_sources/master/onegin.txt\n",
        "    \n",
        "#with open('onegin.txt', 'r') as iofile:\n",
        "#    text = iofile.readlines()\n",
        "    \n",
        "#text = [x.replace('\\t\\t', '') for x in text]"
      ]
    },
    {
      "cell_type": "markdown",
      "metadata": {
        "id": "eGKsHIFLTA_t"
      },
      "source": [
        "In opposite to the in-class practice, this time we want to predict complex text. Let's reduce the complexity of the task and lowercase all the symbols.\n",
        "\n",
        "Now variable `text` is a list of strings. Join all the strings into one and lowercase it."
      ]
    },
    {
      "cell_type": "code",
      "source": [
        "# get list of words from document\n",
        "def text2words(text):\n",
        "    lines = text.split('\\n')\n",
        "    lines = [line.strip(r'\\\"') for line in lines]\n",
        "    words = ' '.join(lines).split()\n",
        "\n",
        "    punct = set(string.punctuation)\n",
        "    words = [''.join([char for char in list(word) if char not in punct]) for word in words]\n",
        "\n",
        "    return words"
      ],
      "metadata": {
        "id": "WDP4A_-sFJqk"
      },
      "execution_count": null,
      "outputs": []
    },
    {
      "cell_type": "code",
      "execution_count": null,
      "metadata": {
        "id": "kImDZkKLTA_u"
      },
      "outputs": [],
      "source": [
        "# Join all the strings into one and lowercase it\n",
        "# Put result into variable text.\n",
        "\n",
        "# Your great code here\n",
        "text = \"\".join(text).lower()\n",
        "words = text2words(text)"
      ]
    },
    {
      "cell_type": "code",
      "source": [
        "text"
      ],
      "metadata": {
        "colab": {
          "base_uri": "https://localhost:8080/",
          "height": 125
        },
        "id": "wPPQQhKoHeRY",
        "outputId": "359651ef-e248-4744-fb42-1a7e06e90dea"
      },
      "execution_count": null,
      "outputs": [
        {
          "output_type": "execute_result",
          "data": {
            "text/plain": [
              "\"  from fairest creatures we desire increase,\\n  that thereby beauty's rose might never die,\\n  but as the riper should by time decease,\\n  his tender heir might bear his memory:\\n  but thou, contracted to thine own bright eyes,\\n  feed'st thy light's flame with self-substantial fuel,\\n  making a famine where abundance lies,\\n  thy self thy foe, to thy sweet self too cruel:\\n  thou that art now the world's fresh ornament,\\n  and only herald to the gaudy spring,\\n  within thine own bud buriest thy content,\\n  and tender churl mak'st waste in niggarding:\\n    pity the world, or else this glutton be,\\n    to eat the world's due, by the grave and thee.\\n\\n  ii\\n\\n  when forty winters shall besiege thy brow,\\n  and dig deep trenches in thy beauty's field,\\n  thy youth's proud livery so gazed on now,\\n  will be a tatter'd weed of small worth held:\\n  then being asked, where all thy beauty lies,\\n  where all the treasure of thy lusty days;\\n  to say, within thine own deep sunken eyes,\\n  were an all-eating shame, and thriftless praise.\\n  how much more praise deserv'd thy beauty's use,\\n  if thou couldst answer 'this fair child of mine\\n  shall sum my count, and make my old excuse,'\\n  proving his beauty by succession thine!\\n    this were to be new made when thou art old,\\n    and see thy blood warm when thou feel'st it cold.\\n\\n  iii\\n\\n  look in thy glass and tell the face thou viewest\\n  now is the time that face should form another;\\n  whose fresh repair if now thou not renewest,\\n  thou dost beguile the world, unbless some mother.\\n  for where is she so fair whose unear'd womb\\n  disdains the tillage of thy husbandry?\\n  or who is he so fond will be the tomb,\\n  of his self-love to stop posterity?\\n  thou art thy mother's glass and she in thee\\n  calls back the lovely april of her prime;\\n  so thou through windows of thine age shalt see,\\n  despite of wrinkles this thy golden time.\\n    but if thou live, remember'd not to be,\\n    die single and thine image dies with thee.\\n\\n  iv\\n\\n  unthrifty loveliness, why dost thou spend\\n  upon thy self thy beauty's legacy?\\n  nature's bequest gives nothing, but doth lend,\\n  and being frank she lends to those are free:\\n  then, beauteous niggard, why dost thou abuse\\n  the bounteous largess given thee to give?\\n  profitless usurer, why dost thou use\\n  so great a sum of sums, yet canst not live?\\n  for having traffic with thy self alone,\\n  thou of thy self thy sweet self dost deceive:\\n  then how when nature calls thee to be gone,\\n  what acceptable audit canst thou leave?\\n    thy unused beauty must be tombed with thee,\\n    which, used, lives th' executor to be.\\n\\n  v\\n\\n  those hours, that with gentle work did frame\\n  the lovely gaze where every eye doth dwell,\\n  will play the tyrants to the very same\\n  and that unfair which fairly doth excel;\\n  for never-resting time leads summer on\\n  to hideous winter, and confounds him there;\\n  sap checked with frost, and lusty leaves quite gone,\\n  beauty o'er-snowed and bareness every where:\\n  then were not summer's distillation left,\\n  a liquid prisoner pent in walls of glass,\\n  beauty's effect with beauty were bereft,\\n  nor it, nor no remembrance what it was:\\n    but flowers distill'd, though they with winter meet,\\n    leese but their show; their substance still lives sweet.\\n\\n\\n  vi\\n\\n  then let not winter's ragged hand deface,\\n  in thee thy summer, ere thou be distill'd:\\n  make sweet some vial; treasure thou some place\\n  with beauty's treasure ere it be self-kill'd.\\n  that use is not forbidden usury,\\n  which happies those that pay the willing loan;\\n  that's for thy self to breed another thee,\\n  or ten times happier, be it ten for one;\\n  ten times thy self were happier than thou art,\\n  if ten of thine ten times refigur'd thee:\\n  then what could death do if thou shouldst depart,\\n  leaving thee living in posterity?\\n    be not self-will'd, for thou art much too fair\\n    to be death's conquest and make worms thine heir.\\n\\n  vii\\n\\n  lo! in the orient when the gracious light\\n  lifts up his burning head, each under eye\\n  doth homage to his new-appearing sight,\\n  serving with looks his sacred majesty;\\n  and having climb'd the steep-up heavenly hill,\\n  resembling strong youth in his middle age,\\n  yet mortal looks adore his beauty still,\\n  attending on his golden pilgrimage:\\n  but when from highmost pitch, with weary car,\\n  like feeble age, he reeleth from the day,\\n  the eyes, 'fore duteous, now converted are\\n  from his low tract, and look another way:\\n    so thou, thyself outgoing in thy noon:\\n    unlook'd, on diest unless thou get a son.\\n\\n  viii\\n\\n  music to hear, why hear'st thou music sadly?\\n  sweets with sweets war not, joy delights in joy:\\n  why lov'st thou that which thou receiv'st not gladly,\\n  or else receiv'st with pleasure thine annoy?\\n  if the true concord of well-tuned sounds,\\n  by unions married, do offend thine ear,\\n  they do but sweetly chide thee, who confounds\\n  in singleness the parts that thou shouldst bear.\\n  mark how one string, sweet husband to another,\\n  strikes each in each by mutual ordering;\\n  resembling sire and child and happy mother,\\n  who, all in one, one pleasing note do sing:\\n    whose speechless song being many, seeming one,\\n    sings this to thee: 'thou single wilt prove none.'\\n\\n  ix\\n\\n  is it for fear to wet a widow's eye,\\n  that thou consum'st thy self in single life?\\n  ah! if thou issueless shalt hap to die,\\n  the world will wail thee like a makeless wife;\\n  the world will be thy widow and still weep\\n  that thou no form of thee hast left behind,\\n  when every private widow well may keep\\n  by children's eyes, her husband's shape in mind:\\n  look! what an unthrift in the world doth spend\\n  shifts but his place, for still the world enjoys it;\\n  but beauty's waste hath in the world an end,\\n  and kept unused the user so destroys it.\\n    no love toward others in that bosom sits\\n    that on himself such murd'rous shame commits.\\n\\n  x\\n\\n  for shame! deny that thou bear'st love to any,\\n  who for thy self art so unprovident.\\n  grant, if thou wilt, thou art belov'd of many,\\n  but that thou none lov'st is most evident:\\n  for thou art so possess'd with murderous hate,\\n  that 'gainst thy self thou stick'st not to conspire,\\n  seeking that beauteous roof to ruinate\\n  which to repair should be thy chief desire.\\n  o! change thy thought, that i may change my mind:\\n  shall hate be fairer lodg'd than gentle love?\\n  be, as thy presence is, gracious and kind,\\n  or to thyself at least kind-hearted prove:\\n    make thee another self for love of me,\\n    that beauty still may live in thine or thee.\\n\\n  xi\\n\\n  as fast as thou shalt wane, so fast thou grow'st,\\n  in one of thine, from that which thou departest;\\n  and that fresh blood which youngly thou bestow'st,\\n  thou mayst call thine when thou from youth convertest,\\n  herein lives wisdom, beauty, and increase;\\n  without this folly, age, and cold decay:\\n  if all were minded so, the times should cease\\n  and threescore year would make the world away.\\n  let those whom nature hath not made for store,\\n  harsh, featureless, and rude, barrenly perish:\\n  look, whom she best endow'd, she gave thee more;\\n  which bounteous gift thou shouldst in bounty cherish:\\n    she carv'd thee for her seal, and meant thereby,\\n    thou shouldst print more, not let that copy die.\\n\\n  xii\\n\\n  when i do count the clock that tells the time,\\n  and see the brave day sunk in hideous night;\\n  when i behold the violet past prime,\\n  and sable curls, all silvered o'er with white;\\n  when lofty trees i see barren of leaves,\\n  which erst from heat did canopy the herd,\\n  and summer's green all girded up in sheaves,\\n  borne on the bier with white and bristly beard,\\n  then of thy beauty do i question make,\\n  that thou among the wastes of time must go,\\n  since sweets and beauties do themselves forsake\\n  and die as fast as they see others grow;\\n    and nothing 'gainst time's scythe can make defence\\n    save breed, to brave him when he takes thee hence.\\n\\n  xiii\\n\\n  o! that you were your self; but, love you are\\n  no longer yours, than you your self here live:\\n  against this coming end you should prepare,\\n  and your sweet semblance to some other give:\\n  so should that beauty which you hold in lease\\n  find no determination; then you were\\n  yourself again, after yourself's decease,\\n  when your sweet issue your sweet form should bear.\\n  who lets so fair a house fall to decay,\\n  which husbandry in honour might uphold,\\n  against the stormy gusts of winter's day\\n  and barren rage of death's eternal cold?\\n    o! none but unthrifts. dear my love, you know,\\n    you had a father: let your son say so.\\n\\n  xiv\\n\\n  not from the stars do i my judgement pluck;\\n  and yet methinks i have astronomy,\\n  but not to tell of good or evil luck,\\n  of plagues, of dearths, or seasons' quality;\\n  nor can i fortune to brief minutes tell,\\n  pointing to each his thunder, rain and wind,\\n  or say with princes if it shall go well\\n  by oft predict that i in heaven find:\\n  but from thine eyes my knowledge i derive,\\n  and constant stars in them i read such art\\n  as 'truth and beauty shall together thrive,\\n  if from thyself, to store thou wouldst convert';\\n    or else of thee this i prognosticate:\\n    'thy end is truth's and beauty's doom and date.'\\n\\n  xv\\n\\n  when i consider every thing that grows\\n  holds in perfection but a little moment,\\n  that this huge stage presenteth nought but shows\\n  whereon the stars in secret influence comment;\\n  when i perceive that men as plants increase,\\n  cheered and checked even by the self-same sky,\\n  vaunt in their youthful sap, at height decrease,\\n  and wear their brave state out of memory;\\n  then the conceit of this inconstant stay\\n  sets you most rich in youth before my sight,\\n  where wasteful time debateth with decay\\n  to change your day of youth to sullied night,\\n    and all in war with time for love of you,\\n    as he takes from you, i engraft you new.\\n\\n  xvi\\n\\n  but wherefore do not you a mightier way\\n  make war upon this bloody tyrant, time?\\n  and fortify your self in your decay\\n  with means more blessed than my barren rhyme?\\n  now stand you on the top of happy hours,\\n  and many maiden gardens, yet unset,\\n  with virtuous wish would bear you living flowers,\\n  much liker than your painted counterfeit:\\n  so should the lines of life that life repair,\\n  which this, time's pencil, or my pupil pen,\\n  neither in inward worth nor outward fair,\\n  can make you live your self in eyes of men.\\n    to give away yourself, keeps yourself still,\\n    and you must live, drawn by your own sweet skill.\\n\\n  xvii\\n\\n  who will believe my verse in time to come,\\n  if it were fill'd with your most high deserts?\\n  though yet heaven knows it is but as a tomb\\n  which hides your life, and shows not half your parts.\\n  if i could write the beauty of your eyes,\\n  and in fresh numbers number all your graces,\\n  the age to come would say 'this poet lies;\\n  such heavenly touches ne'er touch'd earthly faces.'\\n  so should my papers, yellow'd with their age,\\n  be scorn'd, like old men of less truth than tongue,\\n  and your true rights be term'd a poet's rage\\n  and stretched metre of an antique song:\\n    but were some child of yours alive that time,\\n    you should live twice,--in it, and in my rhyme.\\n\\n  xviii\\n\\n  shall i compare thee to a summer's day?\\n  thou art more lovely and more temperate:\\n  rough winds do shake the darling buds of may,\\n  and summer's lease hath all too short a date:\\n  sometime too hot the eye of heaven shines,\\n  and often is his gold complexion dimm'd,\\n  and every fair from fair sometime declines,\\n  by chance, or nature's changing course untrimm'd:\\n  but thy eternal summer shall not fade,\\n  nor lose possession of that fair thou ow'st,\\n  nor shall death brag thou wander'st in his shade,\\n  when in eternal lines to time thou grow'st,\\n    so long as men can breathe, or eyes can see,\\n    so long lives this, and this gives life to thee.\\n\\n  xix\\n\\n  devouring time, blunt thou the lion's paws,\\n  and make the earth devour her own sweet brood;\\n  pluck the keen teeth from the fierce tiger's jaws,\\n  and burn the long-liv'd phoenix, in her blood;\\n  make glad and sorry seasons as thou fleets,\\n  and do whate'er thou wilt, swift-footed time,\\n  to the wide world and all her fading sweets;\\n  but i forbid thee one most heinous crime:\\n  o! carve not with thy hours my love's fair brow,\\n  nor draw no lines there with thine antique pen;\\n  him in thy course untainted do allow\\n  for beauty's pattern to succeeding men.\\n    yet, do thy worst old time: despite thy wrong,\\n    my love shall in my verse ever live young.\\n\\n  xx\\n\\n  a woman's face with nature's own hand painted,\\n  hast thou, the master mistress of my passion;\\n  a woman's gentle heart, but not acquainted\\n  with shifting change, as is false women's fashion:\\n  an eye more bright than theirs, less false in rolling,\\n  gilding the object whereupon it gazeth;\\n  a man in hue all 'hues' in his controlling,\\n  which steals men's eyes and women's souls amazeth.\\n  and for a woman wert thou first created;\\n  till nature, as she wrought thee, fell a-doting,\\n  and by addition me of thee defeated,\\n  by adding one thing to my purpose nothing.\\n    but since she prick'd thee out for women's pleasure,\\n    mine be thy love and thy love's use their treasure.\\n\\n  xxi\\n\\n  so is it not with me as with that muse,\\n  stirr'd by a painted beauty to his verse,\\n  who heaven itself for ornament doth use\\n  and every fair with his fair doth rehearse,\\n  making a couplement of proud compare.\\n  with sun and moon, with earth and sea's rich gems,\\n  with april's first-born flowers, and all things rare,\\n  that heaven's air in this huge rondure hems.\\n  o! let me, true in love, but truly write,\\n  and then believe me, my love is as fair\\n  as any mother's child, though not so bright\\n  as those gold candles fix'd in heaven's air:\\n    let them say more that like of hearsay well;\\n    i will not praise that purpose not to sell.\\n\\n  xxii\\n\\n  my glass shall not persuade me i am old,\\n  so long as youth and thou are of one date;\\n  but when in thee time's furrows i behold,\\n  then look i death my days should expiate.\\n  for all that beauty that doth cover thee,\\n  is but the seemly raiment of my heart,\\n  which in thy breast doth live, as thine in me:\\n  how can i then be elder than thou art?\\n  o! therefore love, be of thyself so wary\\n  as i, not for myself, but for thee will;\\n  bearing thy heart, which i will keep so chary\\n  as tender nurse her babe from faring ill.\\n    presume not on thy heart when mine is slain,\\n    thou gav'st me thine not to give back again.\\n\\n  xxiii\\n\\n  as an unperfect actor on the stage,\\n  who with his fear is put beside his part,\\n  or some fierce thing replete with too much rage,\\n  whose strength's abundance weakens his own heart;\\n  so i, for fear of trust, forget to say\\n  the perfect ceremony of love's rite,\\n  and in mine own love's strength seem to decay,\\n  o'ercharg'd with burthen of mine own love's might.\\n  o! let my looks be then the eloquence\\n  and dumb presagers of my speaking breast,\\n  who plead for love, and look for recompense,\\n  more than that tongue that more hath more express'd.\\n    o! learn to read what silent love hath writ:\\n    to hear with eyes belongs to love's fine wit.\\n\\n  xxiv\\n\\n  mine eye hath play'd the painter and hath stell'd,\\n  thy beauty's form in table of my heart;\\n  my body is the frame wherein 'tis held,\\n  and perspective it is best painter's art.\\n  for through the painter must you see his skill,\\n  to find where your true image pictur'd lies,\\n  which in my bosom's shop is hanging still,\\n  that hath his windows glazed with thine eyes.\\n  now see what good turns eyes for eyes have done:\\n  mine eyes have drawn thy shape, and thine for me\\n  are windows to my breast, where-through the sun\\n  delights to peep, to gaze therein on thee;\\n    yet eyes this cunning want to grace their art,\\n    they draw but what they see, know not the heart.\\n\\n  xxv\\n\\n  let those who are in favour with their stars\\n  of public honour and proud titles boast,\\n  whilst i, whom fortune of such triumph bars\\n  unlook'd for joy in that i honour most.\\n  great princes' favourites their fair leaves spread\\n  but as the marigold at the sun's eye,\\n  and in themselves their pride lies buried,\\n  for at a frown they in their glory die.\\n  the painful warrior famoused for fight,\\n  after a thousand victories once foil'd,\\n  is from the book of honour razed quite,\\n  and all the rest forgot for which he toil'd:\\n    then happy i, that love and am belov'd,\\n    where i may not remove nor be remov'd.\\n\\n  xxvi\\n\\n  lord of my love, to whom in vassalage\\n  thy merit hath my duty strongly knit,\\n  to thee i send this written embassage,\\n  to witness duty, not to show my wit:\\n  duty so great, which wit so poor as mine\\n  may make seem bare, in wanting words to show it,\\n  but that i hope some good conceit of thine\\n  in thy soul's thought, all naked, will bestow it:\\n  till whatsoever star that guides my moving,\\n  points on me graciously with fair aspect,\\n  and puts apparel on my tatter'd loving,\\n  to show me worthy of thy sweet respect:\\n    then may i dare to boast how i do love thee;\\n    till then, not show my head where thou mayst prove me.\\n\\n  xxvii\\n\\n  weary with toil, i haste me to my bed,\\n  the dear respose for limbs with travel tir'd;\\n  but then begins a journey in my head\\n  to work my mind, when body's work's expired:\\n  for then my thoughts--from far where i abide--\\n  intend a zealous pilgrimage to thee,\\n  and keep my drooping eyelids open wide,\\n  looking on darkness which the blind do see:\\n  save that my soul's imaginary sight\\n  presents thy shadow to my sightless view,\\n  which, like a jewel hung in ghastly night,\\n  makes black night beauteous, and her old face new.\\n    lo! thus, by day my limbs, by night my mind,\\n    for thee, and for myself, no quiet find.\\n\\n  xxviii\\n\\n  how can i then return in happy plight,\\n  that am debarre'd the benefit of rest?\\n  when day's oppression is not eas'd by night,\\n  but day by night and night by day oppress'd,\\n  and each, though enemies to either's reign,\\n  do in consent shake hands to torture me,\\n  the one by toil, the other to complain\\n  how far i toil, still farther off from thee.\\n  i tell the day, to please him thou art bright,\\n  and dost him grace when clouds do blot the heaven:\\n  so flatter i the swart-complexion'd night,\\n  when sparkling stars twire not thou gild'st the even.\\n    but day doth daily draw my sorrows longer,\\n    and night doth nightly make grief's length seem stronger.\\n\\n  xxix\\n\\n  when in disgrace with fortune and men's eyes\\n  i all alone beweep my outcast state,\\n  and trouble deaf heaven with my bootless cries,\\n  and look upon myself, and curse my fate,\\n  wishing me like to one more rich in hope,\\n  featur'd like him, like him with friends possess'd,\\n  desiring this man's art, and that man's scope,\\n  with what i most enjoy contented least;\\n  yet in these thoughts my self almost despising,\\n  haply i think on thee,-- and then my state,\\n  like to the lark at break of day arising\\n  from sullen earth, sings hymns at heaven's gate;\\n    for thy sweet love remember'd such wealth brings\\n    that then i scorn to change my state with kings.\\n\\n  xxx\\n\\n  when to the sessions of sweet silent thought\\n  i summon up remembrance of things past,\\n  i sigh the lack of many a thing i sought,\\n  and with old woes new wail my dear time's waste:\\n  then can i drown an eye, unused to flow,\\n  for precious friends hid in death's dateless night,\\n  and weep afresh love's long since cancell'd woe,\\n  and moan the expense of many a vanish'd sight:\\n  then can i grieve at grievances foregone,\\n  and heavily from woe to woe tell o'er\\n  the sad account of fore-bemoaned moan,\\n  which i new pay as if not paid before.\\n    but if the while i think on thee, dear friend,\\n    all losses are restor'd and sorrows end.\\n\\n  xxxi\\n\\n  thy bosom is endeared with all hearts,\\n  which i by lacking have supposed dead;\\n  and there reigns love, and all love's loving parts,\\n  and all those friends which i thought buried.\\n  how many a holy and obsequious tear\\n  hath dear religious love stol'n from mine eye,\\n  as interest of the dead, which now appear\\n  but things remov'd that hidden in thee lie!\\n  thou art the grave where buried love doth live,\\n  hung with the trophies of my lovers gone,\\n  who all their parts of me to thee did give,\\n  that due of many now is thine alone:\\n    their images i lov'd, i view in thee,\\n    and thou--all they--hast all the all of me.\\n\\n  xxxii\\n\\n  if thou survive my well-contented day,\\n  when that churl death my bones with dust shall cover\\n  and shalt by fortune once more re-survey\\n  these poor rude lines of thy deceased lover,\\n  compare them with the bett'ring of the time,\\n  and though they be outstripp'd by every pen,\\n  reserve them for my love, not for their rhyme,\\n  exceeded by the height of happier men.\\n  o! then vouchsafe me but this loving thought:\\n  'had my friend's muse grown with this growing age,\\n  a dearer birth than this his love had brought,\\n  to march in ranks of better equipage:\\n    but since he died and poets better prove,\\n    theirs for their style i'll read, his for his love'.\\n\\n  xxxiii\\n\\n  full many a glorious morning have i seen\\n  flatter the mountain tops with sovereign eye,\\n  kissing with golden face the meadows green,\\n  gilding pale streams with heavenly alchemy;\\n  anon permit the basest clouds to ride\\n  with ugly rack on his celestial face,\\n  and from the forlorn world his visage hide,\\n  stealing unseen to west with this disgrace:\\n  even so my sun one early morn did shine,\\n  with all triumphant splendour on my brow;\\n  but out! alack! he was but one hour mine,\\n  the region cloud hath mask'd him from me now.\\n    yet him for this my love no whit disdaineth;\\n    suns of the world may stain when heaven's sun staineth.\\n\\n  xxxiv\\n\\n  why didst thou promise such a beauteous day,\\n  and make me travel forth without my cloak,\\n  to let base clouds o'ertake me in my way,\\n  hiding thy bravery in their rotten smoke?\\n  'tis not enough that through the cloud thou break,\\n  to dry the rain on my storm-beaten face,\\n  for no man well of such a salve can speak,\\n  that heals the wound, and cures not the disgrace:\\n  nor can thy shame give physic to my grief;\\n  though thou repent, yet i have still the loss:\\n  the offender's sorrow lends but weak relief\\n  to him that bears the strong offence's cross.\\n    ah! but those tears are pearl which thy love sheds,\\n    and they are rich and ransom all ill deeds.\\n\\n  xxxv\\n\\n  no more be griev'd at that which thou hast done:\\n  roses have thorns, and silver fountains mud:\\n  clouds and eclipses stain both moon and sun,\\n  and loathsome canker lives in sweetest bud.\\n  all men make faults, and even i in this,\\n  authorizing thy trespass with compare,\\n  myself corrupting, salving thy amiss,\\n  excusing thy sins more than thy sins are;\\n  for to thy sensual fault i bring in sense,--\\n  thy adverse party is thy advocate,--\\n  and 'gainst myself a lawful plea commence:\\n  such civil war is in my love and hate,\\n    that i an accessary needs must be,\\n    to that sweet thief which sourly robs from me.\\n\\n  xxxvi\\n\\n  let me confess that we two must be twain,\\n  although our undivided loves are one:\\n  so shall those blots that do with me remain,\\n  without thy help, by me be borne alone.\\n  in our two loves there is but one respect,\\n  though in our lives a separable spite,\\n  which though it alter not love's sole effect,\\n  yet doth it steal sweet hours from love's delight.\\n  i may not evermore acknowledge thee,\\n  lest my bewailed guilt should do thee shame,\\n  nor thou with public kindness honour me,\\n  unless thou take that honour from thy name:\\n    but do not so, i love thee in such sort,\\n    as thou being mine, mine is thy good report.\\n\\n  xxxvii\\n\\n  as a decrepit father takes delight\\n  to see his active child do deeds of youth,\\n  so i, made lame by fortune's dearest spite,\\n  take all my comfort of thy worth and truth;\\n  for whether beauty, birth, or wealth, or wit,\\n  or any of these all, or all, or more,\\n  entitled in thy parts, do crowned sit,\\n  i make my love engrafted, to this store:\\n  so then i am not lame, poor, nor despis'd,\\n  whilst that this shadow doth such substance give\\n  that i in thy abundance am suffic'd,\\n  and by a part of all thy glory live.\\n    look what is best, that best i wish in thee:\\n    this wish i have; then ten times happy me!\\n\\n  xxxviii\\n\\n  how can my muse want subject to invent,\\n  while thou dost breathe, that pour'st into my verse\\n  thine own sweet argument, too excellent\\n  for every vulgar paper to rehearse?\\n  o! give thy self the thanks, if aught in me\\n  worthy perusal stand against thy sight;\\n  for who's so dumb that cannot write to thee,\\n  when thou thy self dost give invention light?\\n  be thou the tenth muse, ten times more in worth\\n  than those old nine which rhymers invocate;\\n  and he that calls on thee, let him bring forth\\n  eternal numbers to outlive long date.\\n    if my slight muse do please these curious days,\\n    the pain be mine, but thine shall be the praise.\\n\\n  xxxix\\n\\n  o! how thy worth with manners may i sing,\\n  when thou art all the better part of me?\\n  what can mine own praise to mine own self bring?\\n  and what is't but mine own when i praise thee?\\n  even for this, let us divided live,\\n  and our dear love lose name of single one,\\n  that by this separation i may give\\n  that due to thee which thou deserv'st alone.\\n  o absence! what a torment wouldst thou prove,\\n  were it not thy sour leisure gave sweet leave,\\n  to entertain the time with thoughts of love,\\n  which time and thoughts so sweetly doth deceive,\\n    and that thou teachest how to make one twain,\\n    by praising him here who doth hence remain.\\n\\n  xl\\n\\n  take all my loves, my love, yea take them all;\\n  what hast thou then more than thou hadst before?\\n  no love, my love, that thou mayst true love call;\\n  all mine was thine, before thou hadst this more.\\n  then, if for my love, thou my love receivest,\\n  i cannot blame thee, for my love thou usest;\\n  but yet be blam'd, if thou thy self deceivest\\n  by wilful taste of what thyself refusest.\\n  i do forgive thy robbery, gentle thief,\\n  although thou steal thee all my poverty:\\n  and yet, love knows it is a greater grief\\n  to bear love's wrong, than hate's known injury.\\n    lascivious grace, in whom all ill well shows,\\n    kill me with spites yet we must not be foes.\\n\\n  xli\\n\\n  those pretty wrongs that liberty commits,\\n  when i am sometime absent from thy heart,\\n  thy beauty, and thy years full well befits,\\n  for still temptation follows where thou art.\\n  gentle thou art, and therefore to be won,\\n  beauteous thou art, therefore to be assail'd;\\n  and when a woman woos, what woman's son\\n  will sourly leave her till he have prevail'd?\\n  ay me! but yet thou mightst my seat forbear,\\n  and chide thy beauty and thy straying youth,\\n  who lead thee in their riot even there\\n  where thou art forced to break a twofold truth:--\\n    hers by thy beauty tempting her to thee,\\n    thine by thy beauty being false to me.\\n\\n  xlii\\n\\n  that thou hast her it is not all my grief,\\n  and yet it may be said i loved her dearly;\\n  that she hath thee is of my wailing chief,\\n  a loss in love that touches me more nearly.\\n  loving offenders thus i will excuse ye:\\n  thou dost love her, because thou know'st i love her;\\n  and for my sake even so doth she abuse me,\\n  suffering my friend for my sake to approve her.\\n  if i lose thee, my loss is my love's gain,\\n  and losing her, my friend hath found that loss;\\n  both find each other, and i lose both twain,\\n  and both for my sake lay on me this cross:\\n    but here's the joy; my friend and i are one;\\n    sweet flattery! then she loves but me alone.\\n\\n  xliii\\n\\n  when most i wink, then do mine eyes best see,\\n  for all the day they view things unrespected;\\n  but when i sleep, in dreams they look on thee,\\n  and darkly bright, are bright in dark directed.\\n  then thou, whose shadow shadows doth make bright,\\n  how would thy shadow's form form happy show\\n  to the clear day with thy much clearer light,\\n  when to unseeing eyes thy shade shines so!\\n  how would, i say, mine eyes be blessed made\\n  by looking on thee in the living day,\\n  when in dead night thy fair imperfect shade\\n  through heavy sleep on sightless eyes doth stay!\\n    all days are nights to see till i see thee,\\n    and nights bright days when dreams do show thee me.\\n\\n  xliv\\n\\n  if the dull substance of my flesh were thought,\\n  injurious distance should not stop my way;\\n  for then despite of space i would be brought,\\n  from limits far remote, where thou dost stay.\\n  no matter then although my foot did stand\\n  upon the farthest earth remov'd from thee;\\n  for nimble thought can jump both sea and land,\\n  as soon as think the place where he would be.\\n  but, ah! thought kills me that i am not thought,\\n  to leap large lengths of miles when thou art gone,\\n  but that so much of earth and water wrought,\\n  i must attend time's leisure with my moan;\\n    receiving nought by elements so slow\\n    but heavy tears, badges of either's woe.\\n\\n  xlv\\n\\n  the other two, slight air, and purging fire\\n  are both with thee, wherever i abide;\\n  the first my thought, the other my desire,\\n  these present-absent with swift motion slide.\\n  for when these quicker elements are gone\\n  in tender embassy of love to thee,\\n  my life, being made of four, with two alone\\n  sinks down to death, oppress'd with melancholy;\\n  until life's composition be recur'd\\n  by those swift messengers return'd from thee,\\n  who even but now come back again, assur'd,\\n  of thy fair health, recounting it to me:\\n    this told, i joy; but then no longer glad,\\n    i send them back again, and straight grow sad.\\n\\n  xlvi\\n\\n  mine eye and heart are at a mortal war,\\n  how to divide the conquest of thy sight;\\n  mine eye my heart thy picture's sight would bar,\\n  my heart mine eye the freedom of that right.\\n  my heart doth plead that thou in him dost lie,--\\n  a closet never pierc'd with crystal eyes--\\n  but the defendant doth that plea deny,\\n  and says in him thy fair appearance lies.\\n  to side this title is impannelled\\n  a quest of thoughts, all tenants to the heart;\\n  and by their verdict is determined\\n  the clear eye's moiety, and the dear heart's part:\\n    as thus; mine eye's due is thy outward part,\\n    and my heart's right, thy inward love of heart.\\n\\n  xlvii\\n\\n  betwixt mine eye and heart a league is took,\\n  and each doth good turns now unto the other:\\n  when that mine eye is famish'd for a look,\\n  or heart in love with sighs himself doth smother,\\n  with my love's picture then my eye doth feast,\\n  and to the painted banquet bids my heart;\\n  another time mine eye is my heart's guest,\\n  and in his thoughts of love doth share a part:\\n  so, either by thy picture or my love,\\n  thy self away, art present still with me;\\n  for thou not farther than my thoughts canst move,\\n  and i am still with them, and they with thee;\\n    or, if they sleep, thy picture in my sight\\n    awakes my heart, to heart's and eye's delight.\\n\\n  xlviii\\n\\n  how careful was i when i took my way,\\n  each trifle under truest bars to thrust,\\n  that to my use it might unused stay\\n  from hands of falsehood, in sure wards of trust!\\n  but thou, to whom my jewels trifles are,\\n  most worthy comfort, now my greatest grief,\\n  thou best of dearest, and mine only care,\\n  art left the prey of every vulgar thief.\\n  thee have i not lock'd up in any chest,\\n  save where thou art not, though i feel thou art,\\n  within the gentle closure of my breast,\\n  from whence at pleasure thou mayst come and part;\\n    and even thence thou wilt be stol'n i fear,\\n    for truth proves thievish for a prize so dear.\\n\\n  xlix\\n\\n  against that time, if ever that time come,\\n  when i shall see thee frown on my defects,\\n  when as thy love hath cast his utmost sum,\\n  call'd to that audit by advis'd respects;\\n  against that time when thou shalt strangely pass,\\n  and scarcely greet me with that sun, thine eye,\\n  when love, converted from the thing it was,\\n  shall reasons find of settled gravity;\\n  against that time do i ensconce me here,\\n  within the knowledge of mine own desert,\\n  and this my hand, against my self uprear,\\n  to guard the lawful reasons on thy part:\\n    to leave poor me thou hast the strength of laws,\\n    since why to love i can allege no cause.\\n\\n  l\\n\\n  how heavy do i journey on the way,\\n  when what i seek, my weary travel's end,\\n  doth teach that ease and that repose to say,\\n  'thus far the miles are measured from thy friend!'\\n  the beast that bears me, tired with my woe,\\n  plods dully on, to bear that weight in me,\\n  as if by some instinct the wretch did know\\n  his rider lov'd not speed, being made from thee:\\n  the bloody spur cannot provoke him on,\\n  that sometimes anger thrusts into his hide,\\n  which heavily he answers with a groan,\\n  more sharp to me than spurring to his side;\\n    for that same groan doth put this in my mind,\\n    my grief lies onward, and my joy behind.\\n\\n  li\\n\\n  thus can my love excuse the slow offence\\n  of my dull bearer when from thee i speed:\\n  from where thou art why should i haste me thence?\\n  till i return, of posting is no need.\\n  o! what excuse will my poor beast then find,\\n  when swift extremity can seem but slow?\\n  then should i spur, though mounted on the wind,\\n  in winged speed no motion shall i know,\\n  then can no horse with my desire keep pace;\\n  therefore desire, of perfect'st love being made,\\n  shall neigh--no dull flesh--in his fiery race;\\n  but love, for love, thus shall excuse my jade,--\\n    'since from thee going, he went wilful-slow,\\n    towards thee i'll run, and give him leave to go.'\\n\\n  lii\\n\\n  so am i as the rich, whose blessed key,\\n  can bring him to his sweet up-locked treasure,\\n  the which he will not every hour survey,\\n  for blunting the fine point of seldom pleasure.\\n  therefore are feasts so solemn and so rare,\\n  since, seldom coming in that long year set,\\n  like stones of worth they thinly placed are,\\n  or captain jewels in the carcanet.\\n  so is the time that keeps you as my chest,\\n  or as the wardrobe which the robe doth hide,\\n  to make some special instant special-blest,\\n  by new unfolding his imprison'd pride.\\n    blessed are you whose worthiness gives scope,\\n    being had, to triumph; being lacked, to hope.\\n\\n  liii\\n\\n  what is your substance, whereof are you made,\\n  that millions of strange shadows on you tend?\\n  since every one, hath every one, one shade,\\n  and you but one, can every shadow lend.\\n  describe adonis, and the counterfeit\\n  is poorly imitated after you;\\n  on helen's cheek all art of beauty set,\\n  and you in grecian tires are painted new:\\n  speak of the spring, and foison of the year,\\n  the one doth shadow of your beauty show,\\n  the other as your bounty doth appear;\\n  and you in every blessed shape we know.\\n    in all external grace you have some part,\\n    but you like none, none you, for constant heart.\\n\\n  liv\\n\\n  o! how much more doth beauty beauteous seem\\n  by that sweet ornament which truth doth give.\\n  the rose looks fair, but fairer we it deem\\n  for that sweet odour, which doth in it live.\\n  the canker blooms have full as deep a dye\\n  as the perfumed tincture of the roses.\\n  hang on such thorns, and play as wantonly\\n  when summer's breath their masked buds discloses:\\n  but, for their virtue only is their show,\\n  they live unwoo'd, and unrespected fade;\\n  die to themselves. sweet roses do not so;\\n  of their sweet deaths, are sweetest odours made:\\n    and so of you, beauteous and lovely youth,\\n    when that shall vade, by verse distills your truth.\\n\\n  lv\\n\\n  not marble, nor the gilded monuments\\n  of princes, shall outlive this powerful rhyme;\\n  but you shall shine more bright in these contents\\n  than unswept stone, besmear'd with sluttish time.\\n  when wasteful war shall statues overturn,\\n  and broils root out the work of masonry,\\n  nor mars his sword, nor war's quick fire shall burn\\n  the living record of your memory.\\n  'gainst death, and all-oblivious enmity\\n  shall you pace forth; your praise shall still find room\\n  even in the eyes of all posterity\\n  that wear this world out to the ending doom.\\n    so, till the judgment that yourself arise,\\n    you live in this, and dwell in lovers' eyes.\\n\\n  lvi\\n\\n  sweet love, renew thy force; be it not said\\n  thy edge should blunter be than appetite,\\n  which but to-day by feeding is allay'd,\\n  to-morrow sharpened in his former might:\\n  so, love, be thou, although to-day thou fill\\n  thy hungry eyes, even till they wink with fulness,\\n  to-morrow see again, and do not kill\\n  the spirit of love, with a perpetual dulness.\\n  let this sad interim like the ocean be\\n  which parts the shore, where two contracted new\\n  come daily to the banks, that when they see\\n  return of love, more blest may be the view;\\n    or call it winter, which being full of care,\\n    makes summer's welcome, thrice more wished, more rare.\\n\\n  lvii\\n\\n  being your slave what should i do but tend,\\n  upon the hours, and times of your desire?\\n  i have no precious time at all to spend;\\n  nor services to do, till you require.\\n  nor dare i chide the world-without-end hour,\\n  whilst i, my sovereign, watch the clock for you,\\n  nor think the bitterness of absence sour,\\n  when you have bid your servant once adieu;\\n  nor dare i question with my jealous thought\\n  where you may be, or your affairs suppose,\\n  but, like a sad slave, stay and think of nought\\n  save, where you are, how happy you make those.\\n    so true a fool is love, that in your will,\\n    though you do anything, he thinks no ill.\\n\\n  lviii\\n\\n  that god forbid, that made me first your slave,\\n  i should in thought control your times of pleasure,\\n  or at your hand the account of hours to crave,\\n  being your vassal, bound to stay your leisure!\\n  o! let me suffer, being at your beck,\\n  the imprison'd absence of your liberty;\\n  and patience, tame to sufferance, bide each check,\\n  without accusing you of injury.\\n  be where you list, your charter is so strong\\n  that you yourself may privilage your time\\n  to what you will; to you it doth belong\\n  yourself to pardon of self-doing crime.\\n    i am to wait, though waiting so be hell,\\n    not blame your pleasure be it ill or well.\\n\\n  lix\\n\\n  if there be nothing new, but that which is\\n  hath been before, how are our brains beguil'd,\\n  which labouring for invention bear amiss\\n  the second burthen of a former child!\\n  o! that record could with a backward look,\\n  even of five hundred courses of the sun,\\n  show me your image in some antique book,\\n  since mind at first in character was done!\\n  that i might see what the old world could say\\n  to this composed wonder of your frame;\\n  wh'r we are mended, or wh'r better they,\\n  or whether revolution be the same.\\n    o! sure i am the wits of former days,\\n    to subjects worse have given admiring praise.\\n\\n  lx\\n\\n  like as the waves make towards the pebbled shore,\\n  so do our minutes hasten to their end;\\n  each changing place with that which goes before,\\n  in sequent toil all forwards do contend.\\n  nativity, once in the main of light,\\n  crawls to maturity, wherewith being crown'd,\\n  crooked eclipses 'gainst his glory fight,\\n  and time that gave doth now his gift confound.\\n  time doth transfix the flourish set on youth\\n  and delves the parallels in beauty's brow,\\n  feeds on the rarities of nature's truth,\\n  and nothing stands but for his scythe to mow:\\n    and yet to times in hope, my verse shall stand.\\n    praising thy worth, despite his cruel hand.\\n\\n  lxi\\n\\n  is it thy will, thy image should keep open\\n  my heavy eyelids to the weary night?\\n  dost thou desire my slumbers should be broken,\\n  while shadows like to thee do mock my sight?\\n  is it thy spirit that thou send'st from thee\\n  so far from home into my deeds to pry,\\n  to find out shames and idle hours in me,\\n  the scope and tenure of thy jealousy?\\n  o, no! thy love, though much, is not so great:\\n  it is my love that keeps mine eye awake:\\n  mine own true love that doth my rest defeat,\\n  to play the watchman ever for thy sake:\\n    for thee watch i, whilst thou dost wake elsewhere,\\n    from me far off, with others all too near.\\n\\n  lxii\\n\\n  sin of self-love possesseth all mine eye\\n  and all my soul, and all my every part;\\n  and for this sin there is no remedy,\\n  it is so grounded inward in my heart.\\n  methinks no face so gracious is as mine,\\n  no shape so true, no truth of such account;\\n  and for myself mine own worth do define,\\n  as i all other in all worths surmount.\\n  but when my glass shows me myself indeed\\n  beated and chopp'd with tanned antiquity,\\n  mine own self-love quite contrary i read;\\n  self so self-loving were iniquity.\\n    'tis thee,--myself,--that for myself i praise,\\n    painting my age with beauty of thy days.\\n\\n  lxiii\\n\\n  against my love shall be as i am now,\\n  with time's injurious hand crush'd and o'erworn;\\n  when hours have drain'd his blood and fill'd his brow\\n  with lines and wrinkles; when his youthful morn\\n  hath travell'd on to age's steepy night;\\n  and all those beauties whereof now he's king\\n  are vanishing, or vanished out of sight,\\n  stealing away the treasure of his spring;\\n  for such a time do i now fortify\\n  against confounding age's cruel knife,\\n  that he shall never cut from memory\\n  my sweet love's beauty, though my lover's life:\\n    his beauty shall in these black lines be seen,\\n    and they shall live, and he in them still green.\\n\\n  lxiv\\n\\n  when i have seen by time's fell hand defac'd\\n  the rich-proud cost of outworn buried age;\\n  when sometime lofty towers i see down-raz'd,\\n  and brass eternal slave to mortal rage;\\n  when i have seen the hungry ocean gain\\n  advantage on the kingdom of the shore,\\n  and the firm soil win of the watery main,\\n  increasing store with loss, and loss with store;\\n  when i have seen such interchange of state,\\n  or state itself confounded, to decay;\\n  ruin hath taught me thus to ruminate--\\n  that time will come and take my love away.\\n    this thought is as a death which cannot choose\\n    but weep to have, that which it fears to lose.\\n\\n  lxv\\n\\n  since brass, nor stone, nor earth, nor boundless sea,\\n  but sad mortality o'ersways their power,\\n  how with this rage shall beauty hold a plea,\\n  whose action is no stronger than a flower?\\n  o! how shall summer's honey breath hold out,\\n  against the wrackful siege of battering days,\\n  when rocks impregnable are not so stout,\\n  nor gates of steel so strong but time decays?\\n  o fearful meditation! where, alack,\\n  shall time's best jewel from time's chest lie hid?\\n  or what strong hand can hold his swift foot back?\\n  or who his spoil of beauty can forbid?\\n    o! none, unless this miracle have might,\\n    that in black ink my love may still shine bright.\\n\\n  lxvi\\n\\n  tired with all these, for restful death i cry,\\n  as to behold desert a beggar born,\\n  and needy nothing trimm'd in jollity,\\n  and purest faith unhappily forsworn,\\n  and gilded honour shamefully misplac'd,\\n  and maiden virtue rudely strumpeted,\\n  and right perfection wrongfully disgrac'd,\\n  and strength by limping sway disabled\\n  and art made tongue-tied by authority,\\n  and folly--doctor-like--controlling skill,\\n  and simple truth miscall'd simplicity,\\n  and captive good attending captain ill:\\n    tir'd with all these, from these would i be gone,\\n    save that, to die, i leave my love alone.\\n\\n  lxvii\\n\\n  ah! wherefore with infection should he live,\\n  and with his presence grace impiety,\\n  that sin by him advantage should achieve,\\n  and lace itself with his society?\\n  why should false painting imitate his cheek,\\n  and steel dead seeming of his living hue?\\n  why should poor beauty indirectly seek\\n  roses of shadow, since his rose is true?\\n  why should he live, now nature bankrupt is,\\n  beggar'd of blood to blush through lively veins?\\n  for she hath no exchequer now but his,\\n  and proud of many, lives upon his gains.\\n    o! him she stores, to show what wealth she had\\n    in days long since, before these last so bad.\\n\\n  lxviii\\n\\n  thus is his cheek the map of days outworn,\\n  when beauty lived and died as flowers do now,\\n  before these bastard signs of fair were born,\\n  or durst inhabit on a living brow;\\n  before the golden tresses of the dead,\\n  the right of sepulchres, were shorn away,\\n  to live a second life on second head;\\n  ere beauty's dead fleece made another gay:\\n  in him those holy antique hours are seen,\\n  without all ornament, itself and true,\\n  making no summer of another's green,\\n  robbing no old to dress his beauty new;\\n    and him as for a map doth nature store,\\n    to show false art what beauty was of yore.\\n\\n  lxix\\n\\n  those parts of thee that the world's eye doth view\\n  want nothing that the thought of hearts can mend;\\n  all tongues--the voice of souls--give thee that due,\\n  uttering bare truth, even so as foes commend.\\n  thy outward thus with outward praise is crown'd;\\n  but those same tongues, that give thee so thine own,\\n  in other accents do this praise confound\\n  by seeing farther than the eye hath shown.\\n  they look into the beauty of thy mind,\\n  and that in guess they measure by thy deeds;\\n  then--churls--their thoughts, although their eyes were kind,\\n  to thy fair flower add the rank smell of weeds:\\n    but why thy odour matcheth not thy show,\\n    the soil is this, that thou dost common grow.\\n\\n  lxx\\n\\n  that thou art blam'd shall not be thy defect,\\n  for slander's mark was ever yet the fair;\\n  the ornament of beauty is suspect,\\n  a crow that flies in heaven's sweetest air.\\n  so thou be good, slander doth but approve\\n  thy worth the greater being woo'd of time;\\n  for canker vice the sweetest buds doth love,\\n  and thou present'st a pure unstained prime.\\n  thou hast passed by the ambush of young days\\n  either not assail'd, or victor being charg'd;\\n  yet this thy praise cannot be so thy praise,\\n  to tie up envy, evermore enlarg'd,\\n    if some suspect of ill mask'd not thy show,\\n    then thou alone kingdoms of hearts shouldst owe.\\n\\n  lxxi\\n\\n  no longer mourn for me when i am dead\\n  than you shall hear the surly sullen bell\\n  give warning to the world that i am fled\\n  from this vile world with vilest worms to dwell:\\n  nay, if you read this line, remember not\\n  the hand that writ it, for i love you so,\\n  that i in your sweet thoughts would be forgot,\\n  if thinking on me then should make you woe.\\n  o! if,--i say you look upon this verse,\\n  when i perhaps compounded am with clay,\\n  do not so much as my poor name rehearse;\\n  but let your love even with my life decay;\\n    lest the wise world should look into your moan,\\n    and mock you with me after i am gone.\\n\\n  lxxii\\n\\n  o! lest the world should task you to recite\\n  what merit lived in me, that you should love\\n  after my death,--dear love, forget me quite,\\n  for you in me can nothing worthy prove;\\n  unless you would devise some virtuous lie,\\n  to do more for me than mine own desert,\\n  and hang more praise upon deceased i\\n  than niggard truth would willingly impart:\\n  o! lest your true love may seem false in this\\n  that you for love speak well of me untrue,\\n  my name be buried where my body is,\\n  and live no more to shame nor me nor you.\\n    for i am shamed by that which i bring forth,\\n    and so should you, to love things nothing worth.\\n\\n  lxxiii\\n\\n  that time of year thou mayst in me behold\\n  when yellow leaves, or none, or few, do hang\\n  upon those boughs which shake against the cold,\\n  bare ruin'd choirs, where late the sweet birds sang.\\n  in me thou see'st the twilight of such day\\n  as after sunset fadeth in the west;\\n  which by and by black night doth take away,\\n  death's second self, that seals up all in rest.\\n  in me thou see'st the glowing of such fire,\\n  that on the ashes of his youth doth lie,\\n  as the death-bed, whereon it must expire,\\n  consum'd with that which it was nourish'd by.\\n    this thou perceiv'st, which makes thy love more strong,\\n    to love that well, which thou must leave ere long.\\n\\n  lxxiv\\n\\n  but be contented: when that fell arrest\\n  without all bail shall carry me away,\\n  my life hath in this line some interest,\\n  which for memorial still with thee shall stay.\\n  when thou reviewest this, thou dost review\\n  the very part was consecrate to thee:\\n  the earth can have but earth, which is his due;\\n  my spirit is thine, the better part of me:\\n  so then thou hast but lost the dregs of life,\\n  the prey of worms, my body being dead;\\n  the coward conquest of a wretch's knife,\\n  too base of thee to be remembered.\\n    the worth of that is that which it contains,\\n    and that is this, and this with thee remains.\\n\\n  lxxv\\n\\n  so are you to my thoughts as food to life,\\n  or as sweet-season'd showers are to the ground;\\n  and for the peace of you i hold such strife\\n  as 'twixt a miser and his wealth is found.\\n  now proud as an enjoyer, and anon\\n  doubting the filching age will steal his treasure;\\n  now counting best to be with you alone,\\n  then better'd that the world may see my pleasure:\\n  sometime all full with feasting on your sight,\\n  and by and by clean starved for a look;\\n  possessing or pursuing no delight,\\n  save what is had, or must from you be took.\\n    thus do i pine and surfeit day by day,\\n    or gluttoning on all, or all away.\\n\\n  lxxvi\\n\\n  why is my verse so barren of new pride,\\n  so far from variation or quick change?\\n  why with the time do i not glance aside\\n  to new-found methods, and to compounds strange?\\n  why write i still all one, ever the same,\\n  and keep invention in a noted weed,\\n  that every word doth almost tell my name,\\n  showing their birth, and where they did proceed?\\n  o! know sweet love i always write of you,\\n  and you and love are still my argument;\\n  so all my best is dressing old words new,\\n  spending again what is already spent:\\n    for as the sun is daily new and old,\\n    so is my love still telling what is told.\\n\\n  lxxvii\\n\\n  thy glass will show thee how thy beauties wear,\\n  thy dial how thy precious minutes waste;\\n  these vacant leaves thy mind's imprint will bear,\\n  and of this book, this learning mayst thou taste.\\n  the wrinkles which thy glass will truly show\\n  of mouthed graves will give thee memory;\\n  thou by thy dial's shady stealth mayst know\\n  time's thievish progress to eternity.\\n  look! what thy memory cannot contain,\\n  commit to these waste blanks, and thou shalt find\\n  those children nursed, deliver'd from thy brain,\\n  to take a new acquaintance of thy mind.\\n    these offices, so oft as thou wilt look,\\n    shall profit thee and much enrich thy book.\\n\\n  lxxviii\\n\\n  so oft have i invoked thee for my muse,\\n  and found such fair assistance in my verse\\n  as every alien pen hath got my use\\n  and under thee their poesy disperse.\\n  thine eyes, that taught the dumb on high to sing\\n  and heavy ignorance aloft to fly,\\n  have added feathers to the learned's wing\\n  and given grace a double majesty.\\n  yet be most proud of that which i compile,\\n  whose influence is thine, and born of thee:\\n  in others' works thou dost but mend the style,\\n  and arts with thy sweet graces graced be;\\n    but thou art all my art, and dost advance\\n    as high as learning, my rude ignorance.\\n\\n  lxxix\\n\\n  whilst i alone did call upon thy aid,\\n  my verse alone had all thy gentle grace;\\n  but now my gracious numbers are decay'd,\\n  and my sick muse doth give an other place.\\n  i grant, sweet love, thy lovely argument\\n  deserves the travail of a worthier pen;\\n  yet what of thee thy poet doth invent\\n  he robs thee of, and pays it thee again.\\n  he lends thee virtue, and he stole that word\\n  from thy behaviour; beauty doth he give,\\n  and found it in thy cheek: he can afford\\n  no praise to thee, but what in thee doth live.\\n    then thank him not for that which he doth say,\\n    since what he owes thee, thou thyself dost pay.\\n\\n  lxxx\\n\\n  o! how i faint when i of you do write,\\n  knowing a better spirit doth use your name,\\n  and in the praise thereof spends all his might,\\n  to make me tongue-tied speaking of your fame!\\n  but since your worth--wide as the ocean is,--\\n  the humble as the proudest sail doth bear,\\n  my saucy bark, inferior far to his,\\n  on your broad main doth wilfully appear.\\n  your shallowest help will hold me up afloat,\\n  whilst he upon your soundless deep doth ride;\\n  or, being wrack'd, i am a worthless boat,\\n  he of tall building, and of goodly pride:\\n    then if he thrive and i be cast away,\\n    the worst was this,--my love was my decay.\\n\\n  lxxxi\\n\\n  or i shall live your epitaph to make,\\n  or you survive when i in earth am rotten;\\n  from hence your memory death cannot take,\\n  although in me each part will be forgotten.\\n  your name from hence immortal life shall have,\\n  though i, once gone, to all the world must die:\\n  the earth can yield me but a common grave,\\n  when you entombed in men's eyes shall lie.\\n  your monument shall be my gentle verse,\\n  which eyes not yet created shall o'er-read;\\n  and tongues to be, your being shall rehearse,\\n  when all the breathers of this world are dead;\\n    you still shall live,--such virtue hath my pen,--\\n    where breath most breathes, even in the mouths of men.\\n\\n  lxxxii\\n\\n  i grant thou wert not married to my muse,\\n  and therefore mayst without attaint o'erlook\\n  the dedicated words which writers use\\n  of their fair subject, blessing every book.\\n  thou art as fair in knowledge as in hue,\\n  finding thy worth a limit past my praise;\\n  and therefore art enforced to seek anew\\n  some fresher stamp of the time-bettering days.\\n  and do so, love; yet when they have devis'd,\\n  what strained touches rhetoric can lend,\\n  thou truly fair, wert truly sympathiz'd\\n  in true plain words, by thy true-telling friend;\\n    and their gross painting might be better us'd\\n    where cheeks need blood; in thee it is abus'd.\\n\\n  lxxxiii\\n\\n  i never saw that you did painting need,\\n  and therefore to your fair no painting set;\\n  i found, or thought i found, you did exceed\\n  that barren tender of a poet's debt:\\n  and therefore have i slept in your report,\\n  that you yourself, being extant, well might show\\n  how far a modern quill doth come too short,\\n  speaking of worth, what worth in you doth grow.\\n  this silence for my sin you did impute,\\n  which shall be most my glory being dumb;\\n  for i impair not beauty being mute,\\n  when others would give life, and bring a tomb.\\n    there lives more life in one of your fair eyes\\n    than both your poets can in praise devise.\\n\\n  lxxxiv\\n\\n  who is it that says most, which can say more,\\n  than this rich praise,--that you alone, are you?\\n  in whose confine immured is the store\\n  which should example where your equal grew.\\n  lean penury within that pen doth dwell\\n  that to his subject lends not some small glory;\\n  but he that writes of you, if he can tell\\n  that you are you, so dignifies his story,\\n  let him but copy what in you is writ,\\n  not making worse what nature made so clear,\\n  and such a counterpart shall fame his wit,\\n  making his style admired every where.\\n    you to your beauteous blessings add a curse,\\n    being fond on praise, which makes your praises worse.\\n\\n  lxxxv\\n\\n  my tongue-tied muse in manners holds her still,\\n  while comments of your praise richly compil'd,\\n  reserve their character with golden quill,\\n  and precious phrase by all the muses fil'd.\\n  i think good thoughts, whilst others write good words,\\n  and like unlettered clerk still cry 'amen'\\n  to every hymn that able spirit affords,\\n  in polish'd form of well-refined pen.\\n  hearing you praised, i say ''tis so, 'tis true,'\\n  and to the most of praise add something more;\\n  but that is in my thought, whose love to you,\\n  though words come hindmost, holds his rank before.\\n    then others, for the breath of words respect,\\n    me for my dumb thoughts, speaking in effect.\\n\\n  lxxxvi\\n\\n  was it the proud full sail of his great verse,\\n  bound for the prize of all too precious you,\\n  that did my ripe thoughts in my brain inhearse,\\n  making their tomb the womb wherein they grew?\\n  was it his spirit, by spirits taught to write,\\n  above a mortal pitch, that struck me dead?\\n  no, neither he, nor his compeers by night\\n  giving him aid, my verse astonished.\\n  he, nor that affable familiar ghost\\n  which nightly gulls him with intelligence,\\n  as victors of my silence cannot boast;\\n  i was not sick of any fear from thence:\\n    but when your countenance fill'd up his line,\\n    then lacked i matter; that enfeebled mine.\\n\\n  lxxxvii\\n\\n  farewell! thou art too dear for my possessing,\\n  and like enough thou know'st thy estimate,\\n  the charter of thy worth gives thee releasing;\\n  my bonds in thee are all determinate.\\n  for how do i hold thee but by thy granting?\\n  and for that riches where is my deserving?\\n  the cause of this fair gift in me is wanting,\\n  and so my patent back again is swerving.\\n  thy self thou gav'st, thy own worth then not knowing,\\n  or me to whom thou gav'st it, else mistaking;\\n  so thy great gift, upon misprision growing,\\n  comes home again, on better judgement making.\\n    thus have i had thee, as a dream doth flatter,\\n    in sleep a king, but waking no such matter.\\n\\n  lxxxviii\\n\\n  when thou shalt be dispos'd to set me light,\\n  and place my merit in the eye of scorn,\\n  upon thy side, against myself i'll fight,\\n  and prove thee virtuous, though thou art forsworn.\\n  with mine own weakness, being best acquainted,\\n  upon thy part i can set down a story\\n  of faults conceal'd, wherein i am attainted;\\n  that thou in losing me shalt win much glory:\\n  and i by this will be a gainer too;\\n  for bending all my loving thoughts on thee,\\n  the injuries that to myself i do,\\n  doing thee vantage, double-vantage me.\\n    such is my love, to thee i so belong,\\n    that for thy right, myself will bear all wrong.\\n\\n  lxxxix\\n\\n  say that thou didst forsake me for some fault,\\n  and i will comment upon that offence:\\n  speak of my lameness, and i straight will halt,\\n  against thy reasons making no defence.\\n  thou canst not love disgrace me half so ill,\\n  to set a form upon desired change,\\n  as i'll myself disgrace; knowing thy will,\\n  i will acquaintance strangle, and look strange;\\n  be absent from thy walks; and in my tongue\\n  thy sweet beloved name no more shall dwell,\\n  lest i, too much profane, should do it wrong,\\n  and haply of our old acquaintance tell.\\n    for thee, against my self i'll vow debate,\\n    for i must ne'er love him whom thou dost hate.\\n\\n  xc\\n\\n  then hate me when thou wilt; if ever, now;\\n  now, while the world is bent my deeds to cross,\\n  join with the spite of fortune, make me bow,\\n  and do not drop in for an after-loss:\\n  ah! do not, when my heart hath 'scap'd this sorrow,\\n  come in the rearward of a conquer'd woe;\\n  give not a windy night a rainy morrow,\\n  to linger out a purpos'd overthrow.\\n  if thou wilt leave me, do not leave me last,\\n  when other petty griefs have done their spite,\\n  but in the onset come: so shall i taste\\n  at first the very worst of fortune's might;\\n    and other strains of woe, which now seem woe,\\n    compar'd with loss of thee, will not seem so.\\n\\n  xci\\n\\n  some glory in their birth, some in their skill,\\n  some in their wealth, some in their body's force,\\n  some in their garments though new-fangled ill;\\n  some in their hawks and hounds, some in their horse;\\n  and every humour hath his adjunct pleasure,\\n  wherein it finds a joy above the rest:\\n  but these particulars are not my measure,\\n  all these i better in one general best.\\n  thy love is better than high birth to me,\\n  richer than wealth, prouder than garments' costs,\\n  of more delight than hawks and horses be;\\n  and having thee, of all men's pride i boast:\\n    wretched in this alone, that thou mayst take\\n    all this away, and me most wretchcd make.\\n\\n  xcii\\n\\n  but do thy worst to steal thyself away,\\n  for term of life thou art assured mine;\\n  and life no longer than thy love will stay,\\n  for it depends upon that love of thine.\\n  then need i not to fear the worst of wrongs,\\n  when in the least of them my life hath end.\\n  i see a better state to me belongs\\n  than that which on thy humour doth depend:\\n  thou canst not vex me with inconstant mind,\\n  since that my life on thy revolt doth lie.\\n  o! what a happy title do i find,\\n  happy to have thy love, happy to die!\\n    but what's so blessed-fair that fears no blot?\\n    thou mayst be false, and yet i know it not.\\n\\n  xciii\\n\\n  so shall i live, supposing thou art true,\\n  like a deceived husband; so love's face\\n  may still seem love to me, though alter'd new;\\n  thy looks with me, thy heart in other place:\\n  for there can live no hatred in thine eye,\\n  therefore in that i cannot know thy change.\\n  in many's looks, the false heart's history\\n  is writ in moods, and frowns, and wrinkles strange.\\n  but heaven in thy creation did decree\\n  that in thy face sweet love should ever dwell;\\n  whate'er thy thoughts, or thy heart's workings be,\\n  thy looks should nothing thence, but sweetness tell.\\n    how like eve's apple doth thy beauty grow,\\n    if thy sweet virtue answer not thy show!\\n\\n  xciv\\n\\n  they that have power to hurt, and will do none,\\n  that do not do the thing they most do show,\\n  who, moving others, are themselves as stone,\\n  unmoved, cold, and to temptation slow;\\n  they rightly do inherit heaven's graces,\\n  and husband nature's riches from expense;\\n  they are the lords and owners of their faces,\\n  others, but stewards of their excellence.\\n  the summer's flower is to the summer sweet,\\n  though to itself, it only live and die,\\n  but if that flower with base infection meet,\\n  the basest weed outbraves his dignity:\\n    for sweetest things turn sourest by their deeds;\\n    lilies that fester, smell far worse than weeds.\\n\\n  xcv\\n\\n  how sweet and lovely dost thou make the shame\\n  which, like a canker in the fragrant rose,\\n  doth spot the beauty of thy budding name!\\n  o! in what sweets dost thou thy sins enclose.\\n  that tongue that tells the story of thy days,\\n  making lascivious comments on thy sport,\\n  cannot dispraise, but in a kind of praise;\\n  naming thy name, blesses an ill report.\\n  o! what a mansion have those vices got\\n  which for their habitation chose out thee,\\n  where beauty's veil doth cover every blot\\n  and all things turns to fair that eyes can see!\\n    take heed, dear heart, of this large privilege;\\n    the hardest knife ill-us'd doth lose his edge.\\n\\n  xcvi\\n\\n  some say thy fault is youth, some wantonness;\\n  some say thy grace is youth and gentle sport;\\n  both grace and faults are lov'd of more and less:\\n  thou mak'st faults graces that to thee resort.\\n  as on the finger of a throned queen\\n  the basest jewel will be well esteem'd,\\n  so are those errors that in thee are seen\\n  to truths translated, and for true things deem'd.\\n  how many lambs might the stern wolf betray,\\n  if like a lamb he could his looks translate!\\n  how many gazers mightst thou lead away,\\n  if thou wouldst use the strength of all thy state!\\n    but do not so; i love thee in such sort,\\n    as, thou being mine, mine is thy good report.\\n\\n  xcvii\\n\\n  how like a winter hath my absence been\\n  from thee, the pleasure of the fleeting year!\\n  what freezings have i felt, what dark days seen!\\n  what old december's bareness everywhere!\\n  and yet this time removed was summer's time;\\n  the teeming autumn, big with rich increase,\\n  bearing the wanton burden of the prime,\\n  like widow'd wombs after their lords' decease:\\n  yet this abundant issue seem'd to me\\n  but hope of orphans, and unfather'd fruit;\\n  for summer and his pleasures wait on thee,\\n  and, thou away, the very birds are mute:\\n    or, if they sing, 'tis with so dull a cheer,\\n    that leaves look pale, dreading the winter's near.\\n\\n  xcviii\\n\\n  from you have i been absent in the spring,\\n  when proud-pied april, dress'd in all his trim,\\n  hath put a spirit of youth in every thing,\\n  that heavy saturn laugh'd and leap'd with him.\\n  yet nor the lays of birds, nor the sweet smell\\n  of different flowers in odour and in hue,\\n  could make me any summer's story tell,\\n  or from their proud lap pluck them where they grew:\\n  nor did i wonder at the lily's white,\\n  nor praise the deep vermilion in the rose;\\n  they were but sweet, but figures of delight,\\n  drawn after you, you pattern of all those.\\n    yet seem'd it winter still, and you away,\\n    as with your shadow i with these did play.\\n\\n  xcix\\n\\n  the forward violet thus did i chide:\\n  sweet thief, whence didst thou steal thy sweet that smells,\\n  if not from my love's breath? the purple pride\\n  which on thy soft cheek for complexion dwells\\n  in my love's veins thou hast too grossly dy'd.\\n  the lily i condemned for thy hand,\\n  and buds of marjoram had stol'n thy hair;\\n  the roses fearfully on thorns did stand,\\n  one blushing shame, another white despair;\\n  a third, nor red nor white, had stol'n of both,\\n  and to his robbery had annex'd thy breath;\\n  but, for his theft, in pride of all his growth\\n  a vengeful canker eat him up to death.\\n    more flowers i noted, yet i none could see,\\n    but sweet, or colour it had stol'n from thee.\\n\\n  c\\n\\n  where art thou muse that thou forget'st so long,\\n  to speak of that which gives thee all thy might?\\n  spend'st thou thy fury on some worthless song,\\n  darkening thy power to lend base subjects light?\\n  return forgetful muse, and straight redeem,\\n  in gentle numbers time so idly spent;\\n  sing to the ear that doth thy lays esteem\\n  and gives thy pen both skill and argument.\\n  rise, resty muse, my love's sweet face survey,\\n  if time have any wrinkle graven there;\\n  if any, be a satire to decay,\\n  and make time's spoils despised every where.\\n    give my love fame faster than time wastes life,\\n    so thou prevent'st his scythe and crooked knife.\\n\\n  ci\\n\\n  o truant muse what shall be thy amends\\n  for thy neglect of truth in beauty dy'd?\\n  both truth and beauty on my love depends;\\n  so dost thou too, and therein dignified.\\n  make answer muse: wilt thou not haply say,\\n  'truth needs no colour, with his colour fix'd;\\n  beauty no pencil, beauty's truth to lay;\\n  but best is best, if never intermix'd'?\\n  because he needs no praise, wilt thou be dumb?\\n  excuse not silence so, for't lies in thee\\n  to make him much outlive a gilded tomb\\n  and to be prais'd of ages yet to be.\\n    then do thy office, muse; i teach thee how\\n    to make him seem long hence as he shows now.\\n\\n  cii\\n\\n  my love is strengthen'd, though more weak in seeming;\\n  i love not less, though less the show appear;\\n  that love is merchandiz'd, whose rich esteeming,\\n  the owner's tongue doth publish every where.\\n  our love was new, and then but in the spring,\\n  when i was wont to greet it with my lays;\\n  as philomel in summer's front doth sing,\\n  and stops her pipe in growth of riper days:\\n  not that the summer is less pleasant now\\n  than when her mournful hymns did hush the night,\\n  but that wild music burthens every bough,\\n  and sweets grown common lose their dear delight.\\n    therefore like her, i sometime hold my tongue:\\n    because i would not dull you with my song.\\n\\n  ciii\\n\\n  alack! what poverty my muse brings forth,\\n  that having such a scope to show her pride,\\n  the argument, all bare, is of more worth\\n  than when it hath my added praise beside!\\n  o! blame me not, if i no more can write!\\n  look in your glass, and there appears a face\\n  that over-goes my blunt invention quite,\\n  dulling my lines, and doing me disgrace.\\n  were it not sinful then, striving to mend,\\n  to mar the subject that before was well?\\n  for to no other pass my verses tend\\n  than of your graces and your gifts to tell;\\n    and more, much more, than in my verse can sit,\\n    your own glass shows you when you look in it.\\n\\n  civ\\n\\n  to me, fair friend, you never can be old,\\n  for as you were when first your eye i ey'd,\\n  such seems your beauty still. three winters cold,\\n  have from the forests shook three summers' pride,\\n  three beauteous springs to yellow autumn turn'd,\\n  in process of the seasons have i seen,\\n  three april perfumes in three hot junes burn'd,\\n  since first i saw you fresh, which yet are green.\\n  ah! yet doth beauty like a dial-hand,\\n  steal from his figure, and no pace perceiv'd;\\n  so your sweet hue, which methinks still doth stand,\\n  hath motion, and mine eye may be deceiv'd:\\n    for fear of which, hear this thou age unbred:\\n    ere you were born was beauty's summer dead.\\n\\n  cv\\n\\n  let not my love be call'd idolatry,\\n  nor my beloved as an idol show,\\n  since all alike my songs and praises be\\n  to one, of one, still such, and ever so.\\n  kind is my love to-day, to-morrow kind,\\n  still constant in a wondrous excellence;\\n  therefore my verse to constancy confin'd,\\n  one thing expressing, leaves out difference.\\n  'fair, kind, and true,' is all my argument,\\n  'fair, kind, and true,' varying to other words;\\n  and in this change is my invention spent,\\n  three themes in one, which wondrous scope affords.\\n    fair, kind, and true, have often liv'd alone,\\n    which three till now, never kept seat in one.\\n\\n  cvi\\n\\n  when in the chronicle of wasted time\\n  i see descriptions of the fairest wights,\\n  and beauty making beautiful old rime,\\n  in praise of ladies dead and lovely knights,\\n  then, in the blazon of sweet beauty's best,\\n  of hand, of foot, of lip, of eye, of brow,\\n  i see their antique pen would have express'd\\n  even such a beauty as you master now.\\n  so all their praises are but prophecies\\n  of this our time, all you prefiguring;\\n  and for they looked but with divining eyes,\\n  they had not skill enough your worth to sing:\\n    for we, which now behold these present days,\\n    have eyes to wonder, but lack tongues to praise.\\n\\n  cvii\\n\\n  not mine own fears, nor the prophetic soul\\n  of the wide world dreaming on things to come,\\n  can yet the lease of my true love control,\\n  supposed as forfeit to a confin'd doom.\\n  the mortal moon hath her eclipse endur'd,\\n  and the sad augurs mock their own presage;\\n  incertainties now crown themselves assur'd,\\n  and peace proclaims olives of endless age.\\n  now with the drops of this most balmy time,\\n  my love looks fresh, and death to me subscribes,\\n  since, spite of him, i'll live in this poor rime,\\n  while he insults o'er dull and speechless tribes:\\n    and thou in this shalt find thy monument,\\n    when tyrants' crests and tombs of brass are spent.\\n\\n  cviii\\n\\n  what's in the brain, that ink may character,\\n  which hath not figur'd to thee my true spirit?\\n  what's new to speak, what now to register,\\n  that may express my love, or thy dear merit?\\n  nothing, sweet boy; but yet, like prayers divine,\\n  i must each day say o'er the very same;\\n  counting no old thing old, thou mine, i thine,\\n  even as when first i hallow'd thy fair name.\\n  so that eternal love in love's fresh case,\\n  weighs not the dust and injury of age,\\n  nor gives to necessary wrinkles place,\\n  but makes antiquity for aye his page;\\n    finding the first conceit of love there bred,\\n    where time and outward form would show it dead.\\n\\n  cix\\n\\n  o! never say that i was false of heart,\\n  though absence seem'd my flame to qualify,\\n  as easy might i from my self depart\\n  as from my soul which in thy breast doth lie:\\n  that is my home of love: if i have rang'd,\\n  like him that travels, i return again;\\n  just to the time, not with the time exchang'd,\\n  so that myself bring water for my stain.\\n  never believe though in my nature reign'd,\\n  all frailties that besiege all kinds of blood,\\n  that it could so preposterously be stain'd,\\n  to leave for nothing all thy sum of good;\\n    for nothing this wide universe i call,\\n    save thou, my rose, in it thou art my all.\\n\\n  cx\\n\\n  alas! 'tis true, i have gone here and there,\\n  and made my self a motley to the view,\\n  gor'd mine own thoughts, sold cheap what is most dear,\\n  made old offences of affections new;\\n  most true it is, that i have look'd on truth\\n  askance and strangely; but, by all above,\\n  these blenches gave my heart another youth,\\n  and worse essays prov'd thee my best of love.\\n  now all is done, save what shall have no end:\\n  mine appetite i never more will grind\\n  on newer proof, to try an older friend,\\n  a god in love, to whom i am confin'd.\\n    then give me welcome, next my heaven the best,\\n    even to thy pure and most most loving breast.\\n\\n  cxi\\n\\n  o! for my sake do you with fortune chide,\\n  the guilty goddess of my harmful deeds,\\n  that did not better for my life provide\\n  than public means which public manners breeds.\\n  thence comes it that my name receives a brand,\\n  and almost thence my nature is subdu'd\\n  to what it works in, like the dyer's hand:\\n  pity me, then, and wish i were renew'd;\\n  whilst, like a willing patient, i will drink,\\n  potions of eisel 'gainst my strong infection;\\n  no bitterness that i will bitter think,\\n  nor double penance, to correct correction.\\n    pity me then, dear friend, and i assure ye,\\n    even that your pity is enough to cure me.\\n\\n  cxii\\n\\n  your love and pity doth the impression fill,\\n  which vulgar scandal stamp'd upon my brow;\\n  for what care i who calls me well or ill,\\n  so you o'er-green my bad, my good allow?\\n  you are my all-the-world, and i must strive\\n  to know my shames and praises from your tongue;\\n  none else to me, nor i to none alive,\\n  that my steel'd sense or changes right or wrong.\\n  in so profound abysm i throw all care\\n  of others' voices, that my adder's sense\\n  to critic and to flatterer stopped are.\\n  mark how with my neglect i do dispense:\\n    you are so strongly in my purpose bred,\\n    that all the world besides methinks are dead.\\n\\n  cxiii\\n\\n  since i left you, mine eye is in my mind;\\n  and that which governs me to go about\\n  doth part his function and is partly blind,\\n  seems seeing, but effectually is out;\\n  for it no form delivers to the heart\\n  of bird, of flower, or shape which it doth latch:\\n  of his quick objects hath the mind no part,\\n  nor his own vision holds what it doth catch;\\n  for if it see the rud'st or gentlest sight,\\n  the most sweet favour or deformed'st creature,\\n  the mountain or the sea, the day or night:\\n  the crow, or dove, it shapes them to your feature.\\n    incapable of more, replete with you,\\n    my most true mind thus maketh mine untrue.\\n\\n  cxiv\\n\\n  or whether doth my mind, being crown'd with you,\\n  drink up the monarch's plague, this flattery?\\n  or whether shall i say, mine eye saith true,\\n  and that your love taught it this alchemy,\\n  to make of monsters and things indigest\\n  such cherubins as your sweet self resemble,\\n  creating every bad a perfect best,\\n  as fast as objects to his beams assemble?\\n  o! 'tis the first, 'tis flattery in my seeing,\\n  and my great mind most kingly drinks it up:\\n  mine eye well knows what with his gust is 'greeing,\\n  and to his palate doth prepare the cup:\\n    if it be poison'd, 'tis the lesser sin\\n    that mine eye loves it and doth first begin.\\n\\n  cxv\\n\\n  those lines that i before have writ do lie,\\n  even those that said i could not love you dearer:\\n  yet then my judgment knew no reason why\\n  my most full flame should afterwards burn clearer.\\n  but reckoning time, whose million'd accidents\\n  creep in 'twixt vows, and change decrees of kings,\\n  tan sacred beauty, blunt the sharp'st intents,\\n  divert strong minds to the course of altering things;\\n  alas! why fearing of time's tyranny,\\n  might i not then say, 'now i love you best,'\\n  when i was certain o'er incertainty,\\n  crowning the present, doubting of the rest?\\n    love is a babe, then might i not say so,\\n    to give full growth to that which still doth grow?\\n\\n  cxvi\\n\\n  let me not to the marriage of true minds\\n  admit impediments. love is not love\\n  which alters when it alteration finds,\\n  or bends with the remover to remove:\\n  o, no! it is an ever-fixed mark,\\n  that looks on tempests and is never shaken;\\n  it is the star to every wandering bark,\\n  whose worth's unknown, although his height be taken.\\n  love's not time's fool, though rosy lips and cheeks\\n  within his bending sickle's compass come;\\n  love alters not with his brief hours and weeks,\\n  but bears it out even to the edge of doom.\\n    if this be error and upon me prov'd,\\n    i never writ, nor no man ever lov'd.\\n\\n  cxvii\\n\\n  accuse me thus: that i have scanted all,\\n  wherein i should your great deserts repay,\\n  forgot upon your dearest love to call,\\n  whereto all bonds do tie me day by day;\\n  that i have frequent been with unknown minds,\\n  and given to time your own dear-purchas'd right;\\n  that i have hoisted sail to all the winds\\n  which should transport me farthest from your sight.\\n  book both my wilfulness and errors down,\\n  and on just proof surmise, accumulate;\\n  bring me within the level of your frown,\\n  but shoot not at me in your waken'd hate;\\n    since my appeal says i did strive to prove\\n    the constancy and virtue of your love.\\n\\n  cxviii\\n\\n  like as, to make our appetite more keen,\\n  with eager compounds we our palate urge;\\n  as, to prevent our maladies unseen,\\n  we sicken to shun sickness when we purge;\\n  even so, being full of your ne'er-cloying sweetness,\\n  to bitter sauces did i frame my feeding;\\n  and, sick of welfare, found a kind of meetness\\n  to be diseas'd, ere that there was true needing.\\n  thus policy in love, to anticipate\\n  the ills that were not, grew to faults assur'd,\\n  and brought to medicine a healthful state\\n  which, rank of goodness, would by ill be cur'd;\\n    but thence i learn and find the lesson true,\\n    drugs poison him that so fell sick of you.\\n\\n  cxix\\n\\n  what potions have i drunk of siren tears,\\n  distill'd from limbecks foul as hell within,\\n  applying fears to hopes, and hopes to fears,\\n  still losing when i saw myself to win!\\n  what wretched errors hath my heart committed,\\n  whilst it hath thought itself so blessed never!\\n  how have mine eyes out of their spheres been fitted,\\n  in the distraction of this madding fever!\\n  o benefit of ill! now i find true\\n  that better is, by evil still made better;\\n  and ruin'd love, when it is built anew,\\n  grows fairer than at first, more strong, far greater.\\n    so i return rebuk'd to my content,\\n    and gain by ill thrice more than i have spent.\\n\\n  cxx\\n\\n  that you were once unkind befriends me now,\\n  and for that sorrow, which i then did feel,\\n  needs must i under my transgression bow,\\n  unless my nerves were brass or hammer'd steel.\\n  for if you were by my unkindness shaken,\\n  as i by yours, you've pass'd a hell of time;\\n  and i, a tyrant, have no leisure taken\\n  to weigh how once i suffer'd in your crime.\\n  o! that our night of woe might have remember'd\\n  my deepest sense, how hard true sorrow hits,\\n  and soon to you, as you to me, then tender'd\\n  the humble salve, which wounded bosoms fits!\\n    but that your trespass now becomes a fee;\\n    mine ransoms yours, and yours must ransom me.\\n\\n  cxxi\\n\\n  'tis better to be vile than vile esteem'd,\\n  when not to be receives reproach of being;\\n  and the just pleasure lost, which is so deem'd\\n  not by our feeling, but by others' seeing:\\n  for why should others' false adulterate eyes\\n  give salutation to my sportive blood?\\n  or on my frailties why are frailer spies,\\n  which in their wills count bad what i think good?\\n  no, i am that i am, and they that level\\n  at my abuses reckon up their own:\\n  i may be straight though they themselves be bevel;\\n  by their rank thoughts, my deeds must not be shown;\\n    unless this general evil they maintain,\\n    all men are bad and in their badness reign.\\n\\n  cxxii\\n\\n  thy gift, thy tables, are within my brain\\n  full character'd with lasting memory,\\n  which shall above that idle rank remain,\\n  beyond all date; even to eternity:\\n  or, at the least, so long as brain and heart\\n  have faculty by nature to subsist;\\n  till each to raz'd oblivion yield his part\\n  of thee, thy record never can be miss'd.\\n  that poor retention could not so much hold,\\n  nor need i tallies thy dear love to score;\\n  therefore to give them from me was i bold,\\n  to trust those tables that receive thee more:\\n    to keep an adjunct to remember thee\\n    were to import forgetfulness in me.\\n\\n  cxxiii\\n\\n  no, time, thou shalt not boast that i do change:\\n  thy pyramids built up with newer might\\n  to me are nothing novel, nothing strange;\\n  they are but dressings of a former sight.\\n  our dates are brief, and therefore we admire\\n  what thou dost foist upon us that is old;\\n  and rather make them born to our desire\\n  than think that we before have heard them told.\\n  thy registers and thee i both defy,\\n  not wondering at the present nor the past,\\n  for thy records and what we see doth lie,\\n  made more or less by thy continual haste.\\n    this i do vow and this shall ever be;\\n    i will be true despite thy scythe and thee.\\n\\n  cxxiv\\n\\n  if my dear love were but the child of state,\\n  it might for fortune's bastard be unfather'd,\\n  as subject to time's love or to time's hate,\\n  weeds among weeds, or flowers with flowers gather'd.\\n  no, it was builded far from accident;\\n  it suffers not in smiling pomp, nor falls\\n  under the blow of thralled discontent,\\n  whereto th' inviting time our fashion calls:\\n  it fears not policy, that heretic,\\n  which works on leases of short-number'd hours,\\n  but all alone stands hugely politic,\\n  that it nor grows with heat, nor drowns with showers.\\n    to this i witness call the fools of time,\\n    which die for goodness, who have lived for crime.\\n\\n  cxxv\\n\\n  were't aught to me i bore the canopy,\\n  with my extern the outward honouring,\\n  or laid great bases for eternity,\\n  which proves more short than waste or ruining?\\n  have i not seen dwellers on form and favour\\n  lose all and more by paying too much rent\\n  for compound sweet; forgoing simple savour,\\n  pitiful thrivers, in their gazing spent?\\n  no; let me be obsequious in thy heart,\\n  and take thou my oblation, poor but free,\\n  which is not mix'd with seconds, knows no art,\\n  but mutual render, only me for thee.\\n    hence, thou suborned informer! a true soul\\n    when most impeach'd, stands least in thy control.\\n\\n  cxxvi\\n\\n  o thou, my lovely boy, who in thy power\\n  dost hold time's fickle glass, his fickle hour;\\n  who hast by waning grown, and therein show'st\\n  thy lovers withering, as thy sweet self grow'st.\\n  if nature, sovereign mistress over wrack,\\n  as thou goest onwards, still will pluck thee back,\\n  she keeps thee to this purpose, that her skill\\n  may time disgrace and wretched minutes kill.\\n  yet fear her, o thou minion of her pleasure!\\n  she may detain, but not still keep, her treasure:\\n    her audit (though delayed) answered must be,\\n    and her quietus is to render thee.\\n\\n  cxxvii\\n\\n  in the old age black was not counted fair,\\n  or if it were, it bore not beauty's name;\\n  but now is black beauty's successive heir,\\n  and beauty slander'd with a bastard shame:\\n  for since each hand hath put on nature's power,\\n  fairing the foul with art's false borrowed face,\\n  sweet beauty hath no name, no holy bower,\\n  but is profan'd, if not lives in disgrace.\\n  therefore my mistress' eyes are raven black,\\n  her eyes so suited, and they mourners seem\\n  at such who, not born fair, no beauty lack,\\n  sland'ring creation with a false esteem:\\n    yet so they mourn becoming of their woe,\\n    that every tongue says beauty should look so.\\n\\n  cxxviii\\n\\n  how oft when thou, my music, music play'st,\\n  upon that blessed wood whose motion sounds\\n  with thy sweet fingers when thou gently sway'st\\n  the wiry concord that mine ear confounds,\\n  do i envy those jacks that nimble leap,\\n  to kiss the tender inward of thy hand,\\n  whilst my poor lips which should that harvest reap,\\n  at the wood's boldness by thee blushing stand!\\n  to be so tickled, they would change their state\\n  and situation with those dancing chips,\\n  o'er whom thy fingers walk with gentle gait,\\n  making dead wood more bless'd than living lips.\\n    since saucy jacks so happy are in this,\\n    give them thy fingers, me thy lips to kiss.\\n\\n  cxxix\\n\\n  the expense of spirit in a waste of shame\\n  is lust in action: and till action, lust\\n  is perjur'd, murderous, bloody, full of blame,\\n  savage, extreme, rude, cruel, not to trust;\\n  enjoy'd no sooner but despised straight;\\n  past reason hunted; and no sooner had,\\n  past reason hated, as a swallow'd bait,\\n  on purpose laid to make the taker mad:\\n  mad in pursuit and in possession so;\\n  had, having, and in quest, to have extreme;\\n  a bliss in proof,-- and prov'd, a very woe;\\n  before, a joy propos'd; behind a dream.\\n    all this the world well knows; yet none knows well\\n    to shun the heaven that leads men to this hell.\\n\\n  cxxx\\n\\n  my mistress' eyes are nothing like the sun;\\n  coral is far more red, than her lips red:\\n  if snow be white, why then her breasts are dun;\\n  if hairs be wires, black wires grow on her head.\\n  i have seen roses damask'd, red and white,\\n  but no such roses see i in her cheeks;\\n  and in some perfumes is there more delight\\n  than in the breath that from my mistress reeks.\\n  i love to hear her speak, yet well i know\\n  that music hath a far more pleasing sound:\\n  i grant i never saw a goddess go,--\\n  my mistress, when she walks, treads on the ground:\\n    and yet by heaven, i think my love as rare,\\n    as any she belied with false compare.\\n\\n  cxxxi\\n\\n  thou art as tyrannous, so as thou art,\\n  as those whose beauties proudly make them cruel;\\n  for well thou know'st to my dear doting heart\\n  thou art the fairest and most precious jewel.\\n  yet, in good faith, some say that thee behold,\\n  thy face hath not the power to make love groan;\\n  to say they err i dare not be so bold,\\n  although i swear it to myself alone.\\n  and to be sure that is not false i swear,\\n  a thousand groans, but thinking on thy face,\\n  one on another's neck, do witness bear\\n  thy black is fairest in my judgment's place.\\n    in nothing art thou black save in thy deeds,\\n    and thence this slander, as i think, proceeds.\\n\\n  cxxxii\\n\\n  thine eyes i love, and they, as pitying me,\\n  knowing thy heart torment me with disdain,\\n  have put on black and loving mourners be,\\n  looking with pretty ruth upon my pain.\\n  and truly not the morning sun of heaven\\n  better becomes the grey cheeks of the east,\\n  nor that full star that ushers in the even,\\n  doth half that glory to the sober west,\\n  as those two mourning eyes become thy face:\\n  o! let it then as well beseem thy heart\\n  to mourn for me since mourning doth thee grace,\\n  and suit thy pity like in every part.\\n    then will i swear beauty herself is black,\\n    and all they foul that thy complexion lack.\\n\\n  cxxxiii\\n\\n  beshrew that heart that makes my heart to groan\\n  for that deep wound it gives my friend and me!\\n  is't not enough to torture me alone,\\n  but slave to slavery my sweet'st friend must be?\\n  me from myself thy cruel eye hath taken,\\n  and my next self thou harder hast engross'd:\\n  of him, myself, and thee i am forsaken;\\n  a torment thrice three-fold thus to be cross'd:\\n  prison my heart in thy steel bosom's ward,\\n  but then my friend's heart let my poor heart bail;\\n  whoe'er keeps me, let my heart be his guard;\\n  thou canst not then use rigour in my jail:\\n    and yet thou wilt; for i, being pent in thee,\\n    perforce am thine, and all that is in me.\\n\\n  cxxxiv\\n\\n  so, now i have confess'd that he is thine,\\n  and i my self am mortgag'd to thy will,\\n  myself i'll forfeit, so that other mine\\n  thou wilt restore to be my comfort still:\\n  but thou wilt not, nor he will not be free,\\n  for thou art covetous, and he is kind;\\n  he learn'd but surety-like to write for me,\\n  under that bond that him as fast doth bind.\\n  the statute of thy beauty thou wilt take,\\n  thou usurer, that putt'st forth all to use,\\n  and sue a friend came debtor for my sake;\\n  so him i lose through my unkind abuse.\\n    him have i lost; thou hast both him and me:\\n    he pays the whole, and yet am i not free.\\n\\n  cxxxv\\n\\n  whoever hath her wish, thou hast thy 'will,'\\n  and 'will' to boot, and 'will' in over-plus;\\n  more than enough am i that vex'd thee still,\\n  to thy sweet will making addition thus.\\n  wilt thou, whose will is large and spacious,\\n  not once vouchsafe to hide my will in thine?\\n  shall will in others seem right gracious,\\n  and in my will no fair acceptance shine?\\n  the sea, all water, yet receives rain still,\\n  and in abundance addeth to his store;\\n  so thou, being rich in 'will,' add to thy 'will'\\n  one will of mine, to make thy large will more.\\n    let no unkind 'no' fair beseechers kill;\\n    think all but one, and me in that one 'will.'\\n\\n  cxxxvi\\n\\n  if thy soul check thee that i come so near,\\n  swear to thy blind soul that i was thy 'will',\\n  and will, thy soul knows, is admitted there;\\n  thus far for love, my love-suit, sweet, fulfil.\\n  'will', will fulfil the treasure of thy love,\\n  ay, fill it full with wills, and my will one.\\n  in things of great receipt with ease we prove\\n  among a number one is reckon'd none:\\n  then in the number let me pass untold,\\n  though in thy store's account i one must be;\\n  for nothing hold me, so it please thee hold\\n  that nothing me, a something sweet to thee:\\n    make but my name thy love, and love that still,\\n    and then thou lov'st me for my name is 'will.'\\n\\n  cxxxvii\\n\\n  thou blind fool, love, what dost thou to mine eyes,\\n  that they behold, and see not what they see?\\n  they know what beauty is, see where it lies,\\n  yet what the best is take the worst to be.\\n  if eyes, corrupt by over-partial looks,\\n  be anchor'd in the bay where all men ride,\\n  why of eyes' falsehood hast thou forged hooks,\\n  whereto the judgment of my heart is tied?\\n  why should my heart think that a several plot,\\n  which my heart knows the wide world's common place?\\n  or mine eyes, seeing this, say this is not,\\n  to put fair truth upon so foul a face?\\n    in things right true my heart and eyes have err'd,\\n    and to this false plague are they now transferr'd.\\n\\n  cxxxviii\\n\\n  when my love swears that she is made of truth,\\n  i do believe her though i know she lies,\\n  that she might think me some untutor'd youth,\\n  unlearned in the world's false subtleties.\\n  thus vainly thinking that she thinks me young,\\n  although she knows my days are past the best,\\n  simply i credit her false-speaking tongue:\\n  on both sides thus is simple truth suppressed:\\n  but wherefore says she not she is unjust?\\n  and wherefore say not i that i am old?\\n  o! love's best habit is in seeming trust,\\n  and age in love, loves not to have years told:\\n    therefore i lie with her, and she with me,\\n    and in our faults by lies we flatter'd be.\\n\\n  cxxxix\\n\\n  o! call not me to justify the wrong\\n  that thy unkindness lays upon my heart;\\n  wound me not with thine eye, but with thy tongue:\\n  use power with power, and slay me not by art,\\n  tell me thou lov'st elsewhere; but in my sight,\\n  dear heart, forbear to glance thine eye aside:\\n  what need'st thou wound with cunning, when thy might\\n  is more than my o'erpress'd defence can bide?\\n  let me excuse thee: ah! my love well knows\\n  her pretty looks have been mine enemies;\\n  and therefore from my face she turns my foes,\\n  that they elsewhere might dart their injuries:\\n    yet do not so; but since i am near slain,\\n    kill me outright with looks, and rid my pain.\\n\\n\\n  cxl\\n\\n  be wise as thou art cruel; do not press\\n  my tongue-tied patience with too much disdain;\\n  lest sorrow lend me words, and words express\\n  the manner of my pity-wanting pain.\\n  if i might teach thee wit, better it were,\\n  though not to love, yet, love to tell me so;--\\n  as testy sick men, when their deaths be near,\\n  no news but health from their physicians know;--\\n  for, if i should despair, i should grow mad,\\n  and in my madness might speak ill of thee;\\n  now this ill-wresting world is grown so bad,\\n  mad slanderers by mad ears believed be.\\n    that i may not be so, nor thou belied,\\n    bear thine eyes straight, though thy proud heart go wide.\\n\\n  cxli\\n\\n  in faith i do not love thee with mine eyes,\\n  for they in thee a thousand errors note;\\n  but 'tis my heart that loves what they despise,\\n  who, in despite of view, is pleased to dote.\\n  nor are mine ears with thy tongue's tune delighted;\\n  nor tender feeling, to base touches prone,\\n  nor taste, nor smell, desire to be invited\\n  to any sensual feast with thee alone:\\n  but my five wits nor my five senses can\\n  dissuade one foolish heart from serving thee,\\n  who leaves unsway'd the likeness of a man,\\n  thy proud heart's slave and vassal wretch to be:\\n    only my plague thus far i count my gain,\\n    that she that makes me sin awards me pain.\\n\\n  cxlii\\n\\n  love is my sin, and thy dear virtue hate,\\n  hate of my sin, grounded on sinful loving:\\n  o! but with mine compare thou thine own state,\\n  and thou shalt find it merits not reproving;\\n  or, if it do, not from those lips of thine,\\n  that have profan'd their scarlet ornaments\\n  and seal'd false bonds of love as oft as mine,\\n  robb'd others' beds' revenues of their rents.\\n  be it lawful i love thee, as thou lov'st those\\n  whom thine eyes woo as mine importune thee:\\n  root pity in thy heart, that, when it grows,\\n  thy pity may deserve to pitied be.\\n    if thou dost seek to have what thou dost hide,\\n    by self-example mayst thou be denied!\\n\\n  cxliii\\n\\n  lo, as a careful housewife runs to catch\\n  one of her feather'd creatures broke away,\\n  sets down her babe, and makes all swift dispatch\\n  in pursuit of the thing she would have stay;\\n  whilst her neglected child holds her in chase,\\n  cries to catch her whose busy care is bent\\n  to follow that which flies before her face,\\n  not prizing her poor infant's discontent;\\n  so runn'st thou after that which flies from thee,\\n  whilst i thy babe chase thee afar behind;\\n  but if thou catch thy hope, turn back to me,\\n  and play the mother's part, kiss me, be kind;\\n    so will i pray that thou mayst have thy 'will,'\\n    if thou turn back and my loud crying still.\\n\\n  cxliv\\n\\n  two loves i have of comfort and despair,\\n  which like two spirits do suggest me still:\\n  the better angel is a man right fair,\\n  the worser spirit a woman colour'd ill.\\n  to win me soon to hell, my female evil,\\n  tempteth my better angel from my side,\\n  and would corrupt my saint to be a devil,\\n  wooing his purity with her foul pride.\\n  and whether that my angel be turn'd fiend,\\n  suspect i may, yet not directly tell;\\n  but being both from me, both to each friend,\\n  i guess one angel in another's hell:\\n    yet this shall i ne'er know, but live in doubt,\\n    till my bad angel fire my good one out.\\n\\n  cxlv\\n\\n  those lips that love's own hand did make,\\n  breathed forth the sound that said 'i hate',\\n  to me that languish'd for her sake:\\n  but when she saw my woeful state,\\n  straight in her heart did mercy come,\\n  chiding that tongue that ever sweet\\n  was us'd in giving gentle doom;\\n  and taught it thus anew to greet;\\n  'i hate' she alter'd with an end,\\n  that followed it as gentle day,\\n  doth follow night, who like a fiend\\n  from heaven to hell is flown away.\\n    'i hate', from hate away she threw,\\n    and sav'd my life, saying 'not you'.\\n\\n  cxlvi\\n\\n  poor soul, the centre of my sinful earth,\\n  my sinful earth these rebel powers array,\\n  why dost thou pine within and suffer dearth,\\n  painting thy outward walls so costly gay?\\n  why so large cost, having so short a lease,\\n  dost thou upon thy fading mansion spend?\\n  shall worms, inheritors of this excess,\\n  eat up thy charge? is this thy body's end?\\n  then soul, live thou upon thy servant's loss,\\n  and let that pine to aggravate thy store;\\n  buy terms divine in selling hours of dross;\\n  within be fed, without be rich no more:\\n    so shall thou feed on death, that feeds on men,\\n    and death once dead, there's no more dying then.\\n\\n  cxlvii\\n\\n  my love is as a fever longing still,\\n  for that which longer nurseth the disease;\\n  feeding on that which doth preserve the ill,\\n  the uncertain sickly appetite to please.\\n  my reason, the physician to my love,\\n  angry that his prescriptions are not kept,\\n  hath left me, and i desperate now approve\\n  desire is death, which physic did except.\\n  past cure i am, now reason is past care,\\n  and frantic-mad with evermore unrest;\\n  my thoughts and my discourse as madmen's are,\\n  at random from the truth vainly express'd;\\n    for i have sworn thee fair, and thought thee bright,\\n    who art as black as hell, as dark as night.\\n\\n  cxlviii\\n\\n  o me! what eyes hath love put in my head,\\n  which have no correspondence with true sight;\\n  or, if they have, where is my judgment fled,\\n  that censures falsely what they see aright?\\n  if that be fair whereon my false eyes dote,\\n  what means the world to say it is not so?\\n  if it be not, then love doth well denote\\n  love's eye is not so true as all men's: no,\\n  how can it? o! how can love's eye be true,\\n  that is so vexed with watching and with tears?\\n  no marvel then, though i mistake my view;\\n  the sun itself sees not, till heaven clears.\\n    o cunning love! with tears thou keep'st me blind,\\n    lest eyes well-seeing thy foul faults should find.\\n\\n  cxlix\\n\\n  canst thou, o cruel! say i love thee not,\\n  when i against myself with thee partake?\\n  do i not think on thee, when i forgot\\n  am of my self, all tyrant, for thy sake?\\n  who hateth thee that i do call my friend,\\n  on whom frown'st thou that i do fawn upon,\\n  nay, if thou lour'st on me, do i not spend\\n  revenge upon myself with present moan?\\n  what merit do i in my self respect,\\n  that is so proud thy service to despise,\\n  when all my best doth worship thy defect,\\n  commanded by the motion of thine eyes?\\n    but, love, hate on, for now i know thy mind;\\n    those that can see thou lov'st, and i am blind.\\n\\n  cl\\n\\n  o! from what power hast thou this powerful might,\\n  with insufficiency my heart to sway?\\n  to make me give the lie to my true sight,\\n  and swear that brightness doth not grace the day?\\n  whence hast thou this becoming of things ill,\\n  that in the very refuse of thy deeds\\n  there is such strength and warrantise of skill,\\n  that, in my mind, thy worst all best exceeds?\\n  who taught thee how to make me love thee more,\\n  the more i hear and see just cause of hate?\\n  o! though i love what others do abhor,\\n  with others thou shouldst not abhor my state:\\n    if thy unworthiness rais'd love in me,\\n    more worthy i to be belov'd of thee.\\n\\n  cli\\n\\n  love is too young to know what conscience is,\\n  yet who knows not conscience is born of love?\\n  then, gentle cheater, urge not my amiss,\\n  lest guilty of my faults thy sweet self prove:\\n  for, thou betraying me, i do betray\\n  my nobler part to my gross body's treason;\\n  my soul doth tell my body that he may\\n  triumph in love; flesh stays no farther reason,\\n  but rising at thy name doth point out thee,\\n  as his triumphant prize. proud of this pride,\\n  he is contented thy poor drudge to be,\\n  to stand in thy affairs, fall by thy side.\\n    no want of conscience hold it that i call\\n    her 'love,' for whose dear love i rise and fall.\\n\\n  clii\\n\\n  in loving thee thou know'st i am forsworn,\\n  but thou art twice forsworn, to me love swearing;\\n  in act thy bed-vow broke, and new faith torn,\\n  in vowing new hate after new love bearing:\\n  but why of two oaths' breach do i accuse thee,\\n  when i break twenty? i am perjur'd most;\\n  for all my vows are oaths but to misuse thee,\\n  and all my honest faith in thee is lost:\\n  for i have sworn deep oaths of thy deep kindness,\\n  oaths of thy love, thy truth, thy constancy;\\n  and, to enlighten thee, gave eyes to blindness,\\n  or made them swear against the thing they see;\\n    for i have sworn thee fair; more perjur'd i,\\n    to swear against the truth so foul a lie!\\n\\n  cliii\\n\\n  cupid laid by his brand and fell asleep:\\n  a maid of dian's this advantage found,\\n  and his love-kindling fire did quickly steep\\n  in a cold valley-fountain of that ground;\\n  which borrow'd from this holy fire of love,\\n  a dateless lively heat, still to endure,\\n  and grew a seeting bath, which yet men prove\\n  against strange maladies a sovereign cure.\\n  but at my mistress' eye love's brand new-fired,\\n  the boy for trial needs would touch my breast;\\n  i, sick withal, the help of bath desired,\\n  and thither hied, a sad distemper'd guest,\\n    but found no cure, the bath for my help lies\\n    where cupid got new fire; my mistress' eyes.\\n\\n  cliv\\n\\n  the little love-god lying once asleep,\\n  laid by his side his heart-inflaming brand,\\n  whilst many nymphs that vow'd chaste life to keep\\n  came tripping by; but in her maiden hand\\n  the fairest votary took up that fire\\n  which many legions of true hearts had warm'd;\\n  and so the general of hot desire\\n  was, sleeping, by a virgin hand disarm'd.\\n  this brand she quenched in a cool well by,\\n  which from love's fire took heat perpetual,\\n  growing a bath and healthful remedy,\\n  for men diseas'd; but i, my mistress' thrall,\\n    came there for cure and this by that i prove,\\n    love's fire heats water, water cools not love.\\n\""
            ],
            "application/vnd.google.colaboratory.intrinsic+json": {
              "type": "string"
            }
          },
          "metadata": {},
          "execution_count": 7
        }
      ]
    },
    {
      "cell_type": "markdown",
      "metadata": {
        "id": "HUKYoN3vTA_v"
      },
      "source": [
        "Put all the characters, that you've seen in the text, into variable `tokens`."
      ]
    },
    {
      "cell_type": "markdown",
      "metadata": {
        "id": "pkVkCSOXTA_v"
      },
      "source": [
        "Create dictionary `token_to_idx = {<char>: <index>}` and dictionary `idx_to_token = {<index>: <char>}`"
      ]
    },
    {
      "cell_type": "code",
      "source": [
        "wordfreq = Counter(words)\n",
        "tokens = sorted(wordfreq, key=wordfreq.get)\n",
        "num_tokens = len(tokens)"
      ],
      "metadata": {
        "id": "8uaJWaUYWhvi"
      },
      "execution_count": null,
      "outputs": []
    },
    {
      "cell_type": "code",
      "execution_count": null,
      "metadata": {
        "collapsed": true,
        "id": "3nAViCtTTA_w"
      },
      "outputs": [],
      "source": [
        "# we prefer \"2\" to \"_to_\"\n",
        "\n",
        "# Your great code here\n",
        "# dict <index>:<char>\n",
        "idx2token = {k:w for k,w in enumerate(tokens)}\n",
        "\n",
        "# dict <char>:<index>\n",
        "# Your great code here\n",
        "token2idx = {w:k for k,w in idx2token.items()}"
      ]
    },
    {
      "cell_type": "code",
      "source": [
        "# various parameters for nets\n",
        "batch_size = 16\n",
        "seq_size = 32\n",
        "gradients_norm = 5\n",
        "device = torch.device('cuda' if torch.cuda.is_available() else 'cpu')"
      ],
      "metadata": {
        "id": "5m_pPJg_HogX"
      },
      "execution_count": null,
      "outputs": []
    },
    {
      "cell_type": "markdown",
      "metadata": {
        "id": "9bFyHMZHTA_w"
      },
      "source": [
        "*Comment: in this task we have only 38 different tokens, so let's use one-hot encoding.*"
      ]
    },
    {
      "cell_type": "markdown",
      "metadata": {
        "id": "ckyc7NbPTA_x"
      },
      "source": [
        "### Building the model"
      ]
    },
    {
      "cell_type": "markdown",
      "metadata": {
        "id": "hPptAsYTTA_x"
      },
      "source": [
        "Now we want to build and train recurrent neural net which would be able to something similar to Shakespeare's poetry.\n",
        "\n",
        "Let's use vanilla RNN, similar to the one created during the lesson."
      ]
    },
    {
      "cell_type": "code",
      "execution_count": null,
      "metadata": {
        "collapsed": true,
        "id": "zLfzpUNlTA_x"
      },
      "outputs": [],
      "source": [
        "class rnn_net(nn.Module):\n",
        "    def __init__(self, n_vocab, embedding_size=64, rnn_size=64):\n",
        "        super(rnn_net, self).__init__()\n",
        "        self.rnn_size = rnn_size\n",
        "\n",
        "        self.embedding = nn.Embedding(n_vocab, embedding_size)\n",
        "        self.lstm = nn.RNN(embedding_size, rnn_size, batch_first=True)\n",
        "        self.dense = nn.Linear(rnn_size, n_vocab)\n",
        "        \n",
        "    def forward(self, x, prev_state):\n",
        "        embed = self.embedding(x)\n",
        "        output, state = self.lstm(embed, prev_state)\n",
        "        logits = self.dense(output)\n",
        "\n",
        "        return logits, state\n",
        "    \n",
        "    def zero_state(self, batch_size):\n",
        "        return (torch.zeros(1, batch_size, self.rnn_size))\n",
        "\n",
        "\n",
        "class lstm_net(nn.Module):\n",
        "    def __init__(self, n_vocab, embedding_size=64, lstm_size=64):\n",
        "        super(lstm_net, self).__init__()\n",
        "        self.lstm_size = lstm_size\n",
        "\n",
        "        self.embedding = nn.Embedding(n_vocab, embedding_size)\n",
        "        self.lstm = nn.LSTM(embedding_size, lstm_size, batch_first=True)\n",
        "        self.dense = nn.Linear(lstm_size, n_vocab)\n",
        "        \n",
        "    def forward(self, x, prev_state):\n",
        "        embed = self.embedding(x)\n",
        "        output, state = self.lstm(embed, prev_state)\n",
        "        logits = self.dense(output)\n",
        "\n",
        "        return logits, state\n",
        "    \n",
        "    def zero_state(self, batch_size):\n",
        "        return (torch.zeros(1, batch_size, self.lstm_size),torch.zeros(1, batch_size, self.lstm_size))"
      ]
    },
    {
      "cell_type": "code",
      "source": [
        "def get_batches(words, token2idx, batch_size, seq_size):\n",
        "    word_ints = [token2idx[word] for word in words]\n",
        "    num_batches = int(len(word_ints) / (batch_size * seq_size))\n",
        "    Xs = word_ints[:num_batches*batch_size*seq_size]\n",
        "    Ys = np.zeros_like(Xs)\n",
        "    Ys[:-1] = Xs[1:]\n",
        "    Ys[-1] = Xs[0]\n",
        "    Xs = np.reshape(Xs, (num_batches*batch_size, seq_size))\n",
        "    Ys= np.reshape(Ys, (num_batches*batch_size, seq_size))\n",
        "    \n",
        "    for i in range(0, num_batches*batch_size, batch_size):\n",
        "        yield Xs[i:i+batch_size, :], Ys[i:i+batch_size, :]\n",
        "\n",
        "def plt1(loss):\n",
        "    plt.figure(figsize = (10 , 10))\n",
        "    plt.xlabel(\"Epoch\")\n",
        "    plt.ylabel(\"Loss\")\n",
        "\n",
        "    plt.plot(np.arange(len(loss)) + 1, loss, label=\"Training loss\")\n",
        "\n",
        "    plt.legend()\n",
        "    plt.show()"
      ],
      "metadata": {
        "id": "76JT0CBBHuQu"
      },
      "execution_count": null,
      "outputs": []
    },
    {
      "cell_type": "markdown",
      "metadata": {
        "id": "eW5NHMkCTA_x"
      },
      "source": [
        "Plot the loss function (axis X: number of epochs, axis Y: loss function)."
      ]
    },
    {
      "cell_type": "code",
      "source": [
        "def train_rnn(net, words, vocab_to_int, int_to_vocab, n_vocab, n_epoch):\n",
        "    net = net.to(device)\n",
        "    net.train()\n",
        "\n",
        "    criterion = nn.CrossEntropyLoss()\n",
        "    optimizer = torch.optim.Adam(net.parameters(), lr=0.01)\n",
        "\n",
        "    loss_train = []\n",
        "    \n",
        "    for epoch in tqdm(range(n_epoch)):\n",
        "        batches = get_batches(words, vocab_to_int, batch_size, seq_size)\n",
        "        state_h = net.zero_state(batch_size)\n",
        "\n",
        "        state_h = state_h.to(device)\n",
        "        for x, y in batches:\n",
        "            x = torch.tensor(x).to(device)\n",
        "            y = torch.tensor(y).to(device)\n",
        "\n",
        "            optimizer.zero_grad()\n",
        "\n",
        "            logits, state_h = net(x, state_h)\n",
        "            loss = criterion(logits.transpose(1, 2), y)\n",
        "\n",
        "            state_h = state_h.detach()\n",
        "\n",
        "            loss_value = loss.item()\n",
        "            loss_train.append(loss_value)\n",
        "\n",
        "            loss.backward()            \n",
        "            optimizer.step()\n",
        "\n",
        "        print(f\"Epoch: {epoch}; Loss: {loss_value}\")\n",
        "\n",
        "    return loss_train\n",
        "\n",
        "\n",
        "def train_lstm(net, words, vocab_to_int, int_to_vocab, n_vocab, n_epoch):\n",
        "    net = net.to(device)\n",
        "    net.train()\n",
        "\n",
        "    criterion = nn.CrossEntropyLoss()\n",
        "    optimizer = torch.optim.Adam(net.parameters(), lr=0.01)\n",
        "\n",
        "    loss_train = []\n",
        "    \n",
        "    for epoch in tqdm(range(n_epoch)):\n",
        "        batches = get_batches(words, vocab_to_int, batch_size, seq_size)\n",
        "        state_h, state_c = net.zero_state(batch_size)\n",
        "\n",
        "        state_h = state_h.to(device)\n",
        "        state_c = state_h.to(device)\n",
        "        for x, y in batches:\n",
        "            x = torch.tensor(x).to(device)\n",
        "            y = torch.tensor(y).to(device)\n",
        "\n",
        "            optimizer.zero_grad()\n",
        "\n",
        "            logits, (state_h, state_c) = net(x, (state_h, state_c))\n",
        "            loss = criterion(logits.transpose(1, 2), y)\n",
        "\n",
        "            state_h = state_h.detach()\n",
        "            state_c = state_h.detach()\n",
        "\n",
        "            loss_value = loss.item()\n",
        "            loss_train.append(loss_value)\n",
        "\n",
        "            loss.backward()\n",
        "            optimizer.step()\n",
        "\n",
        "        print(f\"Epoch: {epoch}; Loss: {loss_value}\")\n",
        "\n",
        "    return loss_train"
      ],
      "metadata": {
        "id": "ZFu8p840Xzdi"
      },
      "execution_count": null,
      "outputs": []
    },
    {
      "cell_type": "code",
      "source": [
        "rnn_model = rnn_net(num_tokens)\n",
        "loss = train_rnn(rnn_model, words, token2idx, idx2token, num_tokens, 50)"
      ],
      "metadata": {
        "colab": {
          "base_uri": "https://localhost:8080/",
          "height": 917,
          "referenced_widgets": [
            "226f185058f842429a4121dfe050af5f",
            "c47d08860d8b44e1b33462d2deae0bc2",
            "c54082ecdc9b404ab1096b806c7f645d",
            "65c33fbaec0a4121bac4666286a31ea6",
            "9fa5357f14c046fdb58a70beec4f6ce0",
            "5bafb41299cb49cfa53bd47a6e3bf710",
            "0366b806c03b4334b761e673263ca889",
            "efeb492bb48345c9a927b9f962b91fb5",
            "894da9de4a7b4fec9b5b2a5e75127681",
            "df5e77334ef34445b61963d6461e7f3d",
            "35ba78c54f334b7fa17968954ba81eb0"
          ]
        },
        "id": "e6P0aHtCX8zN",
        "outputId": "43ad7653-8177-42c2-d0bb-df14702d4631"
      },
      "execution_count": null,
      "outputs": [
        {
          "output_type": "display_data",
          "data": {
            "text/plain": [
              "  0%|          | 0/50 [00:00<?, ?it/s]"
            ],
            "application/vnd.jupyter.widget-view+json": {
              "version_major": 2,
              "version_minor": 0,
              "model_id": "226f185058f842429a4121dfe050af5f"
            }
          },
          "metadata": {}
        },
        {
          "output_type": "stream",
          "name": "stdout",
          "text": [
            "Epoch: 0; Loss: 6.4438090324401855\n",
            "Epoch: 1; Loss: 5.982717514038086\n",
            "Epoch: 2; Loss: 5.63507080078125\n",
            "Epoch: 3; Loss: 5.12992525100708\n",
            "Epoch: 4; Loss: 4.770852088928223\n",
            "Epoch: 5; Loss: 4.451077938079834\n",
            "Epoch: 6; Loss: 4.119347095489502\n",
            "Epoch: 7; Loss: 3.925241470336914\n",
            "Epoch: 8; Loss: 3.7061007022857666\n",
            "Epoch: 9; Loss: 3.475881814956665\n",
            "Epoch: 10; Loss: 3.2830538749694824\n",
            "Epoch: 11; Loss: 3.1014461517333984\n",
            "Epoch: 12; Loss: 2.9516029357910156\n",
            "Epoch: 13; Loss: 2.8256754875183105\n",
            "Epoch: 14; Loss: 2.7410900592803955\n",
            "Epoch: 15; Loss: 2.630300283432007\n",
            "Epoch: 16; Loss: 2.5135340690612793\n",
            "Epoch: 17; Loss: 2.4103000164031982\n",
            "Epoch: 18; Loss: 2.3832223415374756\n",
            "Epoch: 19; Loss: 2.3314602375030518\n",
            "Epoch: 20; Loss: 2.2103559970855713\n",
            "Epoch: 21; Loss: 2.1562671661376953\n",
            "Epoch: 22; Loss: 2.0868701934814453\n",
            "Epoch: 23; Loss: 2.053717851638794\n",
            "Epoch: 24; Loss: 1.9522805213928223\n",
            "Epoch: 25; Loss: 1.9586474895477295\n",
            "Epoch: 26; Loss: 1.8578392267227173\n",
            "Epoch: 27; Loss: 1.8199167251586914\n",
            "Epoch: 28; Loss: 1.7832093238830566\n",
            "Epoch: 29; Loss: 1.7507920265197754\n",
            "Epoch: 30; Loss: 1.6784478425979614\n",
            "Epoch: 31; Loss: 1.6599740982055664\n",
            "Epoch: 32; Loss: 1.6381453275680542\n",
            "Epoch: 33; Loss: 1.565987467765808\n",
            "Epoch: 34; Loss: 1.5383552312850952\n",
            "Epoch: 35; Loss: 1.5262646675109863\n",
            "Epoch: 36; Loss: 1.5977120399475098\n",
            "Epoch: 37; Loss: 1.581119179725647\n",
            "Epoch: 38; Loss: 1.5280299186706543\n",
            "Epoch: 39; Loss: 1.4591569900512695\n",
            "Epoch: 40; Loss: 1.4811389446258545\n",
            "Epoch: 41; Loss: 1.4603087902069092\n",
            "Epoch: 42; Loss: 1.4672915935516357\n",
            "Epoch: 43; Loss: 1.4456068277359009\n",
            "Epoch: 44; Loss: 1.373274803161621\n",
            "Epoch: 45; Loss: 1.349868893623352\n",
            "Epoch: 46; Loss: 1.3606891632080078\n",
            "Epoch: 47; Loss: 1.3939918279647827\n",
            "Epoch: 48; Loss: 1.278035044670105\n",
            "Epoch: 49; Loss: 1.2557770013809204\n"
          ]
        }
      ]
    },
    {
      "cell_type": "code",
      "execution_count": null,
      "metadata": {
        "collapsed": true,
        "colab": {
          "base_uri": "https://localhost:8080/",
          "height": 606
        },
        "id": "DkvdzXQaTA_y",
        "outputId": "836d0040-ff6a-4e07-e71e-7a78fe4ea2cd"
      },
      "outputs": [
        {
          "output_type": "display_data",
          "data": {
            "text/plain": [
              "<Figure size 720x720 with 1 Axes>"
            ],
            "image/png": "[encoded data removed]"
          },
          "metadata": {
            "needs_background": "light"
          }
        }
      ],
      "source": [
        "plt1(loss)"
      ]
    },
    {
      "cell_type": "code",
      "execution_count": null,
      "metadata": {
        "id": "mq168xHETA_y"
      },
      "outputs": [],
      "source": [
        "import torch.nn.functional as F\n",
        "\n",
        "MAX_LENGTH  = 128\n",
        "def generate_sample_rnn(char_rnn, seed_phrase=['hello'], max_length=MAX_LENGTH, temperature=1.0, token2idx=token2idx, idx2token=idx2token):\n",
        "    '''\n",
        "    ### Disclaimer: this is an example function for text generation.\n",
        "    ### You can either adapt it in your code or create your own function\n",
        "    \n",
        "    The function generates text given a phrase of length at least SEQ_LENGTH.\n",
        "    :param seed_phrase: prefix characters. The RNN is asked to continue the phrase\n",
        "    :param max_length: maximum output length, including seed_phrase\n",
        "    :param temperature: coefficient for sampling.  higher temperature produces more chaotic outputs, \n",
        "        smaller temperature converges to the single most likely output.\n",
        "        \n",
        "    Be careful with the model output. This model waits logits (not probabilities/log-probabilities)\n",
        "    of the next symbol.\n",
        "    '''\n",
        "    char_rnn.eval()\n",
        "    x_sequence = [token2idx[token] for token in seed_phrase]\n",
        "    x_sequence = torch.tensor([x_sequence], dtype=torch.int64)\n",
        "    hid_state = char_rnn.zero_state(1)\n",
        "    #feed the seed phrase, if any\n",
        "    for i in range(len(seed_phrase) - 1):\n",
        "        out, hid_state = char_rnn(x_sequence, hid_state)\n",
        "    #start generating\n",
        "    for _ in range(max_length - len(seed_phrase)):\n",
        "        out, hid_state = char_rnn(x_sequence, hid_state)\n",
        "        p_next = F.softmax(out / temperature, dim=-1).data.numpy()[0][-1]\n",
        "\n",
        "        next_ix = np.random.choice(len(idx2token), p=p_next)\n",
        "        next_ix = torch.tensor([[next_ix]], dtype=torch.int64)\n",
        "\n",
        "        x_sequence = torch.cat([x_sequence, next_ix], dim=1)\n",
        "        \n",
        "    return ' '.join([idx2token[ix] for ix in x_sequence.data.numpy()[0]])\n",
        "\n",
        "\n",
        "def generate_sample_lstm(char_rnn, seed_phrase=['hello'], max_length=MAX_LENGTH, temperature=1.0, token2idx=token2idx, idx2token=idx2token):\n",
        "    '''\n",
        "    ### Disclaimer: this is an example function for text generation.\n",
        "    ### You can either adapt it in your code or create your own function\n",
        "    \n",
        "    The function generates text given a phrase of length at least SEQ_LENGTH.\n",
        "    :param seed_phrase: prefix characters. The RNN is asked to continue the phrase\n",
        "    :param max_length: maximum output length, including seed_phrase\n",
        "    :param temperature: coefficient for sampling.  higher temperature produces more chaotic outputs, \n",
        "        smaller temperature converges to the single most likely output.\n",
        "        \n",
        "    Be careful with the model output. This model waits logits (not probabilities/log-probabilities)\n",
        "    of the next symbol.\n",
        "    '''\n",
        "    char_rnn.eval()\n",
        "    x_sequence = [token2idx[token] for token in seed_phrase]\n",
        "    x_sequence = torch.tensor([x_sequence], dtype=torch.int64)\n",
        "    (hid_state_h, hid_state_c) = char_rnn.zero_state(1)\n",
        "\n",
        "    #feed the seed phrase, if any\n",
        "    for i in range(len(seed_phrase) - 1):\n",
        "        out, (hid_state_h, hid_state_c)  = char_rnn(x_sequence, (hid_state_h, hid_state_c))\n",
        "    #start generating\n",
        "    for _ in range(max_length - len(seed_phrase)):\n",
        "        out, (hid_state_h, hid_state_c) = char_rnn(x_sequence, (hid_state_h, hid_state_c))\n",
        "        p_next = F.softmax(out / temperature, dim=-1).data.numpy()[0][-1]\n",
        "\n",
        "        next_ix = np.random.choice(len(idx2token), p=p_next)\n",
        "        next_ix = torch.tensor([[next_ix]], dtype=torch.int64)\n",
        "\n",
        "        x_sequence = torch.cat([x_sequence, next_ix], dim=1)\n",
        "        \n",
        "    return ' '.join([idx2token[ix] for ix in x_sequence.data.numpy()[0]])"
      ]
    },
    {
      "cell_type": "code",
      "source": [
        "# An example of generated text.\n",
        "generated_text = generate_sample_rnn(rnn_model, seed_phrase=['that', 'thereby'], max_length=12, temperature=0.2)\n",
        "print(generated_text)"
      ],
      "metadata": {
        "colab": {
          "base_uri": "https://localhost:8080/"
        },
        "id": "mmiROqiNYOtj",
        "outputId": "4bb4e496-f5e2-4c17-8aca-d8992b25a3fd"
      },
      "execution_count": null,
      "outputs": [
        {
          "output_type": "stream",
          "name": "stdout",
          "text": [
            "that thereby abundance public means green no more than in eternal lines\n"
          ]
        }
      ]
    },
    {
      "cell_type": "markdown",
      "metadata": {
        "id": "fvA6VY_QTA_z"
      },
      "source": [
        "### More poetic model\n",
        "\n",
        "Let's use LSTM instead of vanilla RNN and compare the results."
      ]
    },
    {
      "cell_type": "markdown",
      "metadata": {
        "id": "TBJuaWqNTA_z"
      },
      "source": [
        "Plot the loss function of the number of epochs. Does the final loss become better?"
      ]
    },
    {
      "cell_type": "code",
      "source": [
        "lstm_model = lstm_net(num_tokens)\n",
        "loss = train_lstm(lstm_model, words, token2idx, idx2token, num_tokens, 50)"
      ],
      "metadata": {
        "colab": {
          "base_uri": "https://localhost:8080/",
          "height": 917,
          "referenced_widgets": [
            "871049a0780442fd954158b46d490e70",
            "f8a1a24ecc424aca84501f61bb685eae",
            "1a7268de5fde41f1a69162892b23489d",
            "87801114da5e45e581338e813a4e66f5",
            "6a5a0d971c664fba9cf0e20202e2cf19",
            "2645a5dcaf4f4c7289d92f37ae5a2057",
            "e1a72f1980534314b645379fc65b496b",
            "a0a7e5e7663d455a8a3b67d33a67a743",
            "df2e1c2cab7340bfbef299fb7e9e3064",
            "f750c17a8b764fdfa190a66cf9021de6",
            "1b7b8d667a9b44d58c966f641129d8f0"
          ]
        },
        "id": "dyF9d7RXYdx1",
        "outputId": "a83eaab4-942f-4f84-9b31-adef607ab580"
      },
      "execution_count": null,
      "outputs": [
        {
          "output_type": "display_data",
          "data": {
            "text/plain": [
              "  0%|          | 0/50 [00:00<?, ?it/s]"
            ],
            "application/vnd.jupyter.widget-view+json": {
              "version_major": 2,
              "version_minor": 0,
              "model_id": "871049a0780442fd954158b46d490e70"
            }
          },
          "metadata": {}
        },
        {
          "output_type": "stream",
          "name": "stdout",
          "text": [
            "Epoch: 0; Loss: 6.459197044372559\n",
            "Epoch: 1; Loss: 5.996891498565674\n",
            "Epoch: 2; Loss: 5.700797080993652\n",
            "Epoch: 3; Loss: 5.318845748901367\n",
            "Epoch: 4; Loss: 4.973910331726074\n",
            "Epoch: 5; Loss: 4.648543357849121\n",
            "Epoch: 6; Loss: 4.351592540740967\n",
            "Epoch: 7; Loss: 4.0965471267700195\n",
            "Epoch: 8; Loss: 3.8836889266967773\n",
            "Epoch: 9; Loss: 3.673949956893921\n",
            "Epoch: 10; Loss: 3.497861385345459\n",
            "Epoch: 11; Loss: 3.341287612915039\n",
            "Epoch: 12; Loss: 3.2641689777374268\n",
            "Epoch: 13; Loss: 3.104680061340332\n",
            "Epoch: 14; Loss: 2.963369846343994\n",
            "Epoch: 15; Loss: 2.823122262954712\n",
            "Epoch: 16; Loss: 2.698139190673828\n",
            "Epoch: 17; Loss: 2.598137855529785\n",
            "Epoch: 18; Loss: 2.474733591079712\n",
            "Epoch: 19; Loss: 2.3626949787139893\n",
            "Epoch: 20; Loss: 2.290126085281372\n",
            "Epoch: 21; Loss: 2.189635753631592\n",
            "Epoch: 22; Loss: 2.098062753677368\n",
            "Epoch: 23; Loss: 2.0214524269104004\n",
            "Epoch: 24; Loss: 1.9311779737472534\n",
            "Epoch: 25; Loss: 1.8433917760849\n",
            "Epoch: 26; Loss: 1.7784785032272339\n",
            "Epoch: 27; Loss: 1.7053134441375732\n",
            "Epoch: 28; Loss: 1.6582969427108765\n",
            "Epoch: 29; Loss: 1.6063973903656006\n",
            "Epoch: 30; Loss: 1.5516940355300903\n",
            "Epoch: 31; Loss: 1.4976729154586792\n",
            "Epoch: 32; Loss: 1.4282944202423096\n",
            "Epoch: 33; Loss: 1.3393304347991943\n",
            "Epoch: 34; Loss: 1.3088738918304443\n",
            "Epoch: 35; Loss: 1.252832293510437\n",
            "Epoch: 36; Loss: 1.1938917636871338\n",
            "Epoch: 37; Loss: 1.1433526277542114\n",
            "Epoch: 38; Loss: 1.1093136072158813\n",
            "Epoch: 39; Loss: 1.0979470014572144\n",
            "Epoch: 40; Loss: 1.0186582803726196\n",
            "Epoch: 41; Loss: 0.9799880981445312\n",
            "Epoch: 42; Loss: 0.9771394729614258\n",
            "Epoch: 43; Loss: 0.9220830202102661\n",
            "Epoch: 44; Loss: 0.9198316335678101\n",
            "Epoch: 45; Loss: 0.8723012208938599\n",
            "Epoch: 46; Loss: 0.8666955828666687\n",
            "Epoch: 47; Loss: 0.817269504070282\n",
            "Epoch: 48; Loss: 0.7958524823188782\n",
            "Epoch: 49; Loss: 0.7363535761833191\n"
          ]
        }
      ]
    },
    {
      "cell_type": "code",
      "source": [
        "plt1(loss)"
      ],
      "metadata": {
        "colab": {
          "base_uri": "https://localhost:8080/",
          "height": 606
        },
        "id": "GjUeje2BYfQo",
        "outputId": "b54e87e0-323f-47e0-8638-f55f4deae9e7"
      },
      "execution_count": null,
      "outputs": [
        {
          "output_type": "display_data",
          "data": {
            "text/plain": [
              "<Figure size 720x720 with 1 Axes>"
            ],
            "image/png": "[encoded data removed]"
          },
          "metadata": {
            "needs_background": "light"
          }
        }
      ]
    },
    {
      "cell_type": "code",
      "source": [
        "generate_sample_lstm(lstm_model, seed_phrase=['that', 'thereby'], max_length=12, temperature=0.2)"
      ],
      "metadata": {
        "colab": {
          "base_uri": "https://localhost:8080/",
          "height": 36
        },
        "id": "37gylSpLViiS",
        "outputId": "89fe8713-d699-4dbe-d86e-82ae12e0ee20"
      },
      "execution_count": null,
      "outputs": [
        {
          "output_type": "execute_result",
          "data": {
            "text/plain": [
              "'that thereby thou wilt not be so bold although i do doing'"
            ],
            "application/vnd.google.colaboratory.intrinsic+json": {
              "type": "string"
            }
          },
          "metadata": {},
          "execution_count": 20
        }
      ]
    },
    {
      "cell_type": "markdown",
      "metadata": {
        "id": "aJ6kd-DJTA_8"
      },
      "source": [
        "Generate text using the trained net with different `temperature` parameter: `[0.1, 0.2, 0.5, 1.0, 2.0]`.\n",
        "\n",
        "Evaluate the results visually, try to interpret them."
      ]
    },
    {
      "cell_type": "code",
      "execution_count": null,
      "metadata": {
        "collapsed": true,
        "id": "xZHiTCHXTA_8"
      },
      "outputs": [],
      "source": [
        "# Text generation with different temperature values here\n",
        "temperatures = [0.1, 0.2, 0.5, 1.0, 2.0]\n",
        "seeds = [['that', 'thereby'], ['that', 'thereby'], ['that', 'thereby'], ['that', 'thereby'], ['that', 'thereby']]\n",
        "def make_temperature_test(model, temperatures, seeds, lngth=50):\n",
        "    for temp, seed in zip(temperatures, seeds):\n",
        "         print(f\"temperature = {temp}\")\n",
        "         print(generate_sample_lstm(model, seed_phrase=seed, max_length=lngth, temperature=temp))\n",
        "         print(\"\\n\")"
      ]
    },
    {
      "cell_type": "code",
      "source": [
        "make_temperature_test(lstm_model, temperatures, seeds)"
      ],
      "metadata": {
        "colab": {
          "base_uri": "https://localhost:8080/"
        },
        "id": "H0jHjNslVVZr",
        "outputId": "4b626204-74d3-41f4-9c98-db75280b3b08"
      },
      "execution_count": null,
      "outputs": [
        {
          "output_type": "stream",
          "name": "stdout",
          "text": [
            "temperature = 0.1\n",
            "that thereby thou wilt not from me as with thy sweet love rememberd such wealth brings and in their badness reign cxxii thy gift thy will i will acquaintance strangle and look strange they than no more to hear why hearst thou art so possessd with murderous hate that gainst\n",
            "\n",
            "\n",
            "temperature = 0.2\n",
            "that thereby thou wilt thou then take the world should task you to recite what merit lived in me that i that beauty still three winters cold have drawn is not enough that they behold when i sleep in dreams they look on thee and darkly bright are bright in\n",
            "\n",
            "\n",
            "temperature = 0.5\n",
            "that thereby thou art so possessd with murderous hate that gainst thy memory blame savage extreme rude cruel not to trust enjoyd no sooner but despised straight past reason hunted and no sooner but despised straight past reason hunted and no sooner but despised every thing argument that to the\n",
            "\n",
            "\n",
            "temperature = 1.0\n",
            "that thereby thou then not to thyself so will some in their hawks and hounds some in their horse and every humour hath his skill in jollity and purest faith unhappily forsworn and gilded honour shamefully misplacd and maiden virtue rudely strumpeted and right perfection wrongfully disgracd and strength by\n",
            "\n",
            "\n",
            "temperature = 2.0\n",
            "that thereby pays in heavy turns siege was yet none hates of yours silence or at black featurd like tender these gentle birth detain from since your poets goddess of his skill why but hung shall for others slanderers by him so far then delight save for she faults whilst\n",
            "\n",
            "\n"
          ]
        }
      ]
    },
    {
      "cell_type": "markdown",
      "metadata": {
        "id": "VkY2Eim4TA_9"
      },
      "source": [
        "### Saving and loading models"
      ]
    },
    {
      "cell_type": "markdown",
      "metadata": {
        "id": "0IVuCCiQTA_9"
      },
      "source": [
        "Save the model to the disk, then load it and generate text. Examples are available [here](https://pytorch.org/tutorials/beginner/saving_loading_models.html])."
      ]
    },
    {
      "cell_type": "code",
      "execution_count": null,
      "metadata": {
        "colab": {
          "base_uri": "https://localhost:8080/"
        },
        "id": "3-lNhOMvTA_9",
        "outputId": "eadc3566-ebb6-461b-e55f-2ba9de0f1734"
      },
      "outputs": [
        {
          "output_type": "stream",
          "name": "stdout",
          "text": [
            "temperature = 0.1\n",
            "that thereby thou wilt no praise to thee and i have seen by times fell hand defacd the richproud cost of these all or all my heart to me richer than wealth prouder than garments costs of me so as testy sick men when your to be your being shall\n",
            "\n",
            "\n",
            "temperature = 0.2\n",
            "that thereby thou wilt no praise to thee the scope and tenure of love and in my jail and yet thou wilt for i have seen by times fell hand defacd the richproud cost of his beauty new from his edge xcvi some part so either never shaken it is\n",
            "\n",
            "\n",
            "temperature = 0.5\n",
            "that thereby thou contracted to be my comfort still but thou wilt no it is my love and all the world unbless some in their bodys force some suspect to make the world may show who his spoil of small glory live for fear of me so as testy sick\n",
            "\n",
            "\n",
            "temperature = 1.0\n",
            "that thereby thou contracted to come if it be then delight they in thee of heart xlvii betwixt mine eye well in your sweet self resemble creating every bad a perfect ceremony rhyme but this world of ill nor live unwood and unrespected fade to my gross bodys treason my\n",
            "\n",
            "\n",
            "temperature = 2.0\n",
            "that thereby others from tame o walls my sweets then was yet well so bad hath how times may be error and make seem run and death brag for the star after thou that old decembers bareness everywhere and bristly measure the excess spirit the fame of happier form pale\n",
            "\n",
            "\n"
          ]
        }
      ],
      "source": [
        "torch.save(lstm_model, \"./lstm_model\")\n",
        "model_load = torch.load(\"./lstm_model\")\n",
        "make_temperature_test(model_load, temperatures, seeds)"
      ]
    },
    {
      "cell_type": "markdown",
      "source": [
        "**Analysis of results**\n",
        "\n",
        "We can see that LSTM was managed to achieve better loss compared to RNN. If we check generated sequences by ourself the difference in poeticl vales of RNN and LSTM output is not obvious.\n",
        "\n",
        "We can observe that with increase in temperature generated text reads less like poetry. It is expected because temperature parameters control randomness of our generated text."
      ],
      "metadata": {
        "id": "Kd0D8wjfdYrI"
      }
    },
    {
      "cell_type": "markdown",
      "metadata": {
        "id": "xqjNXWPXTA_9"
      },
      "source": [
        "### References\n",
        "1. <a href='http://karpathy.github.io/2015/05/21/rnn-effectiveness/'> Andrew Karpathy blog post about RNN. </a> \n",
        "There are several examples of genration: Shakespeare texts, Latex formulas, Linux Sourse Code and children names.\n",
        "2. <a href='https://github.com/karpathy/char-rnn'> Repo with char-rnn code </a>\n",
        "3. Cool repo with PyTorch examples: [link](https://github.com/spro/practical-pytorch`)"
      ]
    }
  ],
  "metadata": {
    "anaconda-cloud": {},
    "kernelspec": {
      "display_name": "Python 3",
      "language": "python",
      "name": "python3"
    },
    "language_info": {
      "codemirror_mode": {
        "name": "ipython",
        "version": 3
      },
      "file_extension": ".py",
      "mimetype": "text/x-python",
      "name": "python",
      "nbconvert_exporter": "python",
      "pygments_lexer": "ipython3",
      "version": "3.7.7"
    },
    "colab": {
      "provenance": [],
      "collapsed_sections": [],
      "include_colab_link": true
    },
    "widgets": {
      "application/vnd.jupyter.widget-state+json": {
        "226f185058f842429a4121dfe050af5f": {
          "model_module": "@jupyter-widgets/controls",
          "model_name": "HBoxModel",
          "model_module_version": "1.5.0",
          "state": {
            "_dom_classes": [],
            "_model_module": "@jupyter-widgets/controls",
            "_model_module_version": "1.5.0",
            "_model_name": "HBoxModel",
            "_view_count": null,
            "_view_module": "@jupyter-widgets/controls",
            "_view_module_version": "1.5.0",
            "_view_name": "HBoxView",
            "box_style": "",
            "children": [
              "IPY_MODEL_c47d08860d8b44e1b33462d2deae0bc2",
              "IPY_MODEL_c54082ecdc9b404ab1096b806c7f645d",
              "IPY_MODEL_65c33fbaec0a4121bac4666286a31ea6"
            ],
            "layout": "IPY_MODEL_9fa5357f14c046fdb58a70beec4f6ce0"
          }
        },
        "c47d08860d8b44e1b33462d2deae0bc2": {
          "model_module": "@jupyter-widgets/controls",
          "model_name": "HTMLModel",
          "model_module_version": "1.5.0",
          "state": {
            "_dom_classes": [],
            "_model_module": "@jupyter-widgets/controls",
            "_model_module_version": "1.5.0",
            "_model_name": "HTMLModel",
            "_view_count": null,
            "_view_module": "@jupyter-widgets/controls",
            "_view_module_version": "1.5.0",
            "_view_name": "HTMLView",
            "description": "",
            "description_tooltip": null,
            "layout": "IPY_MODEL_5bafb41299cb49cfa53bd47a6e3bf710",
            "placeholder": "​",
            "style": "IPY_MODEL_0366b806c03b4334b761e673263ca889",
            "value": "100%"
          }
        },
        "c54082ecdc9b404ab1096b806c7f645d": {
          "model_module": "@jupyter-widgets/controls",
          "model_name": "FloatProgressModel",
          "model_module_version": "1.5.0",
          "state": {
            "_dom_classes": [],
            "_model_module": "@jupyter-widgets/controls",
            "_model_module_version": "1.5.0",
            "_model_name": "FloatProgressModel",
            "_view_count": null,
            "_view_module": "@jupyter-widgets/controls",
            "_view_module_version": "1.5.0",
            "_view_name": "ProgressView",
            "bar_style": "success",
            "description": "",
            "description_tooltip": null,
            "layout": "IPY_MODEL_efeb492bb48345c9a927b9f962b91fb5",
            "max": 50,
            "min": 0,
            "orientation": "horizontal",
            "style": "IPY_MODEL_894da9de4a7b4fec9b5b2a5e75127681",
            "value": 50
          }
        },
        "65c33fbaec0a4121bac4666286a31ea6": {
          "model_module": "@jupyter-widgets/controls",
          "model_name": "HTMLModel",
          "model_module_version": "1.5.0",
          "state": {
            "_dom_classes": [],
            "_model_module": "@jupyter-widgets/controls",
            "_model_module_version": "1.5.0",
            "_model_name": "HTMLModel",
            "_view_count": null,
            "_view_module": "@jupyter-widgets/controls",
            "_view_module_version": "1.5.0",
            "_view_name": "HTMLView",
            "description": "",
            "description_tooltip": null,
            "layout": "IPY_MODEL_df5e77334ef34445b61963d6461e7f3d",
            "placeholder": "​",
            "style": "IPY_MODEL_35ba78c54f334b7fa17968954ba81eb0",
            "value": " 50/50 [02:30&lt;00:00,  2.84s/it]"
          }
        },
        "9fa5357f14c046fdb58a70beec4f6ce0": {
          "model_module": "@jupyter-widgets/base",
          "model_name": "LayoutModel",
          "model_module_version": "1.2.0",
          "state": {
            "_model_module": "@jupyter-widgets/base",
            "_model_module_version": "1.2.0",
            "_model_name": "LayoutModel",
            "_view_count": null,
            "_view_module": "@jupyter-widgets/base",
            "_view_module_version": "1.2.0",
            "_view_name": "LayoutView",
            "align_content": null,
            "align_items": null,
            "align_self": null,
            "border": null,
            "bottom": null,
            "display": null,
            "flex": null,
            "flex_flow": null,
            "grid_area": null,
            "grid_auto_columns": null,
            "grid_auto_flow": null,
            "grid_auto_rows": null,
            "grid_column": null,
            "grid_gap": null,
            "grid_row": null,
            "grid_template_areas": null,
            "grid_template_columns": null,
            "grid_template_rows": null,
            "height": null,
            "justify_content": null,
            "justify_items": null,
            "left": null,
            "margin": null,
            "max_height": null,
            "max_width": null,
            "min_height": null,
            "min_width": null,
            "object_fit": null,
            "object_position": null,
            "order": null,
            "overflow": null,
            "overflow_x": null,
            "overflow_y": null,
            "padding": null,
            "right": null,
            "top": null,
            "visibility": null,
            "width": null
          }
        },
        "5bafb41299cb49cfa53bd47a6e3bf710": {
          "model_module": "@jupyter-widgets/base",
          "model_name": "LayoutModel",
          "model_module_version": "1.2.0",
          "state": {
            "_model_module": "@jupyter-widgets/base",
            "_model_module_version": "1.2.0",
            "_model_name": "LayoutModel",
            "_view_count": null,
            "_view_module": "@jupyter-widgets/base",
            "_view_module_version": "1.2.0",
            "_view_name": "LayoutView",
            "align_content": null,
            "align_items": null,
            "align_self": null,
            "border": null,
            "bottom": null,
            "display": null,
            "flex": null,
            "flex_flow": null,
            "grid_area": null,
            "grid_auto_columns": null,
            "grid_auto_flow": null,
            "grid_auto_rows": null,
            "grid_column": null,
            "grid_gap": null,
            "grid_row": null,
            "grid_template_areas": null,
            "grid_template_columns": null,
            "grid_template_rows": null,
            "height": null,
            "justify_content": null,
            "justify_items": null,
            "left": null,
            "margin": null,
            "max_height": null,
            "max_width": null,
            "min_height": null,
            "min_width": null,
            "object_fit": null,
            "object_position": null,
            "order": null,
            "overflow": null,
            "overflow_x": null,
            "overflow_y": null,
            "padding": null,
            "right": null,
            "top": null,
            "visibility": null,
            "width": null
          }
        },
        "0366b806c03b4334b761e673263ca889": {
          "model_module": "@jupyter-widgets/controls",
          "model_name": "DescriptionStyleModel",
          "model_module_version": "1.5.0",
          "state": {
            "_model_module": "@jupyter-widgets/controls",
            "_model_module_version": "1.5.0",
            "_model_name": "DescriptionStyleModel",
            "_view_count": null,
            "_view_module": "@jupyter-widgets/base",
            "_view_module_version": "1.2.0",
            "_view_name": "StyleView",
            "description_width": ""
          }
        },
        "efeb492bb48345c9a927b9f962b91fb5": {
          "model_module": "@jupyter-widgets/base",
          "model_name": "LayoutModel",
          "model_module_version": "1.2.0",
          "state": {
            "_model_module": "@jupyter-widgets/base",
            "_model_module_version": "1.2.0",
            "_model_name": "LayoutModel",
            "_view_count": null,
            "_view_module": "@jupyter-widgets/base",
            "_view_module_version": "1.2.0",
            "_view_name": "LayoutView",
            "align_content": null,
            "align_items": null,
            "align_self": null,
            "border": null,
            "bottom": null,
            "display": null,
            "flex": null,
            "flex_flow": null,
            "grid_area": null,
            "grid_auto_columns": null,
            "grid_auto_flow": null,
            "grid_auto_rows": null,
            "grid_column": null,
            "grid_gap": null,
            "grid_row": null,
            "grid_template_areas": null,
            "grid_template_columns": null,
            "grid_template_rows": null,
            "height": null,
            "justify_content": null,
            "justify_items": null,
            "left": null,
            "margin": null,
            "max_height": null,
            "max_width": null,
            "min_height": null,
            "min_width": null,
            "object_fit": null,
            "object_position": null,
            "order": null,
            "overflow": null,
            "overflow_x": null,
            "overflow_y": null,
            "padding": null,
            "right": null,
            "top": null,
            "visibility": null,
            "width": null
          }
        },
        "894da9de4a7b4fec9b5b2a5e75127681": {
          "model_module": "@jupyter-widgets/controls",
          "model_name": "ProgressStyleModel",
          "model_module_version": "1.5.0",
          "state": {
            "_model_module": "@jupyter-widgets/controls",
            "_model_module_version": "1.5.0",
            "_model_name": "ProgressStyleModel",
            "_view_count": null,
            "_view_module": "@jupyter-widgets/base",
            "_view_module_version": "1.2.0",
            "_view_name": "StyleView",
            "bar_color": null,
            "description_width": ""
          }
        },
        "df5e77334ef34445b61963d6461e7f3d": {
          "model_module": "@jupyter-widgets/base",
          "model_name": "LayoutModel",
          "model_module_version": "1.2.0",
          "state": {
            "_model_module": "@jupyter-widgets/base",
            "_model_module_version": "1.2.0",
            "_model_name": "LayoutModel",
            "_view_count": null,
            "_view_module": "@jupyter-widgets/base",
            "_view_module_version": "1.2.0",
            "_view_name": "LayoutView",
            "align_content": null,
            "align_items": null,
            "align_self": null,
            "border": null,
            "bottom": null,
            "display": null,
            "flex": null,
            "flex_flow": null,
            "grid_area": null,
            "grid_auto_columns": null,
            "grid_auto_flow": null,
            "grid_auto_rows": null,
            "grid_column": null,
            "grid_gap": null,
            "grid_row": null,
            "grid_template_areas": null,
            "grid_template_columns": null,
            "grid_template_rows": null,
            "height": null,
            "justify_content": null,
            "justify_items": null,
            "left": null,
            "margin": null,
            "max_height": null,
            "max_width": null,
            "min_height": null,
            "min_width": null,
            "object_fit": null,
            "object_position": null,
            "order": null,
            "overflow": null,
            "overflow_x": null,
            "overflow_y": null,
            "padding": null,
            "right": null,
            "top": null,
            "visibility": null,
            "width": null
          }
        },
        "35ba78c54f334b7fa17968954ba81eb0": {
          "model_module": "@jupyter-widgets/controls",
          "model_name": "DescriptionStyleModel",
          "model_module_version": "1.5.0",
          "state": {
            "_model_module": "@jupyter-widgets/controls",
            "_model_module_version": "1.5.0",
            "_model_name": "DescriptionStyleModel",
            "_view_count": null,
            "_view_module": "@jupyter-widgets/base",
            "_view_module_version": "1.2.0",
            "_view_name": "StyleView",
            "description_width": ""
          }
        },
        "871049a0780442fd954158b46d490e70": {
          "model_module": "@jupyter-widgets/controls",
          "model_name": "HBoxModel",
          "model_module_version": "1.5.0",
          "state": {
            "_dom_classes": [],
            "_model_module": "@jupyter-widgets/controls",
            "_model_module_version": "1.5.0",
            "_model_name": "HBoxModel",
            "_view_count": null,
            "_view_module": "@jupyter-widgets/controls",
            "_view_module_version": "1.5.0",
            "_view_name": "HBoxView",
            "box_style": "",
            "children": [
              "IPY_MODEL_f8a1a24ecc424aca84501f61bb685eae",
              "IPY_MODEL_1a7268de5fde41f1a69162892b23489d",
              "IPY_MODEL_87801114da5e45e581338e813a4e66f5"
            ],
            "layout": "IPY_MODEL_6a5a0d971c664fba9cf0e20202e2cf19"
          }
        },
        "f8a1a24ecc424aca84501f61bb685eae": {
          "model_module": "@jupyter-widgets/controls",
          "model_name": "HTMLModel",
          "model_module_version": "1.5.0",
          "state": {
            "_dom_classes": [],
            "_model_module": "@jupyter-widgets/controls",
            "_model_module_version": "1.5.0",
            "_model_name": "HTMLModel",
            "_view_count": null,
            "_view_module": "@jupyter-widgets/controls",
            "_view_module_version": "1.5.0",
            "_view_name": "HTMLView",
            "description": "",
            "description_tooltip": null,
            "layout": "IPY_MODEL_2645a5dcaf4f4c7289d92f37ae5a2057",
            "placeholder": "​",
            "style": "IPY_MODEL_e1a72f1980534314b645379fc65b496b",
            "value": "100%"
          }
        },
        "1a7268de5fde41f1a69162892b23489d": {
          "model_module": "@jupyter-widgets/controls",
          "model_name": "FloatProgressModel",
          "model_module_version": "1.5.0",
          "state": {
            "_dom_classes": [],
            "_model_module": "@jupyter-widgets/controls",
            "_model_module_version": "1.5.0",
            "_model_name": "FloatProgressModel",
            "_view_count": null,
            "_view_module": "@jupyter-widgets/controls",
            "_view_module_version": "1.5.0",
            "_view_name": "ProgressView",
            "bar_style": "success",
            "description": "",
            "description_tooltip": null,
            "layout": "IPY_MODEL_a0a7e5e7663d455a8a3b67d33a67a743",
            "max": 50,
            "min": 0,
            "orientation": "horizontal",
            "style": "IPY_MODEL_df2e1c2cab7340bfbef299fb7e9e3064",
            "value": 50
          }
        },
        "87801114da5e45e581338e813a4e66f5": {
          "model_module": "@jupyter-widgets/controls",
          "model_name": "HTMLModel",
          "model_module_version": "1.5.0",
          "state": {
            "_dom_classes": [],
            "_model_module": "@jupyter-widgets/controls",
            "_model_module_version": "1.5.0",
            "_model_name": "HTMLModel",
            "_view_count": null,
            "_view_module": "@jupyter-widgets/controls",
            "_view_module_version": "1.5.0",
            "_view_name": "HTMLView",
            "description": "",
            "description_tooltip": null,
            "layout": "IPY_MODEL_f750c17a8b764fdfa190a66cf9021de6",
            "placeholder": "​",
            "style": "IPY_MODEL_1b7b8d667a9b44d58c966f641129d8f0",
            "value": " 50/50 [02:35&lt;00:00,  3.09s/it]"
          }
        },
        "6a5a0d971c664fba9cf0e20202e2cf19": {
          "model_module": "@jupyter-widgets/base",
          "model_name": "LayoutModel",
          "model_module_version": "1.2.0",
          "state": {
            "_model_module": "@jupyter-widgets/base",
            "_model_module_version": "1.2.0",
            "_model_name": "LayoutModel",
            "_view_count": null,
            "_view_module": "@jupyter-widgets/base",
            "_view_module_version": "1.2.0",
            "_view_name": "LayoutView",
            "align_content": null,
            "align_items": null,
            "align_self": null,
            "border": null,
            "bottom": null,
            "display": null,
            "flex": null,
            "flex_flow": null,
            "grid_area": null,
            "grid_auto_columns": null,
            "grid_auto_flow": null,
            "grid_auto_rows": null,
            "grid_column": null,
            "grid_gap": null,
            "grid_row": null,
            "grid_template_areas": null,
            "grid_template_columns": null,
            "grid_template_rows": null,
            "height": null,
            "justify_content": null,
            "justify_items": null,
            "left": null,
            "margin": null,
            "max_height": null,
            "max_width": null,
            "min_height": null,
            "min_width": null,
            "object_fit": null,
            "object_position": null,
            "order": null,
            "overflow": null,
            "overflow_x": null,
            "overflow_y": null,
            "padding": null,
            "right": null,
            "top": null,
            "visibility": null,
            "width": null
          }
        },
        "2645a5dcaf4f4c7289d92f37ae5a2057": {
          "model_module": "@jupyter-widgets/base",
          "model_name": "LayoutModel",
          "model_module_version": "1.2.0",
          "state": {
            "_model_module": "@jupyter-widgets/base",
            "_model_module_version": "1.2.0",
            "_model_name": "LayoutModel",
            "_view_count": null,
            "_view_module": "@jupyter-widgets/base",
            "_view_module_version": "1.2.0",
            "_view_name": "LayoutView",
            "align_content": null,
            "align_items": null,
            "align_self": null,
            "border": null,
            "bottom": null,
            "display": null,
            "flex": null,
            "flex_flow": null,
            "grid_area": null,
            "grid_auto_columns": null,
            "grid_auto_flow": null,
            "grid_auto_rows": null,
            "grid_column": null,
            "grid_gap": null,
            "grid_row": null,
            "grid_template_areas": null,
            "grid_template_columns": null,
            "grid_template_rows": null,
            "height": null,
            "justify_content": null,
            "justify_items": null,
            "left": null,
            "margin": null,
            "max_height": null,
            "max_width": null,
            "min_height": null,
            "min_width": null,
            "object_fit": null,
            "object_position": null,
            "order": null,
            "overflow": null,
            "overflow_x": null,
            "overflow_y": null,
            "padding": null,
            "right": null,
            "top": null,
            "visibility": null,
            "width": null
          }
        },
        "e1a72f1980534314b645379fc65b496b": {
          "model_module": "@jupyter-widgets/controls",
          "model_name": "DescriptionStyleModel",
          "model_module_version": "1.5.0",
          "state": {
            "_model_module": "@jupyter-widgets/controls",
            "_model_module_version": "1.5.0",
            "_model_name": "DescriptionStyleModel",
            "_view_count": null,
            "_view_module": "@jupyter-widgets/base",
            "_view_module_version": "1.2.0",
            "_view_name": "StyleView",
            "description_width": ""
          }
        },
        "a0a7e5e7663d455a8a3b67d33a67a743": {
          "model_module": "@jupyter-widgets/base",
          "model_name": "LayoutModel",
          "model_module_version": "1.2.0",
          "state": {
            "_model_module": "@jupyter-widgets/base",
            "_model_module_version": "1.2.0",
            "_model_name": "LayoutModel",
            "_view_count": null,
            "_view_module": "@jupyter-widgets/base",
            "_view_module_version": "1.2.0",
            "_view_name": "LayoutView",
            "align_content": null,
            "align_items": null,
            "align_self": null,
            "border": null,
            "bottom": null,
            "display": null,
            "flex": null,
            "flex_flow": null,
            "grid_area": null,
            "grid_auto_columns": null,
            "grid_auto_flow": null,
            "grid_auto_rows": null,
            "grid_column": null,
            "grid_gap": null,
            "grid_row": null,
            "grid_template_areas": null,
            "grid_template_columns": null,
            "grid_template_rows": null,
            "height": null,
            "justify_content": null,
            "justify_items": null,
            "left": null,
            "margin": null,
            "max_height": null,
            "max_width": null,
            "min_height": null,
            "min_width": null,
            "object_fit": null,
            "object_position": null,
            "order": null,
            "overflow": null,
            "overflow_x": null,
            "overflow_y": null,
            "padding": null,
            "right": null,
            "top": null,
            "visibility": null,
            "width": null
          }
        },
        "df2e1c2cab7340bfbef299fb7e9e3064": {
          "model_module": "@jupyter-widgets/controls",
          "model_name": "ProgressStyleModel",
          "model_module_version": "1.5.0",
          "state": {
            "_model_module": "@jupyter-widgets/controls",
            "_model_module_version": "1.5.0",
            "_model_name": "ProgressStyleModel",
            "_view_count": null,
            "_view_module": "@jupyter-widgets/base",
            "_view_module_version": "1.2.0",
            "_view_name": "StyleView",
            "bar_color": null,
            "description_width": ""
          }
        },
        "f750c17a8b764fdfa190a66cf9021de6": {
          "model_module": "@jupyter-widgets/base",
          "model_name": "LayoutModel",
          "model_module_version": "1.2.0",
          "state": {
            "_model_module": "@jupyter-widgets/base",
            "_model_module_version": "1.2.0",
            "_model_name": "LayoutModel",
            "_view_count": null,
            "_view_module": "@jupyter-widgets/base",
            "_view_module_version": "1.2.0",
            "_view_name": "LayoutView",
            "align_content": null,
            "align_items": null,
            "align_self": null,
            "border": null,
            "bottom": null,
            "display": null,
            "flex": null,
            "flex_flow": null,
            "grid_area": null,
            "grid_auto_columns": null,
            "grid_auto_flow": null,
            "grid_auto_rows": null,
            "grid_column": null,
            "grid_gap": null,
            "grid_row": null,
            "grid_template_areas": null,
            "grid_template_columns": null,
            "grid_template_rows": null,
            "height": null,
            "justify_content": null,
            "justify_items": null,
            "left": null,
            "margin": null,
            "max_height": null,
            "max_width": null,
            "min_height": null,
            "min_width": null,
            "object_fit": null,
            "object_position": null,
            "order": null,
            "overflow": null,
            "overflow_x": null,
            "overflow_y": null,
            "padding": null,
            "right": null,
            "top": null,
            "visibility": null,
            "width": null
          }
        },
        "1b7b8d667a9b44d58c966f641129d8f0": {
          "model_module": "@jupyter-widgets/controls",
          "model_name": "DescriptionStyleModel",
          "model_module_version": "1.5.0",
          "state": {
            "_model_module": "@jupyter-widgets/controls",
            "_model_module_version": "1.5.0",
            "_model_name": "DescriptionStyleModel",
            "_view_count": null,
            "_view_module": "@jupyter-widgets/base",
            "_view_module_version": "1.2.0",
            "_view_name": "StyleView",
            "description_width": ""
          }
        }
      }
    }
  },
  "nbformat": 4,
  "nbformat_minor": 0
}