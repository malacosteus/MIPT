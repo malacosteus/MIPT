{
  "cells": [
    {
      "cell_type": "markdown",
      "metadata": {
        "id": "view-in-github",
        "colab_type": "text"
      },
      "source": [
        "<a href=\"https://colab.research.google.com/github/malacosteus/MSAI/blob/main/ML/Lab1_part2_ml_pipeline.ipynb\" target=\"_parent\"><img src=\"https://colab.research.google.com/assets/colab-badge.svg\" alt=\"Open In Colab\"/></a>"
      ]
    },
    {
      "cell_type": "markdown",
      "metadata": {
        "id": "Tcrdn7NdfQXB",
        "nbgrader": {
          "grade": false,
          "grade_id": "cell-86e0de040aac317a",
          "locked": true,
          "schema_version": 2,
          "solution": false
        }
      },
      "source": [
        "# Lab assignment №1, part 2\n",
        "\n",
        "This lab assignment consists of several parts. You are supposed to make some transformations, train some models, estimate the quality of the models and explain your results.\n",
        "\n",
        "Several comments:\n",
        "* Don't hesitate to ask questions, it's a good practice.\n",
        "* No private/public sharing, please. The copied assignments will be graded with 0 points.\n",
        "* Blocks of this lab will be graded separately."
      ]
    },
    {
      "cell_type": "markdown",
      "metadata": {
        "id": "K9LxAg1sfQXE"
      },
      "source": [
        "__*This is the second part of the assignment. First and third parts are waiting for you in the same directory.*__"
      ]
    },
    {
      "cell_type": "markdown",
      "metadata": {
        "id": "SvGM7GQ4fQXG",
        "nbgrader": {
          "grade": false,
          "grade_id": "cell-512ba712fc0fc065",
          "locked": true,
          "schema_version": 2,
          "solution": false
        }
      },
      "source": [
        "## Part 2. Data preprocessing, model training and evaluation."
      ]
    },
    {
      "cell_type": "markdown",
      "metadata": {
        "id": "muxFAWrMfQXH",
        "nbgrader": {
          "grade": false,
          "grade_id": "cell-b656a4266174b009",
          "locked": true,
          "schema_version": 2,
          "solution": false
        }
      },
      "source": [
        "### 1. Reading the data\n",
        "Today we work with the [dataset](https://archive.ics.uci.edu/ml/datasets/Statlog+%28Vehicle+Silhouettes%29), describing different cars for multiclass ($k=4$) classification problem. The data is available below."
      ]
    },
    {
      "cell_type": "code",
      "execution_count": null,
      "metadata": {
        "colab": {
          "base_uri": "https://localhost:8080/"
        },
        "id": "JE9LqQDgfQXH",
        "outputId": "5acef703-1a7e-4082-a36c-99c42028f9bd"
      },
      "outputs": [
        {
          "name": "stdout",
          "output_type": "stream",
          "text": [
            "--2022-05-14 14:00:11--  https://raw.githubusercontent.com/girafe-ai/ml-mipt/22s_msai/homeworks/Lab1_ML_pipeline_and_SVM/car_data.csv\n",
            "Resolving raw.githubusercontent.com (raw.githubusercontent.com)... 185.199.108.133, 185.199.109.133, 185.199.110.133, ...\n",
            "Connecting to raw.githubusercontent.com (raw.githubusercontent.com)|185.199.108.133|:443... connected.\n",
            "HTTP request sent, awaiting response... 200 OK\n",
            "Length: 58374 (57K) [text/plain]\n",
            "Saving to: ‘car_data.csv’\n",
            "\n",
            "\r",
            "car_data.csv          0%[                    ]       0  --.-KB/s               \r",
            "car_data.csv        100%[===================>]  57.01K  --.-KB/s    in 0.01s   \n",
            "\n",
            "2022-05-14 14:00:11 (4.86 MB/s) - ‘car_data.csv’ saved [58374/58374]\n",
            "\n"
          ]
        }
      ],
      "source": [
        "# If on colab, uncomment the following lines\n",
        "\n",
        "!wget https://raw.githubusercontent.com/girafe-ai/ml-mipt/22s_msai/homeworks/Lab1_ML_pipeline_and_SVM/car_data.csv"
      ]
    },
    {
      "cell_type": "code",
      "execution_count": null,
      "metadata": {
        "colab": {
          "base_uri": "https://localhost:8080/"
        },
        "id": "uxAXk7DofQXI",
        "nbgrader": {
          "grade": false,
          "grade_id": "cell-eebac6bfdf73d0bc",
          "locked": true,
          "schema_version": 2,
          "solution": false
        },
        "outputId": "04dd5b54-fbdc-46b4-f57d-4096363d31e9"
      },
      "outputs": [
        {
          "name": "stdout",
          "output_type": "stream",
          "text": [
            "(846, 19) (846,)\n",
            "(549, 19) (549,) (297, 19) (297,)\n"
          ]
        }
      ],
      "source": [
        "import pandas as pd\n",
        "import numpy as np\n",
        "from sklearn.model_selection import train_test_split\n",
        "\n",
        "dataset = pd.read_csv('car_data.csv', delimiter=',', header=None).values\n",
        "data = dataset[:, :-1].astype(int)\n",
        "target = dataset[:, -1]\n",
        "\n",
        "print(data.shape, target.shape)\n",
        "\n",
        "X_train, X_test, y_train, y_test = train_test_split(data, target, test_size=0.35)\n",
        "print(X_train.shape, y_train.shape, X_test.shape, y_test.shape)"
      ]
    },
    {
      "cell_type": "markdown",
      "metadata": {
        "id": "SdLnpzVifQXJ",
        "nbgrader": {
          "grade": false,
          "grade_id": "cell-88b1a0f688568f2c",
          "locked": true,
          "schema_version": 2,
          "solution": false
        }
      },
      "source": [
        "To get some insights about the dataset, `pandas` might be used. The `train` part is transformed to `pd.DataFrame` below."
      ]
    },
    {
      "cell_type": "code",
      "execution_count": null,
      "metadata": {
        "colab": {
          "base_uri": "https://localhost:8080/",
          "height": 520
        },
        "id": "moYMUtnffQXJ",
        "outputId": "f1aabdd0-2b5e-44d5-d91c-a88eb742f8de"
      },
      "outputs": [
        {
          "data": {
            "text/html": [
              "\n",
              "  <div id=\"df-952a74ff-0db2-423f-83f4-cb8c3734de69\">\n",
              "    <div class=\"colab-df-container\">\n",
              "      <div>\n",
              "<style scoped>\n",
              "    .dataframe tbody tr th:only-of-type {\n",
              "        vertical-align: middle;\n",
              "    }\n",
              "\n",
              "    .dataframe tbody tr th {\n",
              "        vertical-align: top;\n",
              "    }\n",
              "\n",
              "    .dataframe thead th {\n",
              "        text-align: right;\n",
              "    }\n",
              "</style>\n",
              "<table border=\"1\" class=\"dataframe\">\n",
              "  <thead>\n",
              "    <tr style=\"text-align: right;\">\n",
              "      <th></th>\n",
              "      <th>0</th>\n",
              "      <th>1</th>\n",
              "      <th>2</th>\n",
              "      <th>3</th>\n",
              "      <th>4</th>\n",
              "      <th>5</th>\n",
              "      <th>6</th>\n",
              "      <th>7</th>\n",
              "      <th>8</th>\n",
              "      <th>9</th>\n",
              "      <th>10</th>\n",
              "      <th>11</th>\n",
              "      <th>12</th>\n",
              "      <th>13</th>\n",
              "      <th>14</th>\n",
              "      <th>15</th>\n",
              "      <th>16</th>\n",
              "      <th>17</th>\n",
              "      <th>18</th>\n",
              "    </tr>\n",
              "  </thead>\n",
              "  <tbody>\n",
              "    <tr>\n",
              "      <th>0</th>\n",
              "      <td>824</td>\n",
              "      <td>106</td>\n",
              "      <td>55</td>\n",
              "      <td>96</td>\n",
              "      <td>196</td>\n",
              "      <td>60</td>\n",
              "      <td>12</td>\n",
              "      <td>221</td>\n",
              "      <td>30</td>\n",
              "      <td>25</td>\n",
              "      <td>173</td>\n",
              "      <td>225</td>\n",
              "      <td>717</td>\n",
              "      <td>214</td>\n",
              "      <td>72</td>\n",
              "      <td>9</td>\n",
              "      <td>13</td>\n",
              "      <td>186</td>\n",
              "      <td>196</td>\n",
              "    </tr>\n",
              "    <tr>\n",
              "      <th>1</th>\n",
              "      <td>132</td>\n",
              "      <td>97</td>\n",
              "      <td>42</td>\n",
              "      <td>101</td>\n",
              "      <td>186</td>\n",
              "      <td>59</td>\n",
              "      <td>9</td>\n",
              "      <td>186</td>\n",
              "      <td>36</td>\n",
              "      <td>22</td>\n",
              "      <td>138</td>\n",
              "      <td>208</td>\n",
              "      <td>511</td>\n",
              "      <td>168</td>\n",
              "      <td>67</td>\n",
              "      <td>7</td>\n",
              "      <td>41</td>\n",
              "      <td>194</td>\n",
              "      <td>206</td>\n",
              "    </tr>\n",
              "    <tr>\n",
              "      <th>2</th>\n",
              "      <td>829</td>\n",
              "      <td>95</td>\n",
              "      <td>49</td>\n",
              "      <td>82</td>\n",
              "      <td>139</td>\n",
              "      <td>56</td>\n",
              "      <td>11</td>\n",
              "      <td>159</td>\n",
              "      <td>43</td>\n",
              "      <td>20</td>\n",
              "      <td>162</td>\n",
              "      <td>173</td>\n",
              "      <td>365</td>\n",
              "      <td>185</td>\n",
              "      <td>75</td>\n",
              "      <td>7</td>\n",
              "      <td>10</td>\n",
              "      <td>182</td>\n",
              "      <td>191</td>\n",
              "    </tr>\n",
              "    <tr>\n",
              "      <th>3</th>\n",
              "      <td>560</td>\n",
              "      <td>105</td>\n",
              "      <td>55</td>\n",
              "      <td>96</td>\n",
              "      <td>181</td>\n",
              "      <td>56</td>\n",
              "      <td>9</td>\n",
              "      <td>219</td>\n",
              "      <td>30</td>\n",
              "      <td>25</td>\n",
              "      <td>175</td>\n",
              "      <td>231</td>\n",
              "      <td>713</td>\n",
              "      <td>216</td>\n",
              "      <td>74</td>\n",
              "      <td>4</td>\n",
              "      <td>5</td>\n",
              "      <td>187</td>\n",
              "      <td>194</td>\n",
              "    </tr>\n",
              "    <tr>\n",
              "      <th>4</th>\n",
              "      <td>539</td>\n",
              "      <td>109</td>\n",
              "      <td>55</td>\n",
              "      <td>96</td>\n",
              "      <td>191</td>\n",
              "      <td>57</td>\n",
              "      <td>6</td>\n",
              "      <td>241</td>\n",
              "      <td>28</td>\n",
              "      <td>26</td>\n",
              "      <td>170</td>\n",
              "      <td>267</td>\n",
              "      <td>857</td>\n",
              "      <td>242</td>\n",
              "      <td>85</td>\n",
              "      <td>8</td>\n",
              "      <td>9</td>\n",
              "      <td>184</td>\n",
              "      <td>184</td>\n",
              "    </tr>\n",
              "    <tr>\n",
              "      <th>5</th>\n",
              "      <td>359</td>\n",
              "      <td>100</td>\n",
              "      <td>49</td>\n",
              "      <td>96</td>\n",
              "      <td>206</td>\n",
              "      <td>63</td>\n",
              "      <td>9</td>\n",
              "      <td>186</td>\n",
              "      <td>35</td>\n",
              "      <td>22</td>\n",
              "      <td>156</td>\n",
              "      <td>202</td>\n",
              "      <td>519</td>\n",
              "      <td>176</td>\n",
              "      <td>62</td>\n",
              "      <td>3</td>\n",
              "      <td>5</td>\n",
              "      <td>197</td>\n",
              "      <td>205</td>\n",
              "    </tr>\n",
              "    <tr>\n",
              "      <th>6</th>\n",
              "      <td>229</td>\n",
              "      <td>86</td>\n",
              "      <td>41</td>\n",
              "      <td>64</td>\n",
              "      <td>148</td>\n",
              "      <td>61</td>\n",
              "      <td>5</td>\n",
              "      <td>150</td>\n",
              "      <td>45</td>\n",
              "      <td>19</td>\n",
              "      <td>138</td>\n",
              "      <td>165</td>\n",
              "      <td>333</td>\n",
              "      <td>173</td>\n",
              "      <td>80</td>\n",
              "      <td>5</td>\n",
              "      <td>8</td>\n",
              "      <td>182</td>\n",
              "      <td>185</td>\n",
              "    </tr>\n",
              "    <tr>\n",
              "      <th>7</th>\n",
              "      <td>144</td>\n",
              "      <td>95</td>\n",
              "      <td>45</td>\n",
              "      <td>80</td>\n",
              "      <td>186</td>\n",
              "      <td>62</td>\n",
              "      <td>7</td>\n",
              "      <td>164</td>\n",
              "      <td>40</td>\n",
              "      <td>20</td>\n",
              "      <td>145</td>\n",
              "      <td>188</td>\n",
              "      <td>406</td>\n",
              "      <td>178</td>\n",
              "      <td>65</td>\n",
              "      <td>11</td>\n",
              "      <td>18</td>\n",
              "      <td>199</td>\n",
              "      <td>204</td>\n",
              "    </tr>\n",
              "    <tr>\n",
              "      <th>8</th>\n",
              "      <td>728</td>\n",
              "      <td>85</td>\n",
              "      <td>36</td>\n",
              "      <td>72</td>\n",
              "      <td>127</td>\n",
              "      <td>56</td>\n",
              "      <td>7</td>\n",
              "      <td>127</td>\n",
              "      <td>54</td>\n",
              "      <td>18</td>\n",
              "      <td>125</td>\n",
              "      <td>144</td>\n",
              "      <td>233</td>\n",
              "      <td>123</td>\n",
              "      <td>70</td>\n",
              "      <td>3</td>\n",
              "      <td>30</td>\n",
              "      <td>184</td>\n",
              "      <td>194</td>\n",
              "    </tr>\n",
              "    <tr>\n",
              "      <th>9</th>\n",
              "      <td>123</td>\n",
              "      <td>90</td>\n",
              "      <td>36</td>\n",
              "      <td>57</td>\n",
              "      <td>130</td>\n",
              "      <td>57</td>\n",
              "      <td>6</td>\n",
              "      <td>121</td>\n",
              "      <td>56</td>\n",
              "      <td>17</td>\n",
              "      <td>127</td>\n",
              "      <td>137</td>\n",
              "      <td>216</td>\n",
              "      <td>132</td>\n",
              "      <td>68</td>\n",
              "      <td>22</td>\n",
              "      <td>23</td>\n",
              "      <td>190</td>\n",
              "      <td>195</td>\n",
              "    </tr>\n",
              "    <tr>\n",
              "      <th>10</th>\n",
              "      <td>300</td>\n",
              "      <td>106</td>\n",
              "      <td>53</td>\n",
              "      <td>98</td>\n",
              "      <td>193</td>\n",
              "      <td>60</td>\n",
              "      <td>10</td>\n",
              "      <td>215</td>\n",
              "      <td>31</td>\n",
              "      <td>24</td>\n",
              "      <td>169</td>\n",
              "      <td>224</td>\n",
              "      <td>681</td>\n",
              "      <td>218</td>\n",
              "      <td>73</td>\n",
              "      <td>8</td>\n",
              "      <td>21</td>\n",
              "      <td>188</td>\n",
              "      <td>197</td>\n",
              "    </tr>\n",
              "    <tr>\n",
              "      <th>11</th>\n",
              "      <td>612</td>\n",
              "      <td>80</td>\n",
              "      <td>34</td>\n",
              "      <td>42</td>\n",
              "      <td>110</td>\n",
              "      <td>57</td>\n",
              "      <td>3</td>\n",
              "      <td>114</td>\n",
              "      <td>59</td>\n",
              "      <td>17</td>\n",
              "      <td>119</td>\n",
              "      <td>131</td>\n",
              "      <td>191</td>\n",
              "      <td>121</td>\n",
              "      <td>87</td>\n",
              "      <td>4</td>\n",
              "      <td>7</td>\n",
              "      <td>179</td>\n",
              "      <td>183</td>\n",
              "    </tr>\n",
              "    <tr>\n",
              "      <th>12</th>\n",
              "      <td>819</td>\n",
              "      <td>93</td>\n",
              "      <td>42</td>\n",
              "      <td>98</td>\n",
              "      <td>192</td>\n",
              "      <td>63</td>\n",
              "      <td>9</td>\n",
              "      <td>185</td>\n",
              "      <td>36</td>\n",
              "      <td>22</td>\n",
              "      <td>138</td>\n",
              "      <td>206</td>\n",
              "      <td>508</td>\n",
              "      <td>173</td>\n",
              "      <td>70</td>\n",
              "      <td>10</td>\n",
              "      <td>21</td>\n",
              "      <td>189</td>\n",
              "      <td>197</td>\n",
              "    </tr>\n",
              "    <tr>\n",
              "      <th>13</th>\n",
              "      <td>62</td>\n",
              "      <td>96</td>\n",
              "      <td>40</td>\n",
              "      <td>70</td>\n",
              "      <td>120</td>\n",
              "      <td>50</td>\n",
              "      <td>8</td>\n",
              "      <td>137</td>\n",
              "      <td>50</td>\n",
              "      <td>18</td>\n",
              "      <td>141</td>\n",
              "      <td>162</td>\n",
              "      <td>269</td>\n",
              "      <td>139</td>\n",
              "      <td>80</td>\n",
              "      <td>10</td>\n",
              "      <td>13</td>\n",
              "      <td>183</td>\n",
              "      <td>183</td>\n",
              "    </tr>\n",
              "    <tr>\n",
              "      <th>14</th>\n",
              "      <td>677</td>\n",
              "      <td>105</td>\n",
              "      <td>51</td>\n",
              "      <td>80</td>\n",
              "      <td>207</td>\n",
              "      <td>71</td>\n",
              "      <td>6</td>\n",
              "      <td>195</td>\n",
              "      <td>33</td>\n",
              "      <td>22</td>\n",
              "      <td>159</td>\n",
              "      <td>214</td>\n",
              "      <td>579</td>\n",
              "      <td>188</td>\n",
              "      <td>75</td>\n",
              "      <td>6</td>\n",
              "      <td>20</td>\n",
              "      <td>194</td>\n",
              "      <td>194</td>\n",
              "    </tr>\n",
              "  </tbody>\n",
              "</table>\n",
              "</div>\n",
              "      <button class=\"colab-df-convert\" onclick=\"convertToInteractive('df-952a74ff-0db2-423f-83f4-cb8c3734de69')\"\n",
              "              title=\"Convert this dataframe to an interactive table.\"\n",
              "              style=\"display:none;\">\n",
              "        \n",
              "  <svg xmlns=\"http://www.w3.org/2000/svg\" height=\"24px\"viewBox=\"0 0 24 24\"\n",
              "       width=\"24px\">\n",
              "    <path d=\"M0 0h24v24H0V0z\" fill=\"none\"/>\n",
              "    <path d=\"M18.56 5.44l.94 2.06.94-2.06 2.06-.94-2.06-.94-.94-2.06-.94 2.06-2.06.94zm-11 1L8.5 8.5l.94-2.06 2.06-.94-2.06-.94L8.5 2.5l-.94 2.06-2.06.94zm10 10l.94 2.06.94-2.06 2.06-.94-2.06-.94-.94-2.06-.94 2.06-2.06.94z\"/><path d=\"M17.41 7.96l-1.37-1.37c-.4-.4-.92-.59-1.43-.59-.52 0-1.04.2-1.43.59L10.3 9.45l-7.72 7.72c-.78.78-.78 2.05 0 2.83L4 21.41c.39.39.9.59 1.41.59.51 0 1.02-.2 1.41-.59l7.78-7.78 2.81-2.81c.8-.78.8-2.07 0-2.86zM5.41 20L4 18.59l7.72-7.72 1.47 1.35L5.41 20z\"/>\n",
              "  </svg>\n",
              "      </button>\n",
              "      \n",
              "  <style>\n",
              "    .colab-df-container {\n",
              "      display:flex;\n",
              "      flex-wrap:wrap;\n",
              "      gap: 12px;\n",
              "    }\n",
              "\n",
              "    .colab-df-convert {\n",
              "      background-color: #E8F0FE;\n",
              "      border: none;\n",
              "      border-radius: 50%;\n",
              "      cursor: pointer;\n",
              "      display: none;\n",
              "      fill: #1967D2;\n",
              "      height: 32px;\n",
              "      padding: 0 0 0 0;\n",
              "      width: 32px;\n",
              "    }\n",
              "\n",
              "    .colab-df-convert:hover {\n",
              "      background-color: #E2EBFA;\n",
              "      box-shadow: 0px 1px 2px rgba(60, 64, 67, 0.3), 0px 1px 3px 1px rgba(60, 64, 67, 0.15);\n",
              "      fill: #174EA6;\n",
              "    }\n",
              "\n",
              "    [theme=dark] .colab-df-convert {\n",
              "      background-color: #3B4455;\n",
              "      fill: #D2E3FC;\n",
              "    }\n",
              "\n",
              "    [theme=dark] .colab-df-convert:hover {\n",
              "      background-color: #434B5C;\n",
              "      box-shadow: 0px 1px 3px 1px rgba(0, 0, 0, 0.15);\n",
              "      filter: drop-shadow(0px 1px 2px rgba(0, 0, 0, 0.3));\n",
              "      fill: #FFFFFF;\n",
              "    }\n",
              "  </style>\n",
              "\n",
              "      <script>\n",
              "        const buttonEl =\n",
              "          document.querySelector('#df-952a74ff-0db2-423f-83f4-cb8c3734de69 button.colab-df-convert');\n",
              "        buttonEl.style.display =\n",
              "          google.colab.kernel.accessAllowed ? 'block' : 'none';\n",
              "\n",
              "        async function convertToInteractive(key) {\n",
              "          const element = document.querySelector('#df-952a74ff-0db2-423f-83f4-cb8c3734de69');\n",
              "          const dataTable =\n",
              "            await google.colab.kernel.invokeFunction('convertToInteractive',\n",
              "                                                     [key], {});\n",
              "          if (!dataTable) return;\n",
              "\n",
              "          const docLinkHtml = 'Like what you see? Visit the ' +\n",
              "            '<a target=\"_blank\" href=https://colab.research.google.com/notebooks/data_table.ipynb>data table notebook</a>'\n",
              "            + ' to learn more about interactive tables.';\n",
              "          element.innerHTML = '';\n",
              "          dataTable['output_type'] = 'display_data';\n",
              "          await google.colab.output.renderOutput(dataTable, element);\n",
              "          const docLink = document.createElement('div');\n",
              "          docLink.innerHTML = docLinkHtml;\n",
              "          element.appendChild(docLink);\n",
              "        }\n",
              "      </script>\n",
              "    </div>\n",
              "  </div>\n",
              "  "
            ],
            "text/plain": [
              "     0    1   2    3    4   5   6    7   8   9    10   11   12   13  14  15  \\\n",
              "0   824  106  55   96  196  60  12  221  30  25  173  225  717  214  72   9   \n",
              "1   132   97  42  101  186  59   9  186  36  22  138  208  511  168  67   7   \n",
              "2   829   95  49   82  139  56  11  159  43  20  162  173  365  185  75   7   \n",
              "3   560  105  55   96  181  56   9  219  30  25  175  231  713  216  74   4   \n",
              "4   539  109  55   96  191  57   6  241  28  26  170  267  857  242  85   8   \n",
              "5   359  100  49   96  206  63   9  186  35  22  156  202  519  176  62   3   \n",
              "6   229   86  41   64  148  61   5  150  45  19  138  165  333  173  80   5   \n",
              "7   144   95  45   80  186  62   7  164  40  20  145  188  406  178  65  11   \n",
              "8   728   85  36   72  127  56   7  127  54  18  125  144  233  123  70   3   \n",
              "9   123   90  36   57  130  57   6  121  56  17  127  137  216  132  68  22   \n",
              "10  300  106  53   98  193  60  10  215  31  24  169  224  681  218  73   8   \n",
              "11  612   80  34   42  110  57   3  114  59  17  119  131  191  121  87   4   \n",
              "12  819   93  42   98  192  63   9  185  36  22  138  206  508  173  70  10   \n",
              "13   62   96  40   70  120  50   8  137  50  18  141  162  269  139  80  10   \n",
              "14  677  105  51   80  207  71   6  195  33  22  159  214  579  188  75   6   \n",
              "\n",
              "    16   17   18  \n",
              "0   13  186  196  \n",
              "1   41  194  206  \n",
              "2   10  182  191  \n",
              "3    5  187  194  \n",
              "4    9  184  184  \n",
              "5    5  197  205  \n",
              "6    8  182  185  \n",
              "7   18  199  204  \n",
              "8   30  184  194  \n",
              "9   23  190  195  \n",
              "10  21  188  197  \n",
              "11   7  179  183  \n",
              "12  21  189  197  \n",
              "13  13  183  183  \n",
              "14  20  194  194  "
            ]
          },
          "execution_count": 3,
          "metadata": {},
          "output_type": "execute_result"
        }
      ],
      "source": [
        "X_train_pd = pd.DataFrame(X_train)\n",
        "\n",
        "# First 15 rows of our dataset.\n",
        "X_train_pd.head(15)"
      ]
    },
    {
      "cell_type": "markdown",
      "metadata": {
        "id": "7lwL0zKafQXL",
        "nbgrader": {
          "grade": false,
          "grade_id": "cell-98e7d91d77d65fcf",
          "locked": true,
          "schema_version": 2,
          "solution": false
        }
      },
      "source": [
        "Methods `describe` and `info` deliver some useful information."
      ]
    },
    {
      "cell_type": "code",
      "execution_count": null,
      "metadata": {
        "colab": {
          "base_uri": "https://localhost:8080/",
          "height": 301
        },
        "id": "NUOhp_xbfQXL",
        "outputId": "a8b5bdb2-ef32-4628-c36e-3ee8f7534f28"
      },
      "outputs": [
        {
          "data": {
            "text/html": [
              "\n",
              "  <div id=\"df-910f3cce-1ba2-4b3f-9ba2-ab16057ba74b\">\n",
              "    <div class=\"colab-df-container\">\n",
              "      <div>\n",
              "<style scoped>\n",
              "    .dataframe tbody tr th:only-of-type {\n",
              "        vertical-align: middle;\n",
              "    }\n",
              "\n",
              "    .dataframe tbody tr th {\n",
              "        vertical-align: top;\n",
              "    }\n",
              "\n",
              "    .dataframe thead th {\n",
              "        text-align: right;\n",
              "    }\n",
              "</style>\n",
              "<table border=\"1\" class=\"dataframe\">\n",
              "  <thead>\n",
              "    <tr style=\"text-align: right;\">\n",
              "      <th></th>\n",
              "      <th>0</th>\n",
              "      <th>1</th>\n",
              "      <th>2</th>\n",
              "      <th>3</th>\n",
              "      <th>4</th>\n",
              "      <th>5</th>\n",
              "      <th>6</th>\n",
              "      <th>7</th>\n",
              "      <th>8</th>\n",
              "      <th>9</th>\n",
              "      <th>10</th>\n",
              "      <th>11</th>\n",
              "      <th>12</th>\n",
              "      <th>13</th>\n",
              "      <th>14</th>\n",
              "      <th>15</th>\n",
              "      <th>16</th>\n",
              "      <th>17</th>\n",
              "      <th>18</th>\n",
              "    </tr>\n",
              "  </thead>\n",
              "  <tbody>\n",
              "    <tr>\n",
              "      <th>count</th>\n",
              "      <td>549.000000</td>\n",
              "      <td>549.000000</td>\n",
              "      <td>549.000000</td>\n",
              "      <td>549.000000</td>\n",
              "      <td>549.000000</td>\n",
              "      <td>549.000000</td>\n",
              "      <td>549.000000</td>\n",
              "      <td>549.000000</td>\n",
              "      <td>549.000000</td>\n",
              "      <td>549.000000</td>\n",
              "      <td>549.000000</td>\n",
              "      <td>549.000000</td>\n",
              "      <td>549.000000</td>\n",
              "      <td>549.000000</td>\n",
              "      <td>549.000000</td>\n",
              "      <td>549.000000</td>\n",
              "      <td>549.000000</td>\n",
              "      <td>549.000000</td>\n",
              "      <td>549.000000</td>\n",
              "    </tr>\n",
              "    <tr>\n",
              "      <th>mean</th>\n",
              "      <td>417.754098</td>\n",
              "      <td>93.256831</td>\n",
              "      <td>44.801457</td>\n",
              "      <td>81.697632</td>\n",
              "      <td>168.012750</td>\n",
              "      <td>61.586521</td>\n",
              "      <td>8.462659</td>\n",
              "      <td>167.978142</td>\n",
              "      <td>41.132969</td>\n",
              "      <td>20.517304</td>\n",
              "      <td>147.845173</td>\n",
              "      <td>187.719490</td>\n",
              "      <td>435.429872</td>\n",
              "      <td>174.642987</td>\n",
              "      <td>72.526412</td>\n",
              "      <td>6.222222</td>\n",
              "      <td>12.249545</td>\n",
              "      <td>188.797814</td>\n",
              "      <td>195.435337</td>\n",
              "    </tr>\n",
              "    <tr>\n",
              "      <th>std</th>\n",
              "      <td>247.982037</td>\n",
              "      <td>8.183211</td>\n",
              "      <td>6.258915</td>\n",
              "      <td>15.742905</td>\n",
              "      <td>34.292934</td>\n",
              "      <td>7.863472</td>\n",
              "      <td>4.101914</td>\n",
              "      <td>33.184172</td>\n",
              "      <td>7.802219</td>\n",
              "      <td>2.579780</td>\n",
              "      <td>14.727813</td>\n",
              "      <td>31.194843</td>\n",
              "      <td>176.237318</td>\n",
              "      <td>33.181816</td>\n",
              "      <td>7.441360</td>\n",
              "      <td>4.870005</td>\n",
              "      <td>8.627618</td>\n",
              "      <td>6.215497</td>\n",
              "      <td>7.425660</td>\n",
              "    </tr>\n",
              "    <tr>\n",
              "      <th>min</th>\n",
              "      <td>0.000000</td>\n",
              "      <td>73.000000</td>\n",
              "      <td>33.000000</td>\n",
              "      <td>40.000000</td>\n",
              "      <td>104.000000</td>\n",
              "      <td>48.000000</td>\n",
              "      <td>3.000000</td>\n",
              "      <td>112.000000</td>\n",
              "      <td>26.000000</td>\n",
              "      <td>17.000000</td>\n",
              "      <td>118.000000</td>\n",
              "      <td>130.000000</td>\n",
              "      <td>184.000000</td>\n",
              "      <td>112.000000</td>\n",
              "      <td>59.000000</td>\n",
              "      <td>0.000000</td>\n",
              "      <td>0.000000</td>\n",
              "      <td>176.000000</td>\n",
              "      <td>181.000000</td>\n",
              "    </tr>\n",
              "    <tr>\n",
              "      <th>25%</th>\n",
              "      <td>197.000000</td>\n",
              "      <td>87.000000</td>\n",
              "      <td>40.000000</td>\n",
              "      <td>70.000000</td>\n",
              "      <td>139.000000</td>\n",
              "      <td>57.000000</td>\n",
              "      <td>7.000000</td>\n",
              "      <td>147.000000</td>\n",
              "      <td>33.000000</td>\n",
              "      <td>19.000000</td>\n",
              "      <td>137.000000</td>\n",
              "      <td>167.000000</td>\n",
              "      <td>318.000000</td>\n",
              "      <td>148.000000</td>\n",
              "      <td>67.000000</td>\n",
              "      <td>2.000000</td>\n",
              "      <td>5.000000</td>\n",
              "      <td>184.000000</td>\n",
              "      <td>190.000000</td>\n",
              "    </tr>\n",
              "    <tr>\n",
              "      <th>50%</th>\n",
              "      <td>421.000000</td>\n",
              "      <td>92.000000</td>\n",
              "      <td>44.000000</td>\n",
              "      <td>78.000000</td>\n",
              "      <td>165.000000</td>\n",
              "      <td>61.000000</td>\n",
              "      <td>8.000000</td>\n",
              "      <td>156.000000</td>\n",
              "      <td>43.000000</td>\n",
              "      <td>19.000000</td>\n",
              "      <td>146.000000</td>\n",
              "      <td>177.000000</td>\n",
              "      <td>362.000000</td>\n",
              "      <td>174.000000</td>\n",
              "      <td>72.000000</td>\n",
              "      <td>5.000000</td>\n",
              "      <td>11.000000</td>\n",
              "      <td>188.000000</td>\n",
              "      <td>196.000000</td>\n",
              "    </tr>\n",
              "    <tr>\n",
              "      <th>75%</th>\n",
              "      <td>634.000000</td>\n",
              "      <td>99.000000</td>\n",
              "      <td>49.000000</td>\n",
              "      <td>96.000000</td>\n",
              "      <td>195.000000</td>\n",
              "      <td>65.000000</td>\n",
              "      <td>10.000000</td>\n",
              "      <td>197.000000</td>\n",
              "      <td>46.000000</td>\n",
              "      <td>23.000000</td>\n",
              "      <td>159.000000</td>\n",
              "      <td>216.000000</td>\n",
              "      <td>579.000000</td>\n",
              "      <td>198.000000</td>\n",
              "      <td>76.000000</td>\n",
              "      <td>9.000000</td>\n",
              "      <td>18.000000</td>\n",
              "      <td>193.000000</td>\n",
              "      <td>201.000000</td>\n",
              "    </tr>\n",
              "    <tr>\n",
              "      <th>max</th>\n",
              "      <td>844.000000</td>\n",
              "      <td>119.000000</td>\n",
              "      <td>59.000000</td>\n",
              "      <td>112.000000</td>\n",
              "      <td>333.000000</td>\n",
              "      <td>138.000000</td>\n",
              "      <td>52.000000</td>\n",
              "      <td>265.000000</td>\n",
              "      <td>61.000000</td>\n",
              "      <td>29.000000</td>\n",
              "      <td>188.000000</td>\n",
              "      <td>320.000000</td>\n",
              "      <td>1018.000000</td>\n",
              "      <td>268.000000</td>\n",
              "      <td>135.000000</td>\n",
              "      <td>22.000000</td>\n",
              "      <td>41.000000</td>\n",
              "      <td>206.000000</td>\n",
              "      <td>211.000000</td>\n",
              "    </tr>\n",
              "  </tbody>\n",
              "</table>\n",
              "</div>\n",
              "      <button class=\"colab-df-convert\" onclick=\"convertToInteractive('df-910f3cce-1ba2-4b3f-9ba2-ab16057ba74b')\"\n",
              "              title=\"Convert this dataframe to an interactive table.\"\n",
              "              style=\"display:none;\">\n",
              "        \n",
              "  <svg xmlns=\"http://www.w3.org/2000/svg\" height=\"24px\"viewBox=\"0 0 24 24\"\n",
              "       width=\"24px\">\n",
              "    <path d=\"M0 0h24v24H0V0z\" fill=\"none\"/>\n",
              "    <path d=\"M18.56 5.44l.94 2.06.94-2.06 2.06-.94-2.06-.94-.94-2.06-.94 2.06-2.06.94zm-11 1L8.5 8.5l.94-2.06 2.06-.94-2.06-.94L8.5 2.5l-.94 2.06-2.06.94zm10 10l.94 2.06.94-2.06 2.06-.94-2.06-.94-.94-2.06-.94 2.06-2.06.94z\"/><path d=\"M17.41 7.96l-1.37-1.37c-.4-.4-.92-.59-1.43-.59-.52 0-1.04.2-1.43.59L10.3 9.45l-7.72 7.72c-.78.78-.78 2.05 0 2.83L4 21.41c.39.39.9.59 1.41.59.51 0 1.02-.2 1.41-.59l7.78-7.78 2.81-2.81c.8-.78.8-2.07 0-2.86zM5.41 20L4 18.59l7.72-7.72 1.47 1.35L5.41 20z\"/>\n",
              "  </svg>\n",
              "      </button>\n",
              "      \n",
              "  <style>\n",
              "    .colab-df-container {\n",
              "      display:flex;\n",
              "      flex-wrap:wrap;\n",
              "      gap: 12px;\n",
              "    }\n",
              "\n",
              "    .colab-df-convert {\n",
              "      background-color: #E8F0FE;\n",
              "      border: none;\n",
              "      border-radius: 50%;\n",
              "      cursor: pointer;\n",
              "      display: none;\n",
              "      fill: #1967D2;\n",
              "      height: 32px;\n",
              "      padding: 0 0 0 0;\n",
              "      width: 32px;\n",
              "    }\n",
              "\n",
              "    .colab-df-convert:hover {\n",
              "      background-color: #E2EBFA;\n",
              "      box-shadow: 0px 1px 2px rgba(60, 64, 67, 0.3), 0px 1px 3px 1px rgba(60, 64, 67, 0.15);\n",
              "      fill: #174EA6;\n",
              "    }\n",
              "\n",
              "    [theme=dark] .colab-df-convert {\n",
              "      background-color: #3B4455;\n",
              "      fill: #D2E3FC;\n",
              "    }\n",
              "\n",
              "    [theme=dark] .colab-df-convert:hover {\n",
              "      background-color: #434B5C;\n",
              "      box-shadow: 0px 1px 3px 1px rgba(0, 0, 0, 0.15);\n",
              "      filter: drop-shadow(0px 1px 2px rgba(0, 0, 0, 0.3));\n",
              "      fill: #FFFFFF;\n",
              "    }\n",
              "  </style>\n",
              "\n",
              "      <script>\n",
              "        const buttonEl =\n",
              "          document.querySelector('#df-910f3cce-1ba2-4b3f-9ba2-ab16057ba74b button.colab-df-convert');\n",
              "        buttonEl.style.display =\n",
              "          google.colab.kernel.accessAllowed ? 'block' : 'none';\n",
              "\n",
              "        async function convertToInteractive(key) {\n",
              "          const element = document.querySelector('#df-910f3cce-1ba2-4b3f-9ba2-ab16057ba74b');\n",
              "          const dataTable =\n",
              "            await google.colab.kernel.invokeFunction('convertToInteractive',\n",
              "                                                     [key], {});\n",
              "          if (!dataTable) return;\n",
              "\n",
              "          const docLinkHtml = 'Like what you see? Visit the ' +\n",
              "            '<a target=\"_blank\" href=https://colab.research.google.com/notebooks/data_table.ipynb>data table notebook</a>'\n",
              "            + ' to learn more about interactive tables.';\n",
              "          element.innerHTML = '';\n",
              "          dataTable['output_type'] = 'display_data';\n",
              "          await google.colab.output.renderOutput(dataTable, element);\n",
              "          const docLink = document.createElement('div');\n",
              "          docLink.innerHTML = docLinkHtml;\n",
              "          element.appendChild(docLink);\n",
              "        }\n",
              "      </script>\n",
              "    </div>\n",
              "  </div>\n",
              "  "
            ],
            "text/plain": [
              "               0           1           2           3           4           5   \\\n",
              "count  549.000000  549.000000  549.000000  549.000000  549.000000  549.000000   \n",
              "mean   417.754098   93.256831   44.801457   81.697632  168.012750   61.586521   \n",
              "std    247.982037    8.183211    6.258915   15.742905   34.292934    7.863472   \n",
              "min      0.000000   73.000000   33.000000   40.000000  104.000000   48.000000   \n",
              "25%    197.000000   87.000000   40.000000   70.000000  139.000000   57.000000   \n",
              "50%    421.000000   92.000000   44.000000   78.000000  165.000000   61.000000   \n",
              "75%    634.000000   99.000000   49.000000   96.000000  195.000000   65.000000   \n",
              "max    844.000000  119.000000   59.000000  112.000000  333.000000  138.000000   \n",
              "\n",
              "               6           7           8           9           10          11  \\\n",
              "count  549.000000  549.000000  549.000000  549.000000  549.000000  549.000000   \n",
              "mean     8.462659  167.978142   41.132969   20.517304  147.845173  187.719490   \n",
              "std      4.101914   33.184172    7.802219    2.579780   14.727813   31.194843   \n",
              "min      3.000000  112.000000   26.000000   17.000000  118.000000  130.000000   \n",
              "25%      7.000000  147.000000   33.000000   19.000000  137.000000  167.000000   \n",
              "50%      8.000000  156.000000   43.000000   19.000000  146.000000  177.000000   \n",
              "75%     10.000000  197.000000   46.000000   23.000000  159.000000  216.000000   \n",
              "max     52.000000  265.000000   61.000000   29.000000  188.000000  320.000000   \n",
              "\n",
              "                12          13          14          15          16  \\\n",
              "count   549.000000  549.000000  549.000000  549.000000  549.000000   \n",
              "mean    435.429872  174.642987   72.526412    6.222222   12.249545   \n",
              "std     176.237318   33.181816    7.441360    4.870005    8.627618   \n",
              "min     184.000000  112.000000   59.000000    0.000000    0.000000   \n",
              "25%     318.000000  148.000000   67.000000    2.000000    5.000000   \n",
              "50%     362.000000  174.000000   72.000000    5.000000   11.000000   \n",
              "75%     579.000000  198.000000   76.000000    9.000000   18.000000   \n",
              "max    1018.000000  268.000000  135.000000   22.000000   41.000000   \n",
              "\n",
              "               17          18  \n",
              "count  549.000000  549.000000  \n",
              "mean   188.797814  195.435337  \n",
              "std      6.215497    7.425660  \n",
              "min    176.000000  181.000000  \n",
              "25%    184.000000  190.000000  \n",
              "50%    188.000000  196.000000  \n",
              "75%    193.000000  201.000000  \n",
              "max    206.000000  211.000000  "
            ]
          },
          "execution_count": 4,
          "metadata": {},
          "output_type": "execute_result"
        }
      ],
      "source": [
        "X_train_pd.describe()"
      ]
    },
    {
      "cell_type": "code",
      "execution_count": null,
      "metadata": {
        "colab": {
          "base_uri": "https://localhost:8080/"
        },
        "id": "vjrATd79fQXM",
        "outputId": "1bc89f63-52f7-4c6b-8963-03d378bf074f"
      },
      "outputs": [
        {
          "name": "stdout",
          "output_type": "stream",
          "text": [
            "<class 'pandas.core.frame.DataFrame'>\n",
            "RangeIndex: 549 entries, 0 to 548\n",
            "Data columns (total 19 columns):\n",
            " #   Column  Non-Null Count  Dtype\n",
            "---  ------  --------------  -----\n",
            " 0   0       549 non-null    int64\n",
            " 1   1       549 non-null    int64\n",
            " 2   2       549 non-null    int64\n",
            " 3   3       549 non-null    int64\n",
            " 4   4       549 non-null    int64\n",
            " 5   5       549 non-null    int64\n",
            " 6   6       549 non-null    int64\n",
            " 7   7       549 non-null    int64\n",
            " 8   8       549 non-null    int64\n",
            " 9   9       549 non-null    int64\n",
            " 10  10      549 non-null    int64\n",
            " 11  11      549 non-null    int64\n",
            " 12  12      549 non-null    int64\n",
            " 13  13      549 non-null    int64\n",
            " 14  14      549 non-null    int64\n",
            " 15  15      549 non-null    int64\n",
            " 16  16      549 non-null    int64\n",
            " 17  17      549 non-null    int64\n",
            " 18  18      549 non-null    int64\n",
            "dtypes: int64(19)\n",
            "memory usage: 81.6 KB\n"
          ]
        }
      ],
      "source": [
        "X_train_pd.info()"
      ]
    },
    {
      "cell_type": "markdown",
      "metadata": {
        "id": "xcqVXjSYfQXN",
        "nbgrader": {
          "grade": false,
          "grade_id": "cell-be844269be69c387",
          "locked": true,
          "schema_version": 2,
          "solution": false
        }
      },
      "source": [
        "### 2. Machine Learning pipeline\n",
        "Here you are supposed to perform the desired transformations. Please, explain your results briefly after each task."
      ]
    },
    {
      "cell_type": "markdown",
      "metadata": {
        "id": "F-OXlX1OfQXN"
      },
      "source": [
        "#### 2.0. Data preprocessing\n",
        "* Make some transformations of the dataset (if necessary). Briefly explain the transformations"
      ]
    },
    {
      "cell_type": "markdown",
      "metadata": {
        "id": "FIjSLs1di-Hb"
      },
      "source": [
        "We can see tht data oes not have null fields, moreover all elements of our features have int64 type. It means that we don't need to correct null data or wrong data formats.\n",
        "\n",
        "We can see that our column have very different means, deviations, minimum and maximum values. Generally we want to have all features of dataset in the same range for ML algorithms. So we need to apply StandartScaler() to our data in order to normalize it\n",
        "\n",
        "We apply StandartScaler() inside the pipeline in each tsk, so we do not apply it here "
      ]
    },
    {
      "cell_type": "code",
      "execution_count": null,
      "metadata": {
        "id": "064b6908fQXN",
        "nbgrader": {
          "grade": true,
          "grade_id": "cell-a1514aa189a49fca",
          "locked": false,
          "points": 15,
          "schema_version": 2,
          "solution": true
        }
      },
      "outputs": [],
      "source": [
        "### YOUR CODE HERE\n",
        "from sklearn.preprocessing import StandardScaler\n",
        "from sklearn.linear_model import LogisticRegression, LogisticRegressionCV\n",
        "from sklearn.model_selection import train_test_split, GridSearchCV\n",
        "from sklearn.metrics import accuracy_score, f1_score\n",
        "from sklearn.pipeline import Pipeline\n",
        "\n",
        "from sklearn.model_selection import cross_val_score\n",
        "#sc = StandardScaler()\n",
        "#sc.fit(X_train)\n",
        "#X_train = sc.transform(X_train)\n",
        "#X_test  = sc.transform(X_test)"
      ]
    },
    {
      "cell_type": "markdown",
      "metadata": {
        "id": "VdGrJHvGfQXO"
      },
      "source": [
        "#### 2.1. Basic logistic regression\n",
        "* Find optimal hyperparameters for logistic regression with cross-validation on the `train` data (small grid/random search is enough, no need to find the *best* parameters).\n",
        "\n",
        "* Estimate the model quality with `f1` and `accuracy` scores.\n",
        "* Plot a ROC-curve for the trained model. For the multiclass case you might use `scikitplot` library (e.g. `scikitplot.metrics.plot_roc(test_labels, predicted_proba)`).\n",
        "\n",
        "*Note: please, use the following hyperparameters for logistic regression: `multi_class='multinomial'`, `solver='saga'` `tol=1e-3` and ` max_iter=500`.*"
      ]
    },
    {
      "cell_type": "code",
      "execution_count": null,
      "metadata": {
        "id": "jievhmSwBeHd"
      },
      "outputs": [],
      "source": [
        "#import sklearn\n",
        "#sorted(sklearn.metrics.SCORERS.keys())"
      ]
    },
    {
      "cell_type": "code",
      "execution_count": null,
      "metadata": {
        "colab": {
          "base_uri": "https://localhost:8080/"
        },
        "id": "6XCEw-ASfQXO",
        "nbgrader": {
          "grade": true,
          "grade_id": "cell-1dd5ad5d0845cbbb",
          "locked": false,
          "points": 5,
          "schema_version": 2,
          "solution": true
        },
        "outputId": "4770cd17-cecf-4fc5-953d-0f396b9c0c56"
      },
      "outputs": [
        {
          "data": {
            "text/plain": [
              "Pipeline(steps=[('Normalization', StandardScaler()),\n",
              "                ('classifier',\n",
              "                 LogisticRegressionCV(max_iter=500, multi_class='multinomial',\n",
              "                                      random_state=0, solver='saga',\n",
              "                                      tol=0.001))])"
            ]
          },
          "execution_count": 8,
          "metadata": {},
          "output_type": "execute_result"
        }
      ],
      "source": [
        "### YOUR CODE HERE\n",
        "# automaticlly do crossvalidation and select best model\n",
        "clf = LogisticRegressionCV(refit=True, solver=\"saga\", multi_class='multinomial', tol=1e-3, max_iter=500, random_state=0)\n",
        "\n",
        "ppl = Pipeline(steps=[(\"Normalization\", StandardScaler()), (\"classifier\", clf)])\n",
        "\n",
        "ppl.fit(X_train, y_train)"
      ]
    },
    {
      "cell_type": "code",
      "execution_count": null,
      "metadata": {
        "colab": {
          "base_uri": "https://localhost:8080/"
        },
        "id": "IJ-aLw8FAzJh",
        "outputId": "d6d69198-795f-484f-9716-5935ae5d962f"
      },
      "outputs": [
        {
          "name": "stdout",
          "output_type": "stream",
          "text": [
            "0.7946127946127947\n",
            "0.7919612794612795\n"
          ]
        }
      ],
      "source": [
        "y_pred = ppl.predict(X_test)\n",
        "print(accuracy_score(y_test, y_pred))\n",
        "#print(f1_score(y_test, y_pred, average='micro'))\n",
        "#print(f1_score(y_test, y_pred, average='macro'))\n",
        "print(f1_score(y_test, y_pred, average='weighted'))\n",
        "#print(f1_score(y_test, y_pred, average=None))"
      ]
    },
    {
      "cell_type": "code",
      "execution_count": null,
      "metadata": {
        "colab": {
          "base_uri": "https://localhost:8080/"
        },
        "id": "pOyJ2VurfQXQ",
        "outputId": "091f2fd8-5033-4b45-931e-ed475bbe760a"
      },
      "outputs": [
        {
          "name": "stdout",
          "output_type": "stream",
          "text": [
            "Collecting scikit-plot\n",
            "  Downloading scikit_plot-0.3.7-py3-none-any.whl (33 kB)\n",
            "Requirement already satisfied: scikit-learn>=0.18 in /usr/local/lib/python3.7/dist-packages (from scikit-plot) (1.0.2)\n",
            "Requirement already satisfied: joblib>=0.10 in /usr/local/lib/python3.7/dist-packages (from scikit-plot) (1.1.0)\n",
            "Requirement already satisfied: matplotlib>=1.4.0 in /usr/local/lib/python3.7/dist-packages (from scikit-plot) (3.2.2)\n",
            "Requirement already satisfied: scipy>=0.9 in /usr/local/lib/python3.7/dist-packages (from scikit-plot) (1.4.1)\n",
            "Requirement already satisfied: kiwisolver>=1.0.1 in /usr/local/lib/python3.7/dist-packages (from matplotlib>=1.4.0->scikit-plot) (1.4.2)\n",
            "Requirement already satisfied: python-dateutil>=2.1 in /usr/local/lib/python3.7/dist-packages (from matplotlib>=1.4.0->scikit-plot) (2.8.2)\n",
            "Requirement already satisfied: cycler>=0.10 in /usr/local/lib/python3.7/dist-packages (from matplotlib>=1.4.0->scikit-plot) (0.11.0)\n",
            "Requirement already satisfied: pyparsing!=2.0.4,!=2.1.2,!=2.1.6,>=2.0.1 in /usr/local/lib/python3.7/dist-packages (from matplotlib>=1.4.0->scikit-plot) (3.0.8)\n",
            "Requirement already satisfied: numpy>=1.11 in /usr/local/lib/python3.7/dist-packages (from matplotlib>=1.4.0->scikit-plot) (1.21.6)\n",
            "Requirement already satisfied: typing-extensions in /usr/local/lib/python3.7/dist-packages (from kiwisolver>=1.0.1->matplotlib>=1.4.0->scikit-plot) (4.2.0)\n",
            "Requirement already satisfied: six>=1.5 in /usr/local/lib/python3.7/dist-packages (from python-dateutil>=2.1->matplotlib>=1.4.0->scikit-plot) (1.15.0)\n",
            "Requirement already satisfied: threadpoolctl>=2.0.0 in /usr/local/lib/python3.7/dist-packages (from scikit-learn>=0.18->scikit-plot) (3.1.0)\n",
            "Installing collected packages: scikit-plot\n",
            "Successfully installed scikit-plot-0.3.7\n"
          ]
        }
      ],
      "source": [
        "# You might use this command to install scikit-plot. \n",
        "# Warning, if you a running locally, don't call pip from within jupyter, call it from terminal in the corresponding \n",
        "# virtual environment instead\n",
        "\n",
        "!pip install scikit-plot"
      ]
    },
    {
      "cell_type": "code",
      "execution_count": null,
      "metadata": {
        "colab": {
          "base_uri": "https://localhost:8080/",
          "height": 567
        },
        "id": "G3jTBcX0ISZ4",
        "outputId": "bccc2696-f4ca-443c-9ebb-e3d5361d0755"
      },
      "outputs": [
        {
          "data": {
            "image/png": "[encoded data removed]",
            "text/plain": [
              "<Figure size 1368x648 with 1 Axes>"
            ]
          },
          "metadata": {
            "needs_background": "light"
          },
          "output_type": "display_data"
        }
      ],
      "source": [
        "import scikitplot\n",
        "import matplotlib.pyplot as plt\n",
        "\n",
        "scikitplot.metrics.plot_roc(y_test, ppl.predict_proba(X_test), figsize=(19,9))\n",
        "plt.grid()\n",
        "plt.show()"
      ]
    },
    {
      "cell_type": "markdown",
      "metadata": {
        "id": "50RzbxZqfQXQ"
      },
      "source": [
        "#### 2.2. PCA: explained variance plot\n",
        "* Apply the PCA to the train part of the data. Build the explaided variance plot. "
      ]
    },
    {
      "cell_type": "code",
      "execution_count": null,
      "metadata": {
        "colab": {
          "base_uri": "https://localhost:8080/"
        },
        "id": "NGBPWYzdfQXR",
        "nbgrader": {
          "grade": true,
          "grade_id": "cell-c6c614740bce090e",
          "locked": false,
          "points": 10,
          "schema_version": 2,
          "solution": true
        },
        "outputId": "951fb2c0-801d-4735-eea8-4c50c42da482"
      },
      "outputs": [
        {
          "data": {
            "text/plain": [
              "PCA(n_components=19)"
            ]
          },
          "execution_count": 12,
          "metadata": {},
          "output_type": "execute_result"
        }
      ],
      "source": [
        "### YOUR CODE HERE\n",
        "from sklearn.decomposition import PCA\n",
        "pca = PCA(n_components=19)\n",
        "pca.fit(StandardScaler().fit_transform(X_train))\n",
        "#print(X_train.shape)\n",
        "#print(pca.transform(X_train).shape)"
      ]
    },
    {
      "cell_type": "code",
      "execution_count": null,
      "metadata": {
        "colab": {
          "base_uri": "https://localhost:8080/"
        },
        "id": "GK3vTbrz4aQa",
        "outputId": "139b1d68-a101-4276-ee41-bd249977891a"
      },
      "outputs": [
        {
          "name": "stdout",
          "output_type": "stream",
          "text": [
            "[4.99908556e-01 1.61479755e-01 9.55629405e-02 6.04207798e-02\n",
            " 5.19212009e-02 4.83692606e-02 2.88129557e-02 1.83169780e-02\n",
            " 1.20603842e-02 7.92575715e-03 4.81166410e-03 3.39427298e-03\n",
            " 2.21869767e-03 1.89007922e-03 1.07347059e-03 8.63109666e-04\n",
            " 6.33551743e-04 3.17611558e-04 1.89745626e-05]\n"
          ]
        }
      ],
      "source": [
        "print(pca.explained_variance_ratio_)"
      ]
    },
    {
      "cell_type": "code",
      "execution_count": null,
      "metadata": {
        "colab": {
          "base_uri": "https://localhost:8080/",
          "height": 657
        },
        "id": "BXPtlYjM_Kky",
        "outputId": "1940b816-3cad-44b7-dd7f-bed4dbd224c8"
      },
      "outputs": [
        {
          "data": {
            "image/png": "[encoded data removed]",
            "text/plain": [
              "<Figure size 1296x648 with 1 Axes>"
            ]
          },
          "metadata": {
            "needs_background": "light"
          },
          "output_type": "display_data"
        }
      ],
      "source": [
        "cum_sum_eigenvalues = np.cumsum(pca.explained_variance_ratio_)\n",
        "#\n",
        "# Create the visualization plot\n",
        "#\n",
        "plt.figure(figsize=(18,9))\n",
        "plt.bar(range(0,len(pca.explained_variance_ratio_)), pca.explained_variance_ratio_, alpha=0.5, align='center', label='Individual explained variance')\n",
        "plt.step(range(0,len(cum_sum_eigenvalues)), cum_sum_eigenvalues, where='mid',label='Cumulative explained variance')\n",
        "plt.ylabel('Explained variance ratio')\n",
        "plt.xlabel('Principal component index')\n",
        "plt.legend(loc='best')\n",
        "plt.tight_layout()\n",
        "plt.grid()\n",
        "plt.show()"
      ]
    },
    {
      "cell_type": "markdown",
      "metadata": {
        "id": "oqGCylaqfQXS",
        "nbgrader": {
          "grade": false,
          "grade_id": "cell-0c1fe666f52fe53c",
          "locked": true,
          "schema_version": 2,
          "solution": false
        }
      },
      "source": [
        "#### 2.3. PCA trasformation\n",
        "* Select the appropriate number of components. Briefly explain your choice. Should you normalize the data?\n",
        "\n",
        "*Use `fit` and `transform` methods to transform the `train` and `test` parts.*"
      ]
    },
    {
      "cell_type": "markdown",
      "metadata": {
        "id": "wsTGCYX9sa30"
      },
      "source": [
        "We choose 15-component PCA. We can see that after 15-th component in explaided variance plot we can't even see the eigenvalue. So it almost don't gie as any additiona information. Althrough eigenvalue of 15th component is very small is much bigger compared to the smallest eigenvalue. So, it can add some additional information for our classifier. Because of that I decided to use 15-component PCA\n",
        "\n",
        "We should normalize our data before PCA.\n",
        "The PCA calculates a new projection of feaures. New axis are based on the standard deviation of variables. A feature with a high standard deviation will have a higher weight for the calculation of axis compared to a feature with a low standard deviation. We should normalize our data normalize bcause of that."
      ]
    },
    {
      "cell_type": "code",
      "execution_count": null,
      "metadata": {
        "id": "beAHzZ_tfQXS",
        "nbgrader": {
          "grade": true,
          "grade_id": "cell-96ab18d96473ef71",
          "locked": false,
          "points": 5,
          "schema_version": 2,
          "solution": true
        }
      },
      "outputs": [],
      "source": [
        "### YOUR CODE HERE\n",
        "pca = PCA(n_components= 15)\n",
        "clf = LogisticRegressionCV(refit=True, solver=\"saga\", multi_class='multinomial', tol=1e-3, max_iter=500, random_state=0)\n",
        "\n",
        "ppl = Pipeline(steps=[(\"Normalize\", StandardScaler()), (\"PCA\", pca)])\n",
        "New_data = ppl.fit_transform(X_train, y_train)"
      ]
    },
    {
      "cell_type": "markdown",
      "metadata": {
        "id": "u9qHmFXjfQXT"
      },
      "source": [
        "**Note: From this point `sklearn` [Pipeline](https://scikit-learn.org/stable/modules/compose.html) might be useful to perform transformations on the data. Refer to the [docs](https://scikit-learn.org/stable/modules/generated/sklearn.pipeline.Pipeline.html) for more information.**"
      ]
    },
    {
      "cell_type": "markdown",
      "metadata": {
        "id": "OSgomGzSfQXT",
        "nbgrader": {
          "grade": false,
          "grade_id": "cell-d28b58a35c94e988",
          "locked": true,
          "schema_version": 2,
          "solution": false
        }
      },
      "source": [
        "#### 2.4. Logistic regression on PCA-preprocessed data.\n",
        "* Find optimal hyperparameters for logistic regression with cross-validation on the transformed by PCA `train` data.\n",
        "\n",
        "* Estimate the model quality with `f1` and `accuracy` scores.\n",
        "* Plot a ROC-curve for the trained model. For the multiclass case you might use `scikitplot` library (e.g. `scikitplot.metrics.plot_roc(test_labels, predicted_proba)`).\n",
        "\n",
        "*Note: please, use the following hyperparameters for logistic regression: `multi_class='multinomial'`, `solver='saga'` and `tol=1e-3`*"
      ]
    },
    {
      "cell_type": "code",
      "execution_count": null,
      "metadata": {
        "colab": {
          "base_uri": "https://localhost:8080/"
        },
        "id": "NXSMzIgifQXU",
        "nbgrader": {
          "grade": true,
          "grade_id": "cell-12d53ea45258fa82",
          "locked": false,
          "points": 5,
          "schema_version": 2,
          "solution": true
        },
        "outputId": "f01d7bce-7c0c-41d9-e027-4ace006684dd"
      },
      "outputs": [
        {
          "data": {
            "text/plain": [
              "Pipeline(steps=[('Normalize', StandardScaler()), ('PCA', PCA(n_components=15)),\n",
              "                ('classifier',\n",
              "                 LogisticRegressionCV(max_iter=500, multi_class='multinomial',\n",
              "                                      random_state=0, solver='saga',\n",
              "                                      tol=0.001))])"
            ]
          },
          "execution_count": 17,
          "metadata": {},
          "output_type": "execute_result"
        }
      ],
      "source": [
        "### YOUR CODE HERE\n",
        "#scl = StandardScaler()\n",
        "pca = PCA(n_components= 15)\n",
        "clf = LogisticRegressionCV(refit=True, solver=\"saga\", multi_class='multinomial', tol=1e-3, max_iter=500, random_state=0)\n",
        "\n",
        "ppl = Pipeline(steps=[(\"Normalize\", StandardScaler()), (\"PCA\", pca), (\"classifier\", clf)])\n",
        "ppl.fit(X_train, y_train)\n",
        "#X1 = scl.fit_transform(X_train)\n",
        "#X2 = pca.fit_transform(X1)\n",
        "#clf.fit(X2, y_train)"
      ]
    },
    {
      "cell_type": "code",
      "execution_count": null,
      "metadata": {
        "colab": {
          "base_uri": "https://localhost:8080/"
        },
        "id": "ZiLFLOjumN52",
        "outputId": "c04b5399-31aa-415f-9a73-6b88e9f7d769"
      },
      "outputs": [
        {
          "name": "stdout",
          "output_type": "stream",
          "text": [
            "0.7845117845117845\n",
            "0.7829712589138914\n"
          ]
        }
      ],
      "source": [
        "y_pred = ppl.predict(X_test)\n",
        "print(accuracy_score(y_test, y_pred))\n",
        "#print(f1_score(y_test, y_pred, average='micro'))\n",
        "#print(f1_score(y_test, y_pred, average='macro'))\n",
        "print(f1_score(y_test, y_pred, average='weighted'))\n",
        "#print(f1_score(y_test, y_pred, average=None))"
      ]
    },
    {
      "cell_type": "code",
      "execution_count": null,
      "metadata": {
        "colab": {
          "base_uri": "https://localhost:8080/",
          "height": 567
        },
        "id": "bV5mU8KgmSDr",
        "outputId": "d0f225e2-ebef-481d-fcb5-ce42424bae4d"
      },
      "outputs": [
        {
          "data": {
            "image/png": "[encoded data removed]",
            "text/plain": [
              "<Figure size 1368x648 with 1 Axes>"
            ]
          },
          "metadata": {
            "needs_background": "light"
          },
          "output_type": "display_data"
        }
      ],
      "source": [
        "scikitplot.metrics.plot_roc(y_test, ppl.predict_proba(X_test), figsize=(19,9))\n",
        "plt.grid()\n",
        "plt.show()"
      ]
    },
    {
      "cell_type": "markdown",
      "metadata": {
        "id": "9sWSLLcRfQXU",
        "nbgrader": {
          "grade": false,
          "grade_id": "cell-4fbf16c64076e139",
          "locked": true,
          "schema_version": 2,
          "solution": false
        }
      },
      "source": [
        "#### 2.5. Decision tree\n",
        "* Now train a desicion tree on the same data. Find optimal tree depth (`max_depth`) using cross-validation.\n",
        "\n",
        "* Measure the model quality using the same metrics you used above."
      ]
    },
    {
      "cell_type": "code",
      "execution_count": null,
      "metadata": {
        "colab": {
          "base_uri": "https://localhost:8080/"
        },
        "id": "zJdBK4rffQXV",
        "nbgrader": {
          "grade": true,
          "grade_id": "cell-748ed20b51c67fab",
          "locked": false,
          "points": 15,
          "schema_version": 2,
          "solution": true
        },
        "outputId": "7998da0d-1b82-4959-b364-15724712fe4a"
      },
      "outputs": [
        {
          "data": {
            "text/plain": [
              "Pipeline(steps=[('Normalize', StandardScaler()), ('PCA', PCA(n_components=15)),\n",
              "                ('classifier',\n",
              "                 GridSearchCV(estimator=DecisionTreeClassifier(random_state=0),\n",
              "                              n_jobs=4,\n",
              "                              param_grid={'max_depth': range(1, 15)}))])"
            ]
          },
          "execution_count": 20,
          "metadata": {},
          "output_type": "execute_result"
        }
      ],
      "source": [
        "from sklearn.tree import DecisionTreeClassifier\n",
        "\n",
        "# YOUR CODE HERE\n",
        "pca = PCA(n_components=15)\n",
        "\n",
        "parameters = {'max_depth':range(1, 15)}\n",
        "clf = GridSearchCV(DecisionTreeClassifier(random_state=0), parameters, n_jobs=4)\n",
        "ppl = Pipeline(steps=[(\"Normalize\", StandardScaler()), (\"PCA\", pca), (\"classifier\", clf)])\n",
        "\n",
        "ppl.fit(X_train, y_train)\n"
      ]
    },
    {
      "cell_type": "code",
      "execution_count": null,
      "metadata": {
        "colab": {
          "base_uri": "https://localhost:8080/"
        },
        "id": "sizmKQQfqfUa",
        "outputId": "f3a5b87e-9f89-4bc1-c7ad-aff89c4e4938"
      },
      "outputs": [
        {
          "name": "stdout",
          "output_type": "stream",
          "text": [
            "0.6284070058381985 {'max_depth': 6}\n"
          ]
        },
        {
          "data": {
            "text/plain": [
              "Pipeline(steps=[('Normalize', StandardScaler()), ('PCA', PCA(n_components=15)),\n",
              "                ('classifier',\n",
              "                 DecisionTreeClassifier(max_depth=6, random_state=0))])"
            ]
          },
          "execution_count": 21,
          "metadata": {},
          "output_type": "execute_result"
        }
      ],
      "source": [
        "tree_model = clf.best_estimator_\n",
        "print (clf.best_score_, clf.best_params_) \n",
        "\n",
        "ppl_best = Pipeline(steps=[(\"Normalize\", StandardScaler()),(\"PCA\", pca), (\"classifier\", clf.best_estimator_)])\n",
        "ppl_best.fit(X_train, y_train)"
      ]
    },
    {
      "cell_type": "code",
      "execution_count": null,
      "metadata": {
        "colab": {
          "base_uri": "https://localhost:8080/"
        },
        "id": "NbO7_yxSqnza",
        "outputId": "9a327958-fe87-41bf-dcf6-5f149bf3c1ea"
      },
      "outputs": [
        {
          "name": "stdout",
          "output_type": "stream",
          "text": [
            "0.6936026936026936\n",
            "0.6936026936026936\n",
            "0.6901113322706218\n",
            "0.6911742967837159\n",
            "[0.8625     0.54545455 0.56375839 0.78873239]\n"
          ]
        }
      ],
      "source": [
        "y_pred = ppl_best.predict(X_test)\n",
        "print(accuracy_score(y_test, y_pred))\n",
        "print(f1_score(y_test, y_pred, average='micro'))\n",
        "print(f1_score(y_test, y_pred, average='macro'))\n",
        "print(f1_score(y_test, y_pred, average='weighted'))\n",
        "print(f1_score(y_test, y_pred, average=None))"
      ]
    },
    {
      "cell_type": "markdown",
      "metadata": {
        "id": "MmZdc1jcfQXV",
        "nbgrader": {
          "grade": false,
          "grade_id": "cell-9eadd4d8a03ae67a",
          "locked": true,
          "schema_version": 2,
          "solution": false
        }
      },
      "source": [
        "#### 2.6. Bagging.\n",
        "Here starts the ensembling part.\n",
        "\n",
        "First we will use the __Bagging__ approach. Build an ensemble of $N$ algorithms varying N from $N_{min}=2$ to $N_{max}=100$ (with step 5).\n",
        "\n",
        "We will build two ensembles: of logistic regressions and of decision trees.\n",
        "\n",
        "*Comment: each ensemble should be constructed from models of the same family, so logistic regressions should not be mixed up with decision trees.*\n",
        "\n",
        "\n",
        "*Hint 1: To build a __Bagging__ ensebmle varying the ensemble size efficiently you might generate $N_{max}$ subsets of `train` data (of the same size as the original dataset) using bootstrap procedure once. Then you train a new instance of logistic regression/decision tree with optimal hyperparameters you estimated before on each subset (so you train it from scratch). Finally, to get an ensemble of $N$ models you average the $N$ out of $N_{max}$ models predictions.*\n",
        "\n",
        "*Hint 2: sklearn might help you with this taks. Some appropriate function/class might be out there.*\n",
        "\n",
        "* Plot `f1` and `accuracy` scores plots w.r.t. the size of the ensemble.\n",
        "\n",
        "* Briefly analyse the plot. What is the optimal number of algorithms? Explain your answer.\n",
        "\n",
        "* How do you think, are the hyperparameters for the decision trees you found in 2.5 optimal for trees used in ensemble? "
      ]
    },
    {
      "cell_type": "code",
      "execution_count": null,
      "metadata": {
        "colab": {
          "base_uri": "https://localhost:8080/"
        },
        "id": "hOLjDMm2fQXW",
        "outputId": "e77349da-b827-4a29-e493-968c29a49bfe"
      },
      "outputs": [
        {
          "name": "stdout",
          "output_type": "stream",
          "text": [
            "Boostrap size 2\n",
            "0.7474747474747475\n",
            "0.744150241469967\n",
            "\n",
            "\n",
            "Boostrap size 7\n",
            "0.7777777777777778\n",
            "0.7759159852309798\n",
            "\n",
            "\n",
            "Boostrap size 12\n",
            "0.7845117845117845\n",
            "0.7829366414550315\n",
            "\n",
            "\n",
            "Boostrap size 17\n",
            "0.7845117845117845\n",
            "0.7829366414550315\n",
            "\n",
            "\n",
            "Boostrap size 22\n",
            "0.7878787878787878\n",
            "0.7861997328864798\n",
            "\n",
            "\n",
            "Boostrap size 27\n",
            "0.7878787878787878\n",
            "0.7855239733825601\n",
            "\n",
            "\n",
            "Boostrap size 32\n",
            "0.7845117845117845\n",
            "0.7822335071141742\n",
            "\n",
            "\n",
            "Boostrap size 37\n",
            "0.7845117845117845\n",
            "0.7822335071141742\n",
            "\n",
            "\n",
            "Boostrap size 42\n",
            "0.7878787878787878\n",
            "0.7855239733825601\n",
            "\n",
            "\n",
            "Boostrap size 47\n",
            "0.7878787878787878\n",
            "0.7858121004785492\n",
            "\n",
            "\n",
            "Boostrap size 52\n",
            "0.7912457912457912\n",
            "0.7897946457233489\n",
            "\n",
            "\n",
            "Boostrap size 57\n",
            "0.7878787878787878\n",
            "0.7862523688997576\n",
            "\n",
            "\n",
            "Boostrap size 62\n",
            "0.7878787878787878\n",
            "0.7862523688997576\n",
            "\n",
            "\n",
            "Boostrap size 67\n",
            "0.7878787878787878\n",
            "0.7862523688997576\n",
            "\n",
            "\n",
            "Boostrap size 72\n",
            "0.7878787878787878\n",
            "0.7862523688997576\n",
            "\n",
            "\n",
            "Boostrap size 77\n",
            "0.7878787878787878\n",
            "0.7862523688997576\n",
            "\n",
            "\n",
            "Boostrap size 82\n",
            "0.7878787878787878\n",
            "0.7862523688997576\n",
            "\n",
            "\n",
            "Boostrap size 87\n",
            "0.7878787878787878\n",
            "0.7862523688997576\n",
            "\n",
            "\n",
            "Boostrap size 92\n",
            "0.7878787878787878\n",
            "0.7862523688997576\n",
            "\n",
            "\n",
            "Boostrap size 97\n",
            "0.7878787878787878\n",
            "0.7862523688997576\n",
            "\n",
            "\n"
          ]
        }
      ],
      "source": [
        "from sklearn.ensemble import BaggingClassifier\n",
        "\n",
        "acc_save = []\n",
        "f1_save = []\n",
        "nm_lrs = []\n",
        "for ans_size in range(2, 100, 5):\n",
        "    pca = PCA(n_components= 15)\n",
        "    clf = LogisticRegressionCV(refit=True, solver=\"saga\", multi_class='multinomial', tol=1e-3, max_iter=500, random_state=0)\n",
        "    ppl = Pipeline(steps=[(\"Normalize\", StandardScaler()), (\"PCA\", pca), (\"classifier\", clf)])\n",
        "\n",
        "    bclf = BaggingClassifier(base_estimator=ppl, n_estimators=ans_size, random_state=0).fit(X_train, y_train)\n",
        "\n",
        "    print(f\"Boostrap size {ans_size}\")\n",
        "    y_pred = bclf.predict(X_test)\n",
        "    acc_save.append(accuracy_score(y_test, y_pred))\n",
        "    f1_save.append(f1_score(y_test, y_pred, average='weighted'))\n",
        "    nm_lrs.append(ans_size)\n",
        "    print(accuracy_score(y_test, y_pred))\n",
        "    #print(f1_score(y_test, y_pred, average='micro'))\n",
        "    #print(f1_score(y_test, y_pred, average='macro'))\n",
        "    print(f1_score(y_test, y_pred, average='weighted'))\n",
        "    #print(f1_score(y_test, y_pred, average=None))\n",
        "    print(\"\\n\")"
      ]
    },
    {
      "cell_type": "code",
      "execution_count": null,
      "metadata": {
        "colab": {
          "base_uri": "https://localhost:8080/",
          "height": 621
        },
        "id": "Su6gQ8vXsUNW",
        "outputId": "cd8a9a73-461d-47c1-91d4-79fc45629fb6"
      },
      "outputs": [
        {
          "data": {
            "image/png": "[encoded data removed]",
            "text/plain": [
              "<Figure size 720x720 with 1 Axes>"
            ]
          },
          "metadata": {
            "needs_background": "light"
          },
          "output_type": "display_data"
        }
      ],
      "source": [
        "plt.figure(figsize=(10, 10))\n",
        "plt.plot(nm_lrs, acc_save)\n",
        "plt.plot(nm_lrs, f1_save)\n",
        "plt.grid()\n",
        "plt.xlabel(\"Number of linear regressions\")\n",
        "plt.legend([\"Accuracy\", \"F1 score\"])\n",
        "plt.title(\"Bagging linear regression classifier\")\n",
        "plt.show()"
      ]
    },
    {
      "cell_type": "markdown",
      "metadata": {
        "id": "KJiFopdjzSKO"
      },
      "source": [
        "We can see that after 60 algorithms in bagging our performance starts to oscillate. So around 60 agorithms is an optimal number for bagging.\n",
        "\n",
        "But loistic regression is stable algorithm, so our performance benefit is not too big compared to decision trees bagging."
      ]
    },
    {
      "cell_type": "code",
      "execution_count": null,
      "metadata": {
        "colab": {
          "base_uri": "https://localhost:8080/"
        },
        "id": "Dt_Pam2M6TbQ",
        "outputId": "51b8a131-441d-4e0c-fb06-8b9418cde542"
      },
      "outputs": [
        {
          "name": "stdout",
          "output_type": "stream",
          "text": [
            "Boostrap size: 2\n",
            "0.6767676767676768\n",
            "0.6743986266275671\n",
            "\n",
            "\n",
            "Boostrap size: 7\n",
            "0.7643097643097643\n",
            "0.7660926047095613\n",
            "\n",
            "\n",
            "Boostrap size: 12\n",
            "0.797979797979798\n",
            "0.7996214215119689\n",
            "\n",
            "\n",
            "Boostrap size: 17\n",
            "0.7811447811447811\n",
            "0.7814303058537859\n",
            "\n",
            "\n",
            "Boostrap size: 22\n",
            "0.8215488215488216\n",
            "0.8205215372252292\n",
            "\n",
            "\n",
            "Boostrap size: 27\n",
            "0.8013468013468014\n",
            "0.7998148755584351\n",
            "\n",
            "\n",
            "Boostrap size: 32\n",
            "0.8114478114478114\n",
            "0.8103855875931153\n",
            "\n",
            "\n",
            "Boostrap size: 37\n",
            "0.8249158249158249\n",
            "0.824492810198928\n",
            "\n",
            "\n",
            "Boostrap size: 42\n",
            "0.8114478114478114\n",
            "0.8104418945793215\n",
            "\n",
            "\n",
            "Boostrap size: 47\n",
            "0.8114478114478114\n",
            "0.8097929508658487\n",
            "\n",
            "\n",
            "Boostrap size: 52\n",
            "0.8181818181818182\n",
            "0.8173251210613066\n",
            "\n",
            "\n",
            "Boostrap size: 57\n",
            "0.8114478114478114\n",
            "0.8106195499266147\n",
            "\n",
            "\n",
            "Boostrap size: 62\n",
            "0.8249158249158249\n",
            "0.8241887112405496\n",
            "\n",
            "\n",
            "Boostrap size: 67\n",
            "0.8114478114478114\n",
            "0.8092844098241389\n",
            "\n",
            "\n",
            "Boostrap size: 72\n",
            "0.8114478114478114\n",
            "0.8091329202174371\n",
            "\n",
            "\n",
            "Boostrap size: 77\n",
            "0.8114478114478114\n",
            "0.8096786856567764\n",
            "\n",
            "\n",
            "Boostrap size: 82\n",
            "0.8148148148148148\n",
            "0.8130135029685538\n",
            "\n",
            "\n",
            "Boostrap size: 87\n",
            "0.8215488215488216\n",
            "0.8197005561210031\n",
            "\n",
            "\n",
            "Boostrap size: 92\n",
            "0.8148148148148148\n",
            "0.8129720416619922\n",
            "\n",
            "\n",
            "Boostrap size: 97\n",
            "0.8181818181818182\n",
            "0.8164548883455789\n",
            "\n",
            "\n"
          ]
        }
      ],
      "source": [
        "acc_save = []\n",
        "f1_save = []\n",
        "nm_lrs = []\n",
        "for ans_size in range(2, 100, 5):\n",
        "    pca = PCA(n_components=15)\n",
        "\n",
        "    parameters = {'max_depth':range(1, 15)}\n",
        "    clf = GridSearchCV(DecisionTreeClassifier(random_state=0), parameters, n_jobs=4)\n",
        "    ppl = Pipeline(steps=[(\"Normalize\", StandardScaler()), (\"PCA\", pca), (\"classifier\", clf)])\n",
        "\n",
        "    bclf = BaggingClassifier(base_estimator=ppl, n_estimators=ans_size, random_state=0).fit(X_train, y_train)\n",
        "\n",
        "    print(f\"Boostrap size: {ans_size}\")\n",
        "    y_pred = bclf.predict(X_test)\n",
        "    acc_save.append(accuracy_score(y_test, y_pred))\n",
        "    f1_save.append(f1_score(y_test, y_pred, average='weighted'))\n",
        "    nm_lrs.append(ans_size)\n",
        "    print(accuracy_score(y_test, y_pred))\n",
        "    #print(f1_score(y_test, y_pred, average='micro'))\n",
        "    #print(f1_score(y_test, y_pred, average='macro'))\n",
        "    print(f1_score(y_test, y_pred, average='weighted'))\n",
        "    #print(f1_score(y_test, y_pred, average=None))\n",
        "    print(\"\\n\")"
      ]
    },
    {
      "cell_type": "code",
      "execution_count": null,
      "metadata": {
        "colab": {
          "base_uri": "https://localhost:8080/",
          "height": 621
        },
        "id": "m4N07ZoksIom",
        "outputId": "296bc550-2f4c-4a0c-b403-c40b469bbc72"
      },
      "outputs": [
        {
          "data": {
            "image/png": "[encoded data removed]",
            "text/plain": [
              "<Figure size 720x720 with 1 Axes>"
            ]
          },
          "metadata": {
            "needs_background": "light"
          },
          "output_type": "display_data"
        }
      ],
      "source": [
        "plt.figure(figsize=(10, 10))\n",
        "plt.plot(nm_lrs, acc_save)\n",
        "plt.plot(nm_lrs, f1_save)\n",
        "plt.grid()\n",
        "plt.xlabel(\"Number of trees\")\n",
        "plt.legend([\"Accuracy\", \"F1 score\"])\n",
        "plt.title(\"Bagging decision tree Classifier\")\n",
        "plt.show()"
      ]
    },
    {
      "cell_type": "markdown",
      "metadata": {
        "id": "b8uj_y3wz6Zg"
      },
      "source": [
        "We can see that after 32 decision tree used in bagging our performance starts to oscillate. So around 32 agorithm is an optimal number of bagging.\n",
        "\n",
        "Decision tree is an unstable algorithm so it's expected that bagging can improve our metrics a lot.\n",
        "\n",
        "I think that optimal tree depth will be lower compared to one decision tree as with bagging we can reduce error of our algorithm without using more coplex trees."
      ]
    },
    {
      "cell_type": "markdown",
      "metadata": {
        "id": "q3f_jTOyfQXW",
        "nbgrader": {
          "grade": false,
          "grade_id": "cell-241b7691ab44cbfb",
          "locked": true,
          "schema_version": 2,
          "solution": false
        }
      },
      "source": [
        "#### 2.7. Random Forest\n",
        "Now we will work with the Random Forest (its `sklearn` implementation).\n",
        "\n",
        "* * Plot `f1` and `accuracy` scores plots w.r.t. the number of trees in Random Forest.\n",
        "\n",
        "* What is the optimal number of trees you've got? Is it different from the optimal number of logistic regressions/decision trees in 2.6? Explain the results briefly."
      ]
    },
    {
      "cell_type": "code",
      "execution_count": null,
      "metadata": {
        "colab": {
          "base_uri": "https://localhost:8080/"
        },
        "id": "LRVQNnSxfQXW",
        "nbgrader": {
          "grade": true,
          "grade_id": "cell-888755d0f3d91620",
          "locked": false,
          "points": 15,
          "schema_version": 2,
          "solution": true
        },
        "outputId": "c3aaf760-134e-454d-d4ac-46897c58d364"
      },
      "outputs": [
        {
          "data": {
            "text/plain": [
              "Pipeline(steps=[('Normalize', StandardScaler()), ('PCA', PCA(n_components=15)),\n",
              "                ('classifier',\n",
              "                 GridSearchCV(estimator=RandomForestClassifier(max_depth=11,\n",
              "                                                               random_state=0),\n",
              "                              n_jobs=4,\n",
              "                              param_grid={'n_estimators': range(2, 100, 5)}))])"
            ]
          },
          "execution_count": 27,
          "metadata": {},
          "output_type": "execute_result"
        }
      ],
      "source": [
        "from sklearn.ensemble import RandomForestClassifier\n",
        "\n",
        "# YOUR CODE HERE\n",
        "pca = PCA(n_components=15)\n",
        "\n",
        "parameters = {'n_estimators':range(2, 100, 5)}\n",
        "clf = GridSearchCV(RandomForestClassifier(random_state=0, max_depth=11), parameters, n_jobs=4)\n",
        "\n",
        "ppl = Pipeline(steps=[(\"Normalize\", StandardScaler()), (\"PCA\", pca), (\"classifier\", clf)])\n",
        "\n",
        "ppl.fit(X_train, y_train)\n"
      ]
    },
    {
      "cell_type": "code",
      "execution_count": null,
      "metadata": {
        "colab": {
          "base_uri": "https://localhost:8080/"
        },
        "id": "-d_QW7cWxLD6",
        "outputId": "b3cea5af-96e6-4f13-e745-088f9fb4d9d9"
      },
      "outputs": [
        {
          "name": "stdout",
          "output_type": "stream",
          "text": [
            "0.7740617180984153 {'n_estimators': 97}\n"
          ]
        },
        {
          "data": {
            "text/plain": [
              "Pipeline(steps=[('Normalize', StandardScaler()), ('PCA', PCA(n_components=15)),\n",
              "                ('classifier',\n",
              "                 RandomForestClassifier(max_depth=11, n_estimators=97,\n",
              "                                        random_state=0))])"
            ]
          },
          "execution_count": 28,
          "metadata": {},
          "output_type": "execute_result"
        }
      ],
      "source": [
        "print (clf.best_score_, clf.best_params_) \n",
        "\n",
        "ppl_best = Pipeline(steps=[(\"Normalize\", StandardScaler()),(\"PCA\", pca), (\"classifier\", clf.best_estimator_)])\n",
        "ppl_best.fit(X_train, y_train)"
      ]
    },
    {
      "cell_type": "code",
      "execution_count": null,
      "metadata": {
        "colab": {
          "base_uri": "https://localhost:8080/"
        },
        "id": "zZcf-phExKni",
        "outputId": "5d5beb55-785f-489c-b977-bab2007b887c"
      },
      "outputs": [
        {
          "name": "stdout",
          "output_type": "stream",
          "text": [
            "0.8181818181818182\n",
            "0.8181818181818182\n",
            "0.8162245046805574\n",
            "0.8175971038967197\n",
            "[0.98734177 0.66197183 0.7012987  0.91428571]\n"
          ]
        }
      ],
      "source": [
        "y_pred = ppl_best.predict(X_test)\n",
        "print(accuracy_score(y_test, y_pred))\n",
        "print(f1_score(y_test, y_pred, average='micro'))\n",
        "print(f1_score(y_test, y_pred, average='macro'))\n",
        "print(f1_score(y_test, y_pred, average='weighted'))\n",
        "print(f1_score(y_test, y_pred, average=None))"
      ]
    },
    {
      "cell_type": "markdown",
      "metadata": {
        "id": "Pg1OZ6Olmqtc"
      },
      "source": [
        "Our optimal numer of trees is 77. It's is different from our results with bagging.  We found optimal number of trees with greed search - so we might be in an oscillation zone, but get some maximum spike.\n",
        "\n",
        "Also random forest split tree using only subset of features. So, we might need bigger number of trees to reduce error of algorithm."
      ]
    },
    {
      "cell_type": "markdown",
      "metadata": {
        "id": "O9nAEpeafQXW"
      },
      "source": [
        "#### 2.8. Gradient boosting\n",
        "Now select the gradient boosting framework you prefer (LightGBM, XGBoost, CatBoost) and repeat the same experiments.\n",
        "\n",
        "* * Plot `f1` and `accuracy` scores plots w.r.t. the number of trees in Random Forest.\n",
        "\n",
        "* What is the optimal size of the you've got? Explain the results briefly."
      ]
    },
    {
      "cell_type": "code",
      "execution_count": null,
      "metadata": {
        "colab": {
          "base_uri": "https://localhost:8080/"
        },
        "id": "NsJSpOvXy4oe",
        "outputId": "4501f272-480d-46a0-abad-64b1d3b680b1"
      },
      "outputs": [
        {
          "name": "stdout",
          "output_type": "stream",
          "text": [
            "Collecting catboost\n",
            "  Downloading catboost-1.0.5-cp37-none-manylinux1_x86_64.whl (76.6 MB)\n",
            "\u001b[K     |████████████████████████████████| 76.6 MB 97 kB/s \n",
            "\u001b[?25hRequirement already satisfied: pandas>=0.24.0 in /usr/local/lib/python3.7/dist-packages (from catboost) (1.3.5)\n",
            "Requirement already satisfied: matplotlib in /usr/local/lib/python3.7/dist-packages (from catboost) (3.2.2)\n",
            "Requirement already satisfied: six in /usr/local/lib/python3.7/dist-packages (from catboost) (1.15.0)\n",
            "Requirement already satisfied: scipy in /usr/local/lib/python3.7/dist-packages (from catboost) (1.4.1)\n",
            "Requirement already satisfied: plotly in /usr/local/lib/python3.7/dist-packages (from catboost) (5.5.0)\n",
            "Requirement already satisfied: graphviz in /usr/local/lib/python3.7/dist-packages (from catboost) (0.10.1)\n",
            "Requirement already satisfied: numpy>=1.16.0 in /usr/local/lib/python3.7/dist-packages (from catboost) (1.21.6)\n",
            "Requirement already satisfied: python-dateutil>=2.7.3 in /usr/local/lib/python3.7/dist-packages (from pandas>=0.24.0->catboost) (2.8.2)\n",
            "Requirement already satisfied: pytz>=2017.3 in /usr/local/lib/python3.7/dist-packages (from pandas>=0.24.0->catboost) (2022.1)\n",
            "Requirement already satisfied: kiwisolver>=1.0.1 in /usr/local/lib/python3.7/dist-packages (from matplotlib->catboost) (1.4.2)\n",
            "Requirement already satisfied: cycler>=0.10 in /usr/local/lib/python3.7/dist-packages (from matplotlib->catboost) (0.11.0)\n",
            "Requirement already satisfied: pyparsing!=2.0.4,!=2.1.2,!=2.1.6,>=2.0.1 in /usr/local/lib/python3.7/dist-packages (from matplotlib->catboost) (3.0.8)\n",
            "Requirement already satisfied: typing-extensions in /usr/local/lib/python3.7/dist-packages (from kiwisolver>=1.0.1->matplotlib->catboost) (4.2.0)\n",
            "Requirement already satisfied: tenacity>=6.2.0 in /usr/local/lib/python3.7/dist-packages (from plotly->catboost) (8.0.1)\n",
            "Installing collected packages: catboost\n",
            "Successfully installed catboost-1.0.5\n"
          ]
        }
      ],
      "source": [
        "!pip install catboost"
      ]
    },
    {
      "cell_type": "code",
      "execution_count": null,
      "metadata": {
        "id": "HNSgJ1OJy7sA"
      },
      "outputs": [],
      "source": [
        "from catboost import CatBoostClassifier, Pool"
      ]
    },
    {
      "cell_type": "code",
      "execution_count": null,
      "metadata": {
        "id": "tYjjE3PYzOur"
      },
      "outputs": [],
      "source": [
        "pca = PCA(n_components=15)\n",
        "ppl = Pipeline(steps=[(\"Normalize\", StandardScaler()),(\"PCA\", pca)])"
      ]
    },
    {
      "cell_type": "code",
      "execution_count": null,
      "metadata": {
        "colab": {
          "base_uri": "https://localhost:8080/"
        },
        "id": "0zkR-0IGAHvo",
        "outputId": "a60320f6-abca-43db-cf7a-514149f2e8e0"
      },
      "outputs": [
        {
          "data": {
            "text/plain": [
              "<catboost.core.CatBoostClassifier at 0x7f52fddc7dd0>"
            ]
          },
          "execution_count": 34,
          "metadata": {},
          "output_type": "execute_result"
        }
      ],
      "source": [
        "catboost2 = CatBoostClassifier(random_seed=4, verbose=0, learning_rate=1, num_trees=4000, depth=8)#2000\n",
        "catboost2_train = Pool(data = ppl.fit_transform(X_train), label=y_train)\n",
        "catboost2.fit(catboost2_train)"
      ]
    },
    {
      "cell_type": "code",
      "execution_count": null,
      "metadata": {
        "colab": {
          "base_uri": "https://localhost:8080/"
        },
        "id": "dgm18UqJzcda",
        "outputId": "45501465-ade9-49e8-e8b5-5c80e5390fa9"
      },
      "outputs": [
        {
          "name": "stdout",
          "output_type": "stream",
          "text": [
            "0.8417508417508418\n",
            "0.8417508417508418\n",
            "0.838484818514061\n",
            "0.8403390880915961\n",
            "[0.99363057 0.69172932 0.75308642 0.91549296]\n"
          ]
        }
      ],
      "source": [
        "y_pred = catboost2.predict(ppl.transform(X_test))\n",
        "print(accuracy_score(y_test, y_pred))\n",
        "print(f1_score(y_test, y_pred, average='micro'))\n",
        "print(f1_score(y_test, y_pred, average='macro'))\n",
        "print(f1_score(y_test, y_pred, average='weighted'))\n",
        "print(f1_score(y_test, y_pred, average=None))"
      ]
    },
    {
      "cell_type": "markdown",
      "metadata": {
        "id": "kWxKzSzz13S_"
      },
      "source": [
        "We have a lot of parameters in gradient boosting so it's hard to do a full greed earch for them.\n",
        "\n",
        " Generally, restricting max tree depth is useful for improving peed of convergency but it's not always improve performance significantly. So we chose max depth from speed of convergency consideratons\n",
        "\n",
        "We use default number of iteration for catboost, so we need to big learning rate in order to sucsessfully converge.\n",
        "\n",
        "We choose number of trees for gradient boosting as a compromise between metrics results, speed of convergency."
      ]
    },
    {
      "cell_type": "markdown",
      "metadata": {
        "id": "zXWIFV_WfQXX",
        "nbgrader": {
          "grade": false,
          "grade_id": "cell-99191c0852538d4d",
          "locked": true,
          "schema_version": 2,
          "solution": false
        }
      },
      "source": [
        "#### 2.8. Learning curve\n",
        "Your goal is to estimate, how does the model behaviour change with the increase of the `train` dataset size.\n",
        "\n",
        "* Split the training data into 10 equal (almost) parts. Then train the models from above (Logistic regression, Desicion Tree, Random Forest) with optimal hyperparameters you have selected on 1 part, 2 parts (combined, so the train size in increased by 2 times), 3 parts and so on.\n",
        "\n",
        "* Build a plot of `accuracy` and `f1` scores on `test` part, varying the `train` dataset size (so the axes will be score - dataset size.\n",
        "\n",
        "* Analyse the final plot. Can you make any conlusions using it? "
      ]
    },
    {
      "cell_type": "code",
      "execution_count": null,
      "metadata": {
        "colab": {
          "base_uri": "https://localhost:8080/"
        },
        "id": "uub2wm47INm-",
        "outputId": "77b393e7-2706-4995-8a15-16767aecf987"
      },
      "outputs": [
        {
          "data": {
            "text/plain": [
              "10431"
            ]
          },
          "execution_count": 36,
          "metadata": {},
          "output_type": "execute_result"
        }
      ],
      "source": [
        "X_train.size"
      ]
    },
    {
      "cell_type": "code",
      "execution_count": null,
      "metadata": {
        "id": "uoNWexG-fQXX",
        "nbgrader": {
          "grade": true,
          "grade_id": "cell-e39bc7e7dff61ff9",
          "locked": false,
          "points": 15,
          "schema_version": 2,
          "solution": true
        }
      },
      "outputs": [],
      "source": [
        "# YOUR CODE HERE\n",
        "data_split_x = np.array_split(X_train, 10)\n",
        "data_split_y = np.array_split(y_train, 10)"
      ]
    },
    {
      "cell_type": "code",
      "execution_count": null,
      "metadata": {
        "colab": {
          "base_uri": "https://localhost:8080/"
        },
        "id": "uRe2Dc8jNS0k",
        "outputId": "c9db954a-62cb-4fe9-e1db-b19457762420"
      },
      "outputs": [
        {
          "name": "stdout",
          "output_type": "stream",
          "text": [
            "0.7171717171717171\n",
            "0.7197541266592805\n",
            "\n",
            "\n",
            "0.7542087542087542\n",
            "0.7567370194428177\n",
            "\n",
            "\n",
            "0.7508417508417509\n",
            "0.7518601494887852\n",
            "\n",
            "\n",
            "0.7676767676767676\n",
            "0.7675429061086712\n",
            "\n",
            "\n",
            "0.8013468013468014\n",
            "0.8022373822738195\n",
            "\n",
            "\n",
            "0.8249158249158249\n",
            "0.8234376821242404\n",
            "\n",
            "\n",
            "0.8013468013468014\n",
            "0.7991860775708991\n",
            "\n",
            "\n",
            "0.797979797979798\n",
            "0.796570499791996\n",
            "\n",
            "\n",
            "0.7845117845117845\n",
            "0.7829712589138914\n",
            "\n",
            "\n"
          ]
        }
      ],
      "source": [
        "dset_x = data_split_x[0]\n",
        "dset_y = data_split_y[0]\n",
        "acc_save = []\n",
        "f1_save = []\n",
        "for dataset_x,dataset_y  in zip(data_split_x[1::], data_split_y[1::]):\n",
        "    dset_x = np.vstack((dset_x, dataset_x))\n",
        "    dset_y = np.hstack((dset_y, dataset_y))\n",
        "\n",
        "    pca = PCA(n_components= 15)\n",
        "    clf = LogisticRegressionCV(refit=True, solver=\"saga\", multi_class='multinomial', tol=1e-3, max_iter=500, random_state=0)\n",
        "\n",
        "    ppl = Pipeline(steps=[(\"Normalize\", StandardScaler()), (\"PCA\", pca), (\"classifier\", clf)])\n",
        "    ppl.fit(X_train, y_train)\n",
        "\n",
        "    ppl.fit(dset_x, dset_y)\n",
        "\n",
        "    y_pred = ppl.predict(X_test)\n",
        "    acc_save.append(accuracy_score(y_test, y_pred))\n",
        "    f1_save.append(f1_score(y_test, y_pred, average='weighted'))\n",
        "    print(accuracy_score(y_test, y_pred))\n",
        "    print(f1_score(y_test, y_pred, average='weighted'))\n",
        "    print(\"\\n\")"
      ]
    },
    {
      "cell_type": "code",
      "execution_count": null,
      "metadata": {
        "colab": {
          "base_uri": "https://localhost:8080/",
          "height": 621
        },
        "id": "GULHnEHHOEA0",
        "outputId": "f6469559-f8a6-43d8-dbc3-f8355fafc2a5"
      },
      "outputs": [
        {
          "data": {
            "image/png": "[encoded data removed]",
            "text/plain": [
              "<Figure size 720x720 with 1 Axes>"
            ]
          },
          "metadata": {
            "needs_background": "light"
          },
          "output_type": "display_data"
        }
      ],
      "source": [
        "plt.figure(figsize=(10, 10))\n",
        "plt.plot(acc_save)\n",
        "plt.plot(f1_save)\n",
        "plt.grid()\n",
        "plt.xlabel(\"Iteration\")\n",
        "plt.legend([\"Accuracy\", \"F1 score\"])\n",
        "plt.title(\"Logistic regression\")\n",
        "plt.show()"
      ]
    },
    {
      "cell_type": "code",
      "execution_count": null,
      "metadata": {
        "colab": {
          "base_uri": "https://localhost:8080/"
        },
        "id": "MfOdkYVQGVHx",
        "outputId": "f814a1c0-e812-4310-9972-36ac76bbf5cc"
      },
      "outputs": [
        {
          "name": "stdout",
          "output_type": "stream",
          "text": [
            "0.67003367003367\n",
            "0.6546194740272152\n",
            "\n",
            "\n",
            "0.7272727272727273\n",
            "0.7073003999094171\n",
            "\n",
            "\n",
            "0.7306397306397306\n",
            "0.7275276837741927\n",
            "\n",
            "\n",
            "0.734006734006734\n",
            "0.733363709737917\n",
            "\n",
            "\n",
            "0.7474747474747475\n",
            "0.7447745470339628\n",
            "\n",
            "\n",
            "0.7845117845117845\n",
            "0.7813079976458216\n",
            "\n",
            "\n",
            "0.7676767676767676\n",
            "0.7658125472513244\n",
            "\n",
            "\n",
            "0.7946127946127947\n",
            "0.7925506249880251\n",
            "\n",
            "\n",
            "0.7710437710437711\n",
            "0.770123563333139\n",
            "\n",
            "\n"
          ]
        }
      ],
      "source": [
        "dset_x = data_split_x[0]\n",
        "dset_y = data_split_y[0]\n",
        "acc_save = []\n",
        "f1_save = []\n",
        "for dataset_x,dataset_y  in zip(data_split_x[1::], data_split_y[1::]):\n",
        "    dset_x = np.vstack((dset_x, dataset_x))\n",
        "    dset_y = np.hstack((dset_y, dataset_y))\n",
        "\n",
        "    pca = PCA(n_components=15)\n",
        "\n",
        "    parameters = {'max_depth':range(1, 15)}\n",
        "    clf = GridSearchCV(RandomForestClassifier(random_state=0), parameters, n_jobs=4)\n",
        "    ppl = Pipeline(steps=[(\"Normalize\", StandardScaler()), (\"PCA\", pca), (\"classifier\", clf)])\n",
        "\n",
        "    ppl.fit(dset_x, dset_y)\n",
        "\n",
        "    y_pred = ppl.predict(X_test)\n",
        "    acc_save.append(accuracy_score(y_test, y_pred))\n",
        "    f1_save.append(f1_score(y_test, y_pred, average='weighted'))\n",
        "    print(accuracy_score(y_test, y_pred))\n",
        "    print(f1_score(y_test, y_pred, average='weighted'))\n",
        "    print(\"\\n\")"
      ]
    },
    {
      "cell_type": "code",
      "execution_count": null,
      "metadata": {
        "colab": {
          "base_uri": "https://localhost:8080/",
          "height": 621
        },
        "id": "p4uX--omNpj0",
        "outputId": "a2077250-86a0-4274-833c-c043cd3b6547"
      },
      "outputs": [
        {
          "data": {
            "image/png": "[encoded data removed]",
            "text/plain": [
              "<Figure size 720x720 with 1 Axes>"
            ]
          },
          "metadata": {
            "needs_background": "light"
          },
          "output_type": "display_data"
        }
      ],
      "source": [
        "plt.figure(figsize=(10, 10))\n",
        "plt.plot(acc_save)\n",
        "plt.plot(f1_save)\n",
        "plt.grid()\n",
        "plt.xlabel(\"Iteration\")\n",
        "plt.legend([\"Accuracy\", \"F1 score\"])\n",
        "plt.title(\"Random Forest Classifier\")\n",
        "plt.show()"
      ]
    },
    {
      "cell_type": "code",
      "execution_count": null,
      "metadata": {
        "colab": {
          "base_uri": "https://localhost:8080/"
        },
        "id": "k1KnG7XlNT6k",
        "outputId": "3477fa79-7e61-46b4-ca3f-b11d771c7bf7"
      },
      "outputs": [
        {
          "name": "stdout",
          "output_type": "stream",
          "text": [
            "0.46464646464646464\n",
            "0.4638243250256237\n",
            "\n",
            "\n",
            "0.5488215488215489\n",
            "0.5535482030538145\n",
            "\n",
            "\n",
            "0.5824915824915825\n",
            "0.5841522487987134\n",
            "\n",
            "\n",
            "0.5521885521885522\n",
            "0.5587032805472463\n",
            "\n",
            "\n",
            "0.632996632996633\n",
            "0.6316239359905376\n",
            "\n",
            "\n",
            "0.6801346801346801\n",
            "0.6774466136218046\n",
            "\n",
            "\n",
            "0.6801346801346801\n",
            "0.6796744422643703\n",
            "\n",
            "\n",
            "0.6902356902356902\n",
            "0.6867351826831743\n",
            "\n",
            "\n",
            "0.6936026936026936\n",
            "0.6911742967837159\n",
            "\n",
            "\n"
          ]
        }
      ],
      "source": [
        "dset_x = data_split_x[0]\n",
        "dset_y = data_split_y[0]\n",
        "acc_save = []\n",
        "f1_save = []\n",
        "for dataset_x,dataset_y  in zip(data_split_x[1::], data_split_y[1::]):\n",
        "    dset_x = np.vstack((dset_x, dataset_x))\n",
        "    dset_y = np.hstack((dset_y, dataset_y))\n",
        "\n",
        "    pca = PCA(n_components=15)\n",
        "\n",
        "    parameters = {'max_depth':range(1, 15)}\n",
        "    clf = GridSearchCV(DecisionTreeClassifier(random_state=0), parameters, n_jobs=4)\n",
        "    ppl = Pipeline(steps=[(\"Normalize\", StandardScaler()), (\"PCA\", pca), (\"classifier\", clf)])\n",
        "\n",
        "    ppl.fit(dset_x, dset_y)\n",
        "\n",
        "    y_pred = ppl.predict(X_test)\n",
        "    acc_save.append(accuracy_score(y_test, y_pred))\n",
        "    f1_save.append(f1_score(y_test, y_pred, average='weighted'))\n",
        "    print(accuracy_score(y_test, y_pred))\n",
        "    print(f1_score(y_test, y_pred, average='weighted'))\n",
        "    print(\"\\n\")"
      ]
    },
    {
      "cell_type": "code",
      "execution_count": null,
      "metadata": {
        "colab": {
          "base_uri": "https://localhost:8080/",
          "height": 621
        },
        "id": "mebAD7fYOCi8",
        "outputId": "880ee957-7cf4-46da-f12e-2858dab20c23"
      },
      "outputs": [
        {
          "data": {
            "image/png": "[encoded data removed]",
            "text/plain": [
              "<Figure size 720x720 with 1 Axes>"
            ]
          },
          "metadata": {
            "needs_background": "light"
          },
          "output_type": "display_data"
        }
      ],
      "source": [
        "plt.figure(figsize=(10, 10))\n",
        "plt.plot(acc_save)\n",
        "plt.plot(f1_save)\n",
        "plt.grid()\n",
        "plt.xlabel(\"Iteration\")\n",
        "plt.legend([\"Accuracy\", \"F1 score\"])\n",
        "plt.title(\"Decision Tree Classifier\")\n",
        "plt.show()"
      ]
    },
    {
      "cell_type": "markdown",
      "metadata": {
        "id": "7WzwmpzEnVul"
      },
      "source": [
        "We can see that generally our metrics are getting better with increase in training samples. But someimes we can get worse performance with it. \n",
        "\n",
        "It can be easily explained. We separated our training samples with np.split and didn't take into account how many sampes of each class in each part. So, when we add the next sample to training it can have very imbalance classes and therefore it can make our raining dataset imbalanced. In that case we can overfit for more frequent class but underfit for less frequent class. Tis can explain loss of performance in some cases"
      ]
    }
  ],
  "metadata": {
    "celltoolbar": "Create Assignment",
    "colab": {
      "collapsed_sections": [],
      "machine_shape": "hm",
      "provenance": [],
      "include_colab_link": true
    },
    "kernelspec": {
      "display_name": "Python 3 (ipykernel)",
      "language": "python",
      "name": "python3"
    },
    "language_info": {
      "codemirror_mode": {
        "name": "ipython",
        "version": 3
      },
      "file_extension": ".py",
      "mimetype": "text/x-python",
      "name": "python",
      "nbconvert_exporter": "python",
      "pygments_lexer": "ipython3",
      "version": "3.10.4"
    },
    "toc": {
      "base_numbering": 1,
      "nav_menu": {},
      "number_sections": false,
      "sideBar": true,
      "skip_h1_title": false,
      "title_cell": "Table of Contents",
      "title_sidebar": "Contents",
      "toc_cell": false,
      "toc_position": {},
      "toc_section_display": true,
      "toc_window_display": false
    }
  },
  "nbformat": 4,
  "nbformat_minor": 0
}