{
  "cells": [
    {
      "cell_type": "markdown",
      "metadata": {
        "id": "view-in-github",
        "colab_type": "text"
      },
      "source": [
        "<a href=\"https://colab.research.google.com/github/malacosteus/MIPT/blob/main/ML/DT/assignment0_04_decision_tree.ipynb\" target=\"_parent\"><img src=\"https://colab.research.google.com/assets/colab-badge.svg\" alt=\"Open In Colab\"/></a>"
      ]
    },
    {
      "cell_type": "markdown",
      "metadata": {
        "id": "MyT9oTWbqCdQ"
      },
      "source": [
        "## assignment 04: Decision Tree construction"
      ]
    },
    {
      "cell_type": "code",
      "execution_count": null,
      "metadata": {
        "id": "E0gTyrEjqCd-"
      },
      "outputs": [],
      "source": [
        "# If working in colab, uncomment the following line\n",
        "# ! wget https://raw.githubusercontent.com/girafe-ai/ml-mipt/21f_made/homeworks/assignment0_04_tree/tree.py -nc"
      ]
    },
    {
      "cell_type": "code",
      "execution_count": null,
      "metadata": {
        "id": "Ppgmx8SuqCeV"
      },
      "outputs": [],
      "source": [
        "import numpy as np\n",
        "from matplotlib import pyplot as plt\n",
        "%matplotlib inline\n",
        "from sklearn.base import BaseEstimator\n",
        "from sklearn.datasets import make_classification, make_regression, load_digits, load_boston\n",
        "from sklearn.model_selection import train_test_split, GridSearchCV\n",
        "from sklearn.metrics import accuracy_score, mean_squared_error\n",
        "import pandas as pd\n",
        "\n",
        "%load_ext autoreload\n",
        "%autoreload 2"
      ]
    },
    {
      "cell_type": "markdown",
      "metadata": {
        "id": "9E2Ebf8TqCef"
      },
      "source": [
        "Let's fix the `random_state` (a.k.a. random seed)."
      ]
    },
    {
      "cell_type": "code",
      "execution_count": null,
      "metadata": {
        "id": "1QIrwoNZqCek"
      },
      "outputs": [],
      "source": [
        "RANDOM_STATE = 42"
      ]
    },
    {
      "cell_type": "markdown",
      "metadata": {
        "id": "nL6DFGP5qCeq"
      },
      "source": [
        "__Your ultimate task for today is to impement the `DecisionTree` class and use it to solve classification and regression problems.__\n",
        "\n",
        "__Specifications:__\n",
        "- The class inherits from `sklearn.BaseEstimator`;\n",
        "- Constructor is implemented for you. It has the following parameters:\n",
        "    * `max_depth` - maximum depth of the tree; `np.inf` by default\n",
        "    * `min_samples_split` - minimal number of samples in the leaf to make a split; `2` by default;\n",
        "    * `criterion` - criterion to select the best split; in classification one of `['gini', 'entropy']`, default `gini`; in regression `variance`;\n",
        "\n",
        "- `fit` method takes `X` (`numpy.array` of type `float` shaped `(n_objects, n_features)`) and `y` (`numpy.array` of type float shaped `(n_objects, 1)` in regression; `numpy.array` of type int shaped `(n_objects, 1)` with class labels in classification). It works inplace and fits the `DecisionTree` class instance to the provided data from scratch.\n",
        "\n",
        "- `predict` method takes `X` (`numpy.array` of type `float` shaped `(n_objects, n_features)`) and returns the predicted $\\hat{y}$ values. In classification it is a class label for every object (the most frequent in the leaf; if several classes meet this requirement select the one with the smallest class index). In regression it is the desired constant (e.g. mean value for `variance` criterion)\n",
        "\n",
        "- `predict_proba` method (works only for classification (`gini` or `entropy` criterion). It takes `X` (`numpy.array` of type `float` shaped `(n_objects, n_features)`) and returns the `numpy.array` of type `float` shaped `(n_objects, n_features)` with class probabilities for every object from `X`. Class $i$ probability equals the ratio of $i$ class objects that got in this node in the training set.\n",
        "\n",
        "    \n",
        "__Small recap:__\n",
        "\n",
        "To find the optimal split the following functional is evaluated:\n",
        "    \n",
        "$$G(j, t) = H(Q) - \\dfrac{|L|}{|Q|} H(L) - \\dfrac{|R|}{|Q|} H(R),$$\n",
        "    where $Q$ is the dataset from the current node, $L$ and $R$ are left and right subsets defined by the split $x^{(j)} < t$.\n",
        "\n",
        "\n",
        "\n",
        "1. Classification. Let $p_i$ be the probability of $i$ class in subset $X$ (ratio of the $i$ class objects in the dataset). The criterions are defined as:\n",
        "    \n",
        "    * `gini`: Gini impurity $$H(R) = 1 -\\sum_{i = 1}^K p_i^2$$\n",
        "    \n",
        "    * `entropy`: Entropy $$H(R) = -\\sum_{i = 1}^K p_i \\log(p_i)$$ (One might use the natural logarithm).\n",
        "    \n",
        "2. Regression. Let $y_l$ be the target value for the $R$, $\\mathbf{y} = (y_1, \\dots, y_N)$ – all targets for the selected dataset $X$.\n",
        "    \n",
        "    * `variance`: $$H(R) = \\dfrac{1}{|R|} \\sum_{y_j \\in R}(y_j - \\text{mean}(\\mathbf{y}))^2$$\n",
        "    \n",
        "    * `mad_median`: $$H(R) = \\dfrac{1}{|R|} \\sum_{y_j \\in R}|y_j - \\text{median}(\\mathbf{y})|$$\n",
        "        \n"
      ]
    },
    {
      "cell_type": "markdown",
      "metadata": {
        "id": "OpyX_BNvqCe-"
      },
      "source": [
        "**Hints and comments**:\n",
        "\n",
        "* No need to deal with categorical features, they will not be present.\n",
        "* Siple greedy recursive procedure is enough. However, you can speed it up somehow (e.g. using percentiles).\n",
        "* Please, do not copy implementations available online. You are supposed to build very simple example of the Decision Tree."
      ]
    },
    {
      "cell_type": "markdown",
      "metadata": {
        "id": "Ty5pS0eqqCfJ"
      },
      "source": [
        "File `tree.py` is waiting for you. Implement all the needed methods in that file."
      ]
    },
    {
      "cell_type": "code",
      "source": [
        "import numpy as np\n",
        "from sklearn.base import BaseEstimator\n",
        "\n",
        "\n",
        "def entropy(y):  \n",
        "    \"\"\"\n",
        "    Computes entropy of the provided distribution. Use log(value + eps) for numerical stability\n",
        "\n",
        "    Parameters\n",
        "    ----------\n",
        "    y : np.array of type float with shape (n_objects, n_classes)\n",
        "        One-hot representation of class labels for corresponding subset\n",
        "\n",
        "    Returns\n",
        "    -------\n",
        "    float\n",
        "        Entropy of the provided subset\n",
        "    \"\"\"\n",
        "    EPS = 0.0005\n",
        "\n",
        "    # YOUR CODE HERE\n",
        "\n",
        "    return 0 if y.shape[0] == 0 else -np.sum(np.mean(y, axis=0) * np.log(np.mean(y, axis=0) + EPS))\n",
        "\n",
        "def gini(y):\n",
        "    \"\"\"\n",
        "    Computes the Gini impurity of the provided distribution\n",
        "    \n",
        "    Parameters\n",
        "    ----------\n",
        "    y : np.array of type float with shape (n_objects, n_classes)\n",
        "        One-hot representation of class labels for corresponding subset\n",
        "    \n",
        "    Returns\n",
        "    -------\n",
        "    float\n",
        "        Gini impurity of the provided subset\n",
        "    \"\"\"\n",
        "\n",
        "    # YOUR CODE HERE\n",
        "\n",
        "    return 0 if y.shape[0] == 0 else 1 - np.sum(np.power(np.mean(y, axis=0), 2))\n",
        "\n",
        "def variance(y):\n",
        "    \"\"\"\n",
        "    Computes the variance the provided target values subset\n",
        "    \n",
        "    Parameters\n",
        "    ----------\n",
        "    y : np.array of type float with shape (n_objects, 1)\n",
        "        Target values vector\n",
        "    \n",
        "    Returns\n",
        "    -------\n",
        "    float\n",
        "        Variance of the provided target vector\n",
        "    \"\"\"\n",
        "\n",
        "    # YOUR CODE HERE\n",
        "\n",
        "    return 0 if y.shape[0] == 0 else np.mean(np.power(y - np.mean(y), 2))\n",
        "\n",
        "def mad_median(y):\n",
        "    \"\"\"\n",
        "    Computes the mean absolute deviation from the median in the\n",
        "    provided target values subset\n",
        "    \n",
        "    Parameters\n",
        "    ----------\n",
        "    y : np.array of type float with shape (n_objects, 1)\n",
        "        Target values vector\n",
        "    \n",
        "    Returns\n",
        "    -------\n",
        "    float\n",
        "        Mean absolute deviation from the median in the provided vector\n",
        "    \"\"\"\n",
        "\n",
        "    # YOUR CODE HERE\n",
        "\n",
        "    return 0 if y.shape[0] == 0 else np.mean(np.abs(y - np.median(y)))\n",
        "\n",
        "\n",
        "def one_hot_encode(n_classes, y):\n",
        "    y_one_hot = np.zeros((len(y), n_classes), dtype=float)\n",
        "    y_one_hot[np.arange(len(y)), y.astype(int)[:, 0]] = 1.\n",
        "    return y_one_hot\n",
        "\n",
        "\n",
        "def one_hot_decode(y_one_hot):\n",
        "    return y_one_hot.argmax(axis=1)[:, None]\n",
        "\n",
        "\n",
        "class Node:\n",
        "    \"\"\"\n",
        "    This class is provided \"as is\" and it is not mandatory to it use in your code.\n",
        "    \"\"\"\n",
        "    def __init__(self, feature_index, threshold, value=0, proba=0, is_leaf=False):\n",
        "        self.feature_index = feature_index\n",
        "        self.threshold = threshold\n",
        "        self.proba = proba\n",
        "        self.value = value\n",
        "        self.left_child = None\n",
        "        self.right_child = None\n",
        "        self.is_leaf = is_leaf\n",
        "\n",
        "\n",
        "class DecisionTree(BaseEstimator):\n",
        "    all_criterions = {\n",
        "        'gini': (gini, True), # (criterion, classification flag)\n",
        "        'entropy': (entropy, True),\n",
        "        'variance': (variance, False),\n",
        "        'mad_median': (mad_median, False)\n",
        "    }\n",
        "\n",
        "    def __init__(self, n_classes=None, max_depth=np.inf, min_samples_split=2, \n",
        "                 criterion_name='gini', debug=False):\n",
        "\n",
        "        assert criterion_name in self.all_criterions.keys(), 'Criterion name must be on of the following: {}'.format(self.all_criterions.keys())\n",
        "        \n",
        "        self.n_classes = n_classes\n",
        "        self.max_depth = max_depth\n",
        "        self.min_samples_split = min_samples_split\n",
        "        self.criterion_name = criterion_name\n",
        "\n",
        "        self.depth = 0\n",
        "        self.root = None # Use the Node class to initialize it later\n",
        "        self.debug = debug\n",
        "\n",
        "\n",
        "\n",
        "    def make_split(self, feature_index, threshold, X_subset, y_subset):\n",
        "        \"\"\"\n",
        "        Makes split of the provided data subset and target values using provided feature and threshold\n",
        "\n",
        "        Parameters\n",
        "        ----------\n",
        "        feature_index : int\n",
        "            Index of feature to make split with\n",
        "        threshold : float\n",
        "            Threshold value to perform split\n",
        "        X_subset : np.array of type float with shape (n_objects, n_features)\n",
        "            Feature matrix representing the selected subset\n",
        "        y_subset : np.array of type float with shape (n_objects, n_classes) in classification \n",
        "                   (n_objects, 1) in regression \n",
        "            One-hot representation of class labels for corresponding subset\n",
        "\n",
        "        Returns\n",
        "        -------\n",
        "        (X_left, y_left) : tuple of np.arrays of same type as input X_subset and y_subset\n",
        "            Part of the provided subset where selected feature x^j < threshold\n",
        "        (X_right, y_right) : tuple of np.arrays of same type as input X_subset and y_subset\n",
        "            Part of the provided subset where selected feature x^j >= threshold\n",
        "        \"\"\"\n",
        "\n",
        "        # YOUR CODE HERE\n",
        "\n",
        "        l_msk = X_subset[:, feature_index] < threshold\n",
        "        r_msk = X_subset[:, feature_index] >= threshold\n",
        "\n",
        "        X_left = X_subset[l_msk]\n",
        "        y_left = y_subset[l_msk]\n",
        "\n",
        "        X_right = X_subset[r_msk]\n",
        "        y_right = y_subset[r_msk]\n",
        "\n",
        "        return (X_left, y_left), (X_right, y_right)\n",
        "\n",
        "    def make_split_only_y(self, feature_index, threshold, X_subset, y_subset):\n",
        "        \"\"\"\n",
        "        Split only target values into two subsets with specified feature and threshold\n",
        "\n",
        "        Parameters\n",
        "        ----------\n",
        "        feature_index : int\n",
        "            Index of feature to make split with\n",
        "        threshold : float\n",
        "            Threshold value to perform split\n",
        "        X_subset : np.array of type float with shape (n_objects, n_features)\n",
        "            Feature matrix representing the selected subset\n",
        "        y_subset : np.array of type float with shape (n_objects, n_classes) in classification \n",
        "                   (n_objects, 1) in regression \n",
        "            One-hot representation of class labels for corresponding subset\n",
        "\n",
        "        Returns\n",
        "        -------\n",
        "        y_left : np.array of type float with shape (n_objects_left, n_classes) in classification \n",
        "                   (n_objects, 1) in regression \n",
        "            Part of the provided subset where selected feature x^j < threshold\n",
        "        y_right : np.array of type float with shape (n_objects_right, n_classes) in classification \n",
        "                   (n_objects, 1) in regression \n",
        "            Part of the provided subset where selected feature x^j >= threshold\n",
        "        \"\"\"\n",
        "\n",
        "        # YOUR CODE HERE\n",
        "\n",
        "        l_msk = X_subset[:, feature_index] < threshold\n",
        "        r_msk = X_subset[:, feature_index] >= threshold\n",
        "\n",
        "        y_left = y_subset[l_msk]\n",
        "        y_right = y_subset[r_msk]\n",
        "    \n",
        "        return y_left, y_right\n",
        "\n",
        "    def choose_best_split(self, X_subset, y_subset):\n",
        "        \"\"\"\n",
        "        Greedily select the best feature and best threshold w.r.t. selected criterion\n",
        "        \n",
        "        Parameters\n",
        "        ----------\n",
        "        X_subset : np.array of type float with shape (n_objects, n_features)\n",
        "            Feature matrix representing the selected subset\n",
        "        y_subset : np.array of type float with shape (n_objects, n_classes) in classification \n",
        "                   (n_objects, 1) in regression \n",
        "            One-hot representation of class labels or target values for corresponding subset\n",
        "        \n",
        "        Returns\n",
        "        -------\n",
        "        feature_index : int\n",
        "            Index of feature to make split with\n",
        "        threshold : float\n",
        "            Threshold value to perform split\n",
        "        \"\"\"\n",
        "\n",
        "        # YOUR CODE HERE\n",
        "\n",
        "        curr_b_idx = 0\n",
        "        curr_b_thr = 0\n",
        "        curr_b_funct = np.inf\n",
        "\n",
        "        for feature_index in range(X_subset.shape[1]):\n",
        "            \n",
        "            all_unique_trh = np.unique(X_subset[:, feature_index])\n",
        "            for cur_threshold in all_unique_trh:\n",
        "\n",
        "                y_l, y_r = self.make_split_only_y(feature_index, cur_threshold, X_subset, y_subset)\n",
        "                # we can simplify functional computation because self.criterion(y_subset) is same in every loop itertion\n",
        "                # so, maximizing of original functional is equivalent to minimizing len(y_left) * self.criterion(y_left) + len(y_right) * self.criterion(y_right)\n",
        "                curr_funct = y_l.size * self.criterion(y_l) + y_r.size * self.criterion(y_r)\n",
        "\n",
        "                if curr_funct < curr_b_funct:\n",
        "                    curr_b_thr = cur_threshold\n",
        "                    curr_b_idx = feature_index\n",
        "                    curr_b_funct = curr_funct\n",
        "                    \n",
        "        return curr_b_idx, curr_b_thr\n",
        "    \n",
        "    def make_tree(self, X_subset, y_subset):\n",
        "        \"\"\"\n",
        "        Recursively builds the tree\n",
        "        \n",
        "        Parameters\n",
        "        ----------\n",
        "        X_subset : np.array of type float with shape (n_objects, n_features)\n",
        "            Feature matrix representing the selected subset\n",
        "        y_subset : np.array of type float with shape (n_objects, n_classes) in classification \n",
        "                   (n_objects, 1) in regression \n",
        "            One-hot representation of class labels or target values for corresponding subset\n",
        "        \n",
        "        Returns\n",
        "        -------\n",
        "        root_node : Node class instance\n",
        "            Node of the root of the fitted tree\n",
        "        \"\"\"\n",
        "\n",
        "        # YOUR CODE HERE\n",
        "\n",
        "        if self.classification:\n",
        "            n_lf = lambda y: Node(0, 0, value=np.argmax(np.sum(y, axis=0)), proba=np.sum(y, axis=0) / y.shape[0], is_leaf=True)\n",
        "        else:\n",
        "            n_lf = lambda y: Node(0, 0, value=np.mean(y) if self.criterion_name==\"variance\" else np.median(y), is_leaf=True)\n",
        "        \n",
        "        if (X_subset.shape[0] < self.min_samples_split) or (self.depth == self.max_depth):\n",
        "            self.depth -= 1\n",
        "            return n_lf(y_subset)\n",
        "        \n",
        "        feature_index, threshold = self.choose_best_split(X_subset, y_subset)\n",
        "        (X_l, y_l), (X_r, y_r) = self.make_split(feature_index, threshold, X_subset, y_subset)\n",
        "        \n",
        "        if X_l.shape[0] == 0 or X_r.shape[0] == 0:\n",
        "            self.depth -= 1\n",
        "            return n_lf(y_subset)\n",
        "        \n",
        "        new_node = Node(feature_index, threshold)\n",
        "        self.depth += 1\n",
        "        new_node.right_child = self.make_tree(X_r, y_r)\n",
        "        self.depth += 1\n",
        "        new_node.left_child = self.make_tree(X_l, y_l)\n",
        "        \n",
        "        self.depth -= 1\n",
        "        return new_node\n",
        "        \n",
        "    def fit(self, X, y):\n",
        "        \"\"\"\n",
        "        Fit the model from scratch using the provided data\n",
        "        \n",
        "        Parameters\n",
        "        ----------\n",
        "        X : np.array of type float with shape (n_objects, n_features)\n",
        "            Feature matrix representing the data to train on\n",
        "        y : np.array of type int with shape (n_objects, 1) in classification \n",
        "                   of type float with shape (n_objects, 1) in regression \n",
        "            Column vector of class labels in classification or target values in regression\n",
        "\n",
        "        \"\"\"\n",
        "        assert len(y.shape) == 2 and len(y) == len(X), 'Wrong y shape'\n",
        "        self.criterion, self.classification = self.all_criterions[self.criterion_name]\n",
        "        if self.classification:\n",
        "            if self.n_classes is None:\n",
        "                self.n_classes = len(np.unique(y))\n",
        "            y = one_hot_encode(self.n_classes, y)\n",
        "\n",
        "        self.root = self.make_tree(X, y)\n",
        "\n",
        "    def predict(self, X):\n",
        "        \"\"\"\n",
        "        Predict the target value or class label  the model from scratch using the provided data\n",
        "        \n",
        "        Parameters\n",
        "        ----------\n",
        "        X : np.array of type float with shape (n_objects, n_features)\n",
        "            Feature matrix representing the data the predictions should be provided for\n",
        "        Returns\n",
        "        -------\n",
        "        y_predicted : np.array of type int with shape (n_objects, 1) in classification \n",
        "                   (n_objects, 1) in regression \n",
        "            Column vector of class labels in classification or target values in regression\n",
        "\n",
        "        \"\"\"\n",
        "\n",
        "        # YOUR CODE HERE\n",
        "\n",
        "        y_predicted = np.zeros(X.shape[0])\n",
        "        i = 0\n",
        "        for chk_node in X:\n",
        "            cur_node = self.root\n",
        "            while not cur_node.is_leaf:\n",
        "                if  chk_node[cur_node.feature_index] < cur_node.threshold:\n",
        "                    cur_node = cur_node.left_child\n",
        "                else:\n",
        "                    cur_node = cur_node.right_child\n",
        "            y_predicted[i] = cur_node.value\n",
        "            i += 1\n",
        "        return y_predicted\n",
        "\n",
        "    def predict_proba(self, X):\n",
        "        \"\"\"\n",
        "        Only for classification\n",
        "        Predict the class probabilities using the provided data\n",
        "\n",
        "        Parameters\n",
        "        ----------\n",
        "        X : np.array of type float with shape (n_objects, n_features)\n",
        "            Feature matrix representing the data the predictions should be provided for\n",
        "        Returns\n",
        "        -------\n",
        "        y_predicted_probs : np.array of type float with shape (n_objects, n_classes)\n",
        "            Probabilities of each class for the provided objects\n",
        "\n",
        "        \"\"\"\n",
        "        assert self.classification, 'Available only for classification problem'\n",
        "\n",
        "        # YOUR CODE HERE\n",
        "\n",
        "        y_predicted_probs = np.ndarray((X.shape[0], self.n_classes))\n",
        "        i = 0\n",
        "        for chk_node in X:\n",
        "            cur_node = self.root\n",
        "            while not cur_node.is_leaf:\n",
        "                if  chk_node[cur_node.feature_index] < cur_node.threshold:\n",
        "                    cur_node = cur_node.left_child\n",
        "                else:\n",
        "                    cur_node = cur_node.right_child\n",
        "            y_predicted_probs[i] = cur_node.proba\n",
        "            i += 1\n",
        "\n",
        "        return y_predicted_probs"
      ],
      "metadata": {
        "id": "4-NGavbU8POg"
      },
      "execution_count": null,
      "outputs": []
    },
    {
      "cell_type": "markdown",
      "metadata": {
        "id": "V1DN0-2bqCfW"
      },
      "source": [
        "### Check yourself"
      ]
    },
    {
      "cell_type": "code",
      "execution_count": null,
      "metadata": {
        "id": "8S9QMBYFqCff"
      },
      "outputs": [],
      "source": [
        "#from tree import entropy, gini, variance, mad_median, DecisionTree"
      ]
    },
    {
      "cell_type": "markdown",
      "metadata": {
        "id": "tOEn83LVqCfk"
      },
      "source": [
        "#### Simple check"
      ]
    },
    {
      "cell_type": "code",
      "execution_count": null,
      "metadata": {
        "id": "UQp5kdUNqCfn"
      },
      "outputs": [],
      "source": [
        "X = np.ones((4, 5), dtype=float) * np.arange(4)[:, None]\n",
        "y = np.arange(4)[:, None] + np.asarray([0.2, -0.3, 0.1, 0.4])[:, None]\n",
        "class_estimator = DecisionTree(max_depth=10, criterion_name='gini')\n",
        "\n",
        "(X_l, y_l), (X_r, y_r) = class_estimator.make_split(1, 1., X, y)\n",
        "\n",
        "assert np.array_equal(X[:1], X_l)\n",
        "assert np.array_equal(X[1:], X_r)\n",
        "assert np.array_equal(y[:1], y_l)\n",
        "assert np.array_equal(y[1:], y_r)"
      ]
    },
    {
      "cell_type": "markdown",
      "metadata": {
        "id": "O2TXR7AMqCfy"
      },
      "source": [
        "#### Classification problem"
      ]
    },
    {
      "cell_type": "code",
      "execution_count": null,
      "metadata": {
        "id": "c65sOhKlqCf3"
      },
      "outputs": [],
      "source": [
        "digits_data = load_digits().data\n",
        "digits_target = load_digits().target[:, None] # to make the targets consistent with our model interfaces\n",
        "X_train, X_test, y_train, y_test = train_test_split(digits_data, digits_target, test_size=0.2, random_state=RANDOM_STATE)"
      ]
    },
    {
      "cell_type": "code",
      "execution_count": null,
      "metadata": {
        "id": "qc_AAdEyqCf_"
      },
      "outputs": [],
      "source": [
        "assert len(y_train.shape) == 2 and y_train.shape[0] == len(X_train)"
      ]
    },
    {
      "cell_type": "code",
      "execution_count": null,
      "metadata": {
        "id": "x0tm3wOdqCgB",
        "colab": {
          "base_uri": "https://localhost:8080/"
        },
        "outputId": "f644c015-02ed-4976-b278-4762ffd180af"
      },
      "outputs": [
        {
          "output_type": "stream",
          "name": "stdout",
          "text": [
            "0.8638888888888889\n"
          ]
        }
      ],
      "source": [
        "class_estimator = DecisionTree(max_depth=10, criterion_name='gini')\n",
        "class_estimator.fit(X_train, y_train)\n",
        "ans = class_estimator.predict(X_test)\n",
        "accuracy_gini = accuracy_score(y_test, ans)\n",
        "print(accuracy_gini)"
      ]
    },
    {
      "cell_type": "code",
      "execution_count": null,
      "metadata": {
        "id": "kBH7TmA8qCgE"
      },
      "outputs": [],
      "source": [
        "reference = np.array([0.09027778, 0.09236111, 0.08333333, 0.09583333, 0.11944444,\n",
        "       0.13888889, 0.09930556, 0.09444444, 0.08055556, 0.10555556])"
      ]
    },
    {
      "cell_type": "code",
      "execution_count": null,
      "metadata": {
        "id": "zjLIpdJ9qCgJ",
        "colab": {
          "base_uri": "https://localhost:8080/"
        },
        "outputId": "1a77b271-a48c-4903-eb92-1d88965feca8"
      },
      "outputs": [
        {
          "output_type": "stream",
          "name": "stdout",
          "text": [
            "0.8805555555555555\n"
          ]
        }
      ],
      "source": [
        "class_estimator = DecisionTree(max_depth=10, criterion_name='entropy')\n",
        "class_estimator.fit(X_train, y_train)\n",
        "ans = class_estimator.predict(X_test)\n",
        "accuracy_entropy = accuracy_score(y_test, ans)\n",
        "print(accuracy_entropy)"
      ]
    },
    {
      "cell_type": "code",
      "execution_count": null,
      "metadata": {
        "id": "Iem9sfzoqCgV"
      },
      "outputs": [],
      "source": [
        "assert  0.84 < accuracy_gini < 0.9\n",
        "assert  0.86 < accuracy_entropy < 0.9\n",
        "\n",
        "# wasn't able to complete this assert \n",
        "#assert np.sum(np.abs(class_estimator.predict_proba(X_test).mean(axis=0) - reference)) < 1e-4"
      ]
    },
    {
      "cell_type": "code",
      "source": [
        "np.sum(np.abs(class_estimator.predict_proba(X_test).mean(axis=0) - reference))"
      ],
      "metadata": {
        "colab": {
          "base_uri": "https://localhost:8080/"
        },
        "id": "-MtiBcEyFcFz",
        "outputId": "d078d1eb-f342-4134-c9b9-f5127076b45f"
      },
      "execution_count": null,
      "outputs": [
        {
          "output_type": "execute_result",
          "data": {
            "text/plain": [
              "0.024999993333333317"
            ]
          },
          "metadata": {},
          "execution_count": 13
        }
      ]
    },
    {
      "cell_type": "markdown",
      "metadata": {
        "id": "135tzkijqCgY"
      },
      "source": [
        "Let's use 5-fold cross validation (`GridSearchCV`) to find optimal values for `max_depth` and `criterion` hyperparameters."
      ]
    },
    {
      "cell_type": "code",
      "execution_count": null,
      "metadata": {
        "id": "MqiIdUflqCgd"
      },
      "outputs": [],
      "source": [
        "param_grid = {'max_depth': range(3,11), 'criterion_name': ['gini', 'entropy']}\n",
        "gs = GridSearchCV(DecisionTree(), param_grid=param_grid, cv=5, scoring='accuracy', n_jobs=-2)"
      ]
    },
    {
      "cell_type": "code",
      "execution_count": null,
      "metadata": {
        "id": "Pt6_EdCyqCgg",
        "colab": {
          "base_uri": "https://localhost:8080/"
        },
        "outputId": "200407e9-08aa-4a63-f403-4e8b5b1b1560"
      },
      "outputs": [
        {
          "output_type": "stream",
          "name": "stdout",
          "text": [
            "CPU times: user 3min 30s, sys: 1.45 s, total: 3min 31s\n",
            "Wall time: 3min 33s\n"
          ]
        },
        {
          "output_type": "execute_result",
          "data": {
            "text/plain": [
              "GridSearchCV(cv=5, estimator=DecisionTree(), n_jobs=-2,\n",
              "             param_grid={'criterion_name': ['gini', 'entropy'],\n",
              "                         'max_depth': range(3, 11)},\n",
              "             scoring='accuracy')"
            ]
          },
          "metadata": {},
          "execution_count": 15
        }
      ],
      "source": [
        "%%time\n",
        "gs.fit(X_train, y_train)"
      ]
    },
    {
      "cell_type": "code",
      "execution_count": null,
      "metadata": {
        "id": "DBtXvk7jqCgm",
        "colab": {
          "base_uri": "https://localhost:8080/"
        },
        "outputId": "c349ff86-9835-4bee-8269-93ad738feada"
      },
      "outputs": [
        {
          "output_type": "execute_result",
          "data": {
            "text/plain": [
              "{'criterion_name': 'entropy', 'max_depth': 8}"
            ]
          },
          "metadata": {},
          "execution_count": 16
        }
      ],
      "source": [
        "gs.best_params_"
      ]
    },
    {
      "cell_type": "code",
      "execution_count": null,
      "metadata": {
        "id": "fX0BiSlVqCgq"
      },
      "outputs": [],
      "source": [
        "assert gs.best_params_['criterion_name'] == 'entropy'\n",
        "assert 6 < gs.best_params_['max_depth'] < 9"
      ]
    },
    {
      "cell_type": "code",
      "source": [],
      "metadata": {
        "id": "p6Jgofte1Arv"
      },
      "execution_count": null,
      "outputs": []
    },
    {
      "cell_type": "code",
      "execution_count": null,
      "metadata": {
        "id": "25SyMSi9qCgs",
        "colab": {
          "base_uri": "https://localhost:8080/",
          "height": 514
        },
        "outputId": "67c14b59-983e-40f2-e9f6-c6da0812a6d4"
      },
      "outputs": [
        {
          "output_type": "display_data",
          "data": {
            "text/plain": [
              "<Figure size 720x576 with 1 Axes>"
            ],
            "image/png": "[encoded data removed]"
          },
          "metadata": {
            "needs_background": "light"
          }
        }
      ],
      "source": [
        "plt.figure(figsize=(10, 8))\n",
        "plt.title(\"The dependence of quality on the depth of the tree\")\n",
        "plt.plot(np.arange(3,11), gs.cv_results_['mean_test_score'][:8], label='Gini')\n",
        "plt.plot(np.arange(3,11), gs.cv_results_['mean_test_score'][8:], label='Entropy')\n",
        "plt.legend(fontsize=11, loc=1)\n",
        "plt.xlabel(\"max_depth\")\n",
        "plt.ylabel('accuracy')\n",
        "plt.show()"
      ]
    },
    {
      "cell_type": "markdown",
      "metadata": {
        "id": "GOOx-wRqqCgy"
      },
      "source": [
        "#### Regression problem"
      ]
    },
    {
      "cell_type": "code",
      "execution_count": null,
      "metadata": {
        "id": "DFb4XAmaqCg1",
        "colab": {
          "base_uri": "https://localhost:8080/"
        },
        "outputId": "c4e8a8ae-30a6-45e9-b758-23de4044181e"
      },
      "outputs": [
        {
          "output_type": "stream",
          "name": "stderr",
          "text": [
            "/usr/local/lib/python3.7/dist-packages/sklearn/utils/deprecation.py:87: FutureWarning: Function load_boston is deprecated; `load_boston` is deprecated in 1.0 and will be removed in 1.2.\n",
            "\n",
            "    The Boston housing prices dataset has an ethical problem. You can refer to\n",
            "    the documentation of this function for further details.\n",
            "\n",
            "    The scikit-learn maintainers therefore strongly discourage the use of this\n",
            "    dataset unless the purpose of the code is to study and educate about\n",
            "    ethical issues in data science and machine learning.\n",
            "\n",
            "    In this special case, you can fetch the dataset from the original\n",
            "    source::\n",
            "\n",
            "        import pandas as pd\n",
            "        import numpy as np\n",
            "\n",
            "\n",
            "        data_url = \"http://lib.stat.cmu.edu/datasets/boston\"\n",
            "        raw_df = pd.read_csv(data_url, sep=\"\\s+\", skiprows=22, header=None)\n",
            "        data = np.hstack([raw_df.values[::2, :], raw_df.values[1::2, :2]])\n",
            "        target = raw_df.values[1::2, 2]\n",
            "\n",
            "    Alternative datasets include the California housing dataset (i.e.\n",
            "    :func:`~sklearn.datasets.fetch_california_housing`) and the Ames housing\n",
            "    dataset. You can load the datasets as follows::\n",
            "\n",
            "        from sklearn.datasets import fetch_california_housing\n",
            "        housing = fetch_california_housing()\n",
            "\n",
            "    for the California housing dataset and::\n",
            "\n",
            "        from sklearn.datasets import fetch_openml\n",
            "        housing = fetch_openml(name=\"house_prices\", as_frame=True)\n",
            "\n",
            "    for the Ames housing dataset.\n",
            "    \n",
            "  warnings.warn(msg, category=FutureWarning)\n"
          ]
        }
      ],
      "source": [
        "regr_data = load_boston().data\n",
        "regr_target = load_boston().target[:, None] # to make the targets consistent with our model interfaces\n",
        "RX_train, RX_test, Ry_train, Ry_test = train_test_split(regr_data, regr_target, test_size=0.2, random_state=RANDOM_STATE)"
      ]
    },
    {
      "cell_type": "code",
      "execution_count": null,
      "metadata": {
        "id": "3xIZ_i7iqCg3",
        "colab": {
          "base_uri": "https://localhost:8080/"
        },
        "outputId": "d9281de6-fc0f-4eb8-b5de-d903a6299cec"
      },
      "outputs": [
        {
          "output_type": "stream",
          "name": "stdout",
          "text": [
            "12.655955882352941\n"
          ]
        }
      ],
      "source": [
        "regressor = DecisionTree(max_depth=10, criterion_name='mad_median')\n",
        "regressor.fit(RX_train, Ry_train)\n",
        "predictions_mad = regressor.predict(RX_test)\n",
        "mse_mad = mean_squared_error(Ry_test, predictions_mad)\n",
        "print(mse_mad)"
      ]
    },
    {
      "cell_type": "code",
      "execution_count": null,
      "metadata": {
        "id": "ER4GhJNXqCg8",
        "colab": {
          "base_uri": "https://localhost:8080/"
        },
        "outputId": "73cb0407-aeaf-4b2b-89fd-7caf5d108906"
      },
      "outputs": [
        {
          "output_type": "stream",
          "name": "stdout",
          "text": [
            "10.322185651177042\n"
          ]
        }
      ],
      "source": [
        "regressor = DecisionTree(max_depth=10, criterion_name='variance')\n",
        "regressor.fit(RX_train, Ry_train)\n",
        "predictions_mad = regressor.predict(RX_test)\n",
        "mse_var = mean_squared_error(Ry_test, predictions_mad)\n",
        "print(mse_var)"
      ]
    },
    {
      "cell_type": "code",
      "execution_count": null,
      "metadata": {
        "id": "Zbhx_9KrqChA"
      },
      "outputs": [],
      "source": [
        "assert 9 < mse_mad < 20\n",
        "assert 8 < mse_var < 12"
      ]
    },
    {
      "cell_type": "code",
      "execution_count": null,
      "metadata": {
        "id": "oiou4NM4qChC"
      },
      "outputs": [],
      "source": [
        "param_grid_R = {'max_depth': range(2,9), 'criterion_name': ['variance', 'mad_median']}"
      ]
    },
    {
      "cell_type": "code",
      "execution_count": null,
      "metadata": {
        "id": "-Anfz66tqChF",
        "colab": {
          "base_uri": "https://localhost:8080/"
        },
        "outputId": "7a0a67c8-ce8d-4fb0-8bba-1b101dc9458c"
      },
      "outputs": [
        {
          "output_type": "execute_result",
          "data": {
            "text/plain": [
              "GridSearchCV(cv=5, estimator=DecisionTree(), n_jobs=-2,\n",
              "             param_grid={'criterion_name': ['variance', 'mad_median'],\n",
              "                         'max_depth': range(2, 9)},\n",
              "             scoring='neg_mean_squared_error')"
            ]
          },
          "metadata": {},
          "execution_count": 24
        }
      ],
      "source": [
        "gs_R = GridSearchCV(DecisionTree(), param_grid=param_grid_R, cv=5, scoring='neg_mean_squared_error', n_jobs=-2)\n",
        "gs_R.fit(RX_train, Ry_train)"
      ]
    },
    {
      "cell_type": "code",
      "execution_count": null,
      "metadata": {
        "id": "ORsHTqfWqChI",
        "colab": {
          "base_uri": "https://localhost:8080/"
        },
        "outputId": "512e57a2-333f-4e46-b8e7-0ad8ce2715af"
      },
      "outputs": [
        {
          "output_type": "execute_result",
          "data": {
            "text/plain": [
              "{'criterion_name': 'mad_median', 'max_depth': 5}"
            ]
          },
          "metadata": {},
          "execution_count": 25
        }
      ],
      "source": [
        "gs_R.best_params_"
      ]
    },
    {
      "cell_type": "code",
      "execution_count": null,
      "metadata": {
        "id": "F7V6RXBfqChL"
      },
      "outputs": [],
      "source": [
        "assert gs_R.best_params_['criterion_name'] == 'mad_median'\n",
        "assert 3 < gs_R.best_params_['max_depth'] < 7"
      ]
    },
    {
      "cell_type": "code",
      "execution_count": null,
      "metadata": {
        "id": "7k28oSw0qChU"
      },
      "outputs": [],
      "source": [
        "var_scores = gs_R.cv_results_['mean_test_score'][:7]\n",
        "mad_scores = gs_R.cv_results_['mean_test_score'][7:]"
      ]
    },
    {
      "cell_type": "code",
      "execution_count": null,
      "metadata": {
        "id": "heCz0gWYqChY",
        "colab": {
          "base_uri": "https://localhost:8080/",
          "height": 514
        },
        "outputId": "8405ed68-02fc-45f6-bff1-f6e9d195593b"
      },
      "outputs": [
        {
          "output_type": "display_data",
          "data": {
            "text/plain": [
              "<Figure size 720x576 with 1 Axes>"
            ],
            "image/png": "[encoded data removed]"
          },
          "metadata": {
            "needs_background": "light"
          }
        }
      ],
      "source": [
        "plt.figure(figsize=(10, 8))\n",
        "plt.title(\"The dependence of neg_mse on the depth of the tree\")\n",
        "plt.plot(np.arange(2,9), var_scores, label='variance')\n",
        "plt.plot(np.arange(2,9), mad_scores, label='mad_median')\n",
        "plt.legend(fontsize=11, loc=1)\n",
        "plt.xlabel(\"max_depth\")\n",
        "plt.ylabel('neg_mse')\n",
        "plt.show()"
      ]
    }
  ],
  "metadata": {
    "kernelspec": {
      "display_name": "Python 3 (ipykernel)",
      "language": "python",
      "name": "python3"
    },
    "language_info": {
      "codemirror_mode": {
        "name": "ipython",
        "version": 3
      },
      "file_extension": ".py",
      "mimetype": "text/x-python",
      "name": "python",
      "nbconvert_exporter": "python",
      "pygments_lexer": "ipython3",
      "version": "3.9.5"
    },
    "colab": {
      "provenance": [],
      "collapsed_sections": [],
      "include_colab_link": true
    }
  },
  "nbformat": 4,
  "nbformat_minor": 0
}