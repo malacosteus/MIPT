{
  "cells": [
    {
      "cell_type": "markdown",
      "metadata": {
        "id": "view-in-github",
        "colab_type": "text"
      },
      "source": [
        "<a href=\"https://colab.research.google.com/github/malacosteus/MSAI/blob/main/ML/Lab1_part1_questions2.ipynb\" target=\"_parent\"><img src=\"https://colab.research.google.com/assets/colab-badge.svg\" alt=\"Open In Colab\"/></a>"
      ]
    },
    {
      "cell_type": "markdown",
      "metadata": {
        "id": "rzGhcr-gh3Sw"
      },
      "source": [
        "*Credits: materials from this notebook belong to YSDA [Practical DL](https://github.com/yandexdataschool/Practical_DL) course. Special thanks for making them available online.*"
      ]
    },
    {
      "cell_type": "markdown",
      "metadata": {
        "id": "ih4SxQJ4h3Sz"
      },
      "source": [
        "# Lab assignment №1, part 1\n",
        "\n",
        "This lab assignment consists of several parts. You are supposed to make some transformations, train some models, estimate the quality of the models and explain your results.\n",
        "\n",
        "Several comments:\n",
        "* Don't hesitate to ask questions, it's a good practice.\n",
        "* No private/public sharing, please. The copied assignments will be graded with 0 points.\n",
        "* Blocks of this lab will be graded separately."
      ]
    },
    {
      "cell_type": "markdown",
      "metadata": {
        "id": "p_C37uneh3S0"
      },
      "source": [
        "## 1. Matrix differentiation"
      ]
    },
    {
      "cell_type": "markdown",
      "metadata": {
        "id": "dIE1InHRh3S1"
      },
      "source": [
        "Since it easy to google every task please please please try to undestand what's going on. The \"just answer\" thing will be not counted, make sure to present derivation of your solution. It is absolutely OK if you found an answer on web then just exercise in $\\LaTeX$ copying it into here."
      ]
    },
    {
      "cell_type": "markdown",
      "metadata": {
        "id": "Kn9Fqnkvh3S2"
      },
      "source": [
        "Useful links: \n",
        "[1](http://www.machinelearning.ru/wiki/images/2/2a/Matrix-Gauss.pdf)\n",
        "[2](http://www.atmos.washington.edu/~dennis/MatrixCalculus.pdf)"
      ]
    },
    {
      "cell_type": "markdown",
      "metadata": {
        "id": "xmtx-Ko4h3S2"
      },
      "source": [
        "## ex. 1"
      ]
    },
    {
      "cell_type": "markdown",
      "metadata": {
        "id": "ca_pH7sgh3S3"
      },
      "source": [
        "$$  \n",
        "y = x^Tx,  \\quad x \\in \\mathbb{R}^N \n",
        "$$"
      ]
    },
    {
      "cell_type": "markdown",
      "metadata": {
        "id": "cnga5tVjh3S3"
      },
      "source": [
        "$$  \n",
        "y = x^Tx = \\sum_i x_i^2,  \\quad x \\in \\mathbb{R}^N \n",
        "$$\n",
        "\n",
        "$$  \n",
        "\\frac{dy}{dx_i} = 2x_i \n",
        "$$\n",
        "\n",
        "\n",
        "$$\n",
        "\\frac{dy}{dx} = 2x\n",
        "$$ "
      ]
    },
    {
      "cell_type": "code",
      "execution_count": null,
      "metadata": {
        "collapsed": true,
        "jupyter": {
          "outputs_hidden": true
        },
        "id": "rKFhgy6ch3S4"
      },
      "outputs": [],
      "source": []
    },
    {
      "cell_type": "markdown",
      "metadata": {
        "id": "3OEYVq3Xh3S5"
      },
      "source": [
        "## ex. 2"
      ]
    },
    {
      "cell_type": "markdown",
      "metadata": {
        "id": "mP0cSdcYh3S5"
      },
      "source": [
        "$$ y = tr(AB) \\quad A,B \\in \\mathbb{R}^{N \\times N} $$ "
      ]
    },
    {
      "cell_type": "markdown",
      "metadata": {
        "id": "8ZLxo1HXh3S5"
      },
      "source": [
        "$$ y = tr(AB) = \\sum_i \\sum_j a_{i,j}b_{j,i}\\quad A,B \\in \\mathbb{R}^{N \\times N} $$ \n",
        "\n",
        "$$\n",
        "\\frac{dy}{da_{i,j}} =b_{j, i}\n",
        "$$\n",
        "\n",
        "$$\n",
        "\\frac{dy}{dA} = B^T\n",
        "$$"
      ]
    },
    {
      "cell_type": "code",
      "execution_count": null,
      "metadata": {
        "collapsed": true,
        "jupyter": {
          "outputs_hidden": true
        },
        "id": "zGAc3ljIh3S6"
      },
      "outputs": [],
      "source": []
    },
    {
      "cell_type": "markdown",
      "metadata": {
        "id": "OM6ppegih3S6"
      },
      "source": [
        "## ex. 3"
      ]
    },
    {
      "cell_type": "markdown",
      "metadata": {
        "id": "L2ZBTHJch3S7"
      },
      "source": [
        "$$  \n",
        "y = x^TAc , \\quad A\\in \\mathbb{R}^{N \\times N}, x\\in \\mathbb{R}^{N}, c\\in \\mathbb{R}^{N} \n",
        "$$"
      ]
    },
    {
      "cell_type": "markdown",
      "metadata": {
        "id": "1hEaqbAUh3S7"
      },
      "source": [
        "$$  \n",
        "y = x^TAc =\\sum_i \\sum_j a_{i, j} x_i c_j\n",
        "$$\n",
        "\n",
        "$$\n",
        "\\frac{dy}{dx_l} = \\sum_j a_{l, j} c_j = A_{l,:}c\n",
        "$$\n",
        "\n",
        "$$\n",
        "\\frac{dy}{dx} =Ac\n",
        "$$"
      ]
    },
    {
      "cell_type": "markdown",
      "metadata": {
        "id": "ATJiDbrMh3S8"
      },
      "source": [
        "$$  \n",
        "y = x^TAc = tr(x^TAc) = tr(cx^TA) , \\quad A\\in \\mathbb{R}^{N \\times N}, x\\in \\mathbb{R}^{N}, c\\in \\mathbb{R}^{N} \n",
        "$$\n",
        "\n",
        "$$\n",
        "\\frac{dy}{dA} = xc^T\n",
        "$$ "
      ]
    },
    {
      "cell_type": "markdown",
      "metadata": {
        "id": "sWq2UXJvh3S8"
      },
      "source": [
        "Hint for the latter (one of the ways): use *ex. 2* result and the fact \n",
        "$$\n",
        "tr(ABC) = tr (CAB)\n",
        "$$"
      ]
    },
    {
      "cell_type": "code",
      "execution_count": null,
      "metadata": {
        "collapsed": true,
        "jupyter": {
          "outputs_hidden": true
        },
        "id": "jLM4S48hh3S9"
      },
      "outputs": [],
      "source": []
    },
    {
      "cell_type": "markdown",
      "metadata": {
        "id": "nzEakz3Oh3S9"
      },
      "source": [
        "## ex. 4"
      ]
    },
    {
      "cell_type": "markdown",
      "metadata": {
        "id": "zBapCGUCh3S9"
      },
      "source": [
        "Classic matrix factorization example. Given matrix $X$ you need to find $A$, $S$ to approximate $X$. This can be done by simple gradient descent iteratively alternating $A$ and $S$ updates.\n",
        "$$\n",
        "J = || X - AS ||_F^2  , \\quad A\\in \\mathbb{R}^{N \\times R} , \\quad S\\in \\mathbb{R}^{R \\times M}\n",
        "$$\n",
        "$$\n",
        "\\frac{dJ}{dS} = ? \n",
        "$$\n",
        "\n",
        "You may use one of the following approaches:"
      ]
    },
    {
      "cell_type": "markdown",
      "metadata": {
        "id": "k7K41DUJh3S9"
      },
      "source": [
        "#### First approach\n",
        "Using ex.2 and the fact:\n",
        "$$\n",
        "|| X ||_F^2 = tr(XX^T) \n",
        "$$ \n",
        "it is easy to derive gradients (you can find it in one of the refs). "
      ]
    },
    {
      "cell_type": "markdown",
      "metadata": {
        "id": "oozLXqtDh3S-"
      },
      "source": [
        "#### Second approach\n",
        "You can use *slightly different techniques* if they suits you. Take a look at this derivation:\n",
        "<img src=\"grad.png\">\n",
        "(excerpt from [Handbook of blind source separation, Jutten, page 517](https://books.google.ru/books?id=PTbj03bYH6kC&printsec=frontcover&dq=Handbook+of+Blind+Source+Separation&hl=en&sa=X&ved=0ahUKEwi-q_apiJDLAhULvXIKHVXJDWcQ6AEIHDAA#v=onepage&q=Handbook%20of%20Blind%20Source%20Separation&f=false), open for better picture)."
      ]
    },
    {
      "cell_type": "markdown",
      "metadata": {
        "id": "VWTggSEsh3S-"
      },
      "source": [
        "#### Third approach\n",
        "And finally we can use chain rule! \n",
        "let $ F = AS $ \n",
        "\n",
        "**Find**\n",
        "$$\n",
        "J = ||X-F||^2_F = tr((X-F)(X^T-F^T)) = tr(XX^T - XF^T - FX^T + FF^T) = tr(XX^T) - tr(XF^T) - tr(FX^T) + tr(FF^T)\n",
        "$$\n",
        "\n",
        "$$\n",
        "\\frac{dJ}{dF} =  -2X + 2F = -2(X-F)\n",
        "$$ \n",
        "and \n",
        "$$\n",
        "\\frac{dF}{dS} =  \\frac{dAS}{dS} = A\n",
        "$$ \n",
        "(the shape should be $ NM \\times RM )$.\n",
        "\n",
        "Now it is easy do get desired gradients:\n",
        "$$\n",
        "\\frac{dJ}{dS} =  -2A^T(X - AS)\n",
        "$$ "
      ]
    },
    {
      "cell_type": "markdown",
      "metadata": {
        "collapsed": true,
        "jupyter": {
          "outputs_hidden": true
        },
        "id": "BX4CkJCTh3S_"
      },
      "source": [
        "## 2. kNN questions\n",
        "Here come the questions from the assignment0_01. Please, refer to the assignment0_01 to get the context of the questions."
      ]
    },
    {
      "cell_type": "markdown",
      "metadata": {
        "id": "w_sNwZTeh3S_"
      },
      "source": [
        "### Question 1\n",
        "\n",
        "Notice the structured patterns in the distance matrix, where some rows or columns are visible brighter. (Note that with the default color scheme black indicates low distances while white indicates high distances.)\n",
        "\n",
        "- What in the data is the cause behind the distinctly bright rows?\n",
        "- What causes the columns?\n",
        "\n",
        "*Your Answer:*\n",
        "\n",
        "$\\color{blue}{\\textit Your Answer:}$ \n",
        "\n",
        "-This image is at very different from most of the training data. Alternatively this can be an image from a class not in the training data set (highly unlikely in our case). \n",
        "\n",
        "-This training image doesn’t have any similar images in the test set.\n",
        "\n",
        "\n"
      ]
    },
    {
      "cell_type": "markdown",
      "metadata": {
        "id": "7uRTNIqoh3S_"
      },
      "source": [
        "### Question 2\n",
        "\n",
        "We can also use other distance metrics such as L1 distance.\n",
        "For pixel values $p_{ij}^{(k)}$ at location $(i,j)$ of some image $I_k$, \n",
        "\n",
        "the mean $\\mu$ across all pixels over all images is $$\\mu=\\frac{1}{nhw}\\sum_{k=1}^n\\sum_{i=1}^{h}\\sum_{j=1}^{w}p_{ij}^{(k)}$$\n",
        "And the pixel-wise mean $\\mu_{ij}$ across all images is \n",
        "$$\\mu_{ij}=\\frac{1}{n}\\sum_{k=1}^np_{ij}^{(k)}.$$\n",
        "The general standard deviation $\\sigma$ and pixel-wise standard deviation $\\sigma_{ij}$ is defined similarly.\n",
        "\n",
        "Which of the following preprocessing steps will not change the performance of a Nearest Neighbor classifier that uses L1 distance? Select all that apply.\n",
        "1. Subtracting the mean $\\mu$ ($\\tilde{p}_{ij}^{(k)}=p_{ij}^{(k)}-\\mu$.)\n",
        "2. Subtracting the per pixel mean $\\mu_{ij}$  ($\\tilde{p}_{ij}^{(k)}=p_{ij}^{(k)}-\\mu_{ij}$.)\n",
        "3. Subtracting the mean $\\mu$ and dividing by the standard deviation $\\sigma$.\n",
        "4. Subtracting the pixel-wise mean $\\mu_{ij}$ and dividing by the pixel-wise standard deviation $\\sigma_{ij}$.\n",
        "5. Rotating the coordinate axes of the data.\n",
        "\n",
        "$\\color{blue}{\\textit Your Answer:}$\n",
        "1,2,3\n",
        "\n",
        "$\\color{blue}{\\textit Your Explanation:}$\n",
        "\n",
        "L1 distance between two images, $x_1$ and $x_2$, is $||x_{test} - x_{train}||$ = $\\sqrt{\\sum_{i=1}^{n} |x_{test}^{i} - x_{train}^{i}|^2}$\n",
        "\n",
        "where $x_{test}$ is vector of testing image pixels, $x_{test}$ is vector of train image pixels\n",
        "1. Subtracting the mean from the data is the same as centering the data around the origin (shifting the data), thus it does not change the distance.\n",
        "\n",
        "  **Explanation:** \n",
        "  \n",
        "  Let $\\mu$ be the mean from all images data. Therefore we have:\n",
        "\n",
        "    $||(x_{test} - \\mu) - (x_{train} - mu)||$ = $||(x_{test} - x_{train}) + \\mu - \\mu)||$ = $||x_{test} - x_{train}||$\n",
        "\n",
        "  As we can see the L1 distance does not change.\n",
        "\n",
        "\n",
        "2. Subtracting the per pixel mean $\\mu_{ij}$  ($\\tilde{p}_{ij}^{(k)}=p_{ij}^{(k)}-\\mu_{ij}$.)\n",
        "\n",
        "  **Mathematical explanation:**\n",
        "  \n",
        "  Let $\\mu_i$ be the mean of i-th pixel. Therefore we have:\n",
        "\n",
        "  $\\sqrt{\\sum_{i=1}^{n} |(x_{test}^{i} - \\mu _i) - (x_{train}^{i} - \\mu _i)|^2}$ = $\\sqrt{\\sum_{i=1}^{n} |(x_{test}^{i}) - x_{train}^{i}) + \\mu _i - \\mu _i|^2} = ||x_{test} - x_{train}||$.\n",
        "\n",
        "  As we can see the L1 distance does not change.\n",
        "\n",
        "3. \n",
        "  **Mathematical explanation:** \n",
        "  \n",
        "  Let $\\mu$ be the mean of the images and $\\sigma$ the standard deviation. We have:\n",
        "\n",
        "  $\\left|\\left|\\frac{(x_{test} - \\mu)}{\\sigma} - \\frac{(x_{train} - \\mu)}{\\sigma}\\right|\\right| = \\left|\\left| \\frac{1}{\\sigma} (x_{test} - \\mu - x_{train} + \\mu)\\right|\\right| = \\frac{1}{\\sigma}|| x_{test} - x_{train}||$.\n",
        "\n",
        "  As we can see the distance is scaled by a common factor. Distances of all samples are scaled by same factor. Therefore order of distances stays the same. K-NN classifier depends on order of distances and not on values itself. Therefore result wont't changed compared to L1 distance\n",
        "\n",
        "4. Subtracting the pixel-wise mean $\\mu_{ij}$ and dividing by the pixel-wise standard deviation $\\sigma_{ij}$.\n",
        "\n",
        "    **Explanation**\n",
        "\n",
        "    In this case every pixel difference is divided by each own pixe-wise standart deviation. We can transfer it outside of modulus operator because each summand is divided by each own value. Because of that each test sample changed differently.  Therefore order of distances can become different and performance of classifier may change.\n",
        "\n",
        "5. Rotating the coordinate axes change the L1 distance.\n",
        "\n",
        "  **Example:** \n",
        "  \n",
        "  Let's consider the following three points $x=(0, 1)$ and $y=(1,0)$, $y=(2,1)$. The L1 distanceares: \n",
        "\n",
        "  $||y - x|| = ||y - z|| = 2$\n",
        "\n",
        "  Now let's rotate our coordinate axes by $45$ degrees. The rotated points are: $x'=(- \\frac{\\sqrt{2}}{2}, \\frac{\\sqrt{2}}{2})$ and $y' = (\\frac{\\sqrt{2}}{2}, \\frac{\\sqrt{2}}{2})$, $z' = (3\\frac{\\sqrt{2}}{2}, \\sqrt{2})$. The L1 distance between $x'$ and $y'$ is: \n",
        "\n",
        "  $||y' - z'|| = \\frac{5}{2} \\sqrt{2}$\n",
        "\n",
        "  $||y' - x'|| = 2 \\sqrt{2}$\n",
        "\n",
        "  As we can see order of distances can become different and performance of classifier may change.\n"
      ]
    },
    {
      "cell_type": "markdown",
      "metadata": {
        "id": "FfyGoG13h3TA"
      },
      "source": [
        "## Question 3\n",
        "\n",
        "Which of the following statements about $k$-Nearest Neighbor ($k$-NN) are true in a classification setting, and for all $k$? Select all that apply.\n",
        "1. The decision boundary (hyperplane between classes in feature space) of the k-NN classifier is linear.\n",
        "2. The training error of a 1-NN will always be lower than that of 5-NN.\n",
        "3. The test error of a 1-NN will always be lower than that of a 5-NN.\n",
        "4. The time needed to classify a test example with the k-NN classifier grows with the size of the training set.\n",
        "5. None of the above.\n",
        "\n",
        "$\\color{blue}{\\textit Your Answer:}$\n",
        "2, 4\n",
        "\n",
        "\n",
        "$\\color{blue}{\\textit Your Explanation:}$\n",
        "\n",
        "    *False*: \n",
        "    The decision boundary of the k-NN classifier is not linear, there is no a hyperplane that separates two classes.\n",
        "    For example:\n",
        "        1-NN decision boundary partitions the space in Voronoi cells.\n",
        "\n",
        "    *True*\n",
        "    The training error of a 1-NN is equal to 0 because closest point of training data is itself. Therfore is always better compared to training error of 5-NN.\n",
        "\n",
        "    *False*\n",
        "    The test error of a 1-NN will is not always better compared to 5-NN classifier. It will depend on the data we are working with.\n",
        "\n",
        "    *True*\n",
        "    Increasing the size of the training dataset incurs large number of comparisons between a test example and all the training dataset.\n",
        "\n",
        "\n"
      ]
    }
  ],
  "metadata": {
    "kernelspec": {
      "display_name": "mipt",
      "language": "python",
      "name": "mipt"
    },
    "language_info": {
      "codemirror_mode": {
        "name": "ipython",
        "version": 3
      },
      "file_extension": ".py",
      "mimetype": "text/x-python",
      "name": "python",
      "nbconvert_exporter": "python",
      "pygments_lexer": "ipython3",
      "version": "3.9.5"
    },
    "colab": {
      "provenance": [],
      "collapsed_sections": [],
      "include_colab_link": true
    }
  },
  "nbformat": 4,
  "nbformat_minor": 0
}